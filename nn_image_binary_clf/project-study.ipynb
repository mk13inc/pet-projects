{
  "nbformat": 4,
  "nbformat_minor": 0,
  "metadata": {
    "colab": {
      "provenance": [],
      "gpuType": "T4"
    },
    "kernelspec": {
      "name": "python3",
      "display_name": "Python 3"
    },
    "language_info": {
      "name": "python"
    },
    "accelerator": "GPU"
  },
  "cells": [
    {
      "cell_type": "markdown",
      "source": [
        "# Start"
      ],
      "metadata": {
        "id": "b2DXBGdfwQbe"
      }
    },
    {
      "cell_type": "code",
      "source": [
        "from google.colab import drive\n",
        "drive.mount('/content/drive')"
      ],
      "metadata": {
        "colab": {
          "base_uri": "https://localhost:8080/"
        },
        "id": "QNhHxFJZ7YqA",
        "outputId": "f087a5a5-aca2-43ed-88e1-4b4f389b019b"
      },
      "execution_count": null,
      "outputs": [
        {
          "output_type": "stream",
          "name": "stdout",
          "text": [
            "Mounted at /content/drive\n"
          ]
        }
      ]
    },
    {
      "cell_type": "code",
      "source": [
        "import os\n",
        "import time\n",
        "import pickle\n",
        "import numpy as np\n",
        "from sklearn.utils.class_weight import compute_class_weight\n",
        "\n",
        "from tensorflow.keras.preprocessing.image import ImageDataGenerator\n",
        "\n",
        "from tensorflow.keras.applications import MobileNetV2\n",
        "from tensorflow.keras.models import Sequential\n",
        "from tensorflow.keras import layers, Model\n",
        "from tensorflow.keras.optimizers import Adam\n",
        "\n",
        "from tensorflow.keras.callbacks import LearningRateScheduler, EarlyStopping, ModelCheckpoint\n",
        "import tensorflow as tf"
      ],
      "metadata": {
        "id": "lb3iviLLyqtx"
      },
      "execution_count": null,
      "outputs": []
    },
    {
      "cell_type": "code",
      "source": [
        "def add_result(cfg, model_history):\n",
        "    file_name = '/content/drive/MyDrive/DS/chest-xray-pneumonia/chest-xray-MobileNetV2.pkl'\n",
        "\n",
        "    with open(file_name, 'rb') as f:\n",
        "        result = pickle.load(f)\n",
        "\n",
        "    result[cfg] = model_history\n",
        "\n",
        "    with open(file_name, 'wb') as f:\n",
        "        pickle.dump(result, f)"
      ],
      "metadata": {
        "id": "jI0HxALm3TOA"
      },
      "execution_count": null,
      "outputs": []
    },
    {
      "cell_type": "code",
      "execution_count": null,
      "metadata": {
        "id": "k87LjH3IvT-p",
        "colab": {
          "base_uri": "https://localhost:8080/"
        },
        "outputId": "022a4263-7b92-4f99-e5c0-d2ff3a12acbf"
      },
      "outputs": [
        {
          "output_type": "stream",
          "name": "stdout",
          "text": [
            "replace /content/chest_xray/__MACOSX/._chest_xray? [y]es, [n]o, [A]ll, [N]one, [r]ename: A\n",
            "['train', 'test', '__MACOSX', 'val', 'chest_xray']\n"
          ]
        }
      ],
      "source": [
        "!unzip -q /content/drive/MyDrive/DS/chest-xray-pneumonia/chest-xray-pneumonia.zip -d /content\n",
        "base_path = '/content/chest_xray'\n",
        "\n",
        "print(os.listdir(base_path))\n",
        "\n",
        "!rm -r '/content/chest_xray/__MACOSX'\n",
        "!rm -r '/content/chest_xray/chest_xray'"
      ]
    },
    {
      "cell_type": "code",
      "source": [
        "print(os.listdir(base_path))\n",
        "\n",
        "total_files = 0\n",
        "ext_list = []\n",
        "\n",
        "for root, dirs, files in os.walk(base_path):\n",
        "    total_files += len(files)\n",
        "    level = root.replace(base_path, '').count(os.sep)\n",
        "    indent = ' ' * 4 * level\n",
        "    print(f\"{indent}- {os.path.basename(root)}/ ({len(files)})\")\n",
        "    for file in files:\n",
        "        if file == '.DS_Store':\n",
        "            file_path = os.path.join(root, file)\n",
        "            os.remove(file_path)\n",
        "        else:\n",
        "            name, ext = os.path.splitext(file)\n",
        "            if ext not in ext_list:\n",
        "                ext_list.append(ext)\n",
        "\n",
        "print('\\nВсего файлов:', total_files)\n",
        "print('Расширения файлов:', ext_list)"
      ],
      "metadata": {
        "id": "bUqL_TKhyxDu",
        "colab": {
          "base_uri": "https://localhost:8080/"
        },
        "outputId": "4829bdb2-2f8e-4de7-cc8f-028a3ab17ddb"
      },
      "execution_count": null,
      "outputs": [
        {
          "output_type": "stream",
          "name": "stdout",
          "text": [
            "['train', 'test', 'val']\n",
            "- chest_xray/ (0)\n",
            "    - train/ (0)\n",
            "        - NORMAL/ (1341)\n",
            "        - PNEUMONIA/ (3875)\n",
            "    - test/ (0)\n",
            "        - NORMAL/ (234)\n",
            "        - PNEUMONIA/ (390)\n",
            "    - val/ (0)\n",
            "        - NORMAL/ (8)\n",
            "        - PNEUMONIA/ (8)\n",
            "\n",
            "Всего файлов: 5856\n",
            "Расширения файлов: ['.jpeg']\n"
          ]
        }
      ]
    },
    {
      "cell_type": "code",
      "source": [
        "train_dir = os.path.join(base_path, 'train')\n",
        "val_dir   = os.path.join(base_path, 'test')\n",
        "test_dir  = os.path.join(base_path, 'val')"
      ],
      "metadata": {
        "id": "AHJfawhwy0aH"
      },
      "execution_count": null,
      "outputs": []
    },
    {
      "cell_type": "markdown",
      "source": [
        "# cfg 1.0 - base_model\n",
        "* default learning_rate=0.001"
      ],
      "metadata": {
        "id": "Cs9dS7OE5oai"
      }
    },
    {
      "cell_type": "code",
      "source": [
        "def model_train():\n",
        "    # Размер изображений и параметры\n",
        "    IMG_SIZE = (224, 224)  # MobileNetV2 лучше работает с этим размером\n",
        "    BATCH_SIZE = 32\n",
        "\n",
        "    # Аугментация\n",
        "    train_datagen = ImageDataGenerator(\n",
        "        rescale=1./255,\n",
        "        rotation_range=10,\n",
        "        width_shift_range=0.1,\n",
        "        height_shift_range=0.1,\n",
        "        zoom_range=0.1,\n",
        "        brightness_range=[0.9, 1.1],\n",
        "    )\n",
        "\n",
        "    val_test_datagen = ImageDataGenerator(rescale=1./255)\n",
        "\n",
        "    # Генераторы\n",
        "    train_generator = train_datagen.flow_from_directory(\n",
        "        train_dir,\n",
        "        target_size=IMG_SIZE,\n",
        "        batch_size=BATCH_SIZE,\n",
        "        class_mode='binary',\n",
        "        color_mode='rgb'\n",
        "    )\n",
        "\n",
        "    val_generator = val_test_datagen.flow_from_directory(\n",
        "        val_dir,\n",
        "        target_size=IMG_SIZE,\n",
        "        batch_size=BATCH_SIZE,\n",
        "        class_mode='binary',\n",
        "        shuffle=False,\n",
        "        color_mode='rgb'\n",
        "    )\n",
        "\n",
        "    test_generator = val_test_datagen.flow_from_directory(\n",
        "        test_dir,\n",
        "        target_size=IMG_SIZE,\n",
        "        batch_size=BATCH_SIZE,\n",
        "        class_mode='binary',\n",
        "        shuffle=False,\n",
        "        color_mode='rgb'\n",
        "    )\n",
        "\n",
        "    print()\n",
        "\n",
        "    # Загрузка MobileNetV2 без верхушки\n",
        "    base_model = MobileNetV2(input_shape=(224, 224, 3), include_top=False, weights='imagenet')\n",
        "    base_model.trainable = False  # Фиксируем веса\n",
        "\n",
        "    # Добавляем слои классификации\n",
        "    model = Sequential([\n",
        "        base_model,\n",
        "        layers.GlobalAveragePooling2D(),\n",
        "        layers.Dense(128, activation='relu'),\n",
        "        layers.Dropout(0.5),\n",
        "        layers.Dense(1, activation='sigmoid')\n",
        "    ])\n",
        "\n",
        "    # Компиляция модели\n",
        "    model.compile(\n",
        "        optimizer=Adam(),\n",
        "        loss='binary_crossentropy',\n",
        "        metrics=[\n",
        "            'AUC',\n",
        "            'Recall',\n",
        "            'Precision',\n",
        "            'accuracy'\n",
        "        ]\n",
        "    )\n",
        "\n",
        "    # Отображение информации об устройстве сети:\n",
        "    model.summary()\n",
        "\n",
        "    print()\n",
        "\n",
        "    # Обучение модели\n",
        "    EPOCHS = 10\n",
        "\n",
        "    start = time.time() # Фиксация времени\n",
        "\n",
        "    history = model.fit(\n",
        "        train_generator,\n",
        "        epochs=EPOCHS,\n",
        "        validation_data=val_generator\n",
        "    )\n",
        "\n",
        "    end = time.time() # Фиксация времени\n",
        "\n",
        "    model_history = history.history\n",
        "    model_history['Wall time'] = end - start\n",
        "\n",
        "    print()\n",
        "\n",
        "    for k, v in model_history.items():\n",
        "        print(k, v)\n",
        "\n",
        "    return model, model_history"
      ],
      "metadata": {
        "id": "vhxy9Fdu5rTi"
      },
      "execution_count": null,
      "outputs": []
    },
    {
      "cell_type": "code",
      "source": [
        "model, model_history = model_train()"
      ],
      "metadata": {
        "id": "lQWpq7fE5vJ7",
        "colab": {
          "base_uri": "https://localhost:8080/",
          "height": 1000
        },
        "outputId": "b791f905-5752-4db6-ee3c-1eaf9d925ad2"
      },
      "execution_count": null,
      "outputs": [
        {
          "output_type": "stream",
          "name": "stdout",
          "text": [
            "Found 5216 images belonging to 2 classes.\n",
            "Found 624 images belonging to 2 classes.\n",
            "Found 16 images belonging to 2 classes.\n",
            "\n",
            "Downloading data from https://storage.googleapis.com/tensorflow/keras-applications/mobilenet_v2/mobilenet_v2_weights_tf_dim_ordering_tf_kernels_1.0_224_no_top.h5\n",
            "\u001b[1m9406464/9406464\u001b[0m \u001b[32m━━━━━━━━━━━━━━━━━━━━\u001b[0m\u001b[37m\u001b[0m \u001b[1m2s\u001b[0m 0us/step\n"
          ]
        },
        {
          "output_type": "display_data",
          "data": {
            "text/plain": [
              "\u001b[1mModel: \"sequential\"\u001b[0m\n"
            ],
            "text/html": [
              "<pre style=\"white-space:pre;overflow-x:auto;line-height:normal;font-family:Menlo,'DejaVu Sans Mono',consolas,'Courier New',monospace\"><span style=\"font-weight: bold\">Model: \"sequential\"</span>\n",
              "</pre>\n"
            ]
          },
          "metadata": {}
        },
        {
          "output_type": "display_data",
          "data": {
            "text/plain": [
              "┏━━━━━━━━━━━━━━━━━━━━━━━━━━━━━━━━━┳━━━━━━━━━━━━━━━━━━━━━━━━┳━━━━━━━━━━━━━━━┓\n",
              "┃\u001b[1m \u001b[0m\u001b[1mLayer (type)                   \u001b[0m\u001b[1m \u001b[0m┃\u001b[1m \u001b[0m\u001b[1mOutput Shape          \u001b[0m\u001b[1m \u001b[0m┃\u001b[1m \u001b[0m\u001b[1m      Param #\u001b[0m\u001b[1m \u001b[0m┃\n",
              "┡━━━━━━━━━━━━━━━━━━━━━━━━━━━━━━━━━╇━━━━━━━━━━━━━━━━━━━━━━━━╇━━━━━━━━━━━━━━━┩\n",
              "│ mobilenetv2_1.00_224            │ (\u001b[38;5;45mNone\u001b[0m, \u001b[38;5;34m7\u001b[0m, \u001b[38;5;34m7\u001b[0m, \u001b[38;5;34m1280\u001b[0m)     │     \u001b[38;5;34m2,257,984\u001b[0m │\n",
              "│ (\u001b[38;5;33mFunctional\u001b[0m)                    │                        │               │\n",
              "├─────────────────────────────────┼────────────────────────┼───────────────┤\n",
              "│ global_average_pooling2d        │ (\u001b[38;5;45mNone\u001b[0m, \u001b[38;5;34m1280\u001b[0m)           │             \u001b[38;5;34m0\u001b[0m │\n",
              "│ (\u001b[38;5;33mGlobalAveragePooling2D\u001b[0m)        │                        │               │\n",
              "├─────────────────────────────────┼────────────────────────┼───────────────┤\n",
              "│ dense (\u001b[38;5;33mDense\u001b[0m)                   │ (\u001b[38;5;45mNone\u001b[0m, \u001b[38;5;34m128\u001b[0m)            │       \u001b[38;5;34m163,968\u001b[0m │\n",
              "├─────────────────────────────────┼────────────────────────┼───────────────┤\n",
              "│ dropout (\u001b[38;5;33mDropout\u001b[0m)               │ (\u001b[38;5;45mNone\u001b[0m, \u001b[38;5;34m128\u001b[0m)            │             \u001b[38;5;34m0\u001b[0m │\n",
              "├─────────────────────────────────┼────────────────────────┼───────────────┤\n",
              "│ dense_1 (\u001b[38;5;33mDense\u001b[0m)                 │ (\u001b[38;5;45mNone\u001b[0m, \u001b[38;5;34m1\u001b[0m)              │           \u001b[38;5;34m129\u001b[0m │\n",
              "└─────────────────────────────────┴────────────────────────┴───────────────┘\n"
            ],
            "text/html": [
              "<pre style=\"white-space:pre;overflow-x:auto;line-height:normal;font-family:Menlo,'DejaVu Sans Mono',consolas,'Courier New',monospace\">┏━━━━━━━━━━━━━━━━━━━━━━━━━━━━━━━━━┳━━━━━━━━━━━━━━━━━━━━━━━━┳━━━━━━━━━━━━━━━┓\n",
              "┃<span style=\"font-weight: bold\"> Layer (type)                    </span>┃<span style=\"font-weight: bold\"> Output Shape           </span>┃<span style=\"font-weight: bold\">       Param # </span>┃\n",
              "┡━━━━━━━━━━━━━━━━━━━━━━━━━━━━━━━━━╇━━━━━━━━━━━━━━━━━━━━━━━━╇━━━━━━━━━━━━━━━┩\n",
              "│ mobilenetv2_1.00_224            │ (<span style=\"color: #00d7ff; text-decoration-color: #00d7ff\">None</span>, <span style=\"color: #00af00; text-decoration-color: #00af00\">7</span>, <span style=\"color: #00af00; text-decoration-color: #00af00\">7</span>, <span style=\"color: #00af00; text-decoration-color: #00af00\">1280</span>)     │     <span style=\"color: #00af00; text-decoration-color: #00af00\">2,257,984</span> │\n",
              "│ (<span style=\"color: #0087ff; text-decoration-color: #0087ff\">Functional</span>)                    │                        │               │\n",
              "├─────────────────────────────────┼────────────────────────┼───────────────┤\n",
              "│ global_average_pooling2d        │ (<span style=\"color: #00d7ff; text-decoration-color: #00d7ff\">None</span>, <span style=\"color: #00af00; text-decoration-color: #00af00\">1280</span>)           │             <span style=\"color: #00af00; text-decoration-color: #00af00\">0</span> │\n",
              "│ (<span style=\"color: #0087ff; text-decoration-color: #0087ff\">GlobalAveragePooling2D</span>)        │                        │               │\n",
              "├─────────────────────────────────┼────────────────────────┼───────────────┤\n",
              "│ dense (<span style=\"color: #0087ff; text-decoration-color: #0087ff\">Dense</span>)                   │ (<span style=\"color: #00d7ff; text-decoration-color: #00d7ff\">None</span>, <span style=\"color: #00af00; text-decoration-color: #00af00\">128</span>)            │       <span style=\"color: #00af00; text-decoration-color: #00af00\">163,968</span> │\n",
              "├─────────────────────────────────┼────────────────────────┼───────────────┤\n",
              "│ dropout (<span style=\"color: #0087ff; text-decoration-color: #0087ff\">Dropout</span>)               │ (<span style=\"color: #00d7ff; text-decoration-color: #00d7ff\">None</span>, <span style=\"color: #00af00; text-decoration-color: #00af00\">128</span>)            │             <span style=\"color: #00af00; text-decoration-color: #00af00\">0</span> │\n",
              "├─────────────────────────────────┼────────────────────────┼───────────────┤\n",
              "│ dense_1 (<span style=\"color: #0087ff; text-decoration-color: #0087ff\">Dense</span>)                 │ (<span style=\"color: #00d7ff; text-decoration-color: #00d7ff\">None</span>, <span style=\"color: #00af00; text-decoration-color: #00af00\">1</span>)              │           <span style=\"color: #00af00; text-decoration-color: #00af00\">129</span> │\n",
              "└─────────────────────────────────┴────────────────────────┴───────────────┘\n",
              "</pre>\n"
            ]
          },
          "metadata": {}
        },
        {
          "output_type": "display_data",
          "data": {
            "text/plain": [
              "\u001b[1m Total params: \u001b[0m\u001b[38;5;34m2,422,081\u001b[0m (9.24 MB)\n"
            ],
            "text/html": [
              "<pre style=\"white-space:pre;overflow-x:auto;line-height:normal;font-family:Menlo,'DejaVu Sans Mono',consolas,'Courier New',monospace\"><span style=\"font-weight: bold\"> Total params: </span><span style=\"color: #00af00; text-decoration-color: #00af00\">2,422,081</span> (9.24 MB)\n",
              "</pre>\n"
            ]
          },
          "metadata": {}
        },
        {
          "output_type": "display_data",
          "data": {
            "text/plain": [
              "\u001b[1m Trainable params: \u001b[0m\u001b[38;5;34m164,097\u001b[0m (641.00 KB)\n"
            ],
            "text/html": [
              "<pre style=\"white-space:pre;overflow-x:auto;line-height:normal;font-family:Menlo,'DejaVu Sans Mono',consolas,'Courier New',monospace\"><span style=\"font-weight: bold\"> Trainable params: </span><span style=\"color: #00af00; text-decoration-color: #00af00\">164,097</span> (641.00 KB)\n",
              "</pre>\n"
            ]
          },
          "metadata": {}
        },
        {
          "output_type": "display_data",
          "data": {
            "text/plain": [
              "\u001b[1m Non-trainable params: \u001b[0m\u001b[38;5;34m2,257,984\u001b[0m (8.61 MB)\n"
            ],
            "text/html": [
              "<pre style=\"white-space:pre;overflow-x:auto;line-height:normal;font-family:Menlo,'DejaVu Sans Mono',consolas,'Courier New',monospace\"><span style=\"font-weight: bold\"> Non-trainable params: </span><span style=\"color: #00af00; text-decoration-color: #00af00\">2,257,984</span> (8.61 MB)\n",
              "</pre>\n"
            ]
          },
          "metadata": {}
        },
        {
          "output_type": "stream",
          "name": "stdout",
          "text": [
            "\n"
          ]
        },
        {
          "output_type": "stream",
          "name": "stderr",
          "text": [
            "/usr/local/lib/python3.11/dist-packages/keras/src/trainers/data_adapters/py_dataset_adapter.py:121: UserWarning: Your `PyDataset` class should call `super().__init__(**kwargs)` in its constructor. `**kwargs` can include `workers`, `use_multiprocessing`, `max_queue_size`. Do not pass these arguments to `fit()`, as they will be ignored.\n",
            "  self._warn_if_super_not_called()\n"
          ]
        },
        {
          "output_type": "stream",
          "name": "stdout",
          "text": [
            "Epoch 1/10\n",
            "\u001b[1m163/163\u001b[0m \u001b[32m━━━━━━━━━━━━━━━━━━━━\u001b[0m\u001b[37m\u001b[0m \u001b[1m136s\u001b[0m 754ms/step - AUC: 0.9314 - Precision: 0.9070 - Recall: 0.9298 - accuracy: 0.8775 - loss: 0.2698 - val_AUC: 0.9690 - val_Precision: 0.8151 - val_Recall: 0.9949 - val_accuracy: 0.8558 - val_loss: 0.3457\n",
            "Epoch 2/10\n",
            "\u001b[1m163/163\u001b[0m \u001b[32m━━━━━━━━━━━━━━━━━━━━\u001b[0m\u001b[37m\u001b[0m \u001b[1m114s\u001b[0m 698ms/step - AUC: 0.9860 - Precision: 0.9648 - Recall: 0.9660 - accuracy: 0.9486 - loss: 0.1325 - val_AUC: 0.9656 - val_Precision: 0.8109 - val_Recall: 0.9897 - val_accuracy: 0.8494 - val_loss: 0.3859\n",
            "Epoch 3/10\n",
            "\u001b[1m163/163\u001b[0m \u001b[32m━━━━━━━━━━━━━━━━━━━━\u001b[0m\u001b[37m\u001b[0m \u001b[1m114s\u001b[0m 700ms/step - AUC: 0.9865 - Precision: 0.9641 - Recall: 0.9655 - accuracy: 0.9478 - loss: 0.1289 - val_AUC: 0.9701 - val_Precision: 0.8710 - val_Recall: 0.9692 - val_accuracy: 0.8910 - val_loss: 0.2477\n",
            "Epoch 4/10\n",
            "\u001b[1m163/163\u001b[0m \u001b[32m━━━━━━━━━━━━━━━━━━━━\u001b[0m\u001b[37m\u001b[0m \u001b[1m113s\u001b[0m 694ms/step - AUC: 0.9882 - Precision: 0.9660 - Recall: 0.9706 - accuracy: 0.9527 - loss: 0.1172 - val_AUC: 0.9656 - val_Precision: 0.8326 - val_Recall: 0.9821 - val_accuracy: 0.8654 - val_loss: 0.3521\n",
            "Epoch 5/10\n",
            "\u001b[1m163/163\u001b[0m \u001b[32m━━━━━━━━━━━━━━━━━━━━\u001b[0m\u001b[37m\u001b[0m \u001b[1m116s\u001b[0m 712ms/step - AUC: 0.9850 - Precision: 0.9655 - Recall: 0.9701 - accuracy: 0.9522 - loss: 0.1317 - val_AUC: 0.9542 - val_Precision: 0.8265 - val_Recall: 0.9769 - val_accuracy: 0.8574 - val_loss: 0.3958\n",
            "Epoch 6/10\n",
            "\u001b[1m163/163\u001b[0m \u001b[32m━━━━━━━━━━━━━━━━━━━━\u001b[0m\u001b[37m\u001b[0m \u001b[1m141s\u001b[0m 706ms/step - AUC: 0.9906 - Precision: 0.9717 - Recall: 0.9726 - accuracy: 0.9588 - loss: 0.1055 - val_AUC: 0.9687 - val_Precision: 0.8630 - val_Recall: 0.9692 - val_accuracy: 0.8846 - val_loss: 0.2815\n",
            "Epoch 7/10\n",
            "\u001b[1m163/163\u001b[0m \u001b[32m━━━━━━━━━━━━━━━━━━━━\u001b[0m\u001b[37m\u001b[0m \u001b[1m115s\u001b[0m 707ms/step - AUC: 0.9924 - Precision: 0.9741 - Recall: 0.9727 - accuracy: 0.9598 - loss: 0.0947 - val_AUC: 0.9704 - val_Precision: 0.8707 - val_Recall: 0.9667 - val_accuracy: 0.8894 - val_loss: 0.2464\n",
            "Epoch 8/10\n",
            "\u001b[1m163/163\u001b[0m \u001b[32m━━━━━━━━━━━━━━━━━━━━\u001b[0m\u001b[37m\u001b[0m \u001b[1m113s\u001b[0m 695ms/step - AUC: 0.9908 - Precision: 0.9705 - Recall: 0.9709 - accuracy: 0.9560 - loss: 0.1053 - val_AUC: 0.9648 - val_Precision: 0.8205 - val_Recall: 0.9846 - val_accuracy: 0.8558 - val_loss: 0.3715\n",
            "Epoch 9/10\n",
            "\u001b[1m163/163\u001b[0m \u001b[32m━━━━━━━━━━━━━━━━━━━━\u001b[0m\u001b[37m\u001b[0m \u001b[1m114s\u001b[0m 700ms/step - AUC: 0.9927 - Precision: 0.9776 - Recall: 0.9794 - accuracy: 0.9680 - loss: 0.0925 - val_AUC: 0.9625 - val_Precision: 0.8477 - val_Recall: 0.9846 - val_accuracy: 0.8798 - val_loss: 0.3554\n",
            "Epoch 10/10\n",
            "\u001b[1m163/163\u001b[0m \u001b[32m━━━━━━━━━━━━━━━━━━━━\u001b[0m\u001b[37m\u001b[0m \u001b[1m114s\u001b[0m 697ms/step - AUC: 0.9916 - Precision: 0.9766 - Recall: 0.9741 - accuracy: 0.9634 - loss: 0.0964 - val_AUC: 0.9645 - val_Precision: 0.8738 - val_Recall: 0.9590 - val_accuracy: 0.8878 - val_loss: 0.2793\n",
            "\n",
            "AUC [0.9693787693977356, 0.9854269623756409, 0.9871403574943542, 0.9884083867073059, 0.9886927604675293, 0.9904785752296448, 0.9924650192260742, 0.9925746917724609, 0.9920822978019714, 0.9913071393966675]\n",
            "Precision [0.9392547011375427, 0.9649032354354858, 0.9672003984451294, 0.9700953960418701, 0.9728119969367981, 0.9710744023323059, 0.9754204154014587, 0.975187361240387, 0.9777892827987671, 0.9756791591644287]\n",
            "Recall [0.9496774077415466, 0.9649032354354858, 0.9664515852928162, 0.9710967540740967, 0.9695484042167664, 0.9703226089477539, 0.9729032516479492, 0.973677396774292, 0.9770322442054749, 0.9731612801551819]\n",
            "accuracy [0.9169861674308777, 0.9478527903556824, 0.9507285356521606, 0.9562883377075195, 0.9572469592094421, 0.956480085849762, 0.9616564512252808, 0.9620398879051208, 0.9664493799209595, 0.9620398879051208]\n",
            "loss [0.19333471357822418, 0.13466934859752655, 0.12538334727287292, 0.11602356284856796, 0.11351433396339417, 0.1071673110127449, 0.09530206024646759, 0.09630756825208664, 0.09372808039188385, 0.09799492359161377]\n",
            "val_AUC [0.9690444469451904, 0.9655653238296509, 0.970090925693512, 0.9655708074569702, 0.9541967511177063, 0.9686937928199768, 0.9703758358955383, 0.964771032333374, 0.9624862670898438, 0.9644806385040283]\n",
            "val_Precision [0.8151260614395142, 0.8109243512153625, 0.8709677457809448, 0.832608699798584, 0.8264642357826233, 0.8630136847496033, 0.8706697225570679, 0.8205128312110901, 0.8476821184158325, 0.8738317489624023]\n",
            "val_Recall [0.9948717951774597, 0.9897435903549194, 0.9692307710647583, 0.9820512533187866, 0.9769230484962463, 0.9692307710647583, 0.9666666388511658, 0.9846153855323792, 0.9846153855323792, 0.9589743614196777]\n",
            "val_accuracy [0.8557692170143127, 0.8493589758872986, 0.8910256624221802, 0.8653846383094788, 0.8573718070983887, 0.8846153616905212, 0.8894230723381042, 0.8557692170143127, 0.879807710647583, 0.8878205418586731]\n",
            "val_loss [0.3456626236438751, 0.38587939739227295, 0.2476903200149536, 0.35208457708358765, 0.39577871561050415, 0.28148630261421204, 0.24644868075847626, 0.3715122640132904, 0.3553505539894104, 0.27931392192840576]\n",
            "Wall time 1191.5448715686798\n"
          ]
        }
      ]
    },
    {
      "cell_type": "code",
      "source": [
        "cfg = 'cfg_1.0'\n",
        "add_result(cfg, model_history)"
      ],
      "metadata": {
        "id": "O1xVAFmI6AX5"
      },
      "execution_count": null,
      "outputs": []
    },
    {
      "cell_type": "code",
      "source": [
        "model.save('/content/drive/MyDrive/DS/chest-xray-pneumonia/MobileNetV2-base.keras')"
      ],
      "metadata": {
        "id": "wLuP1pdI5w5D"
      },
      "execution_count": null,
      "outputs": []
    },
    {
      "cell_type": "markdown",
      "source": [
        "## cfg 1.1\n",
        "* learning_rate=<font color=orange>0.0001</font>\n",
        "\n"
      ],
      "metadata": {
        "id": "IF0iABBlBYpG"
      }
    },
    {
      "cell_type": "code",
      "source": [
        "def model_train():\n",
        "    # Размер изображений и параметры\n",
        "    IMG_SIZE = (224, 224)  # MobileNetV2 лучше работает с этим размером\n",
        "    BATCH_SIZE = 32\n",
        "\n",
        "    # Аугментация\n",
        "    train_datagen = ImageDataGenerator(\n",
        "        rescale=1./255,\n",
        "        rotation_range=10,\n",
        "        width_shift_range=0.1,\n",
        "        height_shift_range=0.1,\n",
        "        zoom_range=0.1,\n",
        "        brightness_range=[0.9, 1.1],\n",
        "    )\n",
        "\n",
        "    val_test_datagen = ImageDataGenerator(rescale=1./255)\n",
        "\n",
        "    # Генераторы\n",
        "    train_generator = train_datagen.flow_from_directory(\n",
        "        train_dir,\n",
        "        target_size=IMG_SIZE,\n",
        "        batch_size=BATCH_SIZE,\n",
        "        class_mode='binary',\n",
        "        color_mode='rgb'\n",
        "    )\n",
        "\n",
        "    val_generator = val_test_datagen.flow_from_directory(\n",
        "        val_dir,\n",
        "        target_size=IMG_SIZE,\n",
        "        batch_size=BATCH_SIZE,\n",
        "        class_mode='binary',\n",
        "        shuffle=False,\n",
        "        color_mode='rgb'\n",
        "    )\n",
        "\n",
        "    test_generator = val_test_datagen.flow_from_directory(\n",
        "        test_dir,\n",
        "        target_size=IMG_SIZE,\n",
        "        batch_size=BATCH_SIZE,\n",
        "        class_mode='binary',\n",
        "        shuffle=False,\n",
        "        color_mode='rgb'\n",
        "    )\n",
        "\n",
        "    print()\n",
        "\n",
        "    # Загрузка MobileNetV2 без верхушки\n",
        "    base_model = MobileNetV2(input_shape=(224, 224, 3), include_top=False, weights='imagenet')\n",
        "    base_model.trainable = False  # Фиксируем веса\n",
        "\n",
        "    # Добавляем слои классификации\n",
        "    model = Sequential([\n",
        "        base_model,\n",
        "        layers.GlobalAveragePooling2D(),\n",
        "        layers.Dense(128, activation='relu'),\n",
        "        layers.Dropout(0.5),\n",
        "        layers.Dense(1, activation='sigmoid')\n",
        "    ])\n",
        "\n",
        "    # Компиляция модели\n",
        "    model.compile(\n",
        "        optimizer=Adam(learning_rate=0.0001),\n",
        "        loss='binary_crossentropy',\n",
        "        metrics=[\n",
        "            'AUC',\n",
        "            'Recall',\n",
        "            'Precision',\n",
        "            'accuracy'\n",
        "        ]\n",
        "    )\n",
        "\n",
        "    # Отображение информации об устройстве сети:\n",
        "    model.summary()\n",
        "\n",
        "    print()\n",
        "\n",
        "    # Обучение модели\n",
        "    EPOCHS = 10\n",
        "\n",
        "    start = time.time() # Фиксация времени\n",
        "\n",
        "    history = model.fit(\n",
        "        train_generator,\n",
        "        epochs=EPOCHS,\n",
        "        validation_data=val_generator\n",
        "    )\n",
        "\n",
        "    end = time.time() # Фиксация времени\n",
        "\n",
        "    model_history = history.history\n",
        "    model_history['Wall time'] = end - start\n",
        "\n",
        "    print()\n",
        "\n",
        "    for k, v in model_history.items():\n",
        "        print(k, v)\n",
        "\n",
        "    return model, model_history"
      ],
      "metadata": {
        "id": "_U_yTWN1BYpH"
      },
      "execution_count": null,
      "outputs": []
    },
    {
      "cell_type": "code",
      "source": [
        "model, model_history = model_train()"
      ],
      "metadata": {
        "colab": {
          "base_uri": "https://localhost:8080/",
          "height": 1000
        },
        "outputId": "2e3305a0-d94d-489e-f34c-a58ba8dfe5de",
        "id": "Bz66cEqhBYpI"
      },
      "execution_count": null,
      "outputs": [
        {
          "output_type": "stream",
          "name": "stdout",
          "text": [
            "Found 5216 images belonging to 2 classes.\n",
            "Found 624 images belonging to 2 classes.\n",
            "Found 16 images belonging to 2 classes.\n",
            "\n"
          ]
        },
        {
          "output_type": "display_data",
          "data": {
            "text/plain": [
              "\u001b[1mModel: \"sequential_1\"\u001b[0m\n"
            ],
            "text/html": [
              "<pre style=\"white-space:pre;overflow-x:auto;line-height:normal;font-family:Menlo,'DejaVu Sans Mono',consolas,'Courier New',monospace\"><span style=\"font-weight: bold\">Model: \"sequential_1\"</span>\n",
              "</pre>\n"
            ]
          },
          "metadata": {}
        },
        {
          "output_type": "display_data",
          "data": {
            "text/plain": [
              "┏━━━━━━━━━━━━━━━━━━━━━━━━━━━━━━━━━┳━━━━━━━━━━━━━━━━━━━━━━━━┳━━━━━━━━━━━━━━━┓\n",
              "┃\u001b[1m \u001b[0m\u001b[1mLayer (type)                   \u001b[0m\u001b[1m \u001b[0m┃\u001b[1m \u001b[0m\u001b[1mOutput Shape          \u001b[0m\u001b[1m \u001b[0m┃\u001b[1m \u001b[0m\u001b[1m      Param #\u001b[0m\u001b[1m \u001b[0m┃\n",
              "┡━━━━━━━━━━━━━━━━━━━━━━━━━━━━━━━━━╇━━━━━━━━━━━━━━━━━━━━━━━━╇━━━━━━━━━━━━━━━┩\n",
              "│ mobilenetv2_1.00_224            │ (\u001b[38;5;45mNone\u001b[0m, \u001b[38;5;34m7\u001b[0m, \u001b[38;5;34m7\u001b[0m, \u001b[38;5;34m1280\u001b[0m)     │     \u001b[38;5;34m2,257,984\u001b[0m │\n",
              "│ (\u001b[38;5;33mFunctional\u001b[0m)                    │                        │               │\n",
              "├─────────────────────────────────┼────────────────────────┼───────────────┤\n",
              "│ global_average_pooling2d_1      │ (\u001b[38;5;45mNone\u001b[0m, \u001b[38;5;34m1280\u001b[0m)           │             \u001b[38;5;34m0\u001b[0m │\n",
              "│ (\u001b[38;5;33mGlobalAveragePooling2D\u001b[0m)        │                        │               │\n",
              "├─────────────────────────────────┼────────────────────────┼───────────────┤\n",
              "│ dense_2 (\u001b[38;5;33mDense\u001b[0m)                 │ (\u001b[38;5;45mNone\u001b[0m, \u001b[38;5;34m128\u001b[0m)            │       \u001b[38;5;34m163,968\u001b[0m │\n",
              "├─────────────────────────────────┼────────────────────────┼───────────────┤\n",
              "│ dropout_1 (\u001b[38;5;33mDropout\u001b[0m)             │ (\u001b[38;5;45mNone\u001b[0m, \u001b[38;5;34m128\u001b[0m)            │             \u001b[38;5;34m0\u001b[0m │\n",
              "├─────────────────────────────────┼────────────────────────┼───────────────┤\n",
              "│ dense_3 (\u001b[38;5;33mDense\u001b[0m)                 │ (\u001b[38;5;45mNone\u001b[0m, \u001b[38;5;34m1\u001b[0m)              │           \u001b[38;5;34m129\u001b[0m │\n",
              "└─────────────────────────────────┴────────────────────────┴───────────────┘\n"
            ],
            "text/html": [
              "<pre style=\"white-space:pre;overflow-x:auto;line-height:normal;font-family:Menlo,'DejaVu Sans Mono',consolas,'Courier New',monospace\">┏━━━━━━━━━━━━━━━━━━━━━━━━━━━━━━━━━┳━━━━━━━━━━━━━━━━━━━━━━━━┳━━━━━━━━━━━━━━━┓\n",
              "┃<span style=\"font-weight: bold\"> Layer (type)                    </span>┃<span style=\"font-weight: bold\"> Output Shape           </span>┃<span style=\"font-weight: bold\">       Param # </span>┃\n",
              "┡━━━━━━━━━━━━━━━━━━━━━━━━━━━━━━━━━╇━━━━━━━━━━━━━━━━━━━━━━━━╇━━━━━━━━━━━━━━━┩\n",
              "│ mobilenetv2_1.00_224            │ (<span style=\"color: #00d7ff; text-decoration-color: #00d7ff\">None</span>, <span style=\"color: #00af00; text-decoration-color: #00af00\">7</span>, <span style=\"color: #00af00; text-decoration-color: #00af00\">7</span>, <span style=\"color: #00af00; text-decoration-color: #00af00\">1280</span>)     │     <span style=\"color: #00af00; text-decoration-color: #00af00\">2,257,984</span> │\n",
              "│ (<span style=\"color: #0087ff; text-decoration-color: #0087ff\">Functional</span>)                    │                        │               │\n",
              "├─────────────────────────────────┼────────────────────────┼───────────────┤\n",
              "│ global_average_pooling2d_1      │ (<span style=\"color: #00d7ff; text-decoration-color: #00d7ff\">None</span>, <span style=\"color: #00af00; text-decoration-color: #00af00\">1280</span>)           │             <span style=\"color: #00af00; text-decoration-color: #00af00\">0</span> │\n",
              "│ (<span style=\"color: #0087ff; text-decoration-color: #0087ff\">GlobalAveragePooling2D</span>)        │                        │               │\n",
              "├─────────────────────────────────┼────────────────────────┼───────────────┤\n",
              "│ dense_2 (<span style=\"color: #0087ff; text-decoration-color: #0087ff\">Dense</span>)                 │ (<span style=\"color: #00d7ff; text-decoration-color: #00d7ff\">None</span>, <span style=\"color: #00af00; text-decoration-color: #00af00\">128</span>)            │       <span style=\"color: #00af00; text-decoration-color: #00af00\">163,968</span> │\n",
              "├─────────────────────────────────┼────────────────────────┼───────────────┤\n",
              "│ dropout_1 (<span style=\"color: #0087ff; text-decoration-color: #0087ff\">Dropout</span>)             │ (<span style=\"color: #00d7ff; text-decoration-color: #00d7ff\">None</span>, <span style=\"color: #00af00; text-decoration-color: #00af00\">128</span>)            │             <span style=\"color: #00af00; text-decoration-color: #00af00\">0</span> │\n",
              "├─────────────────────────────────┼────────────────────────┼───────────────┤\n",
              "│ dense_3 (<span style=\"color: #0087ff; text-decoration-color: #0087ff\">Dense</span>)                 │ (<span style=\"color: #00d7ff; text-decoration-color: #00d7ff\">None</span>, <span style=\"color: #00af00; text-decoration-color: #00af00\">1</span>)              │           <span style=\"color: #00af00; text-decoration-color: #00af00\">129</span> │\n",
              "└─────────────────────────────────┴────────────────────────┴───────────────┘\n",
              "</pre>\n"
            ]
          },
          "metadata": {}
        },
        {
          "output_type": "display_data",
          "data": {
            "text/plain": [
              "\u001b[1m Total params: \u001b[0m\u001b[38;5;34m2,422,081\u001b[0m (9.24 MB)\n"
            ],
            "text/html": [
              "<pre style=\"white-space:pre;overflow-x:auto;line-height:normal;font-family:Menlo,'DejaVu Sans Mono',consolas,'Courier New',monospace\"><span style=\"font-weight: bold\"> Total params: </span><span style=\"color: #00af00; text-decoration-color: #00af00\">2,422,081</span> (9.24 MB)\n",
              "</pre>\n"
            ]
          },
          "metadata": {}
        },
        {
          "output_type": "display_data",
          "data": {
            "text/plain": [
              "\u001b[1m Trainable params: \u001b[0m\u001b[38;5;34m164,097\u001b[0m (641.00 KB)\n"
            ],
            "text/html": [
              "<pre style=\"white-space:pre;overflow-x:auto;line-height:normal;font-family:Menlo,'DejaVu Sans Mono',consolas,'Courier New',monospace\"><span style=\"font-weight: bold\"> Trainable params: </span><span style=\"color: #00af00; text-decoration-color: #00af00\">164,097</span> (641.00 KB)\n",
              "</pre>\n"
            ]
          },
          "metadata": {}
        },
        {
          "output_type": "display_data",
          "data": {
            "text/plain": [
              "\u001b[1m Non-trainable params: \u001b[0m\u001b[38;5;34m2,257,984\u001b[0m (8.61 MB)\n"
            ],
            "text/html": [
              "<pre style=\"white-space:pre;overflow-x:auto;line-height:normal;font-family:Menlo,'DejaVu Sans Mono',consolas,'Courier New',monospace\"><span style=\"font-weight: bold\"> Non-trainable params: </span><span style=\"color: #00af00; text-decoration-color: #00af00\">2,257,984</span> (8.61 MB)\n",
              "</pre>\n"
            ]
          },
          "metadata": {}
        },
        {
          "output_type": "stream",
          "name": "stdout",
          "text": [
            "\n",
            "Epoch 1/10\n",
            "\u001b[1m163/163\u001b[0m \u001b[32m━━━━━━━━━━━━━━━━━━━━\u001b[0m\u001b[37m\u001b[0m \u001b[1m130s\u001b[0m 738ms/step - AUC: 0.7733 - Precision: 0.8174 - Recall: 0.8529 - accuracy: 0.7497 - loss: 0.4968 - val_AUC: 0.9383 - val_Precision: 0.7631 - val_Recall: 0.9744 - val_accuracy: 0.7949 - val_loss: 0.3943\n",
            "Epoch 2/10\n",
            "\u001b[1m163/163\u001b[0m \u001b[32m━━━━━━━━━━━━━━━━━━━━\u001b[0m\u001b[37m\u001b[0m \u001b[1m113s\u001b[0m 695ms/step - AUC: 0.9625 - Precision: 0.9316 - Recall: 0.9458 - accuracy: 0.9090 - loss: 0.2213 - val_AUC: 0.9533 - val_Precision: 0.7946 - val_Recall: 0.9821 - val_accuracy: 0.8301 - val_loss: 0.3730\n",
            "Epoch 3/10\n",
            "\u001b[1m163/163\u001b[0m \u001b[32m━━━━━━━━━━━━━━━━━━━━\u001b[0m\u001b[37m\u001b[0m \u001b[1m116s\u001b[0m 713ms/step - AUC: 0.9786 - Precision: 0.9526 - Recall: 0.9604 - accuracy: 0.9353 - loss: 0.1679 - val_AUC: 0.9591 - val_Precision: 0.8468 - val_Recall: 0.9641 - val_accuracy: 0.8686 - val_loss: 0.2877\n",
            "Epoch 4/10\n",
            "\u001b[1m163/163\u001b[0m \u001b[32m━━━━━━━━━━━━━━━━━━━━\u001b[0m\u001b[37m\u001b[0m \u001b[1m114s\u001b[0m 702ms/step - AUC: 0.9842 - Precision: 0.9631 - Recall: 0.9635 - accuracy: 0.9456 - loss: 0.1448 - val_AUC: 0.9620 - val_Precision: 0.8243 - val_Recall: 0.9744 - val_accuracy: 0.8542 - val_loss: 0.3120\n",
            "Epoch 5/10\n",
            "\u001b[1m163/163\u001b[0m \u001b[32m━━━━━━━━━━━━━━━━━━━━\u001b[0m\u001b[37m\u001b[0m \u001b[1m114s\u001b[0m 700ms/step - AUC: 0.9844 - Precision: 0.9624 - Recall: 0.9681 - accuracy: 0.9479 - loss: 0.1413 - val_AUC: 0.9661 - val_Precision: 0.8508 - val_Recall: 0.9795 - val_accuracy: 0.8798 - val_loss: 0.2819\n",
            "Epoch 6/10\n",
            "\u001b[1m163/163\u001b[0m \u001b[32m━━━━━━━━━━━━━━━━━━━━\u001b[0m\u001b[37m\u001b[0m \u001b[1m112s\u001b[0m 689ms/step - AUC: 0.9877 - Precision: 0.9664 - Recall: 0.9669 - accuracy: 0.9498 - loss: 0.1252 - val_AUC: 0.9647 - val_Precision: 0.8384 - val_Recall: 0.9846 - val_accuracy: 0.8718 - val_loss: 0.2972\n",
            "Epoch 7/10\n",
            "\u001b[1m163/163\u001b[0m \u001b[32m━━━━━━━━━━━━━━━━━━━━\u001b[0m\u001b[37m\u001b[0m \u001b[1m119s\u001b[0m 731ms/step - AUC: 0.9876 - Precision: 0.9635 - Recall: 0.9653 - accuracy: 0.9474 - loss: 0.1265 - val_AUC: 0.9648 - val_Precision: 0.8333 - val_Recall: 0.9872 - val_accuracy: 0.8686 - val_loss: 0.3147\n",
            "Epoch 8/10\n",
            "\u001b[1m163/163\u001b[0m \u001b[32m━━━━━━━━━━━━━━━━━━━━\u001b[0m\u001b[37m\u001b[0m \u001b[1m112s\u001b[0m 687ms/step - AUC: 0.9862 - Precision: 0.9690 - Recall: 0.9677 - accuracy: 0.9535 - loss: 0.1323 - val_AUC: 0.9652 - val_Precision: 0.8618 - val_Recall: 0.9590 - val_accuracy: 0.8782 - val_loss: 0.2604\n",
            "Epoch 9/10\n",
            "\u001b[1m163/163\u001b[0m \u001b[32m━━━━━━━━━━━━━━━━━━━━\u001b[0m\u001b[37m\u001b[0m \u001b[1m114s\u001b[0m 701ms/step - AUC: 0.9894 - Precision: 0.9727 - Recall: 0.9669 - accuracy: 0.9553 - loss: 0.1170 - val_AUC: 0.9649 - val_Precision: 0.8492 - val_Recall: 0.9821 - val_accuracy: 0.8798 - val_loss: 0.2855\n",
            "Epoch 10/10\n",
            "\u001b[1m163/163\u001b[0m \u001b[32m━━━━━━━━━━━━━━━━━━━━\u001b[0m\u001b[37m\u001b[0m \u001b[1m112s\u001b[0m 688ms/step - AUC: 0.9904 - Precision: 0.9706 - Recall: 0.9729 - accuracy: 0.9579 - loss: 0.1095 - val_AUC: 0.9649 - val_Precision: 0.8581 - val_Recall: 0.9769 - val_accuracy: 0.8846 - val_loss: 0.2722\n",
            "\n",
            "AUC [0.8915917277336121, 0.9694762825965881, 0.9773507118225098, 0.9808064103126526, 0.9854421019554138, 0.9871819615364075, 0.988502025604248, 0.9872928261756897, 0.9894986152648926, 0.9899603128433228]\n",
            "Precision [0.8665532469749451, 0.9406973719596863, 0.9505508542060852, 0.9615682363510132, 0.9643040299415588, 0.965419352054596, 0.9669250845909119, 0.9690242409706116, 0.9697674512863159, 0.9690960645675659]\n",
            "Recall [0.9200000166893005, 0.953806459903717, 0.9574193358421326, 0.9620645046234131, 0.9690322875976562, 0.965419352054596, 0.9656774401664734, 0.9687741994857788, 0.9685161113739014, 0.9710967540740967]\n",
            "accuracy [0.8353143930435181, 0.921012282371521, 0.9313650131225586, 0.9432515501976013, 0.9503450989723206, 0.9486196041107178, 0.9499616622924805, 0.9537960290908813, 0.9541794657707214, 0.9555214643478394]\n",
            "loss [0.35405558347702026, 0.19961559772491455, 0.17045080661773682, 0.1552240401506424, 0.13640810549259186, 0.12830542027950287, 0.12132281064987183, 0.12627969682216644, 0.1156982034444809, 0.11308720707893372]\n",
            "val_AUC [0.9382752776145935, 0.9532708525657654, 0.9591277241706848, 0.962042510509491, 0.9660913944244385, 0.9647380113601685, 0.9648203253746033, 0.9652201533317566, 0.9648860096931458, 0.9648696184158325]\n",
            "val_Precision [0.763052225112915, 0.7946057915687561, 0.8468468189239502, 0.8242949843406677, 0.8507795333862305, 0.8384279608726501, 0.8333333134651184, 0.861751139163971, 0.8492239713668823, 0.8581081032752991]\n",
            "val_Recall [0.9743589758872986, 0.9820512533187866, 0.964102566242218, 0.9743589758872986, 0.9794871807098389, 0.9846153855323792, 0.9871794581413269, 0.9589743614196777, 0.9820512533187866, 0.9769230484962463]\n",
            "val_accuracy [0.7948718070983887, 0.8301281929016113, 0.8685897588729858, 0.8541666865348816, 0.879807710647583, 0.8717948794364929, 0.8685897588729858, 0.8782051205635071, 0.879807710647583, 0.8846153616905212]\n",
            "val_loss [0.39427393674850464, 0.37295591831207275, 0.28765928745269775, 0.3120059370994568, 0.2818986773490906, 0.29715341329574585, 0.3146677613258362, 0.26036733388900757, 0.28551679849624634, 0.2722139358520508]\n",
            "Wall time 1158.7374193668365\n"
          ]
        }
      ]
    },
    {
      "cell_type": "code",
      "source": [
        "cfg = 'cfg_1.1'\n",
        "add_result(cfg, model_history)"
      ],
      "metadata": {
        "id": "AkxG8g12BYpI"
      },
      "execution_count": null,
      "outputs": []
    },
    {
      "cell_type": "code",
      "source": [
        "model.save('/content/drive/MyDrive/DS/chest-xray-pneumonia/MobileNetV2-best.keras')"
      ],
      "metadata": {
        "id": "5gTRpAQwBYpJ"
      },
      "execution_count": null,
      "outputs": []
    },
    {
      "cell_type": "markdown",
      "source": [
        "## cfg 1.2\n",
        "* learning_rate=<font color=orange>0.00005</font>"
      ],
      "metadata": {
        "id": "O8YvAyCsG73v"
      }
    },
    {
      "cell_type": "code",
      "source": [
        "def model_train(learning_rate):\n",
        "    # Размер изображений и параметры\n",
        "    IMG_SIZE = (224, 224)  # MobileNetV2 лучше работает с этим размером\n",
        "    BATCH_SIZE = 32\n",
        "\n",
        "    # Аугментация\n",
        "    train_datagen = ImageDataGenerator(\n",
        "        rescale=1./255,\n",
        "        rotation_range=10,\n",
        "        width_shift_range=0.1,\n",
        "        height_shift_range=0.1,\n",
        "        zoom_range=0.1,\n",
        "        brightness_range=[0.9, 1.1],\n",
        "    )\n",
        "\n",
        "    val_test_datagen = ImageDataGenerator(rescale=1./255)\n",
        "\n",
        "    # Генераторы\n",
        "    train_generator = train_datagen.flow_from_directory(\n",
        "        train_dir,\n",
        "        target_size=IMG_SIZE,\n",
        "        batch_size=BATCH_SIZE,\n",
        "        class_mode='binary',\n",
        "        color_mode='rgb'\n",
        "    )\n",
        "\n",
        "    val_generator = val_test_datagen.flow_from_directory(\n",
        "        val_dir,\n",
        "        target_size=IMG_SIZE,\n",
        "        batch_size=BATCH_SIZE,\n",
        "        class_mode='binary',\n",
        "        shuffle=False,\n",
        "        color_mode='rgb'\n",
        "    )\n",
        "\n",
        "    test_generator = val_test_datagen.flow_from_directory(\n",
        "        test_dir,\n",
        "        target_size=IMG_SIZE,\n",
        "        batch_size=BATCH_SIZE,\n",
        "        class_mode='binary',\n",
        "        shuffle=False,\n",
        "        color_mode='rgb'\n",
        "    )\n",
        "\n",
        "    print()\n",
        "\n",
        "    # Загрузка MobileNetV2 без верхушки\n",
        "    base_model = MobileNetV2(input_shape=(224, 224, 3), include_top=False, weights='imagenet')\n",
        "    base_model.trainable = False  # Фиксируем веса\n",
        "\n",
        "    # Добавляем слои классификации\n",
        "    model = Sequential([\n",
        "        base_model,\n",
        "        layers.GlobalAveragePooling2D(),\n",
        "        layers.Dense(128, activation='relu'),\n",
        "        layers.Dropout(0.5),\n",
        "        layers.Dense(1, activation='sigmoid')\n",
        "    ])\n",
        "\n",
        "    # Компиляция модели\n",
        "    model.compile(\n",
        "        optimizer=Adam(learning_rate=learning_rate),\n",
        "        loss='binary_crossentropy',\n",
        "        metrics=[\n",
        "            'AUC',\n",
        "            'Recall',\n",
        "            'Precision',\n",
        "            'accuracy'\n",
        "        ]\n",
        "    )\n",
        "\n",
        "    # Отображение информации об устройстве сети:\n",
        "    model.summary()\n",
        "\n",
        "    print()\n",
        "\n",
        "    # Обучение модели\n",
        "    EPOCHS = 10\n",
        "\n",
        "    start = time.time() # Фиксация времени\n",
        "\n",
        "    history = model.fit(\n",
        "        train_generator,\n",
        "        epochs=EPOCHS,\n",
        "        validation_data=val_generator\n",
        "    )\n",
        "\n",
        "    end = time.time() # Фиксация времени\n",
        "\n",
        "    model_history = history.history\n",
        "    model_history['Wall time'] = end - start\n",
        "\n",
        "    print()\n",
        "\n",
        "    for k, v in model_history.items():\n",
        "        print(k, v)\n",
        "\n",
        "    return model, model_history"
      ],
      "metadata": {
        "id": "FSTWhhPJG73w"
      },
      "execution_count": null,
      "outputs": []
    },
    {
      "cell_type": "code",
      "source": [
        "model, model_history = model_train(learning_rate=0.00005)"
      ],
      "metadata": {
        "colab": {
          "base_uri": "https://localhost:8080/",
          "height": 1000
        },
        "outputId": "444ff8e0-d7f4-45a6-e6ce-c95e0e69bf5f",
        "id": "ylGA5zdtG73w"
      },
      "execution_count": null,
      "outputs": [
        {
          "output_type": "stream",
          "name": "stdout",
          "text": [
            "Found 5216 images belonging to 2 classes.\n",
            "Found 624 images belonging to 2 classes.\n",
            "Found 16 images belonging to 2 classes.\n",
            "\n"
          ]
        },
        {
          "output_type": "display_data",
          "data": {
            "text/plain": [
              "\u001b[1mModel: \"sequential_2\"\u001b[0m\n"
            ],
            "text/html": [
              "<pre style=\"white-space:pre;overflow-x:auto;line-height:normal;font-family:Menlo,'DejaVu Sans Mono',consolas,'Courier New',monospace\"><span style=\"font-weight: bold\">Model: \"sequential_2\"</span>\n",
              "</pre>\n"
            ]
          },
          "metadata": {}
        },
        {
          "output_type": "display_data",
          "data": {
            "text/plain": [
              "┏━━━━━━━━━━━━━━━━━━━━━━━━━━━━━━━━━┳━━━━━━━━━━━━━━━━━━━━━━━━┳━━━━━━━━━━━━━━━┓\n",
              "┃\u001b[1m \u001b[0m\u001b[1mLayer (type)                   \u001b[0m\u001b[1m \u001b[0m┃\u001b[1m \u001b[0m\u001b[1mOutput Shape          \u001b[0m\u001b[1m \u001b[0m┃\u001b[1m \u001b[0m\u001b[1m      Param #\u001b[0m\u001b[1m \u001b[0m┃\n",
              "┡━━━━━━━━━━━━━━━━━━━━━━━━━━━━━━━━━╇━━━━━━━━━━━━━━━━━━━━━━━━╇━━━━━━━━━━━━━━━┩\n",
              "│ mobilenetv2_1.00_224            │ (\u001b[38;5;45mNone\u001b[0m, \u001b[38;5;34m7\u001b[0m, \u001b[38;5;34m7\u001b[0m, \u001b[38;5;34m1280\u001b[0m)     │     \u001b[38;5;34m2,257,984\u001b[0m │\n",
              "│ (\u001b[38;5;33mFunctional\u001b[0m)                    │                        │               │\n",
              "├─────────────────────────────────┼────────────────────────┼───────────────┤\n",
              "│ global_average_pooling2d_2      │ (\u001b[38;5;45mNone\u001b[0m, \u001b[38;5;34m1280\u001b[0m)           │             \u001b[38;5;34m0\u001b[0m │\n",
              "│ (\u001b[38;5;33mGlobalAveragePooling2D\u001b[0m)        │                        │               │\n",
              "├─────────────────────────────────┼────────────────────────┼───────────────┤\n",
              "│ dense_4 (\u001b[38;5;33mDense\u001b[0m)                 │ (\u001b[38;5;45mNone\u001b[0m, \u001b[38;5;34m128\u001b[0m)            │       \u001b[38;5;34m163,968\u001b[0m │\n",
              "├─────────────────────────────────┼────────────────────────┼───────────────┤\n",
              "│ dropout_2 (\u001b[38;5;33mDropout\u001b[0m)             │ (\u001b[38;5;45mNone\u001b[0m, \u001b[38;5;34m128\u001b[0m)            │             \u001b[38;5;34m0\u001b[0m │\n",
              "├─────────────────────────────────┼────────────────────────┼───────────────┤\n",
              "│ dense_5 (\u001b[38;5;33mDense\u001b[0m)                 │ (\u001b[38;5;45mNone\u001b[0m, \u001b[38;5;34m1\u001b[0m)              │           \u001b[38;5;34m129\u001b[0m │\n",
              "└─────────────────────────────────┴────────────────────────┴───────────────┘\n"
            ],
            "text/html": [
              "<pre style=\"white-space:pre;overflow-x:auto;line-height:normal;font-family:Menlo,'DejaVu Sans Mono',consolas,'Courier New',monospace\">┏━━━━━━━━━━━━━━━━━━━━━━━━━━━━━━━━━┳━━━━━━━━━━━━━━━━━━━━━━━━┳━━━━━━━━━━━━━━━┓\n",
              "┃<span style=\"font-weight: bold\"> Layer (type)                    </span>┃<span style=\"font-weight: bold\"> Output Shape           </span>┃<span style=\"font-weight: bold\">       Param # </span>┃\n",
              "┡━━━━━━━━━━━━━━━━━━━━━━━━━━━━━━━━━╇━━━━━━━━━━━━━━━━━━━━━━━━╇━━━━━━━━━━━━━━━┩\n",
              "│ mobilenetv2_1.00_224            │ (<span style=\"color: #00d7ff; text-decoration-color: #00d7ff\">None</span>, <span style=\"color: #00af00; text-decoration-color: #00af00\">7</span>, <span style=\"color: #00af00; text-decoration-color: #00af00\">7</span>, <span style=\"color: #00af00; text-decoration-color: #00af00\">1280</span>)     │     <span style=\"color: #00af00; text-decoration-color: #00af00\">2,257,984</span> │\n",
              "│ (<span style=\"color: #0087ff; text-decoration-color: #0087ff\">Functional</span>)                    │                        │               │\n",
              "├─────────────────────────────────┼────────────────────────┼───────────────┤\n",
              "│ global_average_pooling2d_2      │ (<span style=\"color: #00d7ff; text-decoration-color: #00d7ff\">None</span>, <span style=\"color: #00af00; text-decoration-color: #00af00\">1280</span>)           │             <span style=\"color: #00af00; text-decoration-color: #00af00\">0</span> │\n",
              "│ (<span style=\"color: #0087ff; text-decoration-color: #0087ff\">GlobalAveragePooling2D</span>)        │                        │               │\n",
              "├─────────────────────────────────┼────────────────────────┼───────────────┤\n",
              "│ dense_4 (<span style=\"color: #0087ff; text-decoration-color: #0087ff\">Dense</span>)                 │ (<span style=\"color: #00d7ff; text-decoration-color: #00d7ff\">None</span>, <span style=\"color: #00af00; text-decoration-color: #00af00\">128</span>)            │       <span style=\"color: #00af00; text-decoration-color: #00af00\">163,968</span> │\n",
              "├─────────────────────────────────┼────────────────────────┼───────────────┤\n",
              "│ dropout_2 (<span style=\"color: #0087ff; text-decoration-color: #0087ff\">Dropout</span>)             │ (<span style=\"color: #00d7ff; text-decoration-color: #00d7ff\">None</span>, <span style=\"color: #00af00; text-decoration-color: #00af00\">128</span>)            │             <span style=\"color: #00af00; text-decoration-color: #00af00\">0</span> │\n",
              "├─────────────────────────────────┼────────────────────────┼───────────────┤\n",
              "│ dense_5 (<span style=\"color: #0087ff; text-decoration-color: #0087ff\">Dense</span>)                 │ (<span style=\"color: #00d7ff; text-decoration-color: #00d7ff\">None</span>, <span style=\"color: #00af00; text-decoration-color: #00af00\">1</span>)              │           <span style=\"color: #00af00; text-decoration-color: #00af00\">129</span> │\n",
              "└─────────────────────────────────┴────────────────────────┴───────────────┘\n",
              "</pre>\n"
            ]
          },
          "metadata": {}
        },
        {
          "output_type": "display_data",
          "data": {
            "text/plain": [
              "\u001b[1m Total params: \u001b[0m\u001b[38;5;34m2,422,081\u001b[0m (9.24 MB)\n"
            ],
            "text/html": [
              "<pre style=\"white-space:pre;overflow-x:auto;line-height:normal;font-family:Menlo,'DejaVu Sans Mono',consolas,'Courier New',monospace\"><span style=\"font-weight: bold\"> Total params: </span><span style=\"color: #00af00; text-decoration-color: #00af00\">2,422,081</span> (9.24 MB)\n",
              "</pre>\n"
            ]
          },
          "metadata": {}
        },
        {
          "output_type": "display_data",
          "data": {
            "text/plain": [
              "\u001b[1m Trainable params: \u001b[0m\u001b[38;5;34m164,097\u001b[0m (641.00 KB)\n"
            ],
            "text/html": [
              "<pre style=\"white-space:pre;overflow-x:auto;line-height:normal;font-family:Menlo,'DejaVu Sans Mono',consolas,'Courier New',monospace\"><span style=\"font-weight: bold\"> Trainable params: </span><span style=\"color: #00af00; text-decoration-color: #00af00\">164,097</span> (641.00 KB)\n",
              "</pre>\n"
            ]
          },
          "metadata": {}
        },
        {
          "output_type": "display_data",
          "data": {
            "text/plain": [
              "\u001b[1m Non-trainable params: \u001b[0m\u001b[38;5;34m2,257,984\u001b[0m (8.61 MB)\n"
            ],
            "text/html": [
              "<pre style=\"white-space:pre;overflow-x:auto;line-height:normal;font-family:Menlo,'DejaVu Sans Mono',consolas,'Courier New',monospace\"><span style=\"font-weight: bold\"> Non-trainable params: </span><span style=\"color: #00af00; text-decoration-color: #00af00\">2,257,984</span> (8.61 MB)\n",
              "</pre>\n"
            ]
          },
          "metadata": {}
        },
        {
          "output_type": "stream",
          "name": "stdout",
          "text": [
            "\n",
            "Epoch 1/10\n",
            "\u001b[1m163/163\u001b[0m \u001b[32m━━━━━━━━━━━━━━━━━━━━\u001b[0m\u001b[37m\u001b[0m \u001b[1m129s\u001b[0m 732ms/step - AUC: 0.6488 - Precision: 0.7676 - Recall: 0.7338 - accuracy: 0.6467 - loss: 0.6661 - val_AUC: 0.9199 - val_Precision: 0.7475 - val_Recall: 0.9641 - val_accuracy: 0.7740 - val_loss: 0.4278\n",
            "Epoch 2/10\n",
            "\u001b[1m163/163\u001b[0m \u001b[32m━━━━━━━━━━━━━━━━━━━━\u001b[0m\u001b[37m\u001b[0m \u001b[1m113s\u001b[0m 695ms/step - AUC: 0.9531 - Precision: 0.9173 - Recall: 0.9644 - accuracy: 0.9090 - loss: 0.2557 - val_AUC: 0.9484 - val_Precision: 0.7796 - val_Recall: 0.9795 - val_accuracy: 0.8141 - val_loss: 0.3739\n",
            "Epoch 3/10\n",
            "\u001b[1m163/163\u001b[0m \u001b[32m━━━━━━━━━━━━━━━━━━━━\u001b[0m\u001b[37m\u001b[0m \u001b[1m112s\u001b[0m 690ms/step - AUC: 0.9672 - Precision: 0.9348 - Recall: 0.9496 - accuracy: 0.9130 - loss: 0.2105 - val_AUC: 0.9590 - val_Precision: 0.8219 - val_Recall: 0.9821 - val_accuracy: 0.8558 - val_loss: 0.3250\n",
            "Epoch 4/10\n",
            "\u001b[1m163/163\u001b[0m \u001b[32m━━━━━━━━━━━━━━━━━━━━\u001b[0m\u001b[37m\u001b[0m \u001b[1m113s\u001b[0m 694ms/step - AUC: 0.9778 - Precision: 0.9451 - Recall: 0.9600 - accuracy: 0.9282 - loss: 0.1738 - val_AUC: 0.9632 - val_Precision: 0.8170 - val_Recall: 0.9846 - val_accuracy: 0.8526 - val_loss: 0.3268\n",
            "Epoch 5/10\n",
            "\u001b[1m163/163\u001b[0m \u001b[32m━━━━━━━━━━━━━━━━━━━━\u001b[0m\u001b[37m\u001b[0m \u001b[1m112s\u001b[0m 686ms/step - AUC: 0.9774 - Precision: 0.9521 - Recall: 0.9625 - accuracy: 0.9354 - loss: 0.1681 - val_AUC: 0.9654 - val_Precision: 0.8559 - val_Recall: 0.9744 - val_accuracy: 0.8814 - val_loss: 0.2717\n",
            "Epoch 6/10\n",
            "\u001b[1m163/163\u001b[0m \u001b[32m━━━━━━━━━━━━━━━━━━━━\u001b[0m\u001b[37m\u001b[0m \u001b[1m111s\u001b[0m 679ms/step - AUC: 0.9795 - Precision: 0.9552 - Recall: 0.9567 - accuracy: 0.9350 - loss: 0.1633 - val_AUC: 0.9659 - val_Precision: 0.8584 - val_Recall: 0.9795 - val_accuracy: 0.8862 - val_loss: 0.2728\n",
            "Epoch 7/10\n",
            "\u001b[1m163/163\u001b[0m \u001b[32m━━━━━━━━━━━━━━━━━━━━\u001b[0m\u001b[37m\u001b[0m \u001b[1m114s\u001b[0m 701ms/step - AUC: 0.9840 - Precision: 0.9616 - Recall: 0.9587 - accuracy: 0.9409 - loss: 0.1446 - val_AUC: 0.9674 - val_Precision: 0.8455 - val_Recall: 0.9821 - val_accuracy: 0.8766 - val_loss: 0.2863\n",
            "Epoch 8/10\n",
            "\u001b[1m163/163\u001b[0m \u001b[32m━━━━━━━━━━━━━━━━━━━━\u001b[0m\u001b[37m\u001b[0m \u001b[1m113s\u001b[0m 693ms/step - AUC: 0.9879 - Precision: 0.9641 - Recall: 0.9695 - accuracy: 0.9504 - loss: 0.1294 - val_AUC: 0.9668 - val_Precision: 0.8562 - val_Recall: 0.9769 - val_accuracy: 0.8830 - val_loss: 0.2736\n",
            "Epoch 9/10\n",
            "\u001b[1m163/163\u001b[0m \u001b[32m━━━━━━━━━━━━━━━━━━━━\u001b[0m\u001b[37m\u001b[0m \u001b[1m113s\u001b[0m 692ms/step - AUC: 0.9838 - Precision: 0.9623 - Recall: 0.9640 - accuracy: 0.9451 - loss: 0.1419 - val_AUC: 0.9684 - val_Precision: 0.8604 - val_Recall: 0.9795 - val_accuracy: 0.8878 - val_loss: 0.2614\n",
            "Epoch 10/10\n",
            "\u001b[1m163/163\u001b[0m \u001b[32m━━━━━━━━━━━━━━━━━━━━\u001b[0m\u001b[37m\u001b[0m \u001b[1m142s\u001b[0m 691ms/step - AUC: 0.9886 - Precision: 0.9687 - Recall: 0.9709 - accuracy: 0.9545 - loss: 0.1213 - val_AUC: 0.9685 - val_Precision: 0.8565 - val_Recall: 0.9795 - val_accuracy: 0.8846 - val_loss: 0.2791\n",
            "\n",
            "AUC [0.7929679155349731, 0.9551345109939575, 0.9712413549423218, 0.9785580635070801, 0.9788180589675903, 0.9818263649940491, 0.9835669994354248, 0.9857534170150757, 0.9844951033592224, 0.9871845841407776]\n",
            "Precision [0.8135553002357483, 0.9204375743865967, 0.9422585368156433, 0.9499614834785461, 0.9527458548545837, 0.9574961066246033, 0.9618556499481201, 0.9612522721290588, 0.965641975402832, 0.968016505241394]\n",
            "Recall [0.8828387260437012, 0.9553548097610474, 0.9517419338226318, 0.9553548097610474, 0.9625806212425232, 0.9592258334159851, 0.9630967974662781, 0.9667096734046936, 0.9646451473236084, 0.9685161113739014]\n",
            "accuracy [0.7626533508300781, 0.9054831266403198, 0.9208205342292786, 0.9294478297233582, 0.9367331266403198, 0.9380751252174377, 0.9442101120948792, 0.946319043636322, 0.9482361674308777, 0.9528374075889587]\n",
            "loss [0.4773324131965637, 0.24592389166355133, 0.198324054479599, 0.17188721895217896, 0.1646239161491394, 0.15379564464092255, 0.1439937949180603, 0.13685140013694763, 0.13854190707206726, 0.1267954409122467]\n",
            "val_AUC [0.91986083984375, 0.9483891725540161, 0.9589523673057556, 0.9632369875907898, 0.9654174447059631, 0.9658777117729187, 0.9674117565155029, 0.9667816758155823, 0.9683924913406372, 0.9684637784957886]\n",
            "val_Precision [0.7475149035453796, 0.7795918583869934, 0.8218883872032166, 0.8170212507247925, 0.8558558821678162, 0.8584269881248474, 0.8454746007919312, 0.8561797738075256, 0.8603603839874268, 0.8565022349357605]\n",
            "val_Recall [0.964102566242218, 0.9794871807098389, 0.9820512533187866, 0.9846153855323792, 0.9743589758872986, 0.9794871807098389, 0.9820512533187866, 0.9769230484962463, 0.9794871807098389, 0.9794871807098389]\n",
            "val_accuracy [0.7740384340286255, 0.8141025900840759, 0.8557692170143127, 0.8525640964508057, 0.8814102411270142, 0.8862179517745972, 0.8766025900840759, 0.8830128312110901, 0.8878205418586731, 0.8846153616905212]\n",
            "val_loss [0.427755206823349, 0.37393325567245483, 0.3249659538269043, 0.3268199861049652, 0.271685391664505, 0.2728363573551178, 0.2863397002220154, 0.2736467719078064, 0.26144787669181824, 0.2790510952472687]\n",
            "Wall time 1202.85942196846\n"
          ]
        }
      ]
    },
    {
      "cell_type": "code",
      "source": [
        "cfg = 'cfg_1.2'\n",
        "add_result(cfg, model_history)"
      ],
      "metadata": {
        "id": "Ks-QohstG73x"
      },
      "execution_count": null,
      "outputs": []
    },
    {
      "cell_type": "code",
      "source": [
        "model.save('/content/drive/MyDrive/DS/chest-xray-pneumonia/MobileNetV2-best.keras')"
      ],
      "metadata": {
        "id": "Fz9vw-D1G73x"
      },
      "execution_count": null,
      "outputs": []
    },
    {
      "cell_type": "markdown",
      "source": [
        "# cfg 2.0\n",
        "* learning_rate=0.00005\n",
        "* <font color=orange>class_weights</font>\n",
        "\n"
      ],
      "metadata": {
        "id": "7LG6Kt5NNvOO"
      }
    },
    {
      "cell_type": "code",
      "source": [
        "def model_train(learning_rate):\n",
        "    # Размер изображений и параметры\n",
        "    IMG_SIZE = (224, 224)  # MobileNetV2 лучше работает с этим размером\n",
        "    BATCH_SIZE = 32\n",
        "\n",
        "    # Аугментация\n",
        "    train_datagen = ImageDataGenerator(\n",
        "        rescale=1./255,\n",
        "        rotation_range=10,\n",
        "        width_shift_range=0.1,\n",
        "        height_shift_range=0.1,\n",
        "        zoom_range=0.1,\n",
        "        brightness_range=[0.9, 1.1],\n",
        "    )\n",
        "\n",
        "    val_test_datagen = ImageDataGenerator(rescale=1./255)\n",
        "\n",
        "    # Генераторы\n",
        "    train_generator = train_datagen.flow_from_directory(\n",
        "        train_dir,\n",
        "        target_size=IMG_SIZE,\n",
        "        batch_size=BATCH_SIZE,\n",
        "        class_mode='binary',\n",
        "        color_mode='rgb'\n",
        "    )\n",
        "\n",
        "    val_generator = val_test_datagen.flow_from_directory(\n",
        "        val_dir,\n",
        "        target_size=IMG_SIZE,\n",
        "        batch_size=BATCH_SIZE,\n",
        "        class_mode='binary',\n",
        "        shuffle=False,\n",
        "        color_mode='rgb'\n",
        "    )\n",
        "\n",
        "    test_generator = val_test_datagen.flow_from_directory(\n",
        "        test_dir,\n",
        "        target_size=IMG_SIZE,\n",
        "        batch_size=BATCH_SIZE,\n",
        "        class_mode='binary',\n",
        "        shuffle=False,\n",
        "        color_mode='rgb'\n",
        "    )\n",
        "\n",
        "    print()\n",
        "\n",
        "    # class_weights      [!]\n",
        "    class_weights = compute_class_weight('balanced',\n",
        "                                         classes=np.unique(train_generator.classes),\n",
        "                                         y=train_generator.classes)\n",
        "    class_weights = dict(enumerate(class_weights))\n",
        "    print(class_weights)\n",
        "\n",
        "    print()\n",
        "\n",
        "    # Загрузка MobileNetV2 без верхушки\n",
        "    base_model = MobileNetV2(input_shape=(224, 224, 3), include_top=False, weights='imagenet')\n",
        "    base_model.trainable = False  # Фиксируем веса\n",
        "\n",
        "    # Добавляем слои классификации\n",
        "    model = Sequential([\n",
        "        base_model,\n",
        "        layers.GlobalAveragePooling2D(),\n",
        "        layers.Dense(128, activation='relu'),\n",
        "        layers.Dropout(0.5),\n",
        "        layers.Dense(1, activation='sigmoid')\n",
        "    ])\n",
        "\n",
        "    # Компиляция модели\n",
        "    model.compile(\n",
        "        optimizer=Adam(learning_rate=learning_rate),\n",
        "        loss='binary_crossentropy',\n",
        "        metrics=[\n",
        "            'AUC',\n",
        "            'Recall',\n",
        "            'Precision',\n",
        "            'accuracy'\n",
        "        ]\n",
        "    )\n",
        "\n",
        "    # Отображение информации об устройстве сети:\n",
        "    model.summary()\n",
        "\n",
        "    print()\n",
        "\n",
        "    # Обучение модели\n",
        "    EPOCHS = 10\n",
        "\n",
        "    start = time.time() # Фиксация времени\n",
        "\n",
        "    history = model.fit(\n",
        "        train_generator,\n",
        "        epochs=EPOCHS,\n",
        "        validation_data=val_generator,\n",
        "        class_weight=class_weights #      [!]\n",
        "    )\n",
        "\n",
        "    end = time.time() # Фиксация времени\n",
        "\n",
        "    model_history = history.history\n",
        "    model_history['Wall time'] = end - start\n",
        "\n",
        "    print()\n",
        "\n",
        "    for k, v in model_history.items():\n",
        "        print(k, v)\n",
        "\n",
        "    return model, model_history"
      ],
      "metadata": {
        "id": "N6FbLKVGNvOO"
      },
      "execution_count": null,
      "outputs": []
    },
    {
      "cell_type": "code",
      "source": [
        "model, model_history = model_train(learning_rate=0.00005)"
      ],
      "metadata": {
        "colab": {
          "base_uri": "https://localhost:8080/",
          "height": 1000
        },
        "outputId": "19bdbad9-9e95-42a0-a655-5c10769f40c9",
        "id": "s7Rc5pUYNvOP"
      },
      "execution_count": null,
      "outputs": [
        {
          "output_type": "stream",
          "name": "stdout",
          "text": [
            "Found 5216 images belonging to 2 classes.\n",
            "Found 624 images belonging to 2 classes.\n",
            "Found 16 images belonging to 2 classes.\n",
            "\n",
            "{0: np.float64(1.9448173005219984), 1: np.float64(0.6730322580645162)}\n",
            "\n"
          ]
        },
        {
          "output_type": "display_data",
          "data": {
            "text/plain": [
              "\u001b[1mModel: \"sequential_3\"\u001b[0m\n"
            ],
            "text/html": [
              "<pre style=\"white-space:pre;overflow-x:auto;line-height:normal;font-family:Menlo,'DejaVu Sans Mono',consolas,'Courier New',monospace\"><span style=\"font-weight: bold\">Model: \"sequential_3\"</span>\n",
              "</pre>\n"
            ]
          },
          "metadata": {}
        },
        {
          "output_type": "display_data",
          "data": {
            "text/plain": [
              "┏━━━━━━━━━━━━━━━━━━━━━━━━━━━━━━━━━┳━━━━━━━━━━━━━━━━━━━━━━━━┳━━━━━━━━━━━━━━━┓\n",
              "┃\u001b[1m \u001b[0m\u001b[1mLayer (type)                   \u001b[0m\u001b[1m \u001b[0m┃\u001b[1m \u001b[0m\u001b[1mOutput Shape          \u001b[0m\u001b[1m \u001b[0m┃\u001b[1m \u001b[0m\u001b[1m      Param #\u001b[0m\u001b[1m \u001b[0m┃\n",
              "┡━━━━━━━━━━━━━━━━━━━━━━━━━━━━━━━━━╇━━━━━━━━━━━━━━━━━━━━━━━━╇━━━━━━━━━━━━━━━┩\n",
              "│ mobilenetv2_1.00_224            │ (\u001b[38;5;45mNone\u001b[0m, \u001b[38;5;34m7\u001b[0m, \u001b[38;5;34m7\u001b[0m, \u001b[38;5;34m1280\u001b[0m)     │     \u001b[38;5;34m2,257,984\u001b[0m │\n",
              "│ (\u001b[38;5;33mFunctional\u001b[0m)                    │                        │               │\n",
              "├─────────────────────────────────┼────────────────────────┼───────────────┤\n",
              "│ global_average_pooling2d_3      │ (\u001b[38;5;45mNone\u001b[0m, \u001b[38;5;34m1280\u001b[0m)           │             \u001b[38;5;34m0\u001b[0m │\n",
              "│ (\u001b[38;5;33mGlobalAveragePooling2D\u001b[0m)        │                        │               │\n",
              "├─────────────────────────────────┼────────────────────────┼───────────────┤\n",
              "│ dense_6 (\u001b[38;5;33mDense\u001b[0m)                 │ (\u001b[38;5;45mNone\u001b[0m, \u001b[38;5;34m128\u001b[0m)            │       \u001b[38;5;34m163,968\u001b[0m │\n",
              "├─────────────────────────────────┼────────────────────────┼───────────────┤\n",
              "│ dropout_3 (\u001b[38;5;33mDropout\u001b[0m)             │ (\u001b[38;5;45mNone\u001b[0m, \u001b[38;5;34m128\u001b[0m)            │             \u001b[38;5;34m0\u001b[0m │\n",
              "├─────────────────────────────────┼────────────────────────┼───────────────┤\n",
              "│ dense_7 (\u001b[38;5;33mDense\u001b[0m)                 │ (\u001b[38;5;45mNone\u001b[0m, \u001b[38;5;34m1\u001b[0m)              │           \u001b[38;5;34m129\u001b[0m │\n",
              "└─────────────────────────────────┴────────────────────────┴───────────────┘\n"
            ],
            "text/html": [
              "<pre style=\"white-space:pre;overflow-x:auto;line-height:normal;font-family:Menlo,'DejaVu Sans Mono',consolas,'Courier New',monospace\">┏━━━━━━━━━━━━━━━━━━━━━━━━━━━━━━━━━┳━━━━━━━━━━━━━━━━━━━━━━━━┳━━━━━━━━━━━━━━━┓\n",
              "┃<span style=\"font-weight: bold\"> Layer (type)                    </span>┃<span style=\"font-weight: bold\"> Output Shape           </span>┃<span style=\"font-weight: bold\">       Param # </span>┃\n",
              "┡━━━━━━━━━━━━━━━━━━━━━━━━━━━━━━━━━╇━━━━━━━━━━━━━━━━━━━━━━━━╇━━━━━━━━━━━━━━━┩\n",
              "│ mobilenetv2_1.00_224            │ (<span style=\"color: #00d7ff; text-decoration-color: #00d7ff\">None</span>, <span style=\"color: #00af00; text-decoration-color: #00af00\">7</span>, <span style=\"color: #00af00; text-decoration-color: #00af00\">7</span>, <span style=\"color: #00af00; text-decoration-color: #00af00\">1280</span>)     │     <span style=\"color: #00af00; text-decoration-color: #00af00\">2,257,984</span> │\n",
              "│ (<span style=\"color: #0087ff; text-decoration-color: #0087ff\">Functional</span>)                    │                        │               │\n",
              "├─────────────────────────────────┼────────────────────────┼───────────────┤\n",
              "│ global_average_pooling2d_3      │ (<span style=\"color: #00d7ff; text-decoration-color: #00d7ff\">None</span>, <span style=\"color: #00af00; text-decoration-color: #00af00\">1280</span>)           │             <span style=\"color: #00af00; text-decoration-color: #00af00\">0</span> │\n",
              "│ (<span style=\"color: #0087ff; text-decoration-color: #0087ff\">GlobalAveragePooling2D</span>)        │                        │               │\n",
              "├─────────────────────────────────┼────────────────────────┼───────────────┤\n",
              "│ dense_6 (<span style=\"color: #0087ff; text-decoration-color: #0087ff\">Dense</span>)                 │ (<span style=\"color: #00d7ff; text-decoration-color: #00d7ff\">None</span>, <span style=\"color: #00af00; text-decoration-color: #00af00\">128</span>)            │       <span style=\"color: #00af00; text-decoration-color: #00af00\">163,968</span> │\n",
              "├─────────────────────────────────┼────────────────────────┼───────────────┤\n",
              "│ dropout_3 (<span style=\"color: #0087ff; text-decoration-color: #0087ff\">Dropout</span>)             │ (<span style=\"color: #00d7ff; text-decoration-color: #00d7ff\">None</span>, <span style=\"color: #00af00; text-decoration-color: #00af00\">128</span>)            │             <span style=\"color: #00af00; text-decoration-color: #00af00\">0</span> │\n",
              "├─────────────────────────────────┼────────────────────────┼───────────────┤\n",
              "│ dense_7 (<span style=\"color: #0087ff; text-decoration-color: #0087ff\">Dense</span>)                 │ (<span style=\"color: #00d7ff; text-decoration-color: #00d7ff\">None</span>, <span style=\"color: #00af00; text-decoration-color: #00af00\">1</span>)              │           <span style=\"color: #00af00; text-decoration-color: #00af00\">129</span> │\n",
              "└─────────────────────────────────┴────────────────────────┴───────────────┘\n",
              "</pre>\n"
            ]
          },
          "metadata": {}
        },
        {
          "output_type": "display_data",
          "data": {
            "text/plain": [
              "\u001b[1m Total params: \u001b[0m\u001b[38;5;34m2,422,081\u001b[0m (9.24 MB)\n"
            ],
            "text/html": [
              "<pre style=\"white-space:pre;overflow-x:auto;line-height:normal;font-family:Menlo,'DejaVu Sans Mono',consolas,'Courier New',monospace\"><span style=\"font-weight: bold\"> Total params: </span><span style=\"color: #00af00; text-decoration-color: #00af00\">2,422,081</span> (9.24 MB)\n",
              "</pre>\n"
            ]
          },
          "metadata": {}
        },
        {
          "output_type": "display_data",
          "data": {
            "text/plain": [
              "\u001b[1m Trainable params: \u001b[0m\u001b[38;5;34m164,097\u001b[0m (641.00 KB)\n"
            ],
            "text/html": [
              "<pre style=\"white-space:pre;overflow-x:auto;line-height:normal;font-family:Menlo,'DejaVu Sans Mono',consolas,'Courier New',monospace\"><span style=\"font-weight: bold\"> Trainable params: </span><span style=\"color: #00af00; text-decoration-color: #00af00\">164,097</span> (641.00 KB)\n",
              "</pre>\n"
            ]
          },
          "metadata": {}
        },
        {
          "output_type": "display_data",
          "data": {
            "text/plain": [
              "\u001b[1m Non-trainable params: \u001b[0m\u001b[38;5;34m2,257,984\u001b[0m (8.61 MB)\n"
            ],
            "text/html": [
              "<pre style=\"white-space:pre;overflow-x:auto;line-height:normal;font-family:Menlo,'DejaVu Sans Mono',consolas,'Courier New',monospace\"><span style=\"font-weight: bold\"> Non-trainable params: </span><span style=\"color: #00af00; text-decoration-color: #00af00\">2,257,984</span> (8.61 MB)\n",
              "</pre>\n"
            ]
          },
          "metadata": {}
        },
        {
          "output_type": "stream",
          "name": "stdout",
          "text": [
            "\n"
          ]
        },
        {
          "output_type": "stream",
          "name": "stderr",
          "text": [
            "/usr/local/lib/python3.11/dist-packages/keras/src/trainers/data_adapters/py_dataset_adapter.py:121: UserWarning: Your `PyDataset` class should call `super().__init__(**kwargs)` in its constructor. `**kwargs` can include `workers`, `use_multiprocessing`, `max_queue_size`. Do not pass these arguments to `fit()`, as they will be ignored.\n",
            "  self._warn_if_super_not_called()\n"
          ]
        },
        {
          "output_type": "stream",
          "name": "stdout",
          "text": [
            "Epoch 1/10\n",
            "\u001b[1m163/163\u001b[0m \u001b[32m━━━━━━━━━━━━━━━━━━━━\u001b[0m\u001b[37m\u001b[0m \u001b[1m128s\u001b[0m 726ms/step - AUC: 0.6853 - Precision: 0.8366 - Recall: 0.6340 - accuracy: 0.6362 - loss: 0.6856 - val_AUC: 0.9108 - val_Precision: 0.8255 - val_Recall: 0.8974 - val_accuracy: 0.8173 - val_loss: 0.3854\n",
            "Epoch 2/10\n",
            "\u001b[1m163/163\u001b[0m \u001b[32m━━━━━━━━━━━━━━━━━━━━\u001b[0m\u001b[37m\u001b[0m \u001b[1m114s\u001b[0m 697ms/step - AUC: 0.9452 - Precision: 0.9553 - Recall: 0.8719 - accuracy: 0.8735 - loss: 0.3004 - val_AUC: 0.9351 - val_Precision: 0.8747 - val_Recall: 0.9128 - val_accuracy: 0.8638 - val_loss: 0.3247\n",
            "Epoch 3/10\n",
            "\u001b[1m163/163\u001b[0m \u001b[32m━━━━━━━━━━━━━━━━━━━━\u001b[0m\u001b[37m\u001b[0m \u001b[1m112s\u001b[0m 689ms/step - AUC: 0.9698 - Precision: 0.9731 - Recall: 0.8922 - accuracy: 0.9025 - loss: 0.2257 - val_AUC: 0.9469 - val_Precision: 0.8756 - val_Recall: 0.9205 - val_accuracy: 0.8686 - val_loss: 0.2951\n",
            "Epoch 4/10\n",
            "\u001b[1m163/163\u001b[0m \u001b[32m━━━━━━━━━━━━━━━━━━━━\u001b[0m\u001b[37m\u001b[0m \u001b[1m112s\u001b[0m 689ms/step - AUC: 0.9761 - Precision: 0.9780 - Recall: 0.9023 - accuracy: 0.9133 - loss: 0.2015 - val_AUC: 0.9543 - val_Precision: 0.8555 - val_Recall: 0.9410 - val_accuracy: 0.8638 - val_loss: 0.2871\n",
            "Epoch 5/10\n",
            "\u001b[1m163/163\u001b[0m \u001b[32m━━━━━━━━━━━━━━━━━━━━\u001b[0m\u001b[37m\u001b[0m \u001b[1m113s\u001b[0m 692ms/step - AUC: 0.9797 - Precision: 0.9808 - Recall: 0.9183 - accuracy: 0.9253 - loss: 0.1831 - val_AUC: 0.9577 - val_Precision: 0.8914 - val_Recall: 0.9256 - val_accuracy: 0.8830 - val_loss: 0.2626\n",
            "Epoch 6/10\n",
            "\u001b[1m163/163\u001b[0m \u001b[32m━━━━━━━━━━━━━━━━━━━━\u001b[0m\u001b[37m\u001b[0m \u001b[1m112s\u001b[0m 687ms/step - AUC: 0.9825 - Precision: 0.9780 - Recall: 0.9253 - accuracy: 0.9288 - loss: 0.1697 - val_AUC: 0.9596 - val_Precision: 0.8960 - val_Recall: 0.9282 - val_accuracy: 0.8878 - val_loss: 0.2543\n",
            "Epoch 7/10\n",
            "\u001b[1m163/163\u001b[0m \u001b[32m━━━━━━━━━━━━━━━━━━━━\u001b[0m\u001b[37m\u001b[0m \u001b[1m112s\u001b[0m 687ms/step - AUC: 0.9837 - Precision: 0.9852 - Recall: 0.9261 - accuracy: 0.9351 - loss: 0.1610 - val_AUC: 0.9614 - val_Precision: 0.9005 - val_Recall: 0.9282 - val_accuracy: 0.8910 - val_loss: 0.2470\n",
            "Epoch 8/10\n",
            "\u001b[1m163/163\u001b[0m \u001b[32m━━━━━━━━━━━━━━━━━━━━\u001b[0m\u001b[37m\u001b[0m \u001b[1m114s\u001b[0m 699ms/step - AUC: 0.9836 - Precision: 0.9841 - Recall: 0.9278 - accuracy: 0.9357 - loss: 0.1644 - val_AUC: 0.9640 - val_Precision: 0.8865 - val_Recall: 0.9410 - val_accuracy: 0.8878 - val_loss: 0.2422\n",
            "Epoch 9/10\n",
            "\u001b[1m163/163\u001b[0m \u001b[32m━━━━━━━━━━━━━━━━━━━━\u001b[0m\u001b[37m\u001b[0m \u001b[1m111s\u001b[0m 682ms/step - AUC: 0.9881 - Precision: 0.9855 - Recall: 0.9417 - accuracy: 0.9467 - loss: 0.1405 - val_AUC: 0.9640 - val_Precision: 0.8990 - val_Recall: 0.9359 - val_accuracy: 0.8942 - val_loss: 0.2375\n",
            "Epoch 10/10\n",
            "\u001b[1m163/163\u001b[0m \u001b[32m━━━━━━━━━━━━━━━━━━━━\u001b[0m\u001b[37m\u001b[0m \u001b[1m112s\u001b[0m 688ms/step - AUC: 0.9873 - Precision: 0.9851 - Recall: 0.9293 - accuracy: 0.9374 - loss: 0.1438 - val_AUC: 0.9625 - val_Precision: 0.8908 - val_Recall: 0.9410 - val_accuracy: 0.8910 - val_loss: 0.2427\n",
            "\n",
            "AUC [0.8071140050888062, 0.9531340599060059, 0.9698171019554138, 0.9768476486206055, 0.9770209789276123, 0.981589138507843, 0.981507420539856, 0.982180655002594, 0.987434983253479, 0.9856489300727844]\n",
            "Precision [0.887590765953064, 0.9644583463668823, 0.9727681279182434, 0.9783333539962769, 0.977524995803833, 0.9789444804191589, 0.9832371473312378, 0.9837196469306946, 0.9853618741035461, 0.9846533536911011]\n",
            "Recall [0.7254193425178528, 0.8753548264503479, 0.8941935300827026, 0.9089032411575317, 0.9091612696647644, 0.9238709807395935, 0.9233548641204834, 0.9200000166893005, 0.9380645155906677, 0.9272258281707764]\n",
            "accuracy [0.7277607321739197, 0.8834356069564819, 0.9027990698814392, 0.9173696041107178, 0.9169861674308777, 0.928680956363678, 0.9313650131225586, 0.9292561411857605, 0.9436349868774414, 0.9351993799209595]\n",
            "loss [0.5423418283462524, 0.27995753288269043, 0.2230343222618103, 0.19542065262794495, 0.19339744746685028, 0.17321182787418365, 0.1685197949409485, 0.1682063788175583, 0.14202463626861572, 0.1522531509399414]\n",
            "val_AUC [0.9108151793479919, 0.935141384601593, 0.9468824863433838, 0.9543063640594482, 0.9577141404151917, 0.9595551490783691, 0.9613795280456543, 0.963965654373169, 0.9640203714370728, 0.9624534249305725]\n",
            "val_Precision [0.8254716992378235, 0.8746928572654724, 0.8756097555160522, 0.8554778695106506, 0.8913580179214478, 0.896039605140686, 0.9004974961280823, 0.8864734172821045, 0.8990147709846497, 0.8907766938209534]\n",
            "val_Recall [0.8974359035491943, 0.9128205180168152, 0.9205127954483032, 0.9410256147384644, 0.9256410002708435, 0.928205132484436, 0.928205132484436, 0.9410256147384644, 0.9358974099159241, 0.9410256147384644]\n",
            "val_accuracy [0.817307710647583, 0.8637820482254028, 0.8685897588729858, 0.8637820482254028, 0.8830128312110901, 0.8878205418586731, 0.8910256624221802, 0.8878205418586731, 0.8942307829856873, 0.8910256624221802]\n",
            "val_loss [0.3854004442691803, 0.32472673058509827, 0.29506972432136536, 0.2870858907699585, 0.26263222098350525, 0.25431856513023376, 0.24700766801834106, 0.24218498170375824, 0.23746336996555328, 0.2426823079586029]\n",
            "Wall time 1171.1871931552887\n"
          ]
        }
      ]
    },
    {
      "cell_type": "code",
      "source": [
        "cfg = 'cfg_2.0'\n",
        "add_result(cfg, model_history)"
      ],
      "metadata": {
        "id": "grnjLzr6NvOQ"
      },
      "execution_count": null,
      "outputs": []
    },
    {
      "cell_type": "code",
      "source": [
        "model.save('/content/drive/MyDrive/DS/chest-xray-pneumonia/MobileNetV2-best.keras')"
      ],
      "metadata": {
        "id": "vxPDsu8XNvOQ"
      },
      "execution_count": null,
      "outputs": []
    },
    {
      "cell_type": "markdown",
      "source": [
        "# cfg 3.0\n",
        "* learning_rate=0.00005\n",
        "* class_weights\n",
        "* base_model.trainable = <font color=orange>True</font>"
      ],
      "metadata": {
        "id": "nWgUKRlwYBnX"
      }
    },
    {
      "cell_type": "code",
      "source": [
        "def model_train(learning_rate):\n",
        "    # Размер изображений и параметры\n",
        "    IMG_SIZE = (224, 224)  # MobileNetV2 лучше работает с этим размером\n",
        "    BATCH_SIZE = 32\n",
        "\n",
        "    # Аугментация\n",
        "    train_datagen = ImageDataGenerator(\n",
        "        rescale=1./255,\n",
        "        rotation_range=10,\n",
        "        width_shift_range=0.1,\n",
        "        height_shift_range=0.1,\n",
        "        zoom_range=0.1,\n",
        "        brightness_range=[0.9, 1.1],\n",
        "    )\n",
        "\n",
        "    val_test_datagen = ImageDataGenerator(rescale=1./255)\n",
        "\n",
        "    # Генераторы\n",
        "    train_generator = train_datagen.flow_from_directory(\n",
        "        train_dir,\n",
        "        target_size=IMG_SIZE,\n",
        "        batch_size=BATCH_SIZE,\n",
        "        class_mode='binary',\n",
        "        color_mode='rgb'\n",
        "    )\n",
        "\n",
        "    val_generator = val_test_datagen.flow_from_directory(\n",
        "        val_dir,\n",
        "        target_size=IMG_SIZE,\n",
        "        batch_size=BATCH_SIZE,\n",
        "        class_mode='binary',\n",
        "        shuffle=False,\n",
        "        color_mode='rgb'\n",
        "    )\n",
        "\n",
        "    test_generator = val_test_datagen.flow_from_directory(\n",
        "        test_dir,\n",
        "        target_size=IMG_SIZE,\n",
        "        batch_size=BATCH_SIZE,\n",
        "        class_mode='binary',\n",
        "        shuffle=False,\n",
        "        color_mode='rgb'\n",
        "    )\n",
        "\n",
        "    print()\n",
        "\n",
        "    # class_weights      [!]\n",
        "    class_weights = compute_class_weight('balanced',\n",
        "                                         classes=np.unique(train_generator.classes),\n",
        "                                         y=train_generator.classes)\n",
        "    class_weights = dict(enumerate(class_weights))\n",
        "    print(class_weights)\n",
        "\n",
        "    print()\n",
        "\n",
        "    # Загрузка MobileNetV2 без верхушки\n",
        "    base_model = MobileNetV2(input_shape=(224, 224, 3), include_top=False, weights='imagenet')\n",
        "    base_model.trainable = True  #   [!]\n",
        "\n",
        "    # Добавляем слои классификации\n",
        "    model = Sequential([\n",
        "        base_model,\n",
        "        layers.GlobalAveragePooling2D(),\n",
        "        layers.Dense(128, activation='relu'),\n",
        "        layers.Dropout(0.5),\n",
        "        layers.Dense(1, activation='sigmoid')\n",
        "    ])\n",
        "\n",
        "    # Компиляция модели\n",
        "    model.compile(\n",
        "        optimizer=Adam(learning_rate=learning_rate),\n",
        "        loss='binary_crossentropy',\n",
        "        metrics=[\n",
        "            'AUC',\n",
        "            'Recall',\n",
        "            'Precision',\n",
        "            'accuracy'\n",
        "        ]\n",
        "    )\n",
        "\n",
        "    # Отображение информации об устройстве сети:\n",
        "    model.summary()\n",
        "\n",
        "    print()\n",
        "\n",
        "    # Обучение модели\n",
        "    EPOCHS = 10\n",
        "\n",
        "    start = time.time() # Фиксация времени\n",
        "\n",
        "    history = model.fit(\n",
        "        train_generator,\n",
        "        epochs=EPOCHS,\n",
        "        validation_data=val_generator,\n",
        "        class_weight=class_weights #      [!]\n",
        "    )\n",
        "\n",
        "    end = time.time() # Фиксация времени\n",
        "\n",
        "    model_history = history.history\n",
        "    model_history['Wall time'] = end - start\n",
        "\n",
        "    print()\n",
        "\n",
        "    for k, v in model_history.items():\n",
        "        print(k, v)\n",
        "\n",
        "    return model, model_history"
      ],
      "metadata": {
        "id": "LTc9fl8jYBnY"
      },
      "execution_count": null,
      "outputs": []
    },
    {
      "cell_type": "code",
      "source": [
        "model, model_history = model_train(learning_rate=0.00005)"
      ],
      "metadata": {
        "colab": {
          "base_uri": "https://localhost:8080/",
          "height": 1000
        },
        "outputId": "2da9137e-4781-4e96-bde0-440c75965a9d",
        "id": "IJG9e7mhYBnY"
      },
      "execution_count": null,
      "outputs": [
        {
          "output_type": "stream",
          "name": "stdout",
          "text": [
            "Found 5216 images belonging to 2 classes.\n",
            "Found 624 images belonging to 2 classes.\n",
            "Found 16 images belonging to 2 classes.\n",
            "\n",
            "{0: np.float64(1.9448173005219984), 1: np.float64(0.6730322580645162)}\n",
            "\n"
          ]
        },
        {
          "output_type": "display_data",
          "data": {
            "text/plain": [
              "\u001b[1mModel: \"sequential_4\"\u001b[0m\n"
            ],
            "text/html": [
              "<pre style=\"white-space:pre;overflow-x:auto;line-height:normal;font-family:Menlo,'DejaVu Sans Mono',consolas,'Courier New',monospace\"><span style=\"font-weight: bold\">Model: \"sequential_4\"</span>\n",
              "</pre>\n"
            ]
          },
          "metadata": {}
        },
        {
          "output_type": "display_data",
          "data": {
            "text/plain": [
              "┏━━━━━━━━━━━━━━━━━━━━━━━━━━━━━━━━━┳━━━━━━━━━━━━━━━━━━━━━━━━┳━━━━━━━━━━━━━━━┓\n",
              "┃\u001b[1m \u001b[0m\u001b[1mLayer (type)                   \u001b[0m\u001b[1m \u001b[0m┃\u001b[1m \u001b[0m\u001b[1mOutput Shape          \u001b[0m\u001b[1m \u001b[0m┃\u001b[1m \u001b[0m\u001b[1m      Param #\u001b[0m\u001b[1m \u001b[0m┃\n",
              "┡━━━━━━━━━━━━━━━━━━━━━━━━━━━━━━━━━╇━━━━━━━━━━━━━━━━━━━━━━━━╇━━━━━━━━━━━━━━━┩\n",
              "│ mobilenetv2_1.00_224            │ (\u001b[38;5;45mNone\u001b[0m, \u001b[38;5;34m7\u001b[0m, \u001b[38;5;34m7\u001b[0m, \u001b[38;5;34m1280\u001b[0m)     │     \u001b[38;5;34m2,257,984\u001b[0m │\n",
              "│ (\u001b[38;5;33mFunctional\u001b[0m)                    │                        │               │\n",
              "├─────────────────────────────────┼────────────────────────┼───────────────┤\n",
              "│ global_average_pooling2d_4      │ (\u001b[38;5;45mNone\u001b[0m, \u001b[38;5;34m1280\u001b[0m)           │             \u001b[38;5;34m0\u001b[0m │\n",
              "│ (\u001b[38;5;33mGlobalAveragePooling2D\u001b[0m)        │                        │               │\n",
              "├─────────────────────────────────┼────────────────────────┼───────────────┤\n",
              "│ dense_8 (\u001b[38;5;33mDense\u001b[0m)                 │ (\u001b[38;5;45mNone\u001b[0m, \u001b[38;5;34m128\u001b[0m)            │       \u001b[38;5;34m163,968\u001b[0m │\n",
              "├─────────────────────────────────┼────────────────────────┼───────────────┤\n",
              "│ dropout_4 (\u001b[38;5;33mDropout\u001b[0m)             │ (\u001b[38;5;45mNone\u001b[0m, \u001b[38;5;34m128\u001b[0m)            │             \u001b[38;5;34m0\u001b[0m │\n",
              "├─────────────────────────────────┼────────────────────────┼───────────────┤\n",
              "│ dense_9 (\u001b[38;5;33mDense\u001b[0m)                 │ (\u001b[38;5;45mNone\u001b[0m, \u001b[38;5;34m1\u001b[0m)              │           \u001b[38;5;34m129\u001b[0m │\n",
              "└─────────────────────────────────┴────────────────────────┴───────────────┘\n"
            ],
            "text/html": [
              "<pre style=\"white-space:pre;overflow-x:auto;line-height:normal;font-family:Menlo,'DejaVu Sans Mono',consolas,'Courier New',monospace\">┏━━━━━━━━━━━━━━━━━━━━━━━━━━━━━━━━━┳━━━━━━━━━━━━━━━━━━━━━━━━┳━━━━━━━━━━━━━━━┓\n",
              "┃<span style=\"font-weight: bold\"> Layer (type)                    </span>┃<span style=\"font-weight: bold\"> Output Shape           </span>┃<span style=\"font-weight: bold\">       Param # </span>┃\n",
              "┡━━━━━━━━━━━━━━━━━━━━━━━━━━━━━━━━━╇━━━━━━━━━━━━━━━━━━━━━━━━╇━━━━━━━━━━━━━━━┩\n",
              "│ mobilenetv2_1.00_224            │ (<span style=\"color: #00d7ff; text-decoration-color: #00d7ff\">None</span>, <span style=\"color: #00af00; text-decoration-color: #00af00\">7</span>, <span style=\"color: #00af00; text-decoration-color: #00af00\">7</span>, <span style=\"color: #00af00; text-decoration-color: #00af00\">1280</span>)     │     <span style=\"color: #00af00; text-decoration-color: #00af00\">2,257,984</span> │\n",
              "│ (<span style=\"color: #0087ff; text-decoration-color: #0087ff\">Functional</span>)                    │                        │               │\n",
              "├─────────────────────────────────┼────────────────────────┼───────────────┤\n",
              "│ global_average_pooling2d_4      │ (<span style=\"color: #00d7ff; text-decoration-color: #00d7ff\">None</span>, <span style=\"color: #00af00; text-decoration-color: #00af00\">1280</span>)           │             <span style=\"color: #00af00; text-decoration-color: #00af00\">0</span> │\n",
              "│ (<span style=\"color: #0087ff; text-decoration-color: #0087ff\">GlobalAveragePooling2D</span>)        │                        │               │\n",
              "├─────────────────────────────────┼────────────────────────┼───────────────┤\n",
              "│ dense_8 (<span style=\"color: #0087ff; text-decoration-color: #0087ff\">Dense</span>)                 │ (<span style=\"color: #00d7ff; text-decoration-color: #00d7ff\">None</span>, <span style=\"color: #00af00; text-decoration-color: #00af00\">128</span>)            │       <span style=\"color: #00af00; text-decoration-color: #00af00\">163,968</span> │\n",
              "├─────────────────────────────────┼────────────────────────┼───────────────┤\n",
              "│ dropout_4 (<span style=\"color: #0087ff; text-decoration-color: #0087ff\">Dropout</span>)             │ (<span style=\"color: #00d7ff; text-decoration-color: #00d7ff\">None</span>, <span style=\"color: #00af00; text-decoration-color: #00af00\">128</span>)            │             <span style=\"color: #00af00; text-decoration-color: #00af00\">0</span> │\n",
              "├─────────────────────────────────┼────────────────────────┼───────────────┤\n",
              "│ dense_9 (<span style=\"color: #0087ff; text-decoration-color: #0087ff\">Dense</span>)                 │ (<span style=\"color: #00d7ff; text-decoration-color: #00d7ff\">None</span>, <span style=\"color: #00af00; text-decoration-color: #00af00\">1</span>)              │           <span style=\"color: #00af00; text-decoration-color: #00af00\">129</span> │\n",
              "└─────────────────────────────────┴────────────────────────┴───────────────┘\n",
              "</pre>\n"
            ]
          },
          "metadata": {}
        },
        {
          "output_type": "display_data",
          "data": {
            "text/plain": [
              "\u001b[1m Total params: \u001b[0m\u001b[38;5;34m2,422,081\u001b[0m (9.24 MB)\n"
            ],
            "text/html": [
              "<pre style=\"white-space:pre;overflow-x:auto;line-height:normal;font-family:Menlo,'DejaVu Sans Mono',consolas,'Courier New',monospace\"><span style=\"font-weight: bold\"> Total params: </span><span style=\"color: #00af00; text-decoration-color: #00af00\">2,422,081</span> (9.24 MB)\n",
              "</pre>\n"
            ]
          },
          "metadata": {}
        },
        {
          "output_type": "display_data",
          "data": {
            "text/plain": [
              "\u001b[1m Trainable params: \u001b[0m\u001b[38;5;34m2,387,969\u001b[0m (9.11 MB)\n"
            ],
            "text/html": [
              "<pre style=\"white-space:pre;overflow-x:auto;line-height:normal;font-family:Menlo,'DejaVu Sans Mono',consolas,'Courier New',monospace\"><span style=\"font-weight: bold\"> Trainable params: </span><span style=\"color: #00af00; text-decoration-color: #00af00\">2,387,969</span> (9.11 MB)\n",
              "</pre>\n"
            ]
          },
          "metadata": {}
        },
        {
          "output_type": "display_data",
          "data": {
            "text/plain": [
              "\u001b[1m Non-trainable params: \u001b[0m\u001b[38;5;34m34,112\u001b[0m (133.25 KB)\n"
            ],
            "text/html": [
              "<pre style=\"white-space:pre;overflow-x:auto;line-height:normal;font-family:Menlo,'DejaVu Sans Mono',consolas,'Courier New',monospace\"><span style=\"font-weight: bold\"> Non-trainable params: </span><span style=\"color: #00af00; text-decoration-color: #00af00\">34,112</span> (133.25 KB)\n",
              "</pre>\n"
            ]
          },
          "metadata": {}
        },
        {
          "output_type": "stream",
          "name": "stdout",
          "text": [
            "\n"
          ]
        },
        {
          "output_type": "stream",
          "name": "stderr",
          "text": [
            "/usr/local/lib/python3.11/dist-packages/keras/src/trainers/data_adapters/py_dataset_adapter.py:121: UserWarning: Your `PyDataset` class should call `super().__init__(**kwargs)` in its constructor. `**kwargs` can include `workers`, `use_multiprocessing`, `max_queue_size`. Do not pass these arguments to `fit()`, as they will be ignored.\n",
            "  self._warn_if_super_not_called()\n"
          ]
        },
        {
          "output_type": "stream",
          "name": "stdout",
          "text": [
            "Epoch 1/10\n",
            "\u001b[1m163/163\u001b[0m \u001b[32m━━━━━━━━━━━━━━━━━━━━\u001b[0m\u001b[37m\u001b[0m \u001b[1m180s\u001b[0m 768ms/step - AUC: 0.9094 - Precision: 0.9393 - Recall: 0.8049 - accuracy: 0.8224 - loss: 0.3513 - val_AUC: 0.8281 - val_Precision: 0.6250 - val_Recall: 1.0000 - val_accuracy: 0.6250 - val_loss: 1.2737\n",
            "Epoch 2/10\n",
            "\u001b[1m163/163\u001b[0m \u001b[32m━━━━━━━━━━━━━━━━━━━━\u001b[0m\u001b[37m\u001b[0m \u001b[1m122s\u001b[0m 750ms/step - AUC: 0.9917 - Precision: 0.9839 - Recall: 0.9562 - accuracy: 0.9563 - loss: 0.1175 - val_AUC: 0.8248 - val_Precision: 0.6250 - val_Recall: 1.0000 - val_accuracy: 0.6250 - val_loss: 1.7189\n",
            "Epoch 3/10\n",
            "\u001b[1m163/163\u001b[0m \u001b[32m━━━━━━━━━━━━━━━━━━━━\u001b[0m\u001b[37m\u001b[0m \u001b[1m118s\u001b[0m 723ms/step - AUC: 0.9932 - Precision: 0.9885 - Recall: 0.9594 - accuracy: 0.9617 - loss: 0.0992 - val_AUC: 0.7495 - val_Precision: 0.6250 - val_Recall: 1.0000 - val_accuracy: 0.6250 - val_loss: 1.9811\n",
            "Epoch 4/10\n",
            "\u001b[1m163/163\u001b[0m \u001b[32m━━━━━━━━━━━━━━━━━━━━\u001b[0m\u001b[37m\u001b[0m \u001b[1m118s\u001b[0m 722ms/step - AUC: 0.9971 - Precision: 0.9943 - Recall: 0.9736 - accuracy: 0.9763 - loss: 0.0631 - val_AUC: 0.7261 - val_Precision: 0.6250 - val_Recall: 1.0000 - val_accuracy: 0.6250 - val_loss: 2.1340\n",
            "Epoch 5/10\n",
            "\u001b[1m163/163\u001b[0m \u001b[32m━━━━━━━━━━━━━━━━━━━━\u001b[0m\u001b[37m\u001b[0m \u001b[1m118s\u001b[0m 724ms/step - AUC: 0.9970 - Precision: 0.9938 - Recall: 0.9770 - accuracy: 0.9782 - loss: 0.0603 - val_AUC: 0.7128 - val_Precision: 0.6250 - val_Recall: 1.0000 - val_accuracy: 0.6250 - val_loss: 2.2821\n",
            "Epoch 6/10\n",
            "\u001b[1m163/163\u001b[0m \u001b[32m━━━━━━━━━━━━━━━━━━━━\u001b[0m\u001b[37m\u001b[0m \u001b[1m119s\u001b[0m 728ms/step - AUC: 0.9969 - Precision: 0.9966 - Recall: 0.9828 - accuracy: 0.9846 - loss: 0.0514 - val_AUC: 0.7184 - val_Precision: 0.6260 - val_Recall: 1.0000 - val_accuracy: 0.6266 - val_loss: 2.1436\n",
            "Epoch 7/10\n",
            "\u001b[1m163/163\u001b[0m \u001b[32m━━━━━━━━━━━━━━━━━━━━\u001b[0m\u001b[37m\u001b[0m \u001b[1m122s\u001b[0m 749ms/step - AUC: 0.9990 - Precision: 0.9966 - Recall: 0.9868 - accuracy: 0.9876 - loss: 0.0345 - val_AUC: 0.8907 - val_Precision: 0.6414 - val_Recall: 1.0000 - val_accuracy: 0.6506 - val_loss: 1.3271\n",
            "Epoch 8/10\n",
            "\u001b[1m163/163\u001b[0m \u001b[32m━━━━━━━━━━━━━━━━━━━━\u001b[0m\u001b[37m\u001b[0m \u001b[1m118s\u001b[0m 723ms/step - AUC: 0.9985 - Precision: 0.9954 - Recall: 0.9862 - accuracy: 0.9864 - loss: 0.0427 - val_AUC: 0.9531 - val_Precision: 0.7052 - val_Recall: 1.0000 - val_accuracy: 0.7388 - val_loss: 0.7744\n",
            "Epoch 9/10\n",
            "\u001b[1m163/163\u001b[0m \u001b[32m━━━━━━━━━━━━━━━━━━━━\u001b[0m\u001b[37m\u001b[0m \u001b[1m117s\u001b[0m 720ms/step - AUC: 0.9993 - Precision: 0.9963 - Recall: 0.9814 - accuracy: 0.9835 - loss: 0.0343 - val_AUC: 0.8655 - val_Precision: 0.6555 - val_Recall: 1.0000 - val_accuracy: 0.6715 - val_loss: 1.3482\n",
            "Epoch 10/10\n",
            "\u001b[1m163/163\u001b[0m \u001b[32m━━━━━━━━━━━━━━━━━━━━\u001b[0m\u001b[37m\u001b[0m \u001b[1m116s\u001b[0m 713ms/step - AUC: 0.9990 - Precision: 0.9945 - Recall: 0.9833 - accuracy: 0.9835 - loss: 0.0427 - val_AUC: 0.8873 - val_Precision: 0.6903 - val_Recall: 1.0000 - val_accuracy: 0.7196 - val_loss: 1.1032\n",
            "\n",
            "AUC [0.9712424874305725, 0.9918023347854614, 0.993905782699585, 0.997217059135437, 0.9968838691711426, 0.9977830052375793, 0.9988721609115601, 0.9986035227775574, 0.9989759922027588, 0.9992150068283081]\n",
            "Precision [0.9729577302932739, 0.9864181280136108, 0.9896386861801147, 0.9931524991989136, 0.9947395920753479, 0.9965906143188477, 0.9958235621452332, 0.9963465332984924, 0.996081531047821, 0.9955624938011169]\n",
            "Recall [0.8913548588752747, 0.9558709859848022, 0.9612902998924255, 0.9731612801551819, 0.9760000109672546, 0.9806451797485352, 0.9845161437988281, 0.9852903485298157, 0.984000027179718, 0.9842580556869507]\n",
            "accuracy [0.9008818864822388, 0.9574386477470398, 0.9637653231620789, 0.9750766754150391, 0.9783359169960022, 0.9831288456916809, 0.9854294657707214, 0.9863880276679993, 0.985237717628479, 0.9850460290908813]\n",
            "loss [0.22035138309001923, 0.11111031472682953, 0.09294501692056656, 0.061927344650030136, 0.060778647661209106, 0.04705466330051422, 0.038978323340415955, 0.03987213596701622, 0.033937305212020874, 0.03654452785849571]\n",
            "val_AUC [0.8280571699142456, 0.8247534036636353, 0.7494521141052246, 0.7261012196540833, 0.7127547264099121, 0.7183651328086853, 0.8906804323196411, 0.9531283974647522, 0.8655489683151245, 0.8873438239097595]\n",
            "val_Precision [0.625, 0.625, 0.625, 0.625, 0.625, 0.6260032057762146, 0.6414473652839661, 0.7052441239356995, 0.6554622054100037, 0.6902654767036438]\n",
            "val_Recall [1.0, 1.0, 1.0, 1.0, 1.0, 1.0, 1.0, 1.0, 1.0, 1.0]\n",
            "val_accuracy [0.625, 0.625, 0.625, 0.625, 0.625, 0.6266025900840759, 0.6506410241127014, 0.7387820482254028, 0.6714743375778198, 0.7195512652397156]\n",
            "val_loss [1.273659348487854, 1.7188857793807983, 1.9811166524887085, 2.134032726287842, 2.282111883163452, 2.1436285972595215, 1.3271217346191406, 0.7743724584579468, 1.34819757938385, 1.1031625270843506]\n",
            "Wall time 1249.800948381424\n"
          ]
        }
      ]
    },
    {
      "cell_type": "code",
      "source": [
        "cfg = 'cfg_3.0'\n",
        "add_result(cfg, model_history)"
      ],
      "metadata": {
        "id": "jcJVg8zgYBna"
      },
      "execution_count": null,
      "outputs": []
    },
    {
      "cell_type": "markdown",
      "source": [
        "# cfg 4.0\n",
        "* learning_rate=0.00005\n",
        "* class_weights\n",
        "* horizontal_flip=<font color=orange>True</font>"
      ],
      "metadata": {
        "id": "VvhUW6BTddye"
      }
    },
    {
      "cell_type": "code",
      "source": [
        "def model_train(learning_rate):\n",
        "    # Размер изображений и параметры\n",
        "    IMG_SIZE = (224, 224)  # MobileNetV2 лучше работает с этим размером\n",
        "    BATCH_SIZE = 32\n",
        "\n",
        "    # Аугментация\n",
        "    train_datagen = ImageDataGenerator(\n",
        "        rescale=1./255,\n",
        "        rotation_range=10,\n",
        "        width_shift_range=0.1,\n",
        "        height_shift_range=0.1,\n",
        "        zoom_range=0.1,\n",
        "        brightness_range=[0.9, 1.1],\n",
        "        horizontal_flip=True #             [!]\n",
        "    )\n",
        "\n",
        "    val_test_datagen = ImageDataGenerator(rescale=1./255)\n",
        "\n",
        "    # Генераторы\n",
        "    train_generator = train_datagen.flow_from_directory(\n",
        "        train_dir,\n",
        "        target_size=IMG_SIZE,\n",
        "        batch_size=BATCH_SIZE,\n",
        "        class_mode='binary',\n",
        "        color_mode='rgb'\n",
        "    )\n",
        "\n",
        "    val_generator = val_test_datagen.flow_from_directory(\n",
        "        val_dir,\n",
        "        target_size=IMG_SIZE,\n",
        "        batch_size=BATCH_SIZE,\n",
        "        class_mode='binary',\n",
        "        shuffle=False,\n",
        "        color_mode='rgb'\n",
        "    )\n",
        "\n",
        "    test_generator = val_test_datagen.flow_from_directory(\n",
        "        test_dir,\n",
        "        target_size=IMG_SIZE,\n",
        "        batch_size=BATCH_SIZE,\n",
        "        class_mode='binary',\n",
        "        shuffle=False,\n",
        "        color_mode='rgb'\n",
        "    )\n",
        "\n",
        "    print()\n",
        "\n",
        "    # class_weights      [!]\n",
        "    class_weights = compute_class_weight('balanced',\n",
        "                                         classes=np.unique(train_generator.classes),\n",
        "                                         y=train_generator.classes)\n",
        "    class_weights = dict(enumerate(class_weights))\n",
        "    print(class_weights)\n",
        "\n",
        "    print()\n",
        "\n",
        "    # Загрузка MobileNetV2 без верхушки\n",
        "    base_model = MobileNetV2(input_shape=(224, 224, 3), include_top=False, weights='imagenet')\n",
        "    base_model.trainable = False  # Фиксируем веса\n",
        "\n",
        "    # Добавляем слои классификации\n",
        "    model = Sequential([\n",
        "        base_model,\n",
        "        layers.GlobalAveragePooling2D(),\n",
        "        layers.Dense(128, activation='relu'),\n",
        "        layers.Dropout(0.5),\n",
        "        layers.Dense(1, activation='sigmoid')\n",
        "    ])\n",
        "\n",
        "    # Компиляция модели\n",
        "    model.compile(\n",
        "        optimizer=Adam(learning_rate=learning_rate),\n",
        "        loss='binary_crossentropy',\n",
        "        metrics=[\n",
        "            'AUC',\n",
        "            'Recall',\n",
        "            'Precision',\n",
        "            'accuracy'\n",
        "        ]\n",
        "    )\n",
        "\n",
        "    # Отображение информации об устройстве сети:\n",
        "    model.summary()\n",
        "\n",
        "    print()\n",
        "\n",
        "    # Обучение модели\n",
        "    EPOCHS = 10\n",
        "\n",
        "    start = time.time() # Фиксация времени\n",
        "\n",
        "    history = model.fit(\n",
        "        train_generator,\n",
        "        epochs=EPOCHS,\n",
        "        validation_data=val_generator,\n",
        "        class_weight=class_weights #      [!]\n",
        "    )\n",
        "\n",
        "    end = time.time() # Фиксация времени\n",
        "\n",
        "    model_history = history.history\n",
        "    model_history['Wall time'] = end - start\n",
        "\n",
        "    print()\n",
        "\n",
        "    for k, v in model_history.items():\n",
        "        print(k, v)\n",
        "\n",
        "    return model, model_history"
      ],
      "metadata": {
        "id": "p-ISFExiddyf"
      },
      "execution_count": null,
      "outputs": []
    },
    {
      "cell_type": "code",
      "source": [
        "model, model_history = model_train(learning_rate=0.00005)"
      ],
      "metadata": {
        "colab": {
          "base_uri": "https://localhost:8080/",
          "height": 1000
        },
        "outputId": "4ce5e180-60d0-44aa-b6eb-93e2781f8aa3",
        "id": "TyMYz0zpddyg"
      },
      "execution_count": null,
      "outputs": [
        {
          "output_type": "stream",
          "name": "stdout",
          "text": [
            "Found 5216 images belonging to 2 classes.\n",
            "Found 624 images belonging to 2 classes.\n",
            "Found 16 images belonging to 2 classes.\n",
            "\n",
            "{0: np.float64(1.9448173005219984), 1: np.float64(0.6730322580645162)}\n",
            "\n",
            "Downloading data from https://storage.googleapis.com/tensorflow/keras-applications/mobilenet_v2/mobilenet_v2_weights_tf_dim_ordering_tf_kernels_1.0_224_no_top.h5\n",
            "\u001b[1m9406464/9406464\u001b[0m \u001b[32m━━━━━━━━━━━━━━━━━━━━\u001b[0m\u001b[37m\u001b[0m \u001b[1m2s\u001b[0m 0us/step\n"
          ]
        },
        {
          "output_type": "display_data",
          "data": {
            "text/plain": [
              "\u001b[1mModel: \"sequential\"\u001b[0m\n"
            ],
            "text/html": [
              "<pre style=\"white-space:pre;overflow-x:auto;line-height:normal;font-family:Menlo,'DejaVu Sans Mono',consolas,'Courier New',monospace\"><span style=\"font-weight: bold\">Model: \"sequential\"</span>\n",
              "</pre>\n"
            ]
          },
          "metadata": {}
        },
        {
          "output_type": "display_data",
          "data": {
            "text/plain": [
              "┏━━━━━━━━━━━━━━━━━━━━━━━━━━━━━━━━━┳━━━━━━━━━━━━━━━━━━━━━━━━┳━━━━━━━━━━━━━━━┓\n",
              "┃\u001b[1m \u001b[0m\u001b[1mLayer (type)                   \u001b[0m\u001b[1m \u001b[0m┃\u001b[1m \u001b[0m\u001b[1mOutput Shape          \u001b[0m\u001b[1m \u001b[0m┃\u001b[1m \u001b[0m\u001b[1m      Param #\u001b[0m\u001b[1m \u001b[0m┃\n",
              "┡━━━━━━━━━━━━━━━━━━━━━━━━━━━━━━━━━╇━━━━━━━━━━━━━━━━━━━━━━━━╇━━━━━━━━━━━━━━━┩\n",
              "│ mobilenetv2_1.00_224            │ (\u001b[38;5;45mNone\u001b[0m, \u001b[38;5;34m7\u001b[0m, \u001b[38;5;34m7\u001b[0m, \u001b[38;5;34m1280\u001b[0m)     │     \u001b[38;5;34m2,257,984\u001b[0m │\n",
              "│ (\u001b[38;5;33mFunctional\u001b[0m)                    │                        │               │\n",
              "├─────────────────────────────────┼────────────────────────┼───────────────┤\n",
              "│ global_average_pooling2d        │ (\u001b[38;5;45mNone\u001b[0m, \u001b[38;5;34m1280\u001b[0m)           │             \u001b[38;5;34m0\u001b[0m │\n",
              "│ (\u001b[38;5;33mGlobalAveragePooling2D\u001b[0m)        │                        │               │\n",
              "├─────────────────────────────────┼────────────────────────┼───────────────┤\n",
              "│ dense (\u001b[38;5;33mDense\u001b[0m)                   │ (\u001b[38;5;45mNone\u001b[0m, \u001b[38;5;34m128\u001b[0m)            │       \u001b[38;5;34m163,968\u001b[0m │\n",
              "├─────────────────────────────────┼────────────────────────┼───────────────┤\n",
              "│ dropout (\u001b[38;5;33mDropout\u001b[0m)               │ (\u001b[38;5;45mNone\u001b[0m, \u001b[38;5;34m128\u001b[0m)            │             \u001b[38;5;34m0\u001b[0m │\n",
              "├─────────────────────────────────┼────────────────────────┼───────────────┤\n",
              "│ dense_1 (\u001b[38;5;33mDense\u001b[0m)                 │ (\u001b[38;5;45mNone\u001b[0m, \u001b[38;5;34m1\u001b[0m)              │           \u001b[38;5;34m129\u001b[0m │\n",
              "└─────────────────────────────────┴────────────────────────┴───────────────┘\n"
            ],
            "text/html": [
              "<pre style=\"white-space:pre;overflow-x:auto;line-height:normal;font-family:Menlo,'DejaVu Sans Mono',consolas,'Courier New',monospace\">┏━━━━━━━━━━━━━━━━━━━━━━━━━━━━━━━━━┳━━━━━━━━━━━━━━━━━━━━━━━━┳━━━━━━━━━━━━━━━┓\n",
              "┃<span style=\"font-weight: bold\"> Layer (type)                    </span>┃<span style=\"font-weight: bold\"> Output Shape           </span>┃<span style=\"font-weight: bold\">       Param # </span>┃\n",
              "┡━━━━━━━━━━━━━━━━━━━━━━━━━━━━━━━━━╇━━━━━━━━━━━━━━━━━━━━━━━━╇━━━━━━━━━━━━━━━┩\n",
              "│ mobilenetv2_1.00_224            │ (<span style=\"color: #00d7ff; text-decoration-color: #00d7ff\">None</span>, <span style=\"color: #00af00; text-decoration-color: #00af00\">7</span>, <span style=\"color: #00af00; text-decoration-color: #00af00\">7</span>, <span style=\"color: #00af00; text-decoration-color: #00af00\">1280</span>)     │     <span style=\"color: #00af00; text-decoration-color: #00af00\">2,257,984</span> │\n",
              "│ (<span style=\"color: #0087ff; text-decoration-color: #0087ff\">Functional</span>)                    │                        │               │\n",
              "├─────────────────────────────────┼────────────────────────┼───────────────┤\n",
              "│ global_average_pooling2d        │ (<span style=\"color: #00d7ff; text-decoration-color: #00d7ff\">None</span>, <span style=\"color: #00af00; text-decoration-color: #00af00\">1280</span>)           │             <span style=\"color: #00af00; text-decoration-color: #00af00\">0</span> │\n",
              "│ (<span style=\"color: #0087ff; text-decoration-color: #0087ff\">GlobalAveragePooling2D</span>)        │                        │               │\n",
              "├─────────────────────────────────┼────────────────────────┼───────────────┤\n",
              "│ dense (<span style=\"color: #0087ff; text-decoration-color: #0087ff\">Dense</span>)                   │ (<span style=\"color: #00d7ff; text-decoration-color: #00d7ff\">None</span>, <span style=\"color: #00af00; text-decoration-color: #00af00\">128</span>)            │       <span style=\"color: #00af00; text-decoration-color: #00af00\">163,968</span> │\n",
              "├─────────────────────────────────┼────────────────────────┼───────────────┤\n",
              "│ dropout (<span style=\"color: #0087ff; text-decoration-color: #0087ff\">Dropout</span>)               │ (<span style=\"color: #00d7ff; text-decoration-color: #00d7ff\">None</span>, <span style=\"color: #00af00; text-decoration-color: #00af00\">128</span>)            │             <span style=\"color: #00af00; text-decoration-color: #00af00\">0</span> │\n",
              "├─────────────────────────────────┼────────────────────────┼───────────────┤\n",
              "│ dense_1 (<span style=\"color: #0087ff; text-decoration-color: #0087ff\">Dense</span>)                 │ (<span style=\"color: #00d7ff; text-decoration-color: #00d7ff\">None</span>, <span style=\"color: #00af00; text-decoration-color: #00af00\">1</span>)              │           <span style=\"color: #00af00; text-decoration-color: #00af00\">129</span> │\n",
              "└─────────────────────────────────┴────────────────────────┴───────────────┘\n",
              "</pre>\n"
            ]
          },
          "metadata": {}
        },
        {
          "output_type": "display_data",
          "data": {
            "text/plain": [
              "\u001b[1m Total params: \u001b[0m\u001b[38;5;34m2,422,081\u001b[0m (9.24 MB)\n"
            ],
            "text/html": [
              "<pre style=\"white-space:pre;overflow-x:auto;line-height:normal;font-family:Menlo,'DejaVu Sans Mono',consolas,'Courier New',monospace\"><span style=\"font-weight: bold\"> Total params: </span><span style=\"color: #00af00; text-decoration-color: #00af00\">2,422,081</span> (9.24 MB)\n",
              "</pre>\n"
            ]
          },
          "metadata": {}
        },
        {
          "output_type": "display_data",
          "data": {
            "text/plain": [
              "\u001b[1m Trainable params: \u001b[0m\u001b[38;5;34m164,097\u001b[0m (641.00 KB)\n"
            ],
            "text/html": [
              "<pre style=\"white-space:pre;overflow-x:auto;line-height:normal;font-family:Menlo,'DejaVu Sans Mono',consolas,'Courier New',monospace\"><span style=\"font-weight: bold\"> Trainable params: </span><span style=\"color: #00af00; text-decoration-color: #00af00\">164,097</span> (641.00 KB)\n",
              "</pre>\n"
            ]
          },
          "metadata": {}
        },
        {
          "output_type": "display_data",
          "data": {
            "text/plain": [
              "\u001b[1m Non-trainable params: \u001b[0m\u001b[38;5;34m2,257,984\u001b[0m (8.61 MB)\n"
            ],
            "text/html": [
              "<pre style=\"white-space:pre;overflow-x:auto;line-height:normal;font-family:Menlo,'DejaVu Sans Mono',consolas,'Courier New',monospace\"><span style=\"font-weight: bold\"> Non-trainable params: </span><span style=\"color: #00af00; text-decoration-color: #00af00\">2,257,984</span> (8.61 MB)\n",
              "</pre>\n"
            ]
          },
          "metadata": {}
        },
        {
          "output_type": "stream",
          "name": "stdout",
          "text": [
            "\n"
          ]
        },
        {
          "output_type": "stream",
          "name": "stderr",
          "text": [
            "/usr/local/lib/python3.11/dist-packages/keras/src/trainers/data_adapters/py_dataset_adapter.py:121: UserWarning: Your `PyDataset` class should call `super().__init__(**kwargs)` in its constructor. `**kwargs` can include `workers`, `use_multiprocessing`, `max_queue_size`. Do not pass these arguments to `fit()`, as they will be ignored.\n",
            "  self._warn_if_super_not_called()\n"
          ]
        },
        {
          "output_type": "stream",
          "name": "stdout",
          "text": [
            "Epoch 1/10\n",
            "\u001b[1m163/163\u001b[0m \u001b[32m━━━━━━━━━━━━━━━━━━━━\u001b[0m\u001b[37m\u001b[0m \u001b[1m138s\u001b[0m 772ms/step - AUC: 0.8224 - Precision: 0.8846 - Recall: 0.7688 - accuracy: 0.7515 - loss: 0.5028 - val_AUC: 0.9271 - val_Precision: 0.8853 - val_Recall: 0.8513 - val_accuracy: 0.8381 - val_loss: 0.3568\n",
            "Epoch 2/10\n",
            "\u001b[1m163/163\u001b[0m \u001b[32m━━━━━━━━━━━━━━━━━━━━\u001b[0m\u001b[37m\u001b[0m \u001b[1m116s\u001b[0m 712ms/step - AUC: 0.9581 - Precision: 0.9689 - Recall: 0.8693 - accuracy: 0.8820 - loss: 0.2701 - val_AUC: 0.9445 - val_Precision: 0.8864 - val_Recall: 0.9000 - val_accuracy: 0.8654 - val_loss: 0.3039\n",
            "Epoch 3/10\n",
            "\u001b[1m163/163\u001b[0m \u001b[32m━━━━━━━━━━━━━━━━━━━━\u001b[0m\u001b[37m\u001b[0m \u001b[1m115s\u001b[0m 706ms/step - AUC: 0.9751 - Precision: 0.9794 - Recall: 0.9013 - accuracy: 0.9131 - loss: 0.2103 - val_AUC: 0.9537 - val_Precision: 0.8821 - val_Recall: 0.9205 - val_accuracy: 0.8734 - val_loss: 0.2779\n",
            "Epoch 4/10\n",
            "\u001b[1m163/163\u001b[0m \u001b[32m━━━━━━━━━━━━━━━━━━━━\u001b[0m\u001b[37m\u001b[0m \u001b[1m117s\u001b[0m 716ms/step - AUC: 0.9774 - Precision: 0.9757 - Recall: 0.9176 - accuracy: 0.9222 - loss: 0.1979 - val_AUC: 0.9562 - val_Precision: 0.8780 - val_Recall: 0.9231 - val_accuracy: 0.8718 - val_loss: 0.2697\n",
            "Epoch 5/10\n",
            "\u001b[1m163/163\u001b[0m \u001b[32m━━━━━━━━━━━━━━━━━━━━\u001b[0m\u001b[37m\u001b[0m \u001b[1m117s\u001b[0m 720ms/step - AUC: 0.9792 - Precision: 0.9795 - Recall: 0.9106 - accuracy: 0.9184 - loss: 0.1850 - val_AUC: 0.9602 - val_Precision: 0.8802 - val_Recall: 0.9231 - val_accuracy: 0.8734 - val_loss: 0.2550\n",
            "Epoch 6/10\n",
            "\u001b[1m163/163\u001b[0m \u001b[32m━━━━━━━━━━━━━━━━━━━━\u001b[0m\u001b[37m\u001b[0m \u001b[1m116s\u001b[0m 715ms/step - AUC: 0.9845 - Precision: 0.9840 - Recall: 0.9256 - accuracy: 0.9334 - loss: 0.1611 - val_AUC: 0.9621 - val_Precision: 0.8889 - val_Recall: 0.9231 - val_accuracy: 0.8798 - val_loss: 0.2486\n",
            "Epoch 7/10\n",
            "\u001b[1m163/163\u001b[0m \u001b[32m━━━━━━━━━━━━━━━━━━━━\u001b[0m\u001b[37m\u001b[0m \u001b[1m142s\u001b[0m 713ms/step - AUC: 0.9829 - Precision: 0.9862 - Recall: 0.9302 - accuracy: 0.9391 - loss: 0.1610 - val_AUC: 0.9633 - val_Precision: 0.8997 - val_Recall: 0.9205 - val_accuracy: 0.8862 - val_loss: 0.2437\n",
            "Epoch 8/10\n",
            "\u001b[1m163/163\u001b[0m \u001b[32m━━━━━━━━━━━━━━━━━━━━\u001b[0m\u001b[37m\u001b[0m \u001b[1m116s\u001b[0m 715ms/step - AUC: 0.9822 - Precision: 0.9812 - Recall: 0.9345 - accuracy: 0.9379 - loss: 0.1661 - val_AUC: 0.9635 - val_Precision: 0.8958 - val_Recall: 0.9256 - val_accuracy: 0.8862 - val_loss: 0.2414\n",
            "Epoch 9/10\n",
            "\u001b[1m163/163\u001b[0m \u001b[32m━━━━━━━━━━━━━━━━━━━━\u001b[0m\u001b[37m\u001b[0m \u001b[1m117s\u001b[0m 718ms/step - AUC: 0.9855 - Precision: 0.9850 - Recall: 0.9301 - accuracy: 0.9375 - loss: 0.1527 - val_AUC: 0.9642 - val_Precision: 0.9063 - val_Recall: 0.9179 - val_accuracy: 0.8894 - val_loss: 0.2380\n",
            "Epoch 10/10\n",
            "\u001b[1m163/163\u001b[0m \u001b[32m━━━━━━━━━━━━━━━━━━━━\u001b[0m\u001b[37m\u001b[0m \u001b[1m140s\u001b[0m 704ms/step - AUC: 0.9867 - Precision: 0.9869 - Recall: 0.9331 - accuracy: 0.9404 - loss: 0.1425 - val_AUC: 0.9647 - val_Precision: 0.9223 - val_Recall: 0.9128 - val_accuracy: 0.8974 - val_loss: 0.2372\n",
            "\n",
            "AUC [0.900031566619873, 0.9617133736610413, 0.9723768830299377, 0.9777686595916748, 0.9807305932044983, 0.9822388887405396, 0.9830629229545593, 0.9844800233840942, 0.9856253862380981, 0.9875460267066956]\n",
            "Precision [0.9268652200698853, 0.9687588810920715, 0.9750490784645081, 0.9765775799751282, 0.978782057762146, 0.9815934300422668, 0.98419189453125, 0.9825850129127502, 0.9831292629241943, 0.9842733144760132]\n",
            "Recall [0.8110967874526978, 0.8802580833435059, 0.8975483775138855, 0.9145806431770325, 0.9166451692581177, 0.9220645427703857, 0.9318709969520569, 0.9318709969520569, 0.932387113571167, 0.9367741942405701]\n",
            "accuracy [0.8121165633201599, 0.8899539709091187, 0.9068251252174377, 0.9202454090118408, 0.9233129024505615, 0.9292561411857605, 0.9382668733596802, 0.9371165633201599, 0.9378834366798401, 0.9419094920158386]\n",
            "loss [0.4061489403247833, 0.2575072944164276, 0.21630892157554626, 0.19336941838264465, 0.17980404198169708, 0.16899114847183228, 0.1612483710050583, 0.15786585211753845, 0.15119357407093048, 0.1406046450138092]\n",
            "val_AUC [0.9271477460861206, 0.9444663524627686, 0.953654408454895, 0.9561855792999268, 0.9602180123329163, 0.9621028304100037, 0.9632917642593384, 0.9635217785835266, 0.9642230868339539, 0.9646722674369812]\n",
            "val_Precision [0.8853333592414856, 0.8863636255264282, 0.8820638656616211, 0.8780487775802612, 0.8801956176757812, 0.8888888955116272, 0.8997493982315063, 0.8957816362380981, 0.9063290953636169, 0.9222797751426697]\n",
            "val_Recall [0.8512820601463318, 0.8999999761581421, 0.9205127954483032, 0.9230769276618958, 0.9230769276618958, 0.9230769276618958, 0.9205127954483032, 0.9256410002708435, 0.9179487228393555, 0.9128205180168152]\n",
            "val_accuracy [0.8381410241127014, 0.8653846383094788, 0.8733974099159241, 0.8717948794364929, 0.8733974099159241, 0.879807710647583, 0.8862179517745972, 0.8862179517745972, 0.8894230723381042, 0.8974359035491943]\n",
            "val_loss [0.3567757308483124, 0.3039316236972809, 0.2778583765029907, 0.2696593105792999, 0.25501394271850586, 0.24856247007846832, 0.24370905756950378, 0.24139602482318878, 0.23800894618034363, 0.23718319833278656]\n",
            "Wall time 1235.8315033912659\n"
          ]
        }
      ]
    },
    {
      "cell_type": "code",
      "source": [
        "cfg = 'cfg_4.0'\n",
        "add_result(cfg, model_history)\n",
        "model.save(f\"/content/drive/MyDrive/DS/chest-xray-pneumonia/MobileNetV2-{cfg}.keras\")"
      ],
      "metadata": {
        "id": "hlZTB43wddyg"
      },
      "execution_count": null,
      "outputs": []
    },
    {
      "cell_type": "markdown",
      "source": [
        "## cfg 4.1\n",
        "* learning_rate=0.00005\n",
        "* class_weights\n",
        "* vertical_flip=<font color=orange>True</font>"
      ],
      "metadata": {
        "id": "YHSIaThW6gCS"
      }
    },
    {
      "cell_type": "code",
      "source": [
        "def model_train(learning_rate):\n",
        "    # Размер изображений и параметры\n",
        "    IMG_SIZE = (224, 224)  # MobileNetV2 лучше работает с этим размером\n",
        "    BATCH_SIZE = 32\n",
        "\n",
        "    # Аугментация\n",
        "    train_datagen = ImageDataGenerator(\n",
        "        rescale=1./255,\n",
        "        rotation_range=10,\n",
        "        width_shift_range=0.1,\n",
        "        height_shift_range=0.1,\n",
        "        zoom_range=0.1,\n",
        "        brightness_range=[0.9, 1.1],\n",
        "        vertical_flip=True #             [!]\n",
        "    )\n",
        "\n",
        "    val_test_datagen = ImageDataGenerator(rescale=1./255)\n",
        "\n",
        "    # Генераторы\n",
        "    train_generator = train_datagen.flow_from_directory(\n",
        "        train_dir,\n",
        "        target_size=IMG_SIZE,\n",
        "        batch_size=BATCH_SIZE,\n",
        "        class_mode='binary',\n",
        "        color_mode='rgb'\n",
        "    )\n",
        "\n",
        "    val_generator = val_test_datagen.flow_from_directory(\n",
        "        val_dir,\n",
        "        target_size=IMG_SIZE,\n",
        "        batch_size=BATCH_SIZE,\n",
        "        class_mode='binary',\n",
        "        shuffle=False,\n",
        "        color_mode='rgb'\n",
        "    )\n",
        "\n",
        "    test_generator = val_test_datagen.flow_from_directory(\n",
        "        test_dir,\n",
        "        target_size=IMG_SIZE,\n",
        "        batch_size=BATCH_SIZE,\n",
        "        class_mode='binary',\n",
        "        shuffle=False,\n",
        "        color_mode='rgb'\n",
        "    )\n",
        "\n",
        "    print()\n",
        "\n",
        "    # class_weights      [!]\n",
        "    class_weights = compute_class_weight('balanced',\n",
        "                                         classes=np.unique(train_generator.classes),\n",
        "                                         y=train_generator.classes)\n",
        "    class_weights = dict(enumerate(class_weights))\n",
        "    print(class_weights)\n",
        "\n",
        "    print()\n",
        "\n",
        "    # Загрузка MobileNetV2 без верхушки\n",
        "    base_model = MobileNetV2(input_shape=(224, 224, 3), include_top=False, weights='imagenet')\n",
        "    base_model.trainable = False  # Фиксируем веса\n",
        "\n",
        "    # Добавляем слои классификации\n",
        "    model = Sequential([\n",
        "        base_model,\n",
        "        layers.GlobalAveragePooling2D(),\n",
        "        layers.Dense(128, activation='relu'),\n",
        "        layers.Dropout(0.5),\n",
        "        layers.Dense(1, activation='sigmoid')\n",
        "    ])\n",
        "\n",
        "    # Компиляция модели\n",
        "    model.compile(\n",
        "        optimizer=Adam(learning_rate=learning_rate),\n",
        "        loss='binary_crossentropy',\n",
        "        metrics=[\n",
        "            'AUC',\n",
        "            'Recall',\n",
        "            'Precision',\n",
        "            'accuracy'\n",
        "        ]\n",
        "    )\n",
        "\n",
        "    # Отображение информации об устройстве сети:\n",
        "    model.summary()\n",
        "\n",
        "    print()\n",
        "\n",
        "    # Обучение модели\n",
        "    EPOCHS = 10\n",
        "\n",
        "    start = time.time() # Фиксация времени\n",
        "\n",
        "    history = model.fit(\n",
        "        train_generator,\n",
        "        epochs=EPOCHS,\n",
        "        validation_data=val_generator,\n",
        "        class_weight=class_weights #      [!]\n",
        "    )\n",
        "\n",
        "    end = time.time() # Фиксация времени\n",
        "\n",
        "    model_history = history.history\n",
        "    model_history['Wall time'] = end - start\n",
        "\n",
        "    print()\n",
        "\n",
        "    for k, v in model_history.items():\n",
        "        print(k, v)\n",
        "\n",
        "    return model, model_history"
      ],
      "metadata": {
        "id": "MhM8l9Ye6gCU"
      },
      "execution_count": null,
      "outputs": []
    },
    {
      "cell_type": "code",
      "source": [
        "model, model_history = model_train(learning_rate=0.00005)"
      ],
      "metadata": {
        "id": "LWJEWkvr6gCU",
        "colab": {
          "base_uri": "https://localhost:8080/",
          "height": 1000
        },
        "outputId": "a9c146dd-dcaa-40fb-a5db-e4bd7b0dd8b3"
      },
      "execution_count": null,
      "outputs": [
        {
          "output_type": "stream",
          "name": "stdout",
          "text": [
            "Found 5216 images belonging to 2 classes.\n",
            "Found 624 images belonging to 2 classes.\n",
            "Found 16 images belonging to 2 classes.\n",
            "\n",
            "{0: np.float64(1.9448173005219984), 1: np.float64(0.6730322580645162)}\n",
            "\n",
            "Downloading data from https://storage.googleapis.com/tensorflow/keras-applications/mobilenet_v2/mobilenet_v2_weights_tf_dim_ordering_tf_kernels_1.0_224_no_top.h5\n",
            "\u001b[1m9406464/9406464\u001b[0m \u001b[32m━━━━━━━━━━━━━━━━━━━━\u001b[0m\u001b[37m\u001b[0m \u001b[1m0s\u001b[0m 0us/step\n"
          ]
        },
        {
          "output_type": "display_data",
          "data": {
            "text/plain": [
              "\u001b[1mModel: \"sequential\"\u001b[0m\n"
            ],
            "text/html": [
              "<pre style=\"white-space:pre;overflow-x:auto;line-height:normal;font-family:Menlo,'DejaVu Sans Mono',consolas,'Courier New',monospace\"><span style=\"font-weight: bold\">Model: \"sequential\"</span>\n",
              "</pre>\n"
            ]
          },
          "metadata": {}
        },
        {
          "output_type": "display_data",
          "data": {
            "text/plain": [
              "┏━━━━━━━━━━━━━━━━━━━━━━━━━━━━━━━━━┳━━━━━━━━━━━━━━━━━━━━━━━━┳━━━━━━━━━━━━━━━┓\n",
              "┃\u001b[1m \u001b[0m\u001b[1mLayer (type)                   \u001b[0m\u001b[1m \u001b[0m┃\u001b[1m \u001b[0m\u001b[1mOutput Shape          \u001b[0m\u001b[1m \u001b[0m┃\u001b[1m \u001b[0m\u001b[1m      Param #\u001b[0m\u001b[1m \u001b[0m┃\n",
              "┡━━━━━━━━━━━━━━━━━━━━━━━━━━━━━━━━━╇━━━━━━━━━━━━━━━━━━━━━━━━╇━━━━━━━━━━━━━━━┩\n",
              "│ mobilenetv2_1.00_224            │ (\u001b[38;5;45mNone\u001b[0m, \u001b[38;5;34m7\u001b[0m, \u001b[38;5;34m7\u001b[0m, \u001b[38;5;34m1280\u001b[0m)     │     \u001b[38;5;34m2,257,984\u001b[0m │\n",
              "│ (\u001b[38;5;33mFunctional\u001b[0m)                    │                        │               │\n",
              "├─────────────────────────────────┼────────────────────────┼───────────────┤\n",
              "│ global_average_pooling2d        │ (\u001b[38;5;45mNone\u001b[0m, \u001b[38;5;34m1280\u001b[0m)           │             \u001b[38;5;34m0\u001b[0m │\n",
              "│ (\u001b[38;5;33mGlobalAveragePooling2D\u001b[0m)        │                        │               │\n",
              "├─────────────────────────────────┼────────────────────────┼───────────────┤\n",
              "│ dense (\u001b[38;5;33mDense\u001b[0m)                   │ (\u001b[38;5;45mNone\u001b[0m, \u001b[38;5;34m128\u001b[0m)            │       \u001b[38;5;34m163,968\u001b[0m │\n",
              "├─────────────────────────────────┼────────────────────────┼───────────────┤\n",
              "│ dropout (\u001b[38;5;33mDropout\u001b[0m)               │ (\u001b[38;5;45mNone\u001b[0m, \u001b[38;5;34m128\u001b[0m)            │             \u001b[38;5;34m0\u001b[0m │\n",
              "├─────────────────────────────────┼────────────────────────┼───────────────┤\n",
              "│ dense_1 (\u001b[38;5;33mDense\u001b[0m)                 │ (\u001b[38;5;45mNone\u001b[0m, \u001b[38;5;34m1\u001b[0m)              │           \u001b[38;5;34m129\u001b[0m │\n",
              "└─────────────────────────────────┴────────────────────────┴───────────────┘\n"
            ],
            "text/html": [
              "<pre style=\"white-space:pre;overflow-x:auto;line-height:normal;font-family:Menlo,'DejaVu Sans Mono',consolas,'Courier New',monospace\">┏━━━━━━━━━━━━━━━━━━━━━━━━━━━━━━━━━┳━━━━━━━━━━━━━━━━━━━━━━━━┳━━━━━━━━━━━━━━━┓\n",
              "┃<span style=\"font-weight: bold\"> Layer (type)                    </span>┃<span style=\"font-weight: bold\"> Output Shape           </span>┃<span style=\"font-weight: bold\">       Param # </span>┃\n",
              "┡━━━━━━━━━━━━━━━━━━━━━━━━━━━━━━━━━╇━━━━━━━━━━━━━━━━━━━━━━━━╇━━━━━━━━━━━━━━━┩\n",
              "│ mobilenetv2_1.00_224            │ (<span style=\"color: #00d7ff; text-decoration-color: #00d7ff\">None</span>, <span style=\"color: #00af00; text-decoration-color: #00af00\">7</span>, <span style=\"color: #00af00; text-decoration-color: #00af00\">7</span>, <span style=\"color: #00af00; text-decoration-color: #00af00\">1280</span>)     │     <span style=\"color: #00af00; text-decoration-color: #00af00\">2,257,984</span> │\n",
              "│ (<span style=\"color: #0087ff; text-decoration-color: #0087ff\">Functional</span>)                    │                        │               │\n",
              "├─────────────────────────────────┼────────────────────────┼───────────────┤\n",
              "│ global_average_pooling2d        │ (<span style=\"color: #00d7ff; text-decoration-color: #00d7ff\">None</span>, <span style=\"color: #00af00; text-decoration-color: #00af00\">1280</span>)           │             <span style=\"color: #00af00; text-decoration-color: #00af00\">0</span> │\n",
              "│ (<span style=\"color: #0087ff; text-decoration-color: #0087ff\">GlobalAveragePooling2D</span>)        │                        │               │\n",
              "├─────────────────────────────────┼────────────────────────┼───────────────┤\n",
              "│ dense (<span style=\"color: #0087ff; text-decoration-color: #0087ff\">Dense</span>)                   │ (<span style=\"color: #00d7ff; text-decoration-color: #00d7ff\">None</span>, <span style=\"color: #00af00; text-decoration-color: #00af00\">128</span>)            │       <span style=\"color: #00af00; text-decoration-color: #00af00\">163,968</span> │\n",
              "├─────────────────────────────────┼────────────────────────┼───────────────┤\n",
              "│ dropout (<span style=\"color: #0087ff; text-decoration-color: #0087ff\">Dropout</span>)               │ (<span style=\"color: #00d7ff; text-decoration-color: #00d7ff\">None</span>, <span style=\"color: #00af00; text-decoration-color: #00af00\">128</span>)            │             <span style=\"color: #00af00; text-decoration-color: #00af00\">0</span> │\n",
              "├─────────────────────────────────┼────────────────────────┼───────────────┤\n",
              "│ dense_1 (<span style=\"color: #0087ff; text-decoration-color: #0087ff\">Dense</span>)                 │ (<span style=\"color: #00d7ff; text-decoration-color: #00d7ff\">None</span>, <span style=\"color: #00af00; text-decoration-color: #00af00\">1</span>)              │           <span style=\"color: #00af00; text-decoration-color: #00af00\">129</span> │\n",
              "└─────────────────────────────────┴────────────────────────┴───────────────┘\n",
              "</pre>\n"
            ]
          },
          "metadata": {}
        },
        {
          "output_type": "display_data",
          "data": {
            "text/plain": [
              "\u001b[1m Total params: \u001b[0m\u001b[38;5;34m2,422,081\u001b[0m (9.24 MB)\n"
            ],
            "text/html": [
              "<pre style=\"white-space:pre;overflow-x:auto;line-height:normal;font-family:Menlo,'DejaVu Sans Mono',consolas,'Courier New',monospace\"><span style=\"font-weight: bold\"> Total params: </span><span style=\"color: #00af00; text-decoration-color: #00af00\">2,422,081</span> (9.24 MB)\n",
              "</pre>\n"
            ]
          },
          "metadata": {}
        },
        {
          "output_type": "display_data",
          "data": {
            "text/plain": [
              "\u001b[1m Trainable params: \u001b[0m\u001b[38;5;34m164,097\u001b[0m (641.00 KB)\n"
            ],
            "text/html": [
              "<pre style=\"white-space:pre;overflow-x:auto;line-height:normal;font-family:Menlo,'DejaVu Sans Mono',consolas,'Courier New',monospace\"><span style=\"font-weight: bold\"> Trainable params: </span><span style=\"color: #00af00; text-decoration-color: #00af00\">164,097</span> (641.00 KB)\n",
              "</pre>\n"
            ]
          },
          "metadata": {}
        },
        {
          "output_type": "display_data",
          "data": {
            "text/plain": [
              "\u001b[1m Non-trainable params: \u001b[0m\u001b[38;5;34m2,257,984\u001b[0m (8.61 MB)\n"
            ],
            "text/html": [
              "<pre style=\"white-space:pre;overflow-x:auto;line-height:normal;font-family:Menlo,'DejaVu Sans Mono',consolas,'Courier New',monospace\"><span style=\"font-weight: bold\"> Non-trainable params: </span><span style=\"color: #00af00; text-decoration-color: #00af00\">2,257,984</span> (8.61 MB)\n",
              "</pre>\n"
            ]
          },
          "metadata": {}
        },
        {
          "output_type": "stream",
          "name": "stdout",
          "text": [
            "\n"
          ]
        },
        {
          "output_type": "stream",
          "name": "stderr",
          "text": [
            "/usr/local/lib/python3.11/dist-packages/keras/src/trainers/data_adapters/py_dataset_adapter.py:121: UserWarning: Your `PyDataset` class should call `super().__init__(**kwargs)` in its constructor. `**kwargs` can include `workers`, `use_multiprocessing`, `max_queue_size`. Do not pass these arguments to `fit()`, as they will be ignored.\n",
            "  self._warn_if_super_not_called()\n"
          ]
        },
        {
          "output_type": "stream",
          "name": "stdout",
          "text": [
            "Epoch 1/10\n",
            "\u001b[1m163/163\u001b[0m \u001b[32m━━━━━━━━━━━━━━━━━━━━\u001b[0m\u001b[37m\u001b[0m \u001b[1m130s\u001b[0m 722ms/step - AUC: 0.7100 - Precision: 0.8522 - Recall: 0.6252 - accuracy: 0.6460 - loss: 0.6294 - val_AUC: 0.9184 - val_Precision: 0.8962 - val_Recall: 0.8410 - val_accuracy: 0.8397 - val_loss: 0.3884\n",
            "Epoch 2/10\n",
            "\u001b[1m163/163\u001b[0m \u001b[32m━━━━━━━━━━━━━━━━━━━━\u001b[0m\u001b[37m\u001b[0m \u001b[1m117s\u001b[0m 719ms/step - AUC: 0.9469 - Precision: 0.9584 - Recall: 0.8564 - accuracy: 0.8675 - loss: 0.3091 - val_AUC: 0.9357 - val_Precision: 0.9200 - val_Recall: 0.8846 - val_accuracy: 0.8798 - val_loss: 0.3292\n",
            "Epoch 3/10\n",
            "\u001b[1m163/163\u001b[0m \u001b[32m━━━━━━━━━━━━━━━━━━━━\u001b[0m\u001b[37m\u001b[0m \u001b[1m110s\u001b[0m 672ms/step - AUC: 0.9645 - Precision: 0.9661 - Recall: 0.8898 - accuracy: 0.8960 - loss: 0.2466 - val_AUC: 0.9450 - val_Precision: 0.9255 - val_Recall: 0.8923 - val_accuracy: 0.8878 - val_loss: 0.3003\n",
            "Epoch 4/10\n",
            "\u001b[1m163/163\u001b[0m \u001b[32m━━━━━━━━━━━━━━━━━━━━\u001b[0m\u001b[37m\u001b[0m \u001b[1m141s\u001b[0m 669ms/step - AUC: 0.9713 - Precision: 0.9686 - Recall: 0.8983 - accuracy: 0.9041 - loss: 0.2199 - val_AUC: 0.9506 - val_Precision: 0.8881 - val_Recall: 0.9154 - val_accuracy: 0.8750 - val_loss: 0.2832\n",
            "Epoch 5/10\n",
            "\u001b[1m163/163\u001b[0m \u001b[32m━━━━━━━━━━━━━━━━━━━━\u001b[0m\u001b[37m\u001b[0m \u001b[1m115s\u001b[0m 702ms/step - AUC: 0.9725 - Precision: 0.9762 - Recall: 0.9077 - accuracy: 0.9164 - loss: 0.2126 - val_AUC: 0.9553 - val_Precision: 0.8889 - val_Recall: 0.9231 - val_accuracy: 0.8798 - val_loss: 0.2685\n",
            "Epoch 6/10\n",
            "\u001b[1m163/163\u001b[0m \u001b[32m━━━━━━━━━━━━━━━━━━━━\u001b[0m\u001b[37m\u001b[0m \u001b[1m109s\u001b[0m 667ms/step - AUC: 0.9777 - Precision: 0.9763 - Recall: 0.9192 - accuracy: 0.9237 - loss: 0.1918 - val_AUC: 0.9589 - val_Precision: 0.9089 - val_Recall: 0.9205 - val_accuracy: 0.8926 - val_loss: 0.2554\n",
            "Epoch 7/10\n",
            "\u001b[1m163/163\u001b[0m \u001b[32m━━━━━━━━━━━━━━━━━━━━\u001b[0m\u001b[37m\u001b[0m \u001b[1m110s\u001b[0m 672ms/step - AUC: 0.9800 - Precision: 0.9739 - Recall: 0.9158 - accuracy: 0.9192 - loss: 0.1793 - val_AUC: 0.9622 - val_Precision: 0.9112 - val_Recall: 0.9205 - val_accuracy: 0.8942 - val_loss: 0.2454\n",
            "Epoch 8/10\n",
            "\u001b[1m163/163\u001b[0m \u001b[32m━━━━━━━━━━━━━━━━━━━━\u001b[0m\u001b[37m\u001b[0m \u001b[1m109s\u001b[0m 668ms/step - AUC: 0.9761 - Precision: 0.9753 - Recall: 0.9166 - accuracy: 0.9202 - loss: 0.1919 - val_AUC: 0.9620 - val_Precision: 0.9040 - val_Recall: 0.9179 - val_accuracy: 0.8878 - val_loss: 0.2453\n",
            "Epoch 9/10\n",
            "\u001b[1m163/163\u001b[0m \u001b[32m━━━━━━━━━━━━━━━━━━━━\u001b[0m\u001b[37m\u001b[0m \u001b[1m109s\u001b[0m 670ms/step - AUC: 0.9816 - Precision: 0.9786 - Recall: 0.9202 - accuracy: 0.9250 - loss: 0.1698 - val_AUC: 0.9625 - val_Precision: 0.9261 - val_Recall: 0.9000 - val_accuracy: 0.8926 - val_loss: 0.2498\n",
            "Epoch 10/10\n",
            "\u001b[1m163/163\u001b[0m \u001b[32m━━━━━━━━━━━━━━━━━━━━\u001b[0m\u001b[37m\u001b[0m \u001b[1m110s\u001b[0m 675ms/step - AUC: 0.9820 - Precision: 0.9835 - Recall: 0.9155 - accuracy: 0.9264 - loss: 0.1709 - val_AUC: 0.9636 - val_Precision: 0.9109 - val_Recall: 0.9179 - val_accuracy: 0.8926 - val_loss: 0.2387\n",
            "\n",
            "AUC [0.8418213129043579, 0.9568435549736023, 0.9656059741973877, 0.9722016453742981, 0.9766378402709961, 0.9778900146484375, 0.9788801670074463, 0.9795512557029724, 0.9816134572029114, 0.9831612706184387]\n",
            "Precision [0.9043315649032593, 0.9673258662223816, 0.9699943661689758, 0.97296541929245, 0.9799777269363403, 0.9779796600341797, 0.9749311208724976, 0.9777227640151978, 0.9808638691902161, 0.9813392162322998]\n",
            "Recall [0.748903214931488, 0.8709677457809448, 0.8926451802253723, 0.9009032249450684, 0.9094193577766418, 0.9169031977653503, 0.9132903218269348, 0.9174193739891052, 0.9259355068206787, 0.9228386878967285]\n",
            "accuracy [0.754601240158081, 0.8822852969169617, 0.8997315764427185, 0.9077837467193604, 0.9189033508300781, 0.9229294657707214, 0.918136477470398, 0.9231211543083191, 0.931556761264801, 0.9296395778656006]\n",
            "loss [0.4905060827732086, 0.2771710455417633, 0.23906764388084412, 0.2133476883172989, 0.19537721574306488, 0.18852749466896057, 0.18292653560638428, 0.1804710179567337, 0.17027023434638977, 0.16465428471565247]\n",
            "val_AUC [0.9184089303016663, 0.9357001781463623, 0.9449868202209473, 0.9505643248558044, 0.9553253650665283, 0.9588812589645386, 0.9622397422790527, 0.9619712829589844, 0.9624643325805664, 0.9636313319206238]\n",
            "val_Precision [0.8961748480796814, 0.9200000166893005, 0.9255319237709045, 0.888059675693512, 0.8888888955116272, 0.9088607430458069, 0.9111675024032593, 0.9040403962135315, 0.9261213541030884, 0.910941481590271]\n",
            "val_Recall [0.8410256505012512, 0.8846153616905212, 0.892307698726654, 0.9153845906257629, 0.9230769276618958, 0.9205127954483032, 0.9205127954483032, 0.9179487228393555, 0.8999999761581421, 0.9179487228393555]\n",
            "val_accuracy [0.8397436141967773, 0.879807710647583, 0.8878205418586731, 0.875, 0.879807710647583, 0.8926281929016113, 0.8942307829856873, 0.8878205418586731, 0.8926281929016113, 0.8926281929016113]\n",
            "val_loss [0.38841912150382996, 0.32915815711021423, 0.300288587808609, 0.28321123123168945, 0.2684800922870636, 0.255374014377594, 0.24541115760803223, 0.2452537566423416, 0.24977591633796692, 0.2386975884437561]\n",
            "Wall time 1162.2142369747162\n"
          ]
        }
      ]
    },
    {
      "cell_type": "code",
      "source": [
        "cfg = 'cfg_4.1'\n",
        "add_result(cfg, model_history)\n",
        "model.save(f\"/content/drive/MyDrive/DS/chest-xray-pneumonia/MobileNetV2-{cfg}.keras\")"
      ],
      "metadata": {
        "id": "XoM1ysnG6gCV"
      },
      "execution_count": null,
      "outputs": []
    },
    {
      "cell_type": "markdown",
      "source": [
        "## cfg 4.2\n",
        "* learning_rate=0.00005\n",
        "* class_weights\n",
        "* horizontal_flip=<font color=orange>True</font>\n",
        "* vertical_flip=<font color=orange>True</font>"
      ],
      "metadata": {
        "id": "4-K6d6mR8WNZ"
      }
    },
    {
      "cell_type": "code",
      "source": [
        "def model_train(learning_rate):\n",
        "    # Размер изображений и параметры\n",
        "    IMG_SIZE = (224, 224)  # MobileNetV2 лучше работает с этим размером\n",
        "    BATCH_SIZE = 32\n",
        "\n",
        "    # Аугментация\n",
        "    train_datagen = ImageDataGenerator(\n",
        "        rescale=1./255,\n",
        "        rotation_range=10,\n",
        "        width_shift_range=0.1,\n",
        "        height_shift_range=0.1,\n",
        "        zoom_range=0.1,\n",
        "        brightness_range=[0.9, 1.1],\n",
        "        horizontal_flip=True, #          [!]\n",
        "        vertical_flip=True #             [!]\n",
        "    )\n",
        "\n",
        "    val_test_datagen = ImageDataGenerator(rescale=1./255)\n",
        "\n",
        "    # Генераторы\n",
        "    train_generator = train_datagen.flow_from_directory(\n",
        "        train_dir,\n",
        "        target_size=IMG_SIZE,\n",
        "        batch_size=BATCH_SIZE,\n",
        "        class_mode='binary',\n",
        "        color_mode='rgb'\n",
        "    )\n",
        "\n",
        "    val_generator = val_test_datagen.flow_from_directory(\n",
        "        val_dir,\n",
        "        target_size=IMG_SIZE,\n",
        "        batch_size=BATCH_SIZE,\n",
        "        class_mode='binary',\n",
        "        shuffle=False,\n",
        "        color_mode='rgb'\n",
        "    )\n",
        "\n",
        "    test_generator = val_test_datagen.flow_from_directory(\n",
        "        test_dir,\n",
        "        target_size=IMG_SIZE,\n",
        "        batch_size=BATCH_SIZE,\n",
        "        class_mode='binary',\n",
        "        shuffle=False,\n",
        "        color_mode='rgb'\n",
        "    )\n",
        "\n",
        "    print()\n",
        "\n",
        "    # class_weights      [!]\n",
        "    class_weights = compute_class_weight('balanced',\n",
        "                                         classes=np.unique(train_generator.classes),\n",
        "                                         y=train_generator.classes)\n",
        "    class_weights = dict(enumerate(class_weights))\n",
        "    print(class_weights)\n",
        "\n",
        "    print()\n",
        "\n",
        "    # Загрузка MobileNetV2 без верхушки\n",
        "    base_model = MobileNetV2(input_shape=(224, 224, 3), include_top=False, weights='imagenet')\n",
        "    base_model.trainable = False  # Фиксируем веса\n",
        "\n",
        "    # Добавляем слои классификации\n",
        "    model = Sequential([\n",
        "        base_model,\n",
        "        layers.GlobalAveragePooling2D(),\n",
        "        layers.Dense(128, activation='relu'),\n",
        "        layers.Dropout(0.5),\n",
        "        layers.Dense(1, activation='sigmoid')\n",
        "    ])\n",
        "\n",
        "    # Компиляция модели\n",
        "    model.compile(\n",
        "        optimizer=Adam(learning_rate=learning_rate),\n",
        "        loss='binary_crossentropy',\n",
        "        metrics=[\n",
        "            'AUC',\n",
        "            'Recall',\n",
        "            'Precision',\n",
        "            'accuracy'\n",
        "        ]\n",
        "    )\n",
        "\n",
        "    # Отображение информации об устройстве сети:\n",
        "    model.summary()\n",
        "\n",
        "    print()\n",
        "\n",
        "    # Обучение модели\n",
        "    EPOCHS = 10\n",
        "\n",
        "    start = time.time() # Фиксация времени\n",
        "\n",
        "    history = model.fit(\n",
        "        train_generator,\n",
        "        epochs=EPOCHS,\n",
        "        validation_data=val_generator,\n",
        "        class_weight=class_weights #      [!]\n",
        "    )\n",
        "\n",
        "    end = time.time() # Фиксация времени\n",
        "\n",
        "    model_history = history.history\n",
        "    model_history['Wall time'] = end - start\n",
        "\n",
        "    print()\n",
        "\n",
        "    for k, v in model_history.items():\n",
        "        print(k, v)\n",
        "\n",
        "    return model, model_history"
      ],
      "metadata": {
        "id": "EN9TbiD48WNa"
      },
      "execution_count": null,
      "outputs": []
    },
    {
      "cell_type": "code",
      "source": [
        "model, model_history = model_train(learning_rate=0.00005)"
      ],
      "metadata": {
        "colab": {
          "base_uri": "https://localhost:8080/",
          "height": 1000
        },
        "outputId": "a68c1f6b-afd3-4e64-b293-8a101c7a54f1",
        "id": "h4_04bk38WNa"
      },
      "execution_count": null,
      "outputs": [
        {
          "output_type": "stream",
          "name": "stdout",
          "text": [
            "Found 5216 images belonging to 2 classes.\n",
            "Found 624 images belonging to 2 classes.\n",
            "Found 16 images belonging to 2 classes.\n",
            "\n",
            "{0: np.float64(1.9448173005219984), 1: np.float64(0.6730322580645162)}\n",
            "\n"
          ]
        },
        {
          "output_type": "display_data",
          "data": {
            "text/plain": [
              "\u001b[1mModel: \"sequential_1\"\u001b[0m\n"
            ],
            "text/html": [
              "<pre style=\"white-space:pre;overflow-x:auto;line-height:normal;font-family:Menlo,'DejaVu Sans Mono',consolas,'Courier New',monospace\"><span style=\"font-weight: bold\">Model: \"sequential_1\"</span>\n",
              "</pre>\n"
            ]
          },
          "metadata": {}
        },
        {
          "output_type": "display_data",
          "data": {
            "text/plain": [
              "┏━━━━━━━━━━━━━━━━━━━━━━━━━━━━━━━━━┳━━━━━━━━━━━━━━━━━━━━━━━━┳━━━━━━━━━━━━━━━┓\n",
              "┃\u001b[1m \u001b[0m\u001b[1mLayer (type)                   \u001b[0m\u001b[1m \u001b[0m┃\u001b[1m \u001b[0m\u001b[1mOutput Shape          \u001b[0m\u001b[1m \u001b[0m┃\u001b[1m \u001b[0m\u001b[1m      Param #\u001b[0m\u001b[1m \u001b[0m┃\n",
              "┡━━━━━━━━━━━━━━━━━━━━━━━━━━━━━━━━━╇━━━━━━━━━━━━━━━━━━━━━━━━╇━━━━━━━━━━━━━━━┩\n",
              "│ mobilenetv2_1.00_224            │ (\u001b[38;5;45mNone\u001b[0m, \u001b[38;5;34m7\u001b[0m, \u001b[38;5;34m7\u001b[0m, \u001b[38;5;34m1280\u001b[0m)     │     \u001b[38;5;34m2,257,984\u001b[0m │\n",
              "│ (\u001b[38;5;33mFunctional\u001b[0m)                    │                        │               │\n",
              "├─────────────────────────────────┼────────────────────────┼───────────────┤\n",
              "│ global_average_pooling2d_1      │ (\u001b[38;5;45mNone\u001b[0m, \u001b[38;5;34m1280\u001b[0m)           │             \u001b[38;5;34m0\u001b[0m │\n",
              "│ (\u001b[38;5;33mGlobalAveragePooling2D\u001b[0m)        │                        │               │\n",
              "├─────────────────────────────────┼────────────────────────┼───────────────┤\n",
              "│ dense_2 (\u001b[38;5;33mDense\u001b[0m)                 │ (\u001b[38;5;45mNone\u001b[0m, \u001b[38;5;34m128\u001b[0m)            │       \u001b[38;5;34m163,968\u001b[0m │\n",
              "├─────────────────────────────────┼────────────────────────┼───────────────┤\n",
              "│ dropout_1 (\u001b[38;5;33mDropout\u001b[0m)             │ (\u001b[38;5;45mNone\u001b[0m, \u001b[38;5;34m128\u001b[0m)            │             \u001b[38;5;34m0\u001b[0m │\n",
              "├─────────────────────────────────┼────────────────────────┼───────────────┤\n",
              "│ dense_3 (\u001b[38;5;33mDense\u001b[0m)                 │ (\u001b[38;5;45mNone\u001b[0m, \u001b[38;5;34m1\u001b[0m)              │           \u001b[38;5;34m129\u001b[0m │\n",
              "└─────────────────────────────────┴────────────────────────┴───────────────┘\n"
            ],
            "text/html": [
              "<pre style=\"white-space:pre;overflow-x:auto;line-height:normal;font-family:Menlo,'DejaVu Sans Mono',consolas,'Courier New',monospace\">┏━━━━━━━━━━━━━━━━━━━━━━━━━━━━━━━━━┳━━━━━━━━━━━━━━━━━━━━━━━━┳━━━━━━━━━━━━━━━┓\n",
              "┃<span style=\"font-weight: bold\"> Layer (type)                    </span>┃<span style=\"font-weight: bold\"> Output Shape           </span>┃<span style=\"font-weight: bold\">       Param # </span>┃\n",
              "┡━━━━━━━━━━━━━━━━━━━━━━━━━━━━━━━━━╇━━━━━━━━━━━━━━━━━━━━━━━━╇━━━━━━━━━━━━━━━┩\n",
              "│ mobilenetv2_1.00_224            │ (<span style=\"color: #00d7ff; text-decoration-color: #00d7ff\">None</span>, <span style=\"color: #00af00; text-decoration-color: #00af00\">7</span>, <span style=\"color: #00af00; text-decoration-color: #00af00\">7</span>, <span style=\"color: #00af00; text-decoration-color: #00af00\">1280</span>)     │     <span style=\"color: #00af00; text-decoration-color: #00af00\">2,257,984</span> │\n",
              "│ (<span style=\"color: #0087ff; text-decoration-color: #0087ff\">Functional</span>)                    │                        │               │\n",
              "├─────────────────────────────────┼────────────────────────┼───────────────┤\n",
              "│ global_average_pooling2d_1      │ (<span style=\"color: #00d7ff; text-decoration-color: #00d7ff\">None</span>, <span style=\"color: #00af00; text-decoration-color: #00af00\">1280</span>)           │             <span style=\"color: #00af00; text-decoration-color: #00af00\">0</span> │\n",
              "│ (<span style=\"color: #0087ff; text-decoration-color: #0087ff\">GlobalAveragePooling2D</span>)        │                        │               │\n",
              "├─────────────────────────────────┼────────────────────────┼───────────────┤\n",
              "│ dense_2 (<span style=\"color: #0087ff; text-decoration-color: #0087ff\">Dense</span>)                 │ (<span style=\"color: #00d7ff; text-decoration-color: #00d7ff\">None</span>, <span style=\"color: #00af00; text-decoration-color: #00af00\">128</span>)            │       <span style=\"color: #00af00; text-decoration-color: #00af00\">163,968</span> │\n",
              "├─────────────────────────────────┼────────────────────────┼───────────────┤\n",
              "│ dropout_1 (<span style=\"color: #0087ff; text-decoration-color: #0087ff\">Dropout</span>)             │ (<span style=\"color: #00d7ff; text-decoration-color: #00d7ff\">None</span>, <span style=\"color: #00af00; text-decoration-color: #00af00\">128</span>)            │             <span style=\"color: #00af00; text-decoration-color: #00af00\">0</span> │\n",
              "├─────────────────────────────────┼────────────────────────┼───────────────┤\n",
              "│ dense_3 (<span style=\"color: #0087ff; text-decoration-color: #0087ff\">Dense</span>)                 │ (<span style=\"color: #00d7ff; text-decoration-color: #00d7ff\">None</span>, <span style=\"color: #00af00; text-decoration-color: #00af00\">1</span>)              │           <span style=\"color: #00af00; text-decoration-color: #00af00\">129</span> │\n",
              "└─────────────────────────────────┴────────────────────────┴───────────────┘\n",
              "</pre>\n"
            ]
          },
          "metadata": {}
        },
        {
          "output_type": "display_data",
          "data": {
            "text/plain": [
              "\u001b[1m Total params: \u001b[0m\u001b[38;5;34m2,422,081\u001b[0m (9.24 MB)\n"
            ],
            "text/html": [
              "<pre style=\"white-space:pre;overflow-x:auto;line-height:normal;font-family:Menlo,'DejaVu Sans Mono',consolas,'Courier New',monospace\"><span style=\"font-weight: bold\"> Total params: </span><span style=\"color: #00af00; text-decoration-color: #00af00\">2,422,081</span> (9.24 MB)\n",
              "</pre>\n"
            ]
          },
          "metadata": {}
        },
        {
          "output_type": "display_data",
          "data": {
            "text/plain": [
              "\u001b[1m Trainable params: \u001b[0m\u001b[38;5;34m164,097\u001b[0m (641.00 KB)\n"
            ],
            "text/html": [
              "<pre style=\"white-space:pre;overflow-x:auto;line-height:normal;font-family:Menlo,'DejaVu Sans Mono',consolas,'Courier New',monospace\"><span style=\"font-weight: bold\"> Trainable params: </span><span style=\"color: #00af00; text-decoration-color: #00af00\">164,097</span> (641.00 KB)\n",
              "</pre>\n"
            ]
          },
          "metadata": {}
        },
        {
          "output_type": "display_data",
          "data": {
            "text/plain": [
              "\u001b[1m Non-trainable params: \u001b[0m\u001b[38;5;34m2,257,984\u001b[0m (8.61 MB)\n"
            ],
            "text/html": [
              "<pre style=\"white-space:pre;overflow-x:auto;line-height:normal;font-family:Menlo,'DejaVu Sans Mono',consolas,'Courier New',monospace\"><span style=\"font-weight: bold\"> Non-trainable params: </span><span style=\"color: #00af00; text-decoration-color: #00af00\">2,257,984</span> (8.61 MB)\n",
              "</pre>\n"
            ]
          },
          "metadata": {}
        },
        {
          "output_type": "stream",
          "name": "stdout",
          "text": [
            "\n"
          ]
        },
        {
          "output_type": "stream",
          "name": "stderr",
          "text": [
            "/usr/local/lib/python3.11/dist-packages/keras/src/trainers/data_adapters/py_dataset_adapter.py:121: UserWarning: Your `PyDataset` class should call `super().__init__(**kwargs)` in its constructor. `**kwargs` can include `workers`, `use_multiprocessing`, `max_queue_size`. Do not pass these arguments to `fit()`, as they will be ignored.\n",
            "  self._warn_if_super_not_called()\n"
          ]
        },
        {
          "output_type": "stream",
          "name": "stdout",
          "text": [
            "Epoch 1/10\n",
            "\u001b[1m163/163\u001b[0m \u001b[32m━━━━━━━━━━━━━━━━━━━━\u001b[0m\u001b[37m\u001b[0m \u001b[1m126s\u001b[0m 720ms/step - AUC: 0.7232 - Precision: 0.8474 - Recall: 0.6630 - accuracy: 0.6639 - loss: 0.6158 - val_AUC: 0.9274 - val_Precision: 0.8927 - val_Recall: 0.8744 - val_accuracy: 0.8558 - val_loss: 0.3777\n",
            "Epoch 2/10\n",
            "\u001b[1m163/163\u001b[0m \u001b[32m━━━━━━━━━━━━━━━━━━━━\u001b[0m\u001b[37m\u001b[0m \u001b[1m111s\u001b[0m 680ms/step - AUC: 0.9463 - Precision: 0.9624 - Recall: 0.8565 - accuracy: 0.8673 - loss: 0.3027 - val_AUC: 0.9406 - val_Precision: 0.9140 - val_Recall: 0.8718 - val_accuracy: 0.8686 - val_loss: 0.3258\n",
            "Epoch 3/10\n",
            "\u001b[1m163/163\u001b[0m \u001b[32m━━━━━━━━━━━━━━━━━━━━\u001b[0m\u001b[37m\u001b[0m \u001b[1m142s\u001b[0m 683ms/step - AUC: 0.9645 - Precision: 0.9714 - Recall: 0.8744 - accuracy: 0.8887 - loss: 0.2485 - val_AUC: 0.9496 - val_Precision: 0.9321 - val_Recall: 0.8795 - val_accuracy: 0.8846 - val_loss: 0.2958\n",
            "Epoch 4/10\n",
            "\u001b[1m163/163\u001b[0m \u001b[32m━━━━━━━━━━━━━━━━━━━━\u001b[0m\u001b[37m\u001b[0m \u001b[1m141s\u001b[0m 679ms/step - AUC: 0.9700 - Precision: 0.9754 - Recall: 0.8962 - accuracy: 0.9046 - loss: 0.2177 - val_AUC: 0.9547 - val_Precision: 0.9372 - val_Recall: 0.8795 - val_accuracy: 0.8878 - val_loss: 0.2816\n",
            "Epoch 5/10\n",
            "\u001b[1m163/163\u001b[0m \u001b[32m━━━━━━━━━━━━━━━━━━━━\u001b[0m\u001b[37m\u001b[0m \u001b[1m112s\u001b[0m 686ms/step - AUC: 0.9748 - Precision: 0.9811 - Recall: 0.9032 - accuracy: 0.9154 - loss: 0.2005 - val_AUC: 0.9588 - val_Precision: 0.9309 - val_Recall: 0.8974 - val_accuracy: 0.8942 - val_loss: 0.2625\n",
            "Epoch 6/10\n",
            "\u001b[1m163/163\u001b[0m \u001b[32m━━━━━━━━━━━━━━━━━━━━\u001b[0m\u001b[37m\u001b[0m \u001b[1m110s\u001b[0m 676ms/step - AUC: 0.9764 - Precision: 0.9778 - Recall: 0.9113 - accuracy: 0.9189 - loss: 0.1952 - val_AUC: 0.9591 - val_Precision: 0.9128 - val_Recall: 0.9128 - val_accuracy: 0.8910 - val_loss: 0.2545\n",
            "Epoch 7/10\n",
            "\u001b[1m163/163\u001b[0m \u001b[32m━━━━━━━━━━━━━━━━━━━━\u001b[0m\u001b[37m\u001b[0m \u001b[1m110s\u001b[0m 676ms/step - AUC: 0.9778 - Precision: 0.9717 - Recall: 0.9075 - accuracy: 0.9117 - loss: 0.1903 - val_AUC: 0.9611 - val_Precision: 0.9353 - val_Recall: 0.8897 - val_accuracy: 0.8926 - val_loss: 0.2566\n",
            "Epoch 8/10\n",
            "\u001b[1m163/163\u001b[0m \u001b[32m━━━━━━━━━━━━━━━━━━━━\u001b[0m\u001b[37m\u001b[0m \u001b[1m116s\u001b[0m 707ms/step - AUC: 0.9818 - Precision: 0.9812 - Recall: 0.9185 - accuracy: 0.9269 - loss: 0.1712 - val_AUC: 0.9624 - val_Precision: 0.9002 - val_Recall: 0.9256 - val_accuracy: 0.8894 - val_loss: 0.2443\n",
            "Epoch 9/10\n",
            "\u001b[1m163/163\u001b[0m \u001b[32m━━━━━━━━━━━━━━━━━━━━\u001b[0m\u001b[37m\u001b[0m \u001b[1m110s\u001b[0m 676ms/step - AUC: 0.9821 - Precision: 0.9811 - Recall: 0.9202 - accuracy: 0.9288 - loss: 0.1714 - val_AUC: 0.9636 - val_Precision: 0.9025 - val_Recall: 0.9256 - val_accuracy: 0.8910 - val_loss: 0.2396\n",
            "Epoch 10/10\n",
            "\u001b[1m163/163\u001b[0m \u001b[32m━━━━━━━━━━━━━━━━━━━━\u001b[0m\u001b[37m\u001b[0m \u001b[1m110s\u001b[0m 675ms/step - AUC: 0.9829 - Precision: 0.9813 - Recall: 0.9280 - accuracy: 0.9334 - loss: 0.1671 - val_AUC: 0.9644 - val_Precision: 0.9269 - val_Recall: 0.9103 - val_accuracy: 0.8990 - val_loss: 0.2397\n",
            "\n",
            "AUC [0.8453526496887207, 0.9490917921066284, 0.9680429100990295, 0.9712019562721252, 0.9770323634147644, 0.9786133766174316, 0.9783785343170166, 0.9817273616790771, 0.9819813370704651, 0.9834075570106506]\n",
            "Precision [0.90682452917099, 0.9624711275100708, 0.9750919938087463, 0.973971426486969, 0.9791840314865112, 0.9787175059318542, 0.9743448495864868, 0.9811010956764221, 0.9805585741996765, 0.9803493618965149]\n",
            "Recall [0.7509677410125732, 0.8603870868682861, 0.889032244682312, 0.8980644941329956, 0.9104515910148621, 0.9138064384460449, 0.911483883857727, 0.9243870973587036, 0.9241290092468262, 0.9269677400588989]\n",
            "accuracy [0.7576687335968018, 0.8713573813438416, 0.9006901979446411, 0.9064416885375977, 0.9190950989723206, 0.9212039709091187, 0.9164110422134399, 0.9305981397628784, 0.9300230145454407, 0.9319401979446411]\n",
            "loss [0.4847131371498108, 0.2948068678379059, 0.23431433737277985, 0.21676136553287506, 0.19420813024044037, 0.18615812063217163, 0.1872205138206482, 0.17159900069236755, 0.1694590151309967, 0.16461949050426483]\n",
            "val_AUC [0.9274435639381409, 0.9406256079673767, 0.9495726227760315, 0.954684317111969, 0.958760678768158, 0.959056556224823, 0.9610673189163208, 0.9624479413032532, 0.9635820388793945, 0.964425802230835]\n",
            "val_Precision [0.8926701545715332, 0.9139785170555115, 0.9320651888847351, 0.937158465385437, 0.9308510422706604, 0.9128205180168152, 0.9353099465370178, 0.9002493619918823, 0.9024999737739563, 0.9268929362297058]\n",
            "val_Recall [0.8743589520454407, 0.8717948794364929, 0.879487156867981, 0.879487156867981, 0.8974359035491943, 0.9128205180168152, 0.8897435665130615, 0.9256410002708435, 0.9256410002708435, 0.9102563858032227]\n",
            "val_accuracy [0.8557692170143127, 0.8685897588729858, 0.8846153616905212, 0.8878205418586731, 0.8942307829856873, 0.8910256624221802, 0.8926281929016113, 0.8894230723381042, 0.8910256624221802, 0.8990384340286255]\n",
            "val_loss [0.3776839077472687, 0.3257533609867096, 0.2958112955093384, 0.28155088424682617, 0.26246583461761475, 0.254515677690506, 0.2565991282463074, 0.2443130761384964, 0.23959006369113922, 0.23965901136398315]\n",
            "Wall time 1190.6162321567535\n"
          ]
        }
      ]
    },
    {
      "cell_type": "code",
      "source": [
        "cfg = 'cfg_4.2'\n",
        "add_result(cfg, model_history)\n",
        "model.save(f\"/content/drive/MyDrive/DS/chest-xray-pneumonia/MobileNetV2-{cfg}.keras\")"
      ],
      "metadata": {
        "id": "ZmmYEa038WNb"
      },
      "execution_count": null,
      "outputs": []
    },
    {
      "cell_type": "markdown",
      "source": [
        "# cfg 5.0\n",
        "* learning_rate=0.00005\n",
        "* class_weights\n",
        "* horizontal_flip=True\n",
        "* Dense(<font color=orange>256</font>, ReLU)"
      ],
      "metadata": {
        "id": "7HiAQS56wH6o"
      }
    },
    {
      "cell_type": "code",
      "source": [
        "def model_train(learning_rate, dense_value):\n",
        "    # Размер изображений и параметры\n",
        "    IMG_SIZE = (224, 224)  # MobileNetV2 лучше работает с этим размером\n",
        "    BATCH_SIZE = 32\n",
        "\n",
        "    # Аугментация\n",
        "    train_datagen = ImageDataGenerator(\n",
        "        rescale=1./255,\n",
        "        rotation_range=10,\n",
        "        width_shift_range=0.1,\n",
        "        height_shift_range=0.1,\n",
        "        zoom_range=0.1,\n",
        "        brightness_range=[0.9, 1.1],\n",
        "        horizontal_flip=True #             [!]\n",
        "    )\n",
        "\n",
        "    val_test_datagen = ImageDataGenerator(rescale=1./255)\n",
        "\n",
        "    # Генераторы\n",
        "    train_generator = train_datagen.flow_from_directory(\n",
        "        train_dir,\n",
        "        target_size=IMG_SIZE,\n",
        "        batch_size=BATCH_SIZE,\n",
        "        class_mode='binary',\n",
        "        color_mode='rgb'\n",
        "    )\n",
        "\n",
        "    val_generator = val_test_datagen.flow_from_directory(\n",
        "        val_dir,\n",
        "        target_size=IMG_SIZE,\n",
        "        batch_size=BATCH_SIZE,\n",
        "        class_mode='binary',\n",
        "        shuffle=False,\n",
        "        color_mode='rgb'\n",
        "    )\n",
        "\n",
        "    test_generator = val_test_datagen.flow_from_directory(\n",
        "        test_dir,\n",
        "        target_size=IMG_SIZE,\n",
        "        batch_size=BATCH_SIZE,\n",
        "        class_mode='binary',\n",
        "        shuffle=False,\n",
        "        color_mode='rgb'\n",
        "    )\n",
        "\n",
        "    print()\n",
        "\n",
        "    # class_weights      [!]\n",
        "\n",
        "    class_weights = compute_class_weight('balanced',\n",
        "                                         classes=np.unique(train_generator.classes),\n",
        "                                         y=train_generator.classes)\n",
        "    class_weights = dict(enumerate(class_weights))\n",
        "    print(class_weights)\n",
        "\n",
        "    print()\n",
        "\n",
        "    # Загрузка MobileNetV2 без верхушки\n",
        "    base_model = MobileNetV2(input_shape=(224, 224, 3), include_top=False, weights='imagenet')\n",
        "    base_model.trainable = False  # Фиксируем веса\n",
        "\n",
        "    # Добавляем слои классификации\n",
        "    model = Sequential([\n",
        "        base_model,\n",
        "        layers.GlobalAveragePooling2D(),\n",
        "        layers.Dense(dense_value, activation='relu'),\n",
        "        layers.Dropout(0.5),\n",
        "        layers.Dense(1, activation='sigmoid')\n",
        "    ])\n",
        "\n",
        "    # Компиляция модели\n",
        "    model.compile(\n",
        "        optimizer=Adam(learning_rate=learning_rate),\n",
        "        loss='binary_crossentropy',\n",
        "        metrics=[\n",
        "            'AUC',\n",
        "            'Recall',\n",
        "            'Precision',\n",
        "            'accuracy'\n",
        "        ]\n",
        "    )\n",
        "\n",
        "    # Отображение информации об устройстве сети:\n",
        "    model.summary()\n",
        "\n",
        "    print()\n",
        "\n",
        "    # Обучение модели\n",
        "    EPOCHS = 10\n",
        "\n",
        "    start = time.time() # Фиксация времени\n",
        "\n",
        "    history = model.fit(\n",
        "        train_generator,\n",
        "        epochs=EPOCHS,\n",
        "        validation_data=val_generator,\n",
        "        class_weight=class_weights #      [!]\n",
        "    )\n",
        "\n",
        "    end = time.time() # Фиксация времени\n",
        "\n",
        "    model_history = history.history\n",
        "    model_history['Wall time'] = end - start\n",
        "\n",
        "    print()\n",
        "\n",
        "    for k, v in model_history.items():\n",
        "        print(k, v)\n",
        "\n",
        "    return model, model_history"
      ],
      "metadata": {
        "id": "pREnc68FwH6q"
      },
      "execution_count": null,
      "outputs": []
    },
    {
      "cell_type": "code",
      "source": [
        "model, model_history = model_train(learning_rate=0.00005, dense_value=256)"
      ],
      "metadata": {
        "colab": {
          "base_uri": "https://localhost:8080/",
          "height": 1000
        },
        "outputId": "15dd93d8-eb34-4da8-e45b-54c5315327b7",
        "id": "1PR05A1kwH6r"
      },
      "execution_count": null,
      "outputs": [
        {
          "output_type": "stream",
          "name": "stdout",
          "text": [
            "Found 5216 images belonging to 2 classes.\n",
            "Found 624 images belonging to 2 classes.\n",
            "Found 16 images belonging to 2 classes.\n",
            "\n",
            "{0: np.float64(1.9448173005219984), 1: np.float64(0.6730322580645162)}\n",
            "\n"
          ]
        },
        {
          "output_type": "display_data",
          "data": {
            "text/plain": [
              "\u001b[1mModel: \"sequential_1\"\u001b[0m\n"
            ],
            "text/html": [
              "<pre style=\"white-space:pre;overflow-x:auto;line-height:normal;font-family:Menlo,'DejaVu Sans Mono',consolas,'Courier New',monospace\"><span style=\"font-weight: bold\">Model: \"sequential_1\"</span>\n",
              "</pre>\n"
            ]
          },
          "metadata": {}
        },
        {
          "output_type": "display_data",
          "data": {
            "text/plain": [
              "┏━━━━━━━━━━━━━━━━━━━━━━━━━━━━━━━━━┳━━━━━━━━━━━━━━━━━━━━━━━━┳━━━━━━━━━━━━━━━┓\n",
              "┃\u001b[1m \u001b[0m\u001b[1mLayer (type)                   \u001b[0m\u001b[1m \u001b[0m┃\u001b[1m \u001b[0m\u001b[1mOutput Shape          \u001b[0m\u001b[1m \u001b[0m┃\u001b[1m \u001b[0m\u001b[1m      Param #\u001b[0m\u001b[1m \u001b[0m┃\n",
              "┡━━━━━━━━━━━━━━━━━━━━━━━━━━━━━━━━━╇━━━━━━━━━━━━━━━━━━━━━━━━╇━━━━━━━━━━━━━━━┩\n",
              "│ mobilenetv2_1.00_224            │ (\u001b[38;5;45mNone\u001b[0m, \u001b[38;5;34m7\u001b[0m, \u001b[38;5;34m7\u001b[0m, \u001b[38;5;34m1280\u001b[0m)     │     \u001b[38;5;34m2,257,984\u001b[0m │\n",
              "│ (\u001b[38;5;33mFunctional\u001b[0m)                    │                        │               │\n",
              "├─────────────────────────────────┼────────────────────────┼───────────────┤\n",
              "│ global_average_pooling2d_1      │ (\u001b[38;5;45mNone\u001b[0m, \u001b[38;5;34m1280\u001b[0m)           │             \u001b[38;5;34m0\u001b[0m │\n",
              "│ (\u001b[38;5;33mGlobalAveragePooling2D\u001b[0m)        │                        │               │\n",
              "├─────────────────────────────────┼────────────────────────┼───────────────┤\n",
              "│ dense_2 (\u001b[38;5;33mDense\u001b[0m)                 │ (\u001b[38;5;45mNone\u001b[0m, \u001b[38;5;34m256\u001b[0m)            │       \u001b[38;5;34m327,936\u001b[0m │\n",
              "├─────────────────────────────────┼────────────────────────┼───────────────┤\n",
              "│ dropout_1 (\u001b[38;5;33mDropout\u001b[0m)             │ (\u001b[38;5;45mNone\u001b[0m, \u001b[38;5;34m256\u001b[0m)            │             \u001b[38;5;34m0\u001b[0m │\n",
              "├─────────────────────────────────┼────────────────────────┼───────────────┤\n",
              "│ dense_3 (\u001b[38;5;33mDense\u001b[0m)                 │ (\u001b[38;5;45mNone\u001b[0m, \u001b[38;5;34m1\u001b[0m)              │           \u001b[38;5;34m257\u001b[0m │\n",
              "└─────────────────────────────────┴────────────────────────┴───────────────┘\n"
            ],
            "text/html": [
              "<pre style=\"white-space:pre;overflow-x:auto;line-height:normal;font-family:Menlo,'DejaVu Sans Mono',consolas,'Courier New',monospace\">┏━━━━━━━━━━━━━━━━━━━━━━━━━━━━━━━━━┳━━━━━━━━━━━━━━━━━━━━━━━━┳━━━━━━━━━━━━━━━┓\n",
              "┃<span style=\"font-weight: bold\"> Layer (type)                    </span>┃<span style=\"font-weight: bold\"> Output Shape           </span>┃<span style=\"font-weight: bold\">       Param # </span>┃\n",
              "┡━━━━━━━━━━━━━━━━━━━━━━━━━━━━━━━━━╇━━━━━━━━━━━━━━━━━━━━━━━━╇━━━━━━━━━━━━━━━┩\n",
              "│ mobilenetv2_1.00_224            │ (<span style=\"color: #00d7ff; text-decoration-color: #00d7ff\">None</span>, <span style=\"color: #00af00; text-decoration-color: #00af00\">7</span>, <span style=\"color: #00af00; text-decoration-color: #00af00\">7</span>, <span style=\"color: #00af00; text-decoration-color: #00af00\">1280</span>)     │     <span style=\"color: #00af00; text-decoration-color: #00af00\">2,257,984</span> │\n",
              "│ (<span style=\"color: #0087ff; text-decoration-color: #0087ff\">Functional</span>)                    │                        │               │\n",
              "├─────────────────────────────────┼────────────────────────┼───────────────┤\n",
              "│ global_average_pooling2d_1      │ (<span style=\"color: #00d7ff; text-decoration-color: #00d7ff\">None</span>, <span style=\"color: #00af00; text-decoration-color: #00af00\">1280</span>)           │             <span style=\"color: #00af00; text-decoration-color: #00af00\">0</span> │\n",
              "│ (<span style=\"color: #0087ff; text-decoration-color: #0087ff\">GlobalAveragePooling2D</span>)        │                        │               │\n",
              "├─────────────────────────────────┼────────────────────────┼───────────────┤\n",
              "│ dense_2 (<span style=\"color: #0087ff; text-decoration-color: #0087ff\">Dense</span>)                 │ (<span style=\"color: #00d7ff; text-decoration-color: #00d7ff\">None</span>, <span style=\"color: #00af00; text-decoration-color: #00af00\">256</span>)            │       <span style=\"color: #00af00; text-decoration-color: #00af00\">327,936</span> │\n",
              "├─────────────────────────────────┼────────────────────────┼───────────────┤\n",
              "│ dropout_1 (<span style=\"color: #0087ff; text-decoration-color: #0087ff\">Dropout</span>)             │ (<span style=\"color: #00d7ff; text-decoration-color: #00d7ff\">None</span>, <span style=\"color: #00af00; text-decoration-color: #00af00\">256</span>)            │             <span style=\"color: #00af00; text-decoration-color: #00af00\">0</span> │\n",
              "├─────────────────────────────────┼────────────────────────┼───────────────┤\n",
              "│ dense_3 (<span style=\"color: #0087ff; text-decoration-color: #0087ff\">Dense</span>)                 │ (<span style=\"color: #00d7ff; text-decoration-color: #00d7ff\">None</span>, <span style=\"color: #00af00; text-decoration-color: #00af00\">1</span>)              │           <span style=\"color: #00af00; text-decoration-color: #00af00\">257</span> │\n",
              "└─────────────────────────────────┴────────────────────────┴───────────────┘\n",
              "</pre>\n"
            ]
          },
          "metadata": {}
        },
        {
          "output_type": "display_data",
          "data": {
            "text/plain": [
              "\u001b[1m Total params: \u001b[0m\u001b[38;5;34m2,586,177\u001b[0m (9.87 MB)\n"
            ],
            "text/html": [
              "<pre style=\"white-space:pre;overflow-x:auto;line-height:normal;font-family:Menlo,'DejaVu Sans Mono',consolas,'Courier New',monospace\"><span style=\"font-weight: bold\"> Total params: </span><span style=\"color: #00af00; text-decoration-color: #00af00\">2,586,177</span> (9.87 MB)\n",
              "</pre>\n"
            ]
          },
          "metadata": {}
        },
        {
          "output_type": "display_data",
          "data": {
            "text/plain": [
              "\u001b[1m Trainable params: \u001b[0m\u001b[38;5;34m328,193\u001b[0m (1.25 MB)\n"
            ],
            "text/html": [
              "<pre style=\"white-space:pre;overflow-x:auto;line-height:normal;font-family:Menlo,'DejaVu Sans Mono',consolas,'Courier New',monospace\"><span style=\"font-weight: bold\"> Trainable params: </span><span style=\"color: #00af00; text-decoration-color: #00af00\">328,193</span> (1.25 MB)\n",
              "</pre>\n"
            ]
          },
          "metadata": {}
        },
        {
          "output_type": "display_data",
          "data": {
            "text/plain": [
              "\u001b[1m Non-trainable params: \u001b[0m\u001b[38;5;34m2,257,984\u001b[0m (8.61 MB)\n"
            ],
            "text/html": [
              "<pre style=\"white-space:pre;overflow-x:auto;line-height:normal;font-family:Menlo,'DejaVu Sans Mono',consolas,'Courier New',monospace\"><span style=\"font-weight: bold\"> Non-trainable params: </span><span style=\"color: #00af00; text-decoration-color: #00af00\">2,257,984</span> (8.61 MB)\n",
              "</pre>\n"
            ]
          },
          "metadata": {}
        },
        {
          "output_type": "stream",
          "name": "stdout",
          "text": [
            "\n"
          ]
        },
        {
          "output_type": "stream",
          "name": "stderr",
          "text": [
            "/usr/local/lib/python3.11/dist-packages/keras/src/trainers/data_adapters/py_dataset_adapter.py:121: UserWarning: Your `PyDataset` class should call `super().__init__(**kwargs)` in its constructor. `**kwargs` can include `workers`, `use_multiprocessing`, `max_queue_size`. Do not pass these arguments to `fit()`, as they will be ignored.\n",
            "  self._warn_if_super_not_called()\n"
          ]
        },
        {
          "output_type": "stream",
          "name": "stdout",
          "text": [
            "Epoch 1/10\n",
            "\u001b[1m163/163\u001b[0m \u001b[32m━━━━━━━━━━━━━━━━━━━━\u001b[0m\u001b[37m\u001b[0m \u001b[1m139s\u001b[0m 790ms/step - AUC: 0.7717 - Precision: 0.8687 - Recall: 0.7239 - accuracy: 0.7123 - loss: 0.5632 - val_AUC: 0.9349 - val_Precision: 0.8642 - val_Recall: 0.8974 - val_accuracy: 0.8478 - val_loss: 0.3320\n",
            "Epoch 2/10\n",
            "\u001b[1m163/163\u001b[0m \u001b[32m━━━━━━━━━━━━━━━━━━━━\u001b[0m\u001b[37m\u001b[0m \u001b[1m129s\u001b[0m 731ms/step - AUC: 0.9567 - Precision: 0.9673 - Recall: 0.8796 - accuracy: 0.8870 - loss: 0.2629 - val_AUC: 0.9525 - val_Precision: 0.9206 - val_Recall: 0.8923 - val_accuracy: 0.8846 - val_loss: 0.2850\n",
            "Epoch 3/10\n",
            "\u001b[1m163/163\u001b[0m \u001b[32m━━━━━━━━━━━━━━━━━━━━\u001b[0m\u001b[37m\u001b[0m \u001b[1m117s\u001b[0m 720ms/step - AUC: 0.9775 - Precision: 0.9842 - Recall: 0.8997 - accuracy: 0.9150 - loss: 0.1926 - val_AUC: 0.9629 - val_Precision: 0.8953 - val_Recall: 0.9205 - val_accuracy: 0.8830 - val_loss: 0.2512\n",
            "Epoch 4/10\n",
            "\u001b[1m163/163\u001b[0m \u001b[32m━━━━━━━━━━━━━━━━━━━━\u001b[0m\u001b[37m\u001b[0m \u001b[1m122s\u001b[0m 748ms/step - AUC: 0.9819 - Precision: 0.9819 - Recall: 0.9153 - accuracy: 0.9241 - loss: 0.1741 - val_AUC: 0.9652 - val_Precision: 0.9158 - val_Recall: 0.9205 - val_accuracy: 0.8974 - val_loss: 0.2382\n",
            "Epoch 5/10\n",
            "\u001b[1m163/163\u001b[0m \u001b[32m━━━━━━━━━━━━━━━━━━━━\u001b[0m\u001b[37m\u001b[0m \u001b[1m117s\u001b[0m 721ms/step - AUC: 0.9821 - Precision: 0.9800 - Recall: 0.9248 - accuracy: 0.9297 - loss: 0.1693 - val_AUC: 0.9678 - val_Precision: 0.9271 - val_Recall: 0.9128 - val_accuracy: 0.9006 - val_loss: 0.2309\n",
            "Epoch 6/10\n",
            "\u001b[1m163/163\u001b[0m \u001b[32m━━━━━━━━━━━━━━━━━━━━\u001b[0m\u001b[37m\u001b[0m \u001b[1m116s\u001b[0m 713ms/step - AUC: 0.9875 - Precision: 0.9854 - Recall: 0.9349 - accuracy: 0.9411 - loss: 0.1441 - val_AUC: 0.9690 - val_Precision: 0.9118 - val_Recall: 0.9282 - val_accuracy: 0.8990 - val_loss: 0.2229\n",
            "Epoch 7/10\n",
            "\u001b[1m163/163\u001b[0m \u001b[32m━━━━━━━━━━━━━━━━━━━━\u001b[0m\u001b[37m\u001b[0m \u001b[1m118s\u001b[0m 726ms/step - AUC: 0.9864 - Precision: 0.9843 - Recall: 0.9351 - accuracy: 0.9410 - loss: 0.1468 - val_AUC: 0.9683 - val_Precision: 0.9160 - val_Recall: 0.9231 - val_accuracy: 0.8990 - val_loss: 0.2239\n",
            "Epoch 8/10\n",
            "\u001b[1m163/163\u001b[0m \u001b[32m━━━━━━━━━━━━━━━━━━━━\u001b[0m\u001b[37m\u001b[0m \u001b[1m119s\u001b[0m 728ms/step - AUC: 0.9870 - Precision: 0.9862 - Recall: 0.9311 - accuracy: 0.9391 - loss: 0.1431 - val_AUC: 0.9691 - val_Precision: 0.9323 - val_Recall: 0.9179 - val_accuracy: 0.9071 - val_loss: 0.2218\n",
            "Epoch 9/10\n",
            "\u001b[1m163/163\u001b[0m \u001b[32m━━━━━━━━━━━━━━━━━━━━\u001b[0m\u001b[37m\u001b[0m \u001b[1m118s\u001b[0m 722ms/step - AUC: 0.9870 - Precision: 0.9858 - Recall: 0.9375 - accuracy: 0.9428 - loss: 0.1411 - val_AUC: 0.9691 - val_Precision: 0.9194 - val_Recall: 0.9359 - val_accuracy: 0.9087 - val_loss: 0.2206\n",
            "Epoch 10/10\n",
            "\u001b[1m163/163\u001b[0m \u001b[32m━━━━━━━━━━━━━━━━━━━━\u001b[0m\u001b[37m\u001b[0m \u001b[1m117s\u001b[0m 716ms/step - AUC: 0.9858 - Precision: 0.9855 - Recall: 0.9356 - accuracy: 0.9421 - loss: 0.1467 - val_AUC: 0.9698 - val_Precision: 0.9190 - val_Recall: 0.9308 - val_accuracy: 0.9054 - val_loss: 0.2169\n",
            "\n",
            "AUC [0.8832172751426697, 0.9617140889167786, 0.9748553037643433, 0.9809129238128662, 0.9812590479850769, 0.9847562313079834, 0.98579341173172, 0.9867402911186218, 0.9878008365631104, 0.9872952103614807]\n",
            "Precision [0.9165924787521362, 0.9686174988746643, 0.9790151119232178, 0.9800498485565186, 0.9807162284851074, 0.9819721579551697, 0.9820554852485657, 0.9858272075653076, 0.9853618741035461, 0.9845528602600098]\n",
            "Recall [0.7969032526016235, 0.8841290473937988, 0.9029677510261536, 0.9127742052078247, 0.9187096953392029, 0.9277419447898865, 0.9321290254592896, 0.9334193468093872, 0.9380645155906677, 0.9375483989715576]\n",
            "accuracy [0.7952454090118408, 0.8926380276679993, 0.9135352969169617, 0.9213957190513611, 0.9261886477470398, 0.9336656332015991, 0.9369248747825623, 0.9405674934387207, 0.9436349868774414, 0.9426763653755188]\n",
            "loss [0.42715710401535034, 0.2516668140888214, 0.2010652720928192, 0.1775105893611908, 0.1723647266626358, 0.15686899423599243, 0.15002144873142242, 0.1438281387090683, 0.1378503292798996, 0.14158138632774353]\n",
            "val_AUC [0.9348783493041992, 0.9525038599967957, 0.9629080891609192, 0.965247631072998, 0.9677952527999878, 0.9690279960632324, 0.9682939648628235, 0.9691376090049744, 0.9690828323364258, 0.9697785973548889]\n",
            "val_Precision [0.8641975522041321, 0.920634925365448, 0.895261824131012, 0.9158163070678711, 0.9270833134651184, 0.9118387699127197, 0.9160305261611938, 0.9322916865348816, 0.9193954467773438, 0.9189873337745667]\n",
            "val_Recall [0.8974359035491943, 0.892307698726654, 0.9205127954483032, 0.9205127954483032, 0.9128205180168152, 0.928205132484436, 0.9230769276618958, 0.9179487228393555, 0.9358974099159241, 0.9307692050933838]\n",
            "val_accuracy [0.8477563858032227, 0.8846153616905212, 0.8830128312110901, 0.8974359035491943, 0.9006410241127014, 0.8990384340286255, 0.8990384340286255, 0.9070512652397156, 0.9086538553237915, 0.9054487347602844]\n",
            "val_loss [0.3319864571094513, 0.2849649488925934, 0.25122785568237305, 0.23816439509391785, 0.23091915249824524, 0.22293491661548615, 0.2239040732383728, 0.22178006172180176, 0.22062645852565765, 0.21685534715652466]\n",
            "Wall time 1237.9434571266174\n"
          ]
        }
      ]
    },
    {
      "cell_type": "code",
      "source": [
        "cfg = 'cfg_5.0'\n",
        "add_result(cfg, model_history)\n",
        "model.save(f\"/content/drive/MyDrive/DS/chest-xray-pneumonia/MobileNetV2-{cfg}.keras\")"
      ],
      "metadata": {
        "id": "7XH279MqwH6s"
      },
      "execution_count": null,
      "outputs": []
    },
    {
      "cell_type": "markdown",
      "source": [
        "## cfg 5.1\n",
        "* learning_rate=0.00005\n",
        "* class_weights\n",
        "* horizontal_flip=True\n",
        "* Dense(<font color=orange><font color=orange>64</font></font>, ReLU)"
      ],
      "metadata": {
        "id": "6mqkBTVRwIbb"
      }
    },
    {
      "cell_type": "code",
      "source": [
        "def model_train(learning_rate, dense_value):\n",
        "    # Размер изображений и параметры\n",
        "    IMG_SIZE = (224, 224)  # MobileNetV2 лучше работает с этим размером\n",
        "    BATCH_SIZE = 32\n",
        "\n",
        "    # Аугментация\n",
        "    train_datagen = ImageDataGenerator(\n",
        "        rescale=1./255,\n",
        "        rotation_range=10,\n",
        "        width_shift_range=0.1,\n",
        "        height_shift_range=0.1,\n",
        "        zoom_range=0.1,\n",
        "        brightness_range=[0.9, 1.1],\n",
        "        horizontal_flip=True #             [!]\n",
        "    )\n",
        "\n",
        "    val_test_datagen = ImageDataGenerator(rescale=1./255)\n",
        "\n",
        "    # Генераторы\n",
        "    train_generator = train_datagen.flow_from_directory(\n",
        "        train_dir,\n",
        "        target_size=IMG_SIZE,\n",
        "        batch_size=BATCH_SIZE,\n",
        "        class_mode='binary',\n",
        "        color_mode='rgb'\n",
        "    )\n",
        "\n",
        "    val_generator = val_test_datagen.flow_from_directory(\n",
        "        val_dir,\n",
        "        target_size=IMG_SIZE,\n",
        "        batch_size=BATCH_SIZE,\n",
        "        class_mode='binary',\n",
        "        shuffle=False,\n",
        "        color_mode='rgb'\n",
        "    )\n",
        "\n",
        "    test_generator = val_test_datagen.flow_from_directory(\n",
        "        test_dir,\n",
        "        target_size=IMG_SIZE,\n",
        "        batch_size=BATCH_SIZE,\n",
        "        class_mode='binary',\n",
        "        shuffle=False,\n",
        "        color_mode='rgb'\n",
        "    )\n",
        "\n",
        "    print()\n",
        "\n",
        "    # class_weights      [!]\n",
        "    class_weights = compute_class_weight('balanced',\n",
        "                                         classes=np.unique(train_generator.classes),\n",
        "                                         y=train_generator.classes)\n",
        "    class_weights = dict(enumerate(class_weights))\n",
        "    print(class_weights)\n",
        "\n",
        "    print()\n",
        "\n",
        "    # Загрузка MobileNetV2 без верхушки\n",
        "    base_model = MobileNetV2(input_shape=(224, 224, 3), include_top=False, weights='imagenet')\n",
        "    base_model.trainable = False  # Фиксируем веса\n",
        "\n",
        "    # Добавляем слои классификации\n",
        "    model = Sequential([\n",
        "        base_model,\n",
        "        layers.GlobalAveragePooling2D(),\n",
        "        layers.Dense(dense_value, activation='relu'),\n",
        "        layers.Dropout(0.5),\n",
        "        layers.Dense(1, activation='sigmoid')\n",
        "    ])\n",
        "\n",
        "    # Компиляция модели\n",
        "    model.compile(\n",
        "        optimizer=Adam(learning_rate=learning_rate),\n",
        "        loss='binary_crossentropy',\n",
        "        metrics=[\n",
        "            'AUC',\n",
        "            'Recall',\n",
        "            'Precision',\n",
        "            'accuracy'\n",
        "        ]\n",
        "    )\n",
        "\n",
        "    # Отображение информации об устройстве сети:\n",
        "    model.summary()\n",
        "\n",
        "    print()\n",
        "\n",
        "    # Обучение модели\n",
        "    EPOCHS = 10\n",
        "\n",
        "    start = time.time() # Фиксация времени\n",
        "\n",
        "    history = model.fit(\n",
        "        train_generator,\n",
        "        epochs=EPOCHS,\n",
        "        validation_data=val_generator,\n",
        "        class_weight=class_weights #      [!]\n",
        "    )\n",
        "\n",
        "    end = time.time() # Фиксация времени\n",
        "\n",
        "    model_history = history.history\n",
        "    model_history['Wall time'] = end - start\n",
        "\n",
        "    print()\n",
        "\n",
        "    for k, v in model_history.items():\n",
        "        print(k, v)\n",
        "\n",
        "    return model, model_history"
      ],
      "metadata": {
        "id": "VhVcK77ywIbb"
      },
      "execution_count": null,
      "outputs": []
    },
    {
      "cell_type": "code",
      "source": [
        "model, model_history = model_train(learning_rate=0.00005, dense_value=64)"
      ],
      "metadata": {
        "colab": {
          "base_uri": "https://localhost:8080/",
          "height": 1000
        },
        "outputId": "4e93300f-bb30-4117-ef96-8779331bfd84",
        "id": "VrV6Dm9iwIbc"
      },
      "execution_count": null,
      "outputs": [
        {
          "output_type": "stream",
          "name": "stdout",
          "text": [
            "Found 5216 images belonging to 2 classes.\n",
            "Found 624 images belonging to 2 classes.\n",
            "Found 16 images belonging to 2 classes.\n",
            "\n",
            "{0: np.float64(1.9448173005219984), 1: np.float64(0.6730322580645162)}\n",
            "\n"
          ]
        },
        {
          "output_type": "display_data",
          "data": {
            "text/plain": [
              "\u001b[1mModel: \"sequential_2\"\u001b[0m\n"
            ],
            "text/html": [
              "<pre style=\"white-space:pre;overflow-x:auto;line-height:normal;font-family:Menlo,'DejaVu Sans Mono',consolas,'Courier New',monospace\"><span style=\"font-weight: bold\">Model: \"sequential_2\"</span>\n",
              "</pre>\n"
            ]
          },
          "metadata": {}
        },
        {
          "output_type": "display_data",
          "data": {
            "text/plain": [
              "┏━━━━━━━━━━━━━━━━━━━━━━━━━━━━━━━━━┳━━━━━━━━━━━━━━━━━━━━━━━━┳━━━━━━━━━━━━━━━┓\n",
              "┃\u001b[1m \u001b[0m\u001b[1mLayer (type)                   \u001b[0m\u001b[1m \u001b[0m┃\u001b[1m \u001b[0m\u001b[1mOutput Shape          \u001b[0m\u001b[1m \u001b[0m┃\u001b[1m \u001b[0m\u001b[1m      Param #\u001b[0m\u001b[1m \u001b[0m┃\n",
              "┡━━━━━━━━━━━━━━━━━━━━━━━━━━━━━━━━━╇━━━━━━━━━━━━━━━━━━━━━━━━╇━━━━━━━━━━━━━━━┩\n",
              "│ mobilenetv2_1.00_224            │ (\u001b[38;5;45mNone\u001b[0m, \u001b[38;5;34m7\u001b[0m, \u001b[38;5;34m7\u001b[0m, \u001b[38;5;34m1280\u001b[0m)     │     \u001b[38;5;34m2,257,984\u001b[0m │\n",
              "│ (\u001b[38;5;33mFunctional\u001b[0m)                    │                        │               │\n",
              "├─────────────────────────────────┼────────────────────────┼───────────────┤\n",
              "│ global_average_pooling2d_2      │ (\u001b[38;5;45mNone\u001b[0m, \u001b[38;5;34m1280\u001b[0m)           │             \u001b[38;5;34m0\u001b[0m │\n",
              "│ (\u001b[38;5;33mGlobalAveragePooling2D\u001b[0m)        │                        │               │\n",
              "├─────────────────────────────────┼────────────────────────┼───────────────┤\n",
              "│ dense_4 (\u001b[38;5;33mDense\u001b[0m)                 │ (\u001b[38;5;45mNone\u001b[0m, \u001b[38;5;34m64\u001b[0m)             │        \u001b[38;5;34m81,984\u001b[0m │\n",
              "├─────────────────────────────────┼────────────────────────┼───────────────┤\n",
              "│ dropout_2 (\u001b[38;5;33mDropout\u001b[0m)             │ (\u001b[38;5;45mNone\u001b[0m, \u001b[38;5;34m64\u001b[0m)             │             \u001b[38;5;34m0\u001b[0m │\n",
              "├─────────────────────────────────┼────────────────────────┼───────────────┤\n",
              "│ dense_5 (\u001b[38;5;33mDense\u001b[0m)                 │ (\u001b[38;5;45mNone\u001b[0m, \u001b[38;5;34m1\u001b[0m)              │            \u001b[38;5;34m65\u001b[0m │\n",
              "└─────────────────────────────────┴────────────────────────┴───────────────┘\n"
            ],
            "text/html": [
              "<pre style=\"white-space:pre;overflow-x:auto;line-height:normal;font-family:Menlo,'DejaVu Sans Mono',consolas,'Courier New',monospace\">┏━━━━━━━━━━━━━━━━━━━━━━━━━━━━━━━━━┳━━━━━━━━━━━━━━━━━━━━━━━━┳━━━━━━━━━━━━━━━┓\n",
              "┃<span style=\"font-weight: bold\"> Layer (type)                    </span>┃<span style=\"font-weight: bold\"> Output Shape           </span>┃<span style=\"font-weight: bold\">       Param # </span>┃\n",
              "┡━━━━━━━━━━━━━━━━━━━━━━━━━━━━━━━━━╇━━━━━━━━━━━━━━━━━━━━━━━━╇━━━━━━━━━━━━━━━┩\n",
              "│ mobilenetv2_1.00_224            │ (<span style=\"color: #00d7ff; text-decoration-color: #00d7ff\">None</span>, <span style=\"color: #00af00; text-decoration-color: #00af00\">7</span>, <span style=\"color: #00af00; text-decoration-color: #00af00\">7</span>, <span style=\"color: #00af00; text-decoration-color: #00af00\">1280</span>)     │     <span style=\"color: #00af00; text-decoration-color: #00af00\">2,257,984</span> │\n",
              "│ (<span style=\"color: #0087ff; text-decoration-color: #0087ff\">Functional</span>)                    │                        │               │\n",
              "├─────────────────────────────────┼────────────────────────┼───────────────┤\n",
              "│ global_average_pooling2d_2      │ (<span style=\"color: #00d7ff; text-decoration-color: #00d7ff\">None</span>, <span style=\"color: #00af00; text-decoration-color: #00af00\">1280</span>)           │             <span style=\"color: #00af00; text-decoration-color: #00af00\">0</span> │\n",
              "│ (<span style=\"color: #0087ff; text-decoration-color: #0087ff\">GlobalAveragePooling2D</span>)        │                        │               │\n",
              "├─────────────────────────────────┼────────────────────────┼───────────────┤\n",
              "│ dense_4 (<span style=\"color: #0087ff; text-decoration-color: #0087ff\">Dense</span>)                 │ (<span style=\"color: #00d7ff; text-decoration-color: #00d7ff\">None</span>, <span style=\"color: #00af00; text-decoration-color: #00af00\">64</span>)             │        <span style=\"color: #00af00; text-decoration-color: #00af00\">81,984</span> │\n",
              "├─────────────────────────────────┼────────────────────────┼───────────────┤\n",
              "│ dropout_2 (<span style=\"color: #0087ff; text-decoration-color: #0087ff\">Dropout</span>)             │ (<span style=\"color: #00d7ff; text-decoration-color: #00d7ff\">None</span>, <span style=\"color: #00af00; text-decoration-color: #00af00\">64</span>)             │             <span style=\"color: #00af00; text-decoration-color: #00af00\">0</span> │\n",
              "├─────────────────────────────────┼────────────────────────┼───────────────┤\n",
              "│ dense_5 (<span style=\"color: #0087ff; text-decoration-color: #0087ff\">Dense</span>)                 │ (<span style=\"color: #00d7ff; text-decoration-color: #00d7ff\">None</span>, <span style=\"color: #00af00; text-decoration-color: #00af00\">1</span>)              │            <span style=\"color: #00af00; text-decoration-color: #00af00\">65</span> │\n",
              "└─────────────────────────────────┴────────────────────────┴───────────────┘\n",
              "</pre>\n"
            ]
          },
          "metadata": {}
        },
        {
          "output_type": "display_data",
          "data": {
            "text/plain": [
              "\u001b[1m Total params: \u001b[0m\u001b[38;5;34m2,340,033\u001b[0m (8.93 MB)\n"
            ],
            "text/html": [
              "<pre style=\"white-space:pre;overflow-x:auto;line-height:normal;font-family:Menlo,'DejaVu Sans Mono',consolas,'Courier New',monospace\"><span style=\"font-weight: bold\"> Total params: </span><span style=\"color: #00af00; text-decoration-color: #00af00\">2,340,033</span> (8.93 MB)\n",
              "</pre>\n"
            ]
          },
          "metadata": {}
        },
        {
          "output_type": "display_data",
          "data": {
            "text/plain": [
              "\u001b[1m Trainable params: \u001b[0m\u001b[38;5;34m82,049\u001b[0m (320.50 KB)\n"
            ],
            "text/html": [
              "<pre style=\"white-space:pre;overflow-x:auto;line-height:normal;font-family:Menlo,'DejaVu Sans Mono',consolas,'Courier New',monospace\"><span style=\"font-weight: bold\"> Trainable params: </span><span style=\"color: #00af00; text-decoration-color: #00af00\">82,049</span> (320.50 KB)\n",
              "</pre>\n"
            ]
          },
          "metadata": {}
        },
        {
          "output_type": "display_data",
          "data": {
            "text/plain": [
              "\u001b[1m Non-trainable params: \u001b[0m\u001b[38;5;34m2,257,984\u001b[0m (8.61 MB)\n"
            ],
            "text/html": [
              "<pre style=\"white-space:pre;overflow-x:auto;line-height:normal;font-family:Menlo,'DejaVu Sans Mono',consolas,'Courier New',monospace\"><span style=\"font-weight: bold\"> Non-trainable params: </span><span style=\"color: #00af00; text-decoration-color: #00af00\">2,257,984</span> (8.61 MB)\n",
              "</pre>\n"
            ]
          },
          "metadata": {}
        },
        {
          "output_type": "stream",
          "name": "stdout",
          "text": [
            "\n"
          ]
        },
        {
          "output_type": "stream",
          "name": "stderr",
          "text": [
            "/usr/local/lib/python3.11/dist-packages/keras/src/trainers/data_adapters/py_dataset_adapter.py:121: UserWarning: Your `PyDataset` class should call `super().__init__(**kwargs)` in its constructor. `**kwargs` can include `workers`, `use_multiprocessing`, `max_queue_size`. Do not pass these arguments to `fit()`, as they will be ignored.\n",
            "  self._warn_if_super_not_called()\n"
          ]
        },
        {
          "output_type": "stream",
          "name": "stdout",
          "text": [
            "Epoch 1/10\n",
            "\u001b[1m163/163\u001b[0m \u001b[32m━━━━━━━━━━━━━━━━━━━━\u001b[0m\u001b[37m\u001b[0m \u001b[1m135s\u001b[0m 766ms/step - AUC: 0.6302 - Precision: 0.8052 - Recall: 0.7113 - accuracy: 0.6538 - loss: 0.7025 - val_AUC: 0.9236 - val_Precision: 0.8642 - val_Recall: 0.8974 - val_accuracy: 0.8478 - val_loss: 0.4372\n",
            "Epoch 2/10\n",
            "\u001b[1m163/163\u001b[0m \u001b[32m━━━━━━━━━━━━━━━━━━━━\u001b[0m\u001b[37m\u001b[0m \u001b[1m118s\u001b[0m 727ms/step - AUC: 0.9338 - Precision: 0.9472 - Recall: 0.8591 - accuracy: 0.8586 - loss: 0.3712 - val_AUC: 0.9461 - val_Precision: 0.8834 - val_Recall: 0.9128 - val_accuracy: 0.8702 - val_loss: 0.3370\n",
            "Epoch 3/10\n",
            "\u001b[1m163/163\u001b[0m \u001b[32m━━━━━━━━━━━━━━━━━━━━\u001b[0m\u001b[37m\u001b[0m \u001b[1m117s\u001b[0m 713ms/step - AUC: 0.9539 - Precision: 0.9660 - Recall: 0.8677 - accuracy: 0.8795 - loss: 0.2933 - val_AUC: 0.9530 - val_Precision: 0.8826 - val_Recall: 0.9256 - val_accuracy: 0.8766 - val_loss: 0.2965\n",
            "Epoch 4/10\n",
            "\u001b[1m163/163\u001b[0m \u001b[32m━━━━━━━━━━━━━━━━━━━━\u001b[0m\u001b[37m\u001b[0m \u001b[1m117s\u001b[0m 719ms/step - AUC: 0.9654 - Precision: 0.9725 - Recall: 0.8875 - accuracy: 0.8977 - loss: 0.2475 - val_AUC: 0.9565 - val_Precision: 0.8922 - val_Recall: 0.9128 - val_accuracy: 0.8766 - val_loss: 0.2752\n",
            "Epoch 5/10\n",
            "\u001b[1m163/163\u001b[0m \u001b[32m━━━━━━━━━━━━━━━━━━━━\u001b[0m\u001b[37m\u001b[0m \u001b[1m117s\u001b[0m 718ms/step - AUC: 0.9737 - Precision: 0.9765 - Recall: 0.9027 - accuracy: 0.9118 - loss: 0.2140 - val_AUC: 0.9598 - val_Precision: 0.8983 - val_Recall: 0.9282 - val_accuracy: 0.8894 - val_loss: 0.2623\n",
            "Epoch 6/10\n",
            "\u001b[1m163/163\u001b[0m \u001b[32m━━━━━━━━━━━━━━━━━━━━\u001b[0m\u001b[37m\u001b[0m \u001b[1m116s\u001b[0m 712ms/step - AUC: 0.9779 - Precision: 0.9788 - Recall: 0.9090 - accuracy: 0.9169 - loss: 0.1962 - val_AUC: 0.9628 - val_Precision: 0.9068 - val_Recall: 0.9231 - val_accuracy: 0.8926 - val_loss: 0.2496\n",
            "Epoch 7/10\n",
            "\u001b[1m163/163\u001b[0m \u001b[32m━━━━━━━━━━━━━━━━━━━━\u001b[0m\u001b[37m\u001b[0m \u001b[1m117s\u001b[0m 718ms/step - AUC: 0.9804 - Precision: 0.9823 - Recall: 0.9148 - accuracy: 0.9238 - loss: 0.1812 - val_AUC: 0.9648 - val_Precision: 0.9095 - val_Recall: 0.9282 - val_accuracy: 0.8974 - val_loss: 0.2408\n",
            "Epoch 8/10\n",
            "\u001b[1m163/163\u001b[0m \u001b[32m━━━━━━━━━━━━━━━━━━━━\u001b[0m\u001b[37m\u001b[0m \u001b[1m117s\u001b[0m 716ms/step - AUC: 0.9787 - Precision: 0.9825 - Recall: 0.9170 - accuracy: 0.9261 - loss: 0.1854 - val_AUC: 0.9665 - val_Precision: 0.9082 - val_Recall: 0.9385 - val_accuracy: 0.9022 - val_loss: 0.2355\n",
            "Epoch 9/10\n",
            "\u001b[1m163/163\u001b[0m \u001b[32m━━━━━━━━━━━━━━━━━━━━\u001b[0m\u001b[37m\u001b[0m \u001b[1m116s\u001b[0m 711ms/step - AUC: 0.9811 - Precision: 0.9834 - Recall: 0.9129 - accuracy: 0.9239 - loss: 0.1771 - val_AUC: 0.9674 - val_Precision: 0.9100 - val_Recall: 0.9333 - val_accuracy: 0.9006 - val_loss: 0.2307\n",
            "Epoch 10/10\n",
            "\u001b[1m163/163\u001b[0m \u001b[32m━━━━━━━━━━━━━━━━━━━━\u001b[0m\u001b[37m\u001b[0m \u001b[1m117s\u001b[0m 720ms/step - AUC: 0.9813 - Precision: 0.9815 - Recall: 0.9332 - accuracy: 0.9378 - loss: 0.1745 - val_AUC: 0.9686 - val_Precision: 0.9148 - val_Recall: 0.9359 - val_accuracy: 0.9054 - val_loss: 0.2261\n",
            "\n",
            "AUC [0.7679839134216309, 0.9437363147735596, 0.9617665410041809, 0.9683476090431213, 0.9736970067024231, 0.9759055972099304, 0.97959965467453, 0.9794749617576599, 0.9819256663322449, 0.9828033447265625]\n",
            "Precision [0.8615615367889404, 0.9582734107971191, 0.9681999087333679, 0.9731789827346802, 0.9749303460121155, 0.9785634875297546, 0.9795184135437012, 0.9812517166137695, 0.9837241172790527, 0.9817039966583252]\n",
            "Recall [0.7403870820999146, 0.8593548536300659, 0.8799999952316284, 0.8895483613014221, 0.9032257795333862, 0.907096803188324, 0.9132903218269348, 0.9184516072273254, 0.9202580451965332, 0.9277419447898865]\n",
            "accuracy [0.71875, 0.8677147030830383, 0.8893788456916809, 0.8997315764427185, 0.910851240158081, 0.9162193536758423, 0.9213957190513611, 0.9263803958892822, 0.9294478297233582, 0.9334739446640015]\n",
            "loss [0.5806607007980347, 0.3444434404373169, 0.2717353403568268, 0.23796312510967255, 0.2150184065103531, 0.20153599977493286, 0.18455354869365692, 0.18242689967155457, 0.17348352074623108, 0.16756571829319]\n",
            "val_AUC [0.9236193299293518, 0.9461100101470947, 0.9530187845230103, 0.9564595222473145, 0.9598016142845154, 0.9627766609191895, 0.9648476839065552, 0.9665131568908691, 0.9674007892608643, 0.9685623049736023]\n",
            "val_Precision [0.8641975522041321, 0.8833746910095215, 0.8826406002044678, 0.8922305703163147, 0.8982630372047424, 0.9068009853363037, 0.909547746181488, 0.9081885814666748, 0.9100000262260437, 0.9147869944572449]\n",
            "val_Recall [0.8974359035491943, 0.9128205180168152, 0.9256410002708435, 0.9128205180168152, 0.928205132484436, 0.9230769276618958, 0.928205132484436, 0.9384615421295166, 0.9333333373069763, 0.9358974099159241]\n",
            "val_accuracy [0.8477563858032227, 0.870192289352417, 0.8766025900840759, 0.8766025900840759, 0.8894230723381042, 0.8926281929016113, 0.8974359035491943, 0.9022436141967773, 0.9006410241127014, 0.9054487347602844]\n",
            "val_loss [0.4371678829193115, 0.33698204159736633, 0.2965354919433594, 0.27519023418426514, 0.262281209230423, 0.2496189922094345, 0.24076774716377258, 0.23545752465724945, 0.23070213198661804, 0.2260780781507492]\n",
            "Wall time 1188.7137851715088\n"
          ]
        }
      ]
    },
    {
      "cell_type": "code",
      "source": [
        "cfg = 'cfg_5.1'\n",
        "add_result(cfg, model_history)\n",
        "model.save(f\"/content/drive/MyDrive/DS/chest-xray-pneumonia/MobileNetV2-{cfg}.keras\")"
      ],
      "metadata": {
        "id": "bPrtbB27wIbc"
      },
      "execution_count": null,
      "outputs": []
    },
    {
      "cell_type": "markdown",
      "source": [
        "# cfg 6.0\n",
        "* learning_rate=<font color=orange>0.00001</font>\n",
        "* class_weights\n",
        "* horizontal_flip=True\n",
        "* Dense(256, ReLU)"
      ],
      "metadata": {
        "id": "Ou2AgMz47Pm4"
      }
    },
    {
      "cell_type": "code",
      "source": [
        "def model_train(learning_rate, dense_value):\n",
        "    # Размер изображений и параметры\n",
        "    IMG_SIZE = (224, 224)  # MobileNetV2 лучше работает с этим размером\n",
        "    BATCH_SIZE = 32\n",
        "\n",
        "    # Аугментация\n",
        "    train_datagen = ImageDataGenerator(\n",
        "        rescale=1./255,\n",
        "        rotation_range=10,\n",
        "        width_shift_range=0.1,\n",
        "        height_shift_range=0.1,\n",
        "        zoom_range=0.1,\n",
        "        brightness_range=[0.9, 1.1],\n",
        "        horizontal_flip=True #             [!]\n",
        "    )\n",
        "\n",
        "    val_test_datagen = ImageDataGenerator(rescale=1./255)\n",
        "\n",
        "    # Генераторы\n",
        "    train_generator = train_datagen.flow_from_directory(\n",
        "        train_dir,\n",
        "        target_size=IMG_SIZE,\n",
        "        batch_size=BATCH_SIZE,\n",
        "        class_mode='binary',\n",
        "        color_mode='rgb'\n",
        "    )\n",
        "\n",
        "    val_generator = val_test_datagen.flow_from_directory(\n",
        "        val_dir,\n",
        "        target_size=IMG_SIZE,\n",
        "        batch_size=BATCH_SIZE,\n",
        "        class_mode='binary',\n",
        "        shuffle=False,\n",
        "        color_mode='rgb'\n",
        "    )\n",
        "\n",
        "    test_generator = val_test_datagen.flow_from_directory(\n",
        "        test_dir,\n",
        "        target_size=IMG_SIZE,\n",
        "        batch_size=BATCH_SIZE,\n",
        "        class_mode='binary',\n",
        "        shuffle=False,\n",
        "        color_mode='rgb'\n",
        "    )\n",
        "\n",
        "    print()\n",
        "\n",
        "    # class_weights      [!]\n",
        "    class_weights = compute_class_weight('balanced',\n",
        "                                         classes=np.unique(train_generator.classes),\n",
        "                                         y=train_generator.classes)\n",
        "    class_weights = dict(enumerate(class_weights))\n",
        "    print(class_weights)\n",
        "\n",
        "    print()\n",
        "\n",
        "    # Загрузка MobileNetV2 без верхушки\n",
        "    base_model = MobileNetV2(input_shape=(224, 224, 3), include_top=False, weights='imagenet')\n",
        "    base_model.trainable = False  # Фиксируем веса\n",
        "\n",
        "    # Добавляем слои классификации\n",
        "    model = Sequential([\n",
        "        base_model,\n",
        "        layers.GlobalAveragePooling2D(),\n",
        "        layers.Dense(dense_value, activation='relu'),\n",
        "        layers.Dropout(0.5),\n",
        "        layers.Dense(1, activation='sigmoid')\n",
        "    ])\n",
        "\n",
        "    # Компиляция модели\n",
        "    model.compile(\n",
        "        optimizer=Adam(learning_rate=learning_rate),\n",
        "        loss='binary_crossentropy',\n",
        "        metrics=[\n",
        "            'AUC',\n",
        "            'Recall',\n",
        "            'Precision',\n",
        "            'accuracy'\n",
        "        ]\n",
        "    )\n",
        "\n",
        "    # Отображение информации об устройстве сети:\n",
        "    model.summary()\n",
        "\n",
        "    print()\n",
        "\n",
        "    # Обучение модели\n",
        "    EPOCHS = 10\n",
        "\n",
        "    start = time.time() # Фиксация времени\n",
        "\n",
        "    history = model.fit(\n",
        "        train_generator,\n",
        "        epochs=EPOCHS,\n",
        "        validation_data=val_generator,\n",
        "        class_weight=class_weights #      [!]\n",
        "    )\n",
        "\n",
        "    end = time.time() # Фиксация времени\n",
        "\n",
        "    model_history = history.history\n",
        "    model_history['Wall time'] = end - start\n",
        "\n",
        "    print()\n",
        "\n",
        "    for k, v in model_history.items():\n",
        "        print(k, v)\n",
        "\n",
        "    return model, model_history"
      ],
      "metadata": {
        "id": "7VBUJaOI7Pm4"
      },
      "execution_count": null,
      "outputs": []
    },
    {
      "cell_type": "code",
      "source": [
        "model, model_history = model_train(learning_rate=0.00001, dense_value=256)"
      ],
      "metadata": {
        "colab": {
          "base_uri": "https://localhost:8080/",
          "height": 1000
        },
        "outputId": "7b6f8c9a-a659-49d0-cef9-d2165b488580",
        "id": "4esaqp3B7Pm5"
      },
      "execution_count": null,
      "outputs": [
        {
          "output_type": "stream",
          "name": "stdout",
          "text": [
            "Found 5216 images belonging to 2 classes.\n",
            "Found 624 images belonging to 2 classes.\n",
            "Found 16 images belonging to 2 classes.\n",
            "\n",
            "{0: np.float64(1.9448173005219984), 1: np.float64(0.6730322580645162)}\n",
            "\n"
          ]
        },
        {
          "output_type": "display_data",
          "data": {
            "text/plain": [
              "\u001b[1mModel: \"sequential_3\"\u001b[0m\n"
            ],
            "text/html": [
              "<pre style=\"white-space:pre;overflow-x:auto;line-height:normal;font-family:Menlo,'DejaVu Sans Mono',consolas,'Courier New',monospace\"><span style=\"font-weight: bold\">Model: \"sequential_3\"</span>\n",
              "</pre>\n"
            ]
          },
          "metadata": {}
        },
        {
          "output_type": "display_data",
          "data": {
            "text/plain": [
              "┏━━━━━━━━━━━━━━━━━━━━━━━━━━━━━━━━━┳━━━━━━━━━━━━━━━━━━━━━━━━┳━━━━━━━━━━━━━━━┓\n",
              "┃\u001b[1m \u001b[0m\u001b[1mLayer (type)                   \u001b[0m\u001b[1m \u001b[0m┃\u001b[1m \u001b[0m\u001b[1mOutput Shape          \u001b[0m\u001b[1m \u001b[0m┃\u001b[1m \u001b[0m\u001b[1m      Param #\u001b[0m\u001b[1m \u001b[0m┃\n",
              "┡━━━━━━━━━━━━━━━━━━━━━━━━━━━━━━━━━╇━━━━━━━━━━━━━━━━━━━━━━━━╇━━━━━━━━━━━━━━━┩\n",
              "│ mobilenetv2_1.00_224            │ (\u001b[38;5;45mNone\u001b[0m, \u001b[38;5;34m7\u001b[0m, \u001b[38;5;34m7\u001b[0m, \u001b[38;5;34m1280\u001b[0m)     │     \u001b[38;5;34m2,257,984\u001b[0m │\n",
              "│ (\u001b[38;5;33mFunctional\u001b[0m)                    │                        │               │\n",
              "├─────────────────────────────────┼────────────────────────┼───────────────┤\n",
              "│ global_average_pooling2d_3      │ (\u001b[38;5;45mNone\u001b[0m, \u001b[38;5;34m1280\u001b[0m)           │             \u001b[38;5;34m0\u001b[0m │\n",
              "│ (\u001b[38;5;33mGlobalAveragePooling2D\u001b[0m)        │                        │               │\n",
              "├─────────────────────────────────┼────────────────────────┼───────────────┤\n",
              "│ dense_6 (\u001b[38;5;33mDense\u001b[0m)                 │ (\u001b[38;5;45mNone\u001b[0m, \u001b[38;5;34m256\u001b[0m)            │       \u001b[38;5;34m327,936\u001b[0m │\n",
              "├─────────────────────────────────┼────────────────────────┼───────────────┤\n",
              "│ dropout_3 (\u001b[38;5;33mDropout\u001b[0m)             │ (\u001b[38;5;45mNone\u001b[0m, \u001b[38;5;34m256\u001b[0m)            │             \u001b[38;5;34m0\u001b[0m │\n",
              "├─────────────────────────────────┼────────────────────────┼───────────────┤\n",
              "│ dense_7 (\u001b[38;5;33mDense\u001b[0m)                 │ (\u001b[38;5;45mNone\u001b[0m, \u001b[38;5;34m1\u001b[0m)              │           \u001b[38;5;34m257\u001b[0m │\n",
              "└─────────────────────────────────┴────────────────────────┴───────────────┘\n"
            ],
            "text/html": [
              "<pre style=\"white-space:pre;overflow-x:auto;line-height:normal;font-family:Menlo,'DejaVu Sans Mono',consolas,'Courier New',monospace\">┏━━━━━━━━━━━━━━━━━━━━━━━━━━━━━━━━━┳━━━━━━━━━━━━━━━━━━━━━━━━┳━━━━━━━━━━━━━━━┓\n",
              "┃<span style=\"font-weight: bold\"> Layer (type)                    </span>┃<span style=\"font-weight: bold\"> Output Shape           </span>┃<span style=\"font-weight: bold\">       Param # </span>┃\n",
              "┡━━━━━━━━━━━━━━━━━━━━━━━━━━━━━━━━━╇━━━━━━━━━━━━━━━━━━━━━━━━╇━━━━━━━━━━━━━━━┩\n",
              "│ mobilenetv2_1.00_224            │ (<span style=\"color: #00d7ff; text-decoration-color: #00d7ff\">None</span>, <span style=\"color: #00af00; text-decoration-color: #00af00\">7</span>, <span style=\"color: #00af00; text-decoration-color: #00af00\">7</span>, <span style=\"color: #00af00; text-decoration-color: #00af00\">1280</span>)     │     <span style=\"color: #00af00; text-decoration-color: #00af00\">2,257,984</span> │\n",
              "│ (<span style=\"color: #0087ff; text-decoration-color: #0087ff\">Functional</span>)                    │                        │               │\n",
              "├─────────────────────────────────┼────────────────────────┼───────────────┤\n",
              "│ global_average_pooling2d_3      │ (<span style=\"color: #00d7ff; text-decoration-color: #00d7ff\">None</span>, <span style=\"color: #00af00; text-decoration-color: #00af00\">1280</span>)           │             <span style=\"color: #00af00; text-decoration-color: #00af00\">0</span> │\n",
              "│ (<span style=\"color: #0087ff; text-decoration-color: #0087ff\">GlobalAveragePooling2D</span>)        │                        │               │\n",
              "├─────────────────────────────────┼────────────────────────┼───────────────┤\n",
              "│ dense_6 (<span style=\"color: #0087ff; text-decoration-color: #0087ff\">Dense</span>)                 │ (<span style=\"color: #00d7ff; text-decoration-color: #00d7ff\">None</span>, <span style=\"color: #00af00; text-decoration-color: #00af00\">256</span>)            │       <span style=\"color: #00af00; text-decoration-color: #00af00\">327,936</span> │\n",
              "├─────────────────────────────────┼────────────────────────┼───────────────┤\n",
              "│ dropout_3 (<span style=\"color: #0087ff; text-decoration-color: #0087ff\">Dropout</span>)             │ (<span style=\"color: #00d7ff; text-decoration-color: #00d7ff\">None</span>, <span style=\"color: #00af00; text-decoration-color: #00af00\">256</span>)            │             <span style=\"color: #00af00; text-decoration-color: #00af00\">0</span> │\n",
              "├─────────────────────────────────┼────────────────────────┼───────────────┤\n",
              "│ dense_7 (<span style=\"color: #0087ff; text-decoration-color: #0087ff\">Dense</span>)                 │ (<span style=\"color: #00d7ff; text-decoration-color: #00d7ff\">None</span>, <span style=\"color: #00af00; text-decoration-color: #00af00\">1</span>)              │           <span style=\"color: #00af00; text-decoration-color: #00af00\">257</span> │\n",
              "└─────────────────────────────────┴────────────────────────┴───────────────┘\n",
              "</pre>\n"
            ]
          },
          "metadata": {}
        },
        {
          "output_type": "display_data",
          "data": {
            "text/plain": [
              "\u001b[1m Total params: \u001b[0m\u001b[38;5;34m2,586,177\u001b[0m (9.87 MB)\n"
            ],
            "text/html": [
              "<pre style=\"white-space:pre;overflow-x:auto;line-height:normal;font-family:Menlo,'DejaVu Sans Mono',consolas,'Courier New',monospace\"><span style=\"font-weight: bold\"> Total params: </span><span style=\"color: #00af00; text-decoration-color: #00af00\">2,586,177</span> (9.87 MB)\n",
              "</pre>\n"
            ]
          },
          "metadata": {}
        },
        {
          "output_type": "display_data",
          "data": {
            "text/plain": [
              "\u001b[1m Trainable params: \u001b[0m\u001b[38;5;34m328,193\u001b[0m (1.25 MB)\n"
            ],
            "text/html": [
              "<pre style=\"white-space:pre;overflow-x:auto;line-height:normal;font-family:Menlo,'DejaVu Sans Mono',consolas,'Courier New',monospace\"><span style=\"font-weight: bold\"> Trainable params: </span><span style=\"color: #00af00; text-decoration-color: #00af00\">328,193</span> (1.25 MB)\n",
              "</pre>\n"
            ]
          },
          "metadata": {}
        },
        {
          "output_type": "display_data",
          "data": {
            "text/plain": [
              "\u001b[1m Non-trainable params: \u001b[0m\u001b[38;5;34m2,257,984\u001b[0m (8.61 MB)\n"
            ],
            "text/html": [
              "<pre style=\"white-space:pre;overflow-x:auto;line-height:normal;font-family:Menlo,'DejaVu Sans Mono',consolas,'Courier New',monospace\"><span style=\"font-weight: bold\"> Non-trainable params: </span><span style=\"color: #00af00; text-decoration-color: #00af00\">2,257,984</span> (8.61 MB)\n",
              "</pre>\n"
            ]
          },
          "metadata": {}
        },
        {
          "output_type": "stream",
          "name": "stdout",
          "text": [
            "\n"
          ]
        },
        {
          "output_type": "stream",
          "name": "stderr",
          "text": [
            "/usr/local/lib/python3.11/dist-packages/keras/src/trainers/data_adapters/py_dataset_adapter.py:121: UserWarning: Your `PyDataset` class should call `super().__init__(**kwargs)` in its constructor. `**kwargs` can include `workers`, `use_multiprocessing`, `max_queue_size`. Do not pass these arguments to `fit()`, as they will be ignored.\n",
            "  self._warn_if_super_not_called()\n"
          ]
        },
        {
          "output_type": "stream",
          "name": "stdout",
          "text": [
            "Epoch 1/10\n",
            "\u001b[1m163/163\u001b[0m \u001b[32m━━━━━━━━━━━━━━━━━━━━\u001b[0m\u001b[37m\u001b[0m \u001b[1m133s\u001b[0m 756ms/step - AUC: 0.5305 - Precision: 0.7496 - Recall: 0.6775 - accuracy: 0.5925 - loss: 0.8326 - val_AUC: 0.7559 - val_Precision: 0.7216 - val_Recall: 0.7974 - val_accuracy: 0.6811 - val_loss: 0.5832\n",
            "Epoch 2/10\n",
            "\u001b[1m163/163\u001b[0m \u001b[32m━━━━━━━━━━━━━━━━━━━━\u001b[0m\u001b[37m\u001b[0m \u001b[1m116s\u001b[0m 713ms/step - AUC: 0.7917 - Precision: 0.8663 - Recall: 0.7514 - accuracy: 0.7282 - loss: 0.5465 - val_AUC: 0.8632 - val_Precision: 0.8519 - val_Recall: 0.8256 - val_accuracy: 0.8013 - val_loss: 0.4791\n",
            "Epoch 3/10\n",
            "\u001b[1m163/163\u001b[0m \u001b[32m━━━━━━━━━━━━━━━━━━━━\u001b[0m\u001b[37m\u001b[0m \u001b[1m117s\u001b[0m 714ms/step - AUC: 0.9130 - Precision: 0.9369 - Recall: 0.8209 - accuracy: 0.8253 - loss: 0.3852 - val_AUC: 0.8942 - val_Precision: 0.8787 - val_Recall: 0.8359 - val_accuracy: 0.8253 - val_loss: 0.4244\n",
            "Epoch 4/10\n",
            "\u001b[1m163/163\u001b[0m \u001b[32m━━━━━━━━━━━━━━━━━━━━\u001b[0m\u001b[37m\u001b[0m \u001b[1m117s\u001b[0m 718ms/step - AUC: 0.9360 - Precision: 0.9563 - Recall: 0.8339 - accuracy: 0.8488 - loss: 0.3349 - val_AUC: 0.9095 - val_Precision: 0.8838 - val_Recall: 0.8385 - val_accuracy: 0.8301 - val_loss: 0.3886\n",
            "Epoch 5/10\n",
            "\u001b[1m163/163\u001b[0m \u001b[32m━━━━━━━━━━━━━━━━━━━━\u001b[0m\u001b[37m\u001b[0m \u001b[1m121s\u001b[0m 743ms/step - AUC: 0.9527 - Precision: 0.9675 - Recall: 0.8596 - accuracy: 0.8732 - loss: 0.2883 - val_AUC: 0.9220 - val_Precision: 0.8912 - val_Recall: 0.8615 - val_accuracy: 0.8478 - val_loss: 0.3593\n",
            "Epoch 6/10\n",
            "\u001b[1m163/163\u001b[0m \u001b[32m━━━━━━━━━━━━━━━━━━━━\u001b[0m\u001b[37m\u001b[0m \u001b[1m121s\u001b[0m 742ms/step - AUC: 0.9554 - Precision: 0.9617 - Recall: 0.8752 - accuracy: 0.8819 - loss: 0.2779 - val_AUC: 0.9298 - val_Precision: 0.8846 - val_Recall: 0.8846 - val_accuracy: 0.8558 - val_loss: 0.3376\n",
            "Epoch 7/10\n",
            "\u001b[1m163/163\u001b[0m \u001b[32m━━━━━━━━━━━━━━━━━━━━\u001b[0m\u001b[37m\u001b[0m \u001b[1m118s\u001b[0m 723ms/step - AUC: 0.9620 - Precision: 0.9681 - Recall: 0.8871 - accuracy: 0.8935 - loss: 0.2535 - val_AUC: 0.9352 - val_Precision: 0.8958 - val_Recall: 0.8821 - val_accuracy: 0.8622 - val_loss: 0.3243\n",
            "Epoch 8/10\n",
            "\u001b[1m163/163\u001b[0m \u001b[32m━━━━━━━━━━━━━━━━━━━━\u001b[0m\u001b[37m\u001b[0m \u001b[1m117s\u001b[0m 716ms/step - AUC: 0.9682 - Precision: 0.9798 - Recall: 0.8882 - accuracy: 0.9035 - loss: 0.2350 - val_AUC: 0.9399 - val_Precision: 0.9013 - val_Recall: 0.8897 - val_accuracy: 0.8702 - val_loss: 0.3113\n",
            "Epoch 9/10\n",
            "\u001b[1m163/163\u001b[0m \u001b[32m━━━━━━━━━━━━━━━━━━━━\u001b[0m\u001b[37m\u001b[0m \u001b[1m143s\u001b[0m 723ms/step - AUC: 0.9723 - Precision: 0.9763 - Recall: 0.8989 - accuracy: 0.9091 - loss: 0.2171 - val_AUC: 0.9440 - val_Precision: 0.9018 - val_Recall: 0.8949 - val_accuracy: 0.8734 - val_loss: 0.3006\n",
            "Epoch 10/10\n",
            "\u001b[1m163/163\u001b[0m \u001b[32m━━━━━━━━━━━━━━━━━━━━\u001b[0m\u001b[37m\u001b[0m \u001b[1m117s\u001b[0m 718ms/step - AUC: 0.9753 - Precision: 0.9794 - Recall: 0.9036 - accuracy: 0.9141 - loss: 0.2058 - val_AUC: 0.9474 - val_Precision: 0.9033 - val_Recall: 0.9103 - val_accuracy: 0.8830 - val_loss: 0.2911\n",
            "\n",
            "AUC [0.610568106174469, 0.8404201865196228, 0.9173597693443298, 0.9392984509468079, 0.952323853969574, 0.9605742692947388, 0.9651631712913513, 0.9693048000335693, 0.9743277430534363, 0.9752974510192871]\n",
            "Precision [0.7875076532363892, 0.8950819969177246, 0.9409356713294983, 0.9570017457008362, 0.9651798605918884, 0.9703619480133057, 0.9720891118049622, 0.9771831035614014, 0.9770243763923645, 0.978830099105835]\n",
            "Recall [0.663741946220398, 0.7749677300453186, 0.8304516077041626, 0.8500645160675049, 0.8655483722686768, 0.8787096738815308, 0.8898064494132996, 0.8952258229255676, 0.8998709917068481, 0.9068387150764465]\n",
            "accuracy [0.6171395778656006, 0.7653374075889587, 0.8353143930435181, 0.860237717628479, 0.8769171833992004, 0.8899539709091187, 0.8991564512252808, 0.9066334366798401, 0.9098926186561584, 0.9162193536758423]\n",
            "loss [0.7355870008468628, 0.49640023708343506, 0.3759347200393677, 0.3256451487541199, 0.2879154086112976, 0.2617456018924713, 0.24579982459545135, 0.22984470427036285, 0.2115449458360672, 0.20543766021728516]\n",
            "val_AUC [0.7559062242507935, 0.863165557384491, 0.8941649794578552, 0.9094892740249634, 0.922014057636261, 0.9298104047775269, 0.9352126121520996, 0.9398804903030396, 0.9439951777458191, 0.9473974704742432]\n",
            "val_Precision [0.7215777039527893, 0.8518518805503845, 0.8787062168121338, 0.883783757686615, 0.8912466764450073, 0.8846153616905212, 0.8958333134651184, 0.9012987017631531, 0.9018087983131409, 0.9033079147338867]\n",
            "val_Recall [0.7974358797073364, 0.8256410360336304, 0.8358974456787109, 0.8384615182876587, 0.8615384697914124, 0.8846153616905212, 0.8820512890815735, 0.8897435665130615, 0.8948717713356018, 0.9102563858032227]\n",
            "val_accuracy [0.6810897588729858, 0.8012820482254028, 0.8253205418586731, 0.8301281929016113, 0.8477563858032227, 0.8557692170143127, 0.8621794581413269, 0.870192289352417, 0.8733974099159241, 0.8830128312110901]\n",
            "val_loss [0.5831769704818726, 0.4791053235530853, 0.4244091212749481, 0.38864150643348694, 0.3592979609966278, 0.33756303787231445, 0.32433655858039856, 0.3113161623477936, 0.30064070224761963, 0.29111820459365845]\n",
            "Wall time 1246.7269537448883\n"
          ]
        }
      ]
    },
    {
      "cell_type": "code",
      "source": [
        "cfg = 'cfg_6.0'\n",
        "add_result(cfg, model_history)\n",
        "model.save(f\"/content/drive/MyDrive/DS/chest-xray-pneumonia/MobileNetV2-{cfg}.keras\")"
      ],
      "metadata": {
        "id": "lpnnwB8y7Pm5"
      },
      "execution_count": null,
      "outputs": []
    },
    {
      "cell_type": "markdown",
      "source": [
        "## cfg 6.1\n",
        "* <font color=orange>LearningRateScheduler</font>\n",
        "* class_weights\n",
        "* horizontal_flip=True\n",
        "* Dense(256, ReLU)"
      ],
      "metadata": {
        "id": "yBobND8tBfmS"
      }
    },
    {
      "cell_type": "code",
      "source": [
        "def lr_scheduler(epoch, lr):\n",
        "    if  0 <= epoch <= 2:\n",
        "        return 0.00005\n",
        "    else:\n",
        "        return 0.00001\n",
        "\n",
        "lr_callback = LearningRateScheduler(lr_scheduler)"
      ],
      "metadata": {
        "id": "qLynTcZlBqKh"
      },
      "execution_count": null,
      "outputs": []
    },
    {
      "cell_type": "code",
      "source": [
        "def model_train(lr_callback, dense_value):\n",
        "    # Размер изображений и параметры\n",
        "    IMG_SIZE = (224, 224)  # MobileNetV2 лучше работает с этим размером\n",
        "    BATCH_SIZE = 32\n",
        "\n",
        "    # Аугментация\n",
        "    train_datagen = ImageDataGenerator(\n",
        "        rescale=1./255,\n",
        "        rotation_range=10,\n",
        "        width_shift_range=0.1,\n",
        "        height_shift_range=0.1,\n",
        "        zoom_range=0.1,\n",
        "        brightness_range=[0.9, 1.1],\n",
        "        horizontal_flip=True #             [!]\n",
        "    )\n",
        "\n",
        "    val_test_datagen = ImageDataGenerator(rescale=1./255)\n",
        "\n",
        "    # Генераторы\n",
        "    train_generator = train_datagen.flow_from_directory(\n",
        "        train_dir,\n",
        "        target_size=IMG_SIZE,\n",
        "        batch_size=BATCH_SIZE,\n",
        "        class_mode='binary',\n",
        "        color_mode='rgb'\n",
        "    )\n",
        "\n",
        "    val_generator = val_test_datagen.flow_from_directory(\n",
        "        val_dir,\n",
        "        target_size=IMG_SIZE,\n",
        "        batch_size=BATCH_SIZE,\n",
        "        class_mode='binary',\n",
        "        shuffle=False,\n",
        "        color_mode='rgb'\n",
        "    )\n",
        "\n",
        "    test_generator = val_test_datagen.flow_from_directory(\n",
        "        test_dir,\n",
        "        target_size=IMG_SIZE,\n",
        "        batch_size=BATCH_SIZE,\n",
        "        class_mode='binary',\n",
        "        shuffle=False,\n",
        "        color_mode='rgb'\n",
        "    )\n",
        "\n",
        "    print()\n",
        "\n",
        "    # class_weights      [!]\n",
        "    class_weights = compute_class_weight('balanced',\n",
        "                                         classes=np.unique(train_generator.classes),\n",
        "                                         y=train_generator.classes)\n",
        "    class_weights = dict(enumerate(class_weights))\n",
        "    print(class_weights)\n",
        "\n",
        "    print()\n",
        "\n",
        "    # Загрузка MobileNetV2 без верхушки\n",
        "    base_model = MobileNetV2(input_shape=(224, 224, 3), include_top=False, weights='imagenet')\n",
        "    base_model.trainable = False  # Фиксируем веса\n",
        "\n",
        "    # Добавляем слои классификации\n",
        "    model = Sequential([\n",
        "        base_model,\n",
        "        layers.GlobalAveragePooling2D(),\n",
        "        layers.Dense(dense_value, activation='relu'),\n",
        "        layers.Dropout(0.5),\n",
        "        layers.Dense(1, activation='sigmoid')\n",
        "    ])\n",
        "\n",
        "    # Компиляция модели\n",
        "    model.compile(\n",
        "        optimizer=Adam(),\n",
        "        loss='binary_crossentropy',\n",
        "        metrics=[\n",
        "            'AUC',\n",
        "            'Recall',\n",
        "            'Precision',\n",
        "            'accuracy'\n",
        "        ]\n",
        "    )\n",
        "\n",
        "    # Отображение информации об устройстве сети:\n",
        "    model.summary()\n",
        "\n",
        "    print()\n",
        "\n",
        "    # Обучение модели\n",
        "    EPOCHS = 10\n",
        "\n",
        "    start = time.time() # Фиксация времени\n",
        "\n",
        "    history = model.fit(\n",
        "        train_generator,\n",
        "        epochs=EPOCHS,\n",
        "        validation_data=val_generator,\n",
        "        class_weight=class_weights, #      [!]\n",
        "        callbacks=[lr_callback]     #      [!]\n",
        "    )\n",
        "\n",
        "    end = time.time() # Фиксация времени\n",
        "\n",
        "    model_history = history.history\n",
        "    model_history['Wall time'] = end - start\n",
        "\n",
        "    print()\n",
        "\n",
        "    for k, v in model_history.items():\n",
        "        print(k, v)\n",
        "\n",
        "    return model, model_history"
      ],
      "metadata": {
        "id": "8mzbPklSBfmT"
      },
      "execution_count": null,
      "outputs": []
    },
    {
      "cell_type": "code",
      "source": [
        "model, model_history = model_train(lr_callback, dense_value=256)"
      ],
      "metadata": {
        "colab": {
          "base_uri": "https://localhost:8080/",
          "height": 1000
        },
        "outputId": "d0a47140-4ac3-4ecd-d1b8-063318ec5896",
        "id": "XdMYSRECBfmU"
      },
      "execution_count": null,
      "outputs": [
        {
          "output_type": "stream",
          "name": "stdout",
          "text": [
            "Found 5216 images belonging to 2 classes.\n",
            "Found 624 images belonging to 2 classes.\n",
            "Found 16 images belonging to 2 classes.\n",
            "\n",
            "{0: np.float64(1.9448173005219984), 1: np.float64(0.6730322580645162)}\n",
            "\n"
          ]
        },
        {
          "output_type": "display_data",
          "data": {
            "text/plain": [
              "\u001b[1mModel: \"sequential_4\"\u001b[0m\n"
            ],
            "text/html": [
              "<pre style=\"white-space:pre;overflow-x:auto;line-height:normal;font-family:Menlo,'DejaVu Sans Mono',consolas,'Courier New',monospace\"><span style=\"font-weight: bold\">Model: \"sequential_4\"</span>\n",
              "</pre>\n"
            ]
          },
          "metadata": {}
        },
        {
          "output_type": "display_data",
          "data": {
            "text/plain": [
              "┏━━━━━━━━━━━━━━━━━━━━━━━━━━━━━━━━━┳━━━━━━━━━━━━━━━━━━━━━━━━┳━━━━━━━━━━━━━━━┓\n",
              "┃\u001b[1m \u001b[0m\u001b[1mLayer (type)                   \u001b[0m\u001b[1m \u001b[0m┃\u001b[1m \u001b[0m\u001b[1mOutput Shape          \u001b[0m\u001b[1m \u001b[0m┃\u001b[1m \u001b[0m\u001b[1m      Param #\u001b[0m\u001b[1m \u001b[0m┃\n",
              "┡━━━━━━━━━━━━━━━━━━━━━━━━━━━━━━━━━╇━━━━━━━━━━━━━━━━━━━━━━━━╇━━━━━━━━━━━━━━━┩\n",
              "│ mobilenetv2_1.00_224            │ (\u001b[38;5;45mNone\u001b[0m, \u001b[38;5;34m7\u001b[0m, \u001b[38;5;34m7\u001b[0m, \u001b[38;5;34m1280\u001b[0m)     │     \u001b[38;5;34m2,257,984\u001b[0m │\n",
              "│ (\u001b[38;5;33mFunctional\u001b[0m)                    │                        │               │\n",
              "├─────────────────────────────────┼────────────────────────┼───────────────┤\n",
              "│ global_average_pooling2d_4      │ (\u001b[38;5;45mNone\u001b[0m, \u001b[38;5;34m1280\u001b[0m)           │             \u001b[38;5;34m0\u001b[0m │\n",
              "│ (\u001b[38;5;33mGlobalAveragePooling2D\u001b[0m)        │                        │               │\n",
              "├─────────────────────────────────┼────────────────────────┼───────────────┤\n",
              "│ dense_8 (\u001b[38;5;33mDense\u001b[0m)                 │ (\u001b[38;5;45mNone\u001b[0m, \u001b[38;5;34m256\u001b[0m)            │       \u001b[38;5;34m327,936\u001b[0m │\n",
              "├─────────────────────────────────┼────────────────────────┼───────────────┤\n",
              "│ dropout_4 (\u001b[38;5;33mDropout\u001b[0m)             │ (\u001b[38;5;45mNone\u001b[0m, \u001b[38;5;34m256\u001b[0m)            │             \u001b[38;5;34m0\u001b[0m │\n",
              "├─────────────────────────────────┼────────────────────────┼───────────────┤\n",
              "│ dense_9 (\u001b[38;5;33mDense\u001b[0m)                 │ (\u001b[38;5;45mNone\u001b[0m, \u001b[38;5;34m1\u001b[0m)              │           \u001b[38;5;34m257\u001b[0m │\n",
              "└─────────────────────────────────┴────────────────────────┴───────────────┘\n"
            ],
            "text/html": [
              "<pre style=\"white-space:pre;overflow-x:auto;line-height:normal;font-family:Menlo,'DejaVu Sans Mono',consolas,'Courier New',monospace\">┏━━━━━━━━━━━━━━━━━━━━━━━━━━━━━━━━━┳━━━━━━━━━━━━━━━━━━━━━━━━┳━━━━━━━━━━━━━━━┓\n",
              "┃<span style=\"font-weight: bold\"> Layer (type)                    </span>┃<span style=\"font-weight: bold\"> Output Shape           </span>┃<span style=\"font-weight: bold\">       Param # </span>┃\n",
              "┡━━━━━━━━━━━━━━━━━━━━━━━━━━━━━━━━━╇━━━━━━━━━━━━━━━━━━━━━━━━╇━━━━━━━━━━━━━━━┩\n",
              "│ mobilenetv2_1.00_224            │ (<span style=\"color: #00d7ff; text-decoration-color: #00d7ff\">None</span>, <span style=\"color: #00af00; text-decoration-color: #00af00\">7</span>, <span style=\"color: #00af00; text-decoration-color: #00af00\">7</span>, <span style=\"color: #00af00; text-decoration-color: #00af00\">1280</span>)     │     <span style=\"color: #00af00; text-decoration-color: #00af00\">2,257,984</span> │\n",
              "│ (<span style=\"color: #0087ff; text-decoration-color: #0087ff\">Functional</span>)                    │                        │               │\n",
              "├─────────────────────────────────┼────────────────────────┼───────────────┤\n",
              "│ global_average_pooling2d_4      │ (<span style=\"color: #00d7ff; text-decoration-color: #00d7ff\">None</span>, <span style=\"color: #00af00; text-decoration-color: #00af00\">1280</span>)           │             <span style=\"color: #00af00; text-decoration-color: #00af00\">0</span> │\n",
              "│ (<span style=\"color: #0087ff; text-decoration-color: #0087ff\">GlobalAveragePooling2D</span>)        │                        │               │\n",
              "├─────────────────────────────────┼────────────────────────┼───────────────┤\n",
              "│ dense_8 (<span style=\"color: #0087ff; text-decoration-color: #0087ff\">Dense</span>)                 │ (<span style=\"color: #00d7ff; text-decoration-color: #00d7ff\">None</span>, <span style=\"color: #00af00; text-decoration-color: #00af00\">256</span>)            │       <span style=\"color: #00af00; text-decoration-color: #00af00\">327,936</span> │\n",
              "├─────────────────────────────────┼────────────────────────┼───────────────┤\n",
              "│ dropout_4 (<span style=\"color: #0087ff; text-decoration-color: #0087ff\">Dropout</span>)             │ (<span style=\"color: #00d7ff; text-decoration-color: #00d7ff\">None</span>, <span style=\"color: #00af00; text-decoration-color: #00af00\">256</span>)            │             <span style=\"color: #00af00; text-decoration-color: #00af00\">0</span> │\n",
              "├─────────────────────────────────┼────────────────────────┼───────────────┤\n",
              "│ dense_9 (<span style=\"color: #0087ff; text-decoration-color: #0087ff\">Dense</span>)                 │ (<span style=\"color: #00d7ff; text-decoration-color: #00d7ff\">None</span>, <span style=\"color: #00af00; text-decoration-color: #00af00\">1</span>)              │           <span style=\"color: #00af00; text-decoration-color: #00af00\">257</span> │\n",
              "└─────────────────────────────────┴────────────────────────┴───────────────┘\n",
              "</pre>\n"
            ]
          },
          "metadata": {}
        },
        {
          "output_type": "display_data",
          "data": {
            "text/plain": [
              "\u001b[1m Total params: \u001b[0m\u001b[38;5;34m2,586,177\u001b[0m (9.87 MB)\n"
            ],
            "text/html": [
              "<pre style=\"white-space:pre;overflow-x:auto;line-height:normal;font-family:Menlo,'DejaVu Sans Mono',consolas,'Courier New',monospace\"><span style=\"font-weight: bold\"> Total params: </span><span style=\"color: #00af00; text-decoration-color: #00af00\">2,586,177</span> (9.87 MB)\n",
              "</pre>\n"
            ]
          },
          "metadata": {}
        },
        {
          "output_type": "display_data",
          "data": {
            "text/plain": [
              "\u001b[1m Trainable params: \u001b[0m\u001b[38;5;34m328,193\u001b[0m (1.25 MB)\n"
            ],
            "text/html": [
              "<pre style=\"white-space:pre;overflow-x:auto;line-height:normal;font-family:Menlo,'DejaVu Sans Mono',consolas,'Courier New',monospace\"><span style=\"font-weight: bold\"> Trainable params: </span><span style=\"color: #00af00; text-decoration-color: #00af00\">328,193</span> (1.25 MB)\n",
              "</pre>\n"
            ]
          },
          "metadata": {}
        },
        {
          "output_type": "display_data",
          "data": {
            "text/plain": [
              "\u001b[1m Non-trainable params: \u001b[0m\u001b[38;5;34m2,257,984\u001b[0m (8.61 MB)\n"
            ],
            "text/html": [
              "<pre style=\"white-space:pre;overflow-x:auto;line-height:normal;font-family:Menlo,'DejaVu Sans Mono',consolas,'Courier New',monospace\"><span style=\"font-weight: bold\"> Non-trainable params: </span><span style=\"color: #00af00; text-decoration-color: #00af00\">2,257,984</span> (8.61 MB)\n",
              "</pre>\n"
            ]
          },
          "metadata": {}
        },
        {
          "output_type": "stream",
          "name": "stdout",
          "text": [
            "\n"
          ]
        },
        {
          "output_type": "stream",
          "name": "stderr",
          "text": [
            "/usr/local/lib/python3.11/dist-packages/keras/src/trainers/data_adapters/py_dataset_adapter.py:121: UserWarning: Your `PyDataset` class should call `super().__init__(**kwargs)` in its constructor. `**kwargs` can include `workers`, `use_multiprocessing`, `max_queue_size`. Do not pass these arguments to `fit()`, as they will be ignored.\n",
            "  self._warn_if_super_not_called()\n"
          ]
        },
        {
          "output_type": "stream",
          "name": "stdout",
          "text": [
            "Epoch 1/10\n",
            "\u001b[1m163/163\u001b[0m \u001b[32m━━━━━━━━━━━━━━━━━━━━\u001b[0m\u001b[37m\u001b[0m \u001b[1m134s\u001b[0m 755ms/step - AUC: 0.7598 - Precision: 0.8576 - Recall: 0.7614 - accuracy: 0.7291 - loss: 0.6232 - val_AUC: 0.9320 - val_Precision: 0.8630 - val_Recall: 0.9205 - val_accuracy: 0.8590 - val_loss: 0.3387 - learning_rate: 5.0000e-05\n",
            "Epoch 2/10\n",
            "\u001b[1m163/163\u001b[0m \u001b[32m━━━━━━━━━━━━━━━━━━━━\u001b[0m\u001b[37m\u001b[0m \u001b[1m117s\u001b[0m 719ms/step - AUC: 0.9610 - Precision: 0.9633 - Recall: 0.8922 - accuracy: 0.8942 - loss: 0.2533 - val_AUC: 0.9517 - val_Precision: 0.8878 - val_Recall: 0.9333 - val_accuracy: 0.8846 - val_loss: 0.2838 - learning_rate: 5.0000e-05\n",
            "Epoch 3/10\n",
            "\u001b[1m163/163\u001b[0m \u001b[32m━━━━━━━━━━━━━━━━━━━━\u001b[0m\u001b[37m\u001b[0m \u001b[1m114s\u001b[0m 702ms/step - AUC: 0.9726 - Precision: 0.9734 - Recall: 0.9014 - accuracy: 0.9084 - loss: 0.2101 - val_AUC: 0.9581 - val_Precision: 0.8941 - val_Recall: 0.9308 - val_accuracy: 0.8878 - val_loss: 0.2613 - learning_rate: 5.0000e-05\n",
            "Epoch 4/10\n",
            "\u001b[1m163/163\u001b[0m \u001b[32m━━━━━━━━━━━━━━━━━━━━\u001b[0m\u001b[37m\u001b[0m \u001b[1m116s\u001b[0m 711ms/step - AUC: 0.9783 - Precision: 0.9803 - Recall: 0.9170 - accuracy: 0.9245 - loss: 0.1852 - val_AUC: 0.9585 - val_Precision: 0.8919 - val_Recall: 0.9308 - val_accuracy: 0.8862 - val_loss: 0.2601 - learning_rate: 1.0000e-05\n",
            "Epoch 5/10\n",
            "\u001b[1m163/163\u001b[0m \u001b[32m━━━━━━━━━━━━━━━━━━━━\u001b[0m\u001b[37m\u001b[0m \u001b[1m120s\u001b[0m 739ms/step - AUC: 0.9838 - Precision: 0.9830 - Recall: 0.9287 - accuracy: 0.9349 - loss: 0.1631 - val_AUC: 0.9586 - val_Precision: 0.8897 - val_Recall: 0.9308 - val_accuracy: 0.8846 - val_loss: 0.2587 - learning_rate: 1.0000e-05\n",
            "Epoch 6/10\n",
            "\u001b[1m163/163\u001b[0m \u001b[32m━━━━━━━━━━━━━━━━━━━━\u001b[0m\u001b[37m\u001b[0m \u001b[1m117s\u001b[0m 719ms/step - AUC: 0.9814 - Precision: 0.9810 - Recall: 0.9091 - accuracy: 0.9209 - loss: 0.1773 - val_AUC: 0.9600 - val_Precision: 0.8795 - val_Recall: 0.9359 - val_accuracy: 0.8798 - val_loss: 0.2591 - learning_rate: 1.0000e-05\n",
            "Epoch 7/10\n",
            "\u001b[1m163/163\u001b[0m \u001b[32m━━━━━━━━━━━━━━━━━━━━\u001b[0m\u001b[37m\u001b[0m \u001b[1m116s\u001b[0m 709ms/step - AUC: 0.9820 - Precision: 0.9826 - Recall: 0.9264 - accuracy: 0.9336 - loss: 0.1690 - val_AUC: 0.9607 - val_Precision: 0.8963 - val_Recall: 0.9308 - val_accuracy: 0.8894 - val_loss: 0.2528 - learning_rate: 1.0000e-05\n",
            "Epoch 8/10\n",
            "\u001b[1m163/163\u001b[0m \u001b[32m━━━━━━━━━━━━━━━━━━━━\u001b[0m\u001b[37m\u001b[0m \u001b[1m116s\u001b[0m 715ms/step - AUC: 0.9836 - Precision: 0.9791 - Recall: 0.9259 - accuracy: 0.9304 - loss: 0.1642 - val_AUC: 0.9614 - val_Precision: 0.8862 - val_Recall: 0.9385 - val_accuracy: 0.8862 - val_loss: 0.2532 - learning_rate: 1.0000e-05\n",
            "Epoch 9/10\n",
            "\u001b[1m163/163\u001b[0m \u001b[32m━━━━━━━━━━━━━━━━━━━━\u001b[0m\u001b[37m\u001b[0m \u001b[1m117s\u001b[0m 716ms/step - AUC: 0.9845 - Precision: 0.9826 - Recall: 0.9324 - accuracy: 0.9375 - loss: 0.1594 - val_AUC: 0.9610 - val_Precision: 0.9005 - val_Recall: 0.9282 - val_accuracy: 0.8910 - val_loss: 0.2489 - learning_rate: 1.0000e-05\n",
            "Epoch 10/10\n",
            "\u001b[1m163/163\u001b[0m \u001b[32m━━━━━━━━━━━━━━━━━━━━\u001b[0m\u001b[37m\u001b[0m \u001b[1m115s\u001b[0m 708ms/step - AUC: 0.9815 - Precision: 0.9808 - Recall: 0.9220 - accuracy: 0.9279 - loss: 0.1719 - val_AUC: 0.9621 - val_Precision: 0.8924 - val_Recall: 0.9359 - val_accuracy: 0.8894 - val_loss: 0.2490 - learning_rate: 1.0000e-05\n",
            "\n",
            "AUC [0.8792715072631836, 0.9626263380050659, 0.974255383014679, 0.9780600070953369, 0.9822502732276917, 0.981184720993042, 0.9806579947471619, 0.9826132655143738, 0.983252227306366, 0.984017014503479]\n",
            "Precision [0.9189821481704712, 0.9679685235023499, 0.9743589758872986, 0.978782057762146, 0.9808323979377747, 0.9825194478034973, 0.9815731644630432, 0.98100745677948, 0.9811681509017944, 0.9816989898681641]\n",
            "Recall [0.8108386993408203, 0.889032244682312, 0.902193546295166, 0.9166451692581177, 0.9243870973587036, 0.9138064384460449, 0.9210322499275208, 0.9197419285774231, 0.9277419447898865, 0.927483856678009]\n",
            "accuracy [0.8063650131225586, 0.89570552110672, 0.9097009301185608, 0.9233129024505615, 0.9304064512252808, 0.9238880276679993, 0.9284892678260803, 0.9271472096443176, 0.9330905079841614, 0.933282196521759]\n",
            "loss [0.4375198483467102, 0.24498695135116577, 0.20356234908103943, 0.1870070993900299, 0.17077666521072388, 0.17527849972248077, 0.1753036230802536, 0.1670316755771637, 0.16482989490032196, 0.1616407334804535]\n",
            "val_AUC [0.9319800734519958, 0.9517422318458557, 0.9581470489501953, 0.9584757685661316, 0.9585579633712769, 0.9599878787994385, 0.9606783390045166, 0.9613960385322571, 0.9610124826431274, 0.9620863199234009]\n",
            "val_Precision [0.8629807829856873, 0.8878048658370972, 0.8940886855125427, 0.8918918967247009, 0.8897058963775635, 0.8795180916786194, 0.8962963223457336, 0.8861985206604004, 0.9004974961280823, 0.8924205303192139]\n",
            "val_Recall [0.9205127954483032, 0.9333333373069763, 0.9307692050933838, 0.9307692050933838, 0.9307692050933838, 0.9358974099159241, 0.9307692050933838, 0.9384615421295166, 0.928205132484436, 0.9358974099159241]\n",
            "val_accuracy [0.8589743375778198, 0.8846153616905212, 0.8878205418586731, 0.8862179517745972, 0.8846153616905212, 0.879807710647583, 0.8894230723381042, 0.8862179517745972, 0.8910256624221802, 0.8894230723381042]\n",
            "val_loss [0.3387284278869629, 0.2837570011615753, 0.2612657845020294, 0.2600615620613098, 0.258695125579834, 0.2590971887111664, 0.2527587115764618, 0.2532331049442291, 0.24893589317798615, 0.24899546802043915]\n",
            "learning_rate [4.999999873689376e-05, 4.999999873689376e-05, 4.999999873689376e-05, 9.999999747378752e-06, 9.999999747378752e-06, 9.999999747378752e-06, 9.999999747378752e-06, 9.999999747378752e-06, 9.999999747378752e-06, 9.999999747378752e-06]\n",
            "Wall time 1184.9592299461365\n"
          ]
        }
      ]
    },
    {
      "cell_type": "code",
      "source": [
        "cfg = 'cfg_6.1'\n",
        "add_result(cfg, model_history)\n",
        "model.save(f\"/content/drive/MyDrive/DS/chest-xray-pneumonia/MobileNetV2-{cfg}.keras\")"
      ],
      "metadata": {
        "id": "ofk5KR4bBfmU"
      },
      "execution_count": null,
      "outputs": []
    },
    {
      "cell_type": "markdown",
      "source": [
        "## cfg 6.2\n",
        "* <font color=orange>CosineDecay</font>\n",
        "* class_weights\n",
        "* horizontal_flip=True\n",
        "* Dense(256, ReLU)"
      ],
      "metadata": {
        "id": "2-5GuMw96gyk"
      }
    },
    {
      "cell_type": "code",
      "source": [
        "def model_train(dense_value):\n",
        "    # Размер изображений и параметры\n",
        "    IMG_SIZE = (224, 224)  # MobileNetV2 лучше работает с этим размером\n",
        "    BATCH_SIZE = 32\n",
        "\n",
        "    # Аугментация\n",
        "    train_datagen = ImageDataGenerator(\n",
        "        rescale=1./255,\n",
        "        rotation_range=10,\n",
        "        width_shift_range=0.1,\n",
        "        height_shift_range=0.1,\n",
        "        zoom_range=0.1,\n",
        "        brightness_range=[0.9, 1.1],\n",
        "        horizontal_flip=True #             [!]\n",
        "    )\n",
        "\n",
        "    val_test_datagen = ImageDataGenerator(rescale=1./255)\n",
        "\n",
        "    # Генераторы\n",
        "    train_generator = train_datagen.flow_from_directory(\n",
        "        train_dir,\n",
        "        target_size=IMG_SIZE,\n",
        "        batch_size=BATCH_SIZE,\n",
        "        class_mode='binary',\n",
        "        color_mode='rgb'\n",
        "    )\n",
        "\n",
        "    val_generator = val_test_datagen.flow_from_directory(\n",
        "        val_dir,\n",
        "        target_size=IMG_SIZE,\n",
        "        batch_size=BATCH_SIZE,\n",
        "        class_mode='binary',\n",
        "        shuffle=False,\n",
        "        color_mode='rgb'\n",
        "    )\n",
        "\n",
        "    test_generator = val_test_datagen.flow_from_directory(\n",
        "        test_dir,\n",
        "        target_size=IMG_SIZE,\n",
        "        batch_size=BATCH_SIZE,\n",
        "        class_mode='binary',\n",
        "        shuffle=False,\n",
        "        color_mode='rgb'\n",
        "    )\n",
        "\n",
        "    print()\n",
        "\n",
        "    # class_weights      [!]\n",
        "    class_weights = compute_class_weight('balanced',\n",
        "                                         classes=np.unique(train_generator.classes),\n",
        "                                         y=train_generator.classes)\n",
        "    class_weights = dict(enumerate(class_weights))\n",
        "    print(class_weights)\n",
        "\n",
        "    print()\n",
        "\n",
        "    # CosineDecay\n",
        "    initial_learning_rate = 0.0001\n",
        "    decay_steps = len(train_generator) * 10  # 10 эпох\n",
        "\n",
        "    lr_schedule = tf.keras.optimizers.schedules.CosineDecay(\n",
        "        initial_learning_rate,\n",
        "        decay_steps\n",
        "        )\n",
        "\n",
        "    # Загрузка MobileNetV2 без верхушки\n",
        "    base_model = MobileNetV2(input_shape=(224, 224, 3), include_top=False, weights='imagenet')\n",
        "    base_model.trainable = False  # Фиксируем веса\n",
        "\n",
        "    # Добавляем слои классификации\n",
        "    model = Sequential([\n",
        "        base_model,\n",
        "        layers.GlobalAveragePooling2D(),\n",
        "        layers.Dense(dense_value, activation='relu'),\n",
        "        layers.Dropout(0.5),\n",
        "        layers.Dense(1, activation='sigmoid')\n",
        "    ])\n",
        "\n",
        "    # Компиляция модели\n",
        "    model.compile(\n",
        "        optimizer=Adam(learning_rate=lr_schedule), # CosineDecay [!]\n",
        "        loss='binary_crossentropy',\n",
        "        metrics=[\n",
        "            'AUC',\n",
        "            'Recall',\n",
        "            'Precision',\n",
        "            'accuracy'\n",
        "        ]\n",
        "    )\n",
        "\n",
        "    # Отображение информации об устройстве сети:\n",
        "    model.summary()\n",
        "\n",
        "    print()\n",
        "\n",
        "    # Обучение модели\n",
        "    EPOCHS = 10\n",
        "\n",
        "    start = time.time() # Фиксация времени\n",
        "\n",
        "    history = model.fit(\n",
        "        train_generator,\n",
        "        epochs=EPOCHS,\n",
        "        validation_data=val_generator,\n",
        "        class_weight=class_weights #      [!]\n",
        "    )\n",
        "\n",
        "    end = time.time() # Фиксация времени\n",
        "\n",
        "    model_history = history.history\n",
        "    model_history['Wall time'] = end - start\n",
        "\n",
        "    print()\n",
        "\n",
        "    for k, v in model_history.items():\n",
        "        print(k, v)\n",
        "\n",
        "    return model, model_history"
      ],
      "metadata": {
        "id": "d-HEBWGH6gyk"
      },
      "execution_count": null,
      "outputs": []
    },
    {
      "cell_type": "code",
      "source": [
        "model, model_history = model_train(dense_value=256)"
      ],
      "metadata": {
        "colab": {
          "base_uri": "https://localhost:8080/",
          "height": 1000
        },
        "outputId": "044adf2a-1fbb-4773-9db0-79e4eee8f704",
        "id": "5kVjuUGK6gyl"
      },
      "execution_count": null,
      "outputs": [
        {
          "output_type": "stream",
          "name": "stdout",
          "text": [
            "Found 5216 images belonging to 2 classes.\n",
            "Found 624 images belonging to 2 classes.\n",
            "Found 16 images belonging to 2 classes.\n",
            "\n",
            "{0: np.float64(1.9448173005219984), 1: np.float64(0.6730322580645162)}\n",
            "\n",
            "Downloading data from https://storage.googleapis.com/tensorflow/keras-applications/mobilenet_v2/mobilenet_v2_weights_tf_dim_ordering_tf_kernels_1.0_224_no_top.h5\n",
            "\u001b[1m9406464/9406464\u001b[0m \u001b[32m━━━━━━━━━━━━━━━━━━━━\u001b[0m\u001b[37m\u001b[0m \u001b[1m0s\u001b[0m 0us/step\n"
          ]
        },
        {
          "output_type": "display_data",
          "data": {
            "text/plain": [
              "\u001b[1mModel: \"sequential\"\u001b[0m\n"
            ],
            "text/html": [
              "<pre style=\"white-space:pre;overflow-x:auto;line-height:normal;font-family:Menlo,'DejaVu Sans Mono',consolas,'Courier New',monospace\"><span style=\"font-weight: bold\">Model: \"sequential\"</span>\n",
              "</pre>\n"
            ]
          },
          "metadata": {}
        },
        {
          "output_type": "display_data",
          "data": {
            "text/plain": [
              "┏━━━━━━━━━━━━━━━━━━━━━━━━━━━━━━━━━┳━━━━━━━━━━━━━━━━━━━━━━━━┳━━━━━━━━━━━━━━━┓\n",
              "┃\u001b[1m \u001b[0m\u001b[1mLayer (type)                   \u001b[0m\u001b[1m \u001b[0m┃\u001b[1m \u001b[0m\u001b[1mOutput Shape          \u001b[0m\u001b[1m \u001b[0m┃\u001b[1m \u001b[0m\u001b[1m      Param #\u001b[0m\u001b[1m \u001b[0m┃\n",
              "┡━━━━━━━━━━━━━━━━━━━━━━━━━━━━━━━━━╇━━━━━━━━━━━━━━━━━━━━━━━━╇━━━━━━━━━━━━━━━┩\n",
              "│ mobilenetv2_1.00_224            │ (\u001b[38;5;45mNone\u001b[0m, \u001b[38;5;34m7\u001b[0m, \u001b[38;5;34m7\u001b[0m, \u001b[38;5;34m1280\u001b[0m)     │     \u001b[38;5;34m2,257,984\u001b[0m │\n",
              "│ (\u001b[38;5;33mFunctional\u001b[0m)                    │                        │               │\n",
              "├─────────────────────────────────┼────────────────────────┼───────────────┤\n",
              "│ global_average_pooling2d        │ (\u001b[38;5;45mNone\u001b[0m, \u001b[38;5;34m1280\u001b[0m)           │             \u001b[38;5;34m0\u001b[0m │\n",
              "│ (\u001b[38;5;33mGlobalAveragePooling2D\u001b[0m)        │                        │               │\n",
              "├─────────────────────────────────┼────────────────────────┼───────────────┤\n",
              "│ dense (\u001b[38;5;33mDense\u001b[0m)                   │ (\u001b[38;5;45mNone\u001b[0m, \u001b[38;5;34m256\u001b[0m)            │       \u001b[38;5;34m327,936\u001b[0m │\n",
              "├─────────────────────────────────┼────────────────────────┼───────────────┤\n",
              "│ dropout (\u001b[38;5;33mDropout\u001b[0m)               │ (\u001b[38;5;45mNone\u001b[0m, \u001b[38;5;34m256\u001b[0m)            │             \u001b[38;5;34m0\u001b[0m │\n",
              "├─────────────────────────────────┼────────────────────────┼───────────────┤\n",
              "│ dense_1 (\u001b[38;5;33mDense\u001b[0m)                 │ (\u001b[38;5;45mNone\u001b[0m, \u001b[38;5;34m1\u001b[0m)              │           \u001b[38;5;34m257\u001b[0m │\n",
              "└─────────────────────────────────┴────────────────────────┴───────────────┘\n"
            ],
            "text/html": [
              "<pre style=\"white-space:pre;overflow-x:auto;line-height:normal;font-family:Menlo,'DejaVu Sans Mono',consolas,'Courier New',monospace\">┏━━━━━━━━━━━━━━━━━━━━━━━━━━━━━━━━━┳━━━━━━━━━━━━━━━━━━━━━━━━┳━━━━━━━━━━━━━━━┓\n",
              "┃<span style=\"font-weight: bold\"> Layer (type)                    </span>┃<span style=\"font-weight: bold\"> Output Shape           </span>┃<span style=\"font-weight: bold\">       Param # </span>┃\n",
              "┡━━━━━━━━━━━━━━━━━━━━━━━━━━━━━━━━━╇━━━━━━━━━━━━━━━━━━━━━━━━╇━━━━━━━━━━━━━━━┩\n",
              "│ mobilenetv2_1.00_224            │ (<span style=\"color: #00d7ff; text-decoration-color: #00d7ff\">None</span>, <span style=\"color: #00af00; text-decoration-color: #00af00\">7</span>, <span style=\"color: #00af00; text-decoration-color: #00af00\">7</span>, <span style=\"color: #00af00; text-decoration-color: #00af00\">1280</span>)     │     <span style=\"color: #00af00; text-decoration-color: #00af00\">2,257,984</span> │\n",
              "│ (<span style=\"color: #0087ff; text-decoration-color: #0087ff\">Functional</span>)                    │                        │               │\n",
              "├─────────────────────────────────┼────────────────────────┼───────────────┤\n",
              "│ global_average_pooling2d        │ (<span style=\"color: #00d7ff; text-decoration-color: #00d7ff\">None</span>, <span style=\"color: #00af00; text-decoration-color: #00af00\">1280</span>)           │             <span style=\"color: #00af00; text-decoration-color: #00af00\">0</span> │\n",
              "│ (<span style=\"color: #0087ff; text-decoration-color: #0087ff\">GlobalAveragePooling2D</span>)        │                        │               │\n",
              "├─────────────────────────────────┼────────────────────────┼───────────────┤\n",
              "│ dense (<span style=\"color: #0087ff; text-decoration-color: #0087ff\">Dense</span>)                   │ (<span style=\"color: #00d7ff; text-decoration-color: #00d7ff\">None</span>, <span style=\"color: #00af00; text-decoration-color: #00af00\">256</span>)            │       <span style=\"color: #00af00; text-decoration-color: #00af00\">327,936</span> │\n",
              "├─────────────────────────────────┼────────────────────────┼───────────────┤\n",
              "│ dropout (<span style=\"color: #0087ff; text-decoration-color: #0087ff\">Dropout</span>)               │ (<span style=\"color: #00d7ff; text-decoration-color: #00d7ff\">None</span>, <span style=\"color: #00af00; text-decoration-color: #00af00\">256</span>)            │             <span style=\"color: #00af00; text-decoration-color: #00af00\">0</span> │\n",
              "├─────────────────────────────────┼────────────────────────┼───────────────┤\n",
              "│ dense_1 (<span style=\"color: #0087ff; text-decoration-color: #0087ff\">Dense</span>)                 │ (<span style=\"color: #00d7ff; text-decoration-color: #00d7ff\">None</span>, <span style=\"color: #00af00; text-decoration-color: #00af00\">1</span>)              │           <span style=\"color: #00af00; text-decoration-color: #00af00\">257</span> │\n",
              "└─────────────────────────────────┴────────────────────────┴───────────────┘\n",
              "</pre>\n"
            ]
          },
          "metadata": {}
        },
        {
          "output_type": "display_data",
          "data": {
            "text/plain": [
              "\u001b[1m Total params: \u001b[0m\u001b[38;5;34m2,586,177\u001b[0m (9.87 MB)\n"
            ],
            "text/html": [
              "<pre style=\"white-space:pre;overflow-x:auto;line-height:normal;font-family:Menlo,'DejaVu Sans Mono',consolas,'Courier New',monospace\"><span style=\"font-weight: bold\"> Total params: </span><span style=\"color: #00af00; text-decoration-color: #00af00\">2,586,177</span> (9.87 MB)\n",
              "</pre>\n"
            ]
          },
          "metadata": {}
        },
        {
          "output_type": "display_data",
          "data": {
            "text/plain": [
              "\u001b[1m Trainable params: \u001b[0m\u001b[38;5;34m328,193\u001b[0m (1.25 MB)\n"
            ],
            "text/html": [
              "<pre style=\"white-space:pre;overflow-x:auto;line-height:normal;font-family:Menlo,'DejaVu Sans Mono',consolas,'Courier New',monospace\"><span style=\"font-weight: bold\"> Trainable params: </span><span style=\"color: #00af00; text-decoration-color: #00af00\">328,193</span> (1.25 MB)\n",
              "</pre>\n"
            ]
          },
          "metadata": {}
        },
        {
          "output_type": "display_data",
          "data": {
            "text/plain": [
              "\u001b[1m Non-trainable params: \u001b[0m\u001b[38;5;34m2,257,984\u001b[0m (8.61 MB)\n"
            ],
            "text/html": [
              "<pre style=\"white-space:pre;overflow-x:auto;line-height:normal;font-family:Menlo,'DejaVu Sans Mono',consolas,'Courier New',monospace\"><span style=\"font-weight: bold\"> Non-trainable params: </span><span style=\"color: #00af00; text-decoration-color: #00af00\">2,257,984</span> (8.61 MB)\n",
              "</pre>\n"
            ]
          },
          "metadata": {}
        },
        {
          "output_type": "stream",
          "name": "stdout",
          "text": [
            "\n"
          ]
        },
        {
          "output_type": "stream",
          "name": "stderr",
          "text": [
            "/usr/local/lib/python3.11/dist-packages/keras/src/trainers/data_adapters/py_dataset_adapter.py:121: UserWarning: Your `PyDataset` class should call `super().__init__(**kwargs)` in its constructor. `**kwargs` can include `workers`, `use_multiprocessing`, `max_queue_size`. Do not pass these arguments to `fit()`, as they will be ignored.\n",
            "  self._warn_if_super_not_called()\n"
          ]
        },
        {
          "output_type": "stream",
          "name": "stdout",
          "text": [
            "Epoch 1/10\n",
            "\u001b[1m163/163\u001b[0m \u001b[32m━━━━━━━━━━━━━━━━━━━━\u001b[0m\u001b[37m\u001b[0m \u001b[1m129s\u001b[0m 716ms/step - AUC: 0.8401 - Precision: 0.8987 - Recall: 0.7517 - accuracy: 0.7565 - loss: 0.4704 - val_AUC: 0.9519 - val_Precision: 0.8975 - val_Recall: 0.9205 - val_accuracy: 0.8846 - val_loss: 0.2805\n",
            "Epoch 2/10\n",
            "\u001b[1m163/163\u001b[0m \u001b[32m━━━━━━━━━━━━━━━━━━━━\u001b[0m\u001b[37m\u001b[0m \u001b[1m108s\u001b[0m 664ms/step - AUC: 0.9779 - Precision: 0.9757 - Recall: 0.9052 - accuracy: 0.9135 - loss: 0.1954 - val_AUC: 0.9604 - val_Precision: 0.9093 - val_Recall: 0.9256 - val_accuracy: 0.8958 - val_loss: 0.2510\n",
            "Epoch 3/10\n",
            "\u001b[1m163/163\u001b[0m \u001b[32m━━━━━━━━━━━━━━━━━━━━\u001b[0m\u001b[37m\u001b[0m \u001b[1m141s\u001b[0m 660ms/step - AUC: 0.9832 - Precision: 0.9816 - Recall: 0.9182 - accuracy: 0.9262 - loss: 0.1653 - val_AUC: 0.9669 - val_Precision: 0.9144 - val_Recall: 0.9308 - val_accuracy: 0.9022 - val_loss: 0.2301\n",
            "Epoch 4/10\n",
            "\u001b[1m163/163\u001b[0m \u001b[32m━━━━━━━━━━━━━━━━━━━━\u001b[0m\u001b[37m\u001b[0m \u001b[1m141s\u001b[0m 658ms/step - AUC: 0.9866 - Precision: 0.9815 - Recall: 0.9278 - accuracy: 0.9335 - loss: 0.1487 - val_AUC: 0.9670 - val_Precision: 0.9188 - val_Recall: 0.9282 - val_accuracy: 0.9038 - val_loss: 0.2272\n",
            "Epoch 5/10\n",
            "\u001b[1m163/163\u001b[0m \u001b[32m━━━━━━━━━━━━━━━━━━━━\u001b[0m\u001b[37m\u001b[0m \u001b[1m109s\u001b[0m 666ms/step - AUC: 0.9861 - Precision: 0.9848 - Recall: 0.9262 - accuracy: 0.9347 - loss: 0.1509 - val_AUC: 0.9673 - val_Precision: 0.9179 - val_Recall: 0.9179 - val_accuracy: 0.8974 - val_loss: 0.2258\n",
            "Epoch 6/10\n",
            "\u001b[1m163/163\u001b[0m \u001b[32m━━━━━━━━━━━━━━━━━━━━\u001b[0m\u001b[37m\u001b[0m \u001b[1m142s\u001b[0m 669ms/step - AUC: 0.9892 - Precision: 0.9864 - Recall: 0.9364 - accuracy: 0.9432 - loss: 0.1327 - val_AUC: 0.9689 - val_Precision: 0.9146 - val_Recall: 0.9333 - val_accuracy: 0.9038 - val_loss: 0.2200\n",
            "Epoch 7/10\n",
            "\u001b[1m163/163\u001b[0m \u001b[32m━━━━━━━━━━━━━━━━━━━━\u001b[0m\u001b[37m\u001b[0m \u001b[1m108s\u001b[0m 661ms/step - AUC: 0.9892 - Precision: 0.9864 - Recall: 0.9397 - accuracy: 0.9451 - loss: 0.1322 - val_AUC: 0.9693 - val_Precision: 0.8913 - val_Recall: 0.9462 - val_accuracy: 0.8942 - val_loss: 0.2271\n",
            "Epoch 8/10\n",
            "\u001b[1m163/163\u001b[0m \u001b[32m━━━━━━━━━━━━━━━━━━━━\u001b[0m\u001b[37m\u001b[0m \u001b[1m143s\u001b[0m 664ms/step - AUC: 0.9887 - Precision: 0.9832 - Recall: 0.9456 - accuracy: 0.9475 - loss: 0.1328 - val_AUC: 0.9687 - val_Precision: 0.8932 - val_Recall: 0.9436 - val_accuracy: 0.8942 - val_loss: 0.2265\n",
            "Epoch 9/10\n",
            "\u001b[1m163/163\u001b[0m \u001b[32m━━━━━━━━━━━━━━━━━━━━\u001b[0m\u001b[37m\u001b[0m \u001b[1m108s\u001b[0m 664ms/step - AUC: 0.9903 - Precision: 0.9868 - Recall: 0.9440 - accuracy: 0.9487 - loss: 0.1255 - val_AUC: 0.9686 - val_Precision: 0.9039 - val_Recall: 0.9410 - val_accuracy: 0.9006 - val_loss: 0.2235\n",
            "Epoch 10/10\n",
            "\u001b[1m163/163\u001b[0m \u001b[32m━━━━━━━━━━━━━━━━━━━━\u001b[0m\u001b[37m\u001b[0m \u001b[1m143s\u001b[0m 667ms/step - AUC: 0.9885 - Precision: 0.9891 - Recall: 0.9354 - accuracy: 0.9435 - loss: 0.1302 - val_AUC: 0.9687 - val_Precision: 0.9039 - val_Recall: 0.9410 - val_accuracy: 0.9006 - val_loss: 0.2237\n",
            "\n",
            "AUC [0.9331404566764832, 0.9791849255561829, 0.9827660918235779, 0.9853661060333252, 0.986622154712677, 0.9881009459495544, 0.98961341381073, 0.9886504411697388, 0.9895856380462646, 0.989715039730072]\n",
            "Precision [0.9469233155250549, 0.9778822064399719, 0.980986475944519, 0.9827916026115417, 0.9828009605407715, 0.9824324250221252, 0.9869529604911804, 0.9859724640846252, 0.9870094656944275, 0.9885993599891663]\n",
            "Recall [0.8379355072975159, 0.9127742052078247, 0.9187096953392029, 0.928516149520874, 0.9290322661399841, 0.9380645155906677, 0.9370322823524475, 0.9432258009910583, 0.9411612749099731, 0.9398709535598755]\n",
            "accuracy [0.8447085618972778, 0.9198619723320007, 0.9263803958892822, 0.9348159432411194, 0.9351993799209595, 0.9415260553359985, 0.9440184235572815, 0.9478527903556824, 0.9470859169960022, 0.9472776055335999]\n",
            "loss [0.3283650279045105, 0.18493910133838654, 0.16754013299942017, 0.15199604630470276, 0.1471060961484909, 0.13814066350460052, 0.12973706424236298, 0.13197295367717743, 0.12814733386039734, 0.1257513016462326]\n",
            "val_AUC [0.9518681764602661, 0.9603933691978455, 0.9668639302253723, 0.9670118093490601, 0.9672967195510864, 0.9689074754714966, 0.9692855477333069, 0.9687376618385315, 0.9686499834060669, 0.968671977519989]\n",
            "val_Precision [0.8974999785423279, 0.9093198776245117, 0.9143576622009277, 0.9187816977500916, 0.9179487228393555, 0.9145728349685669, 0.8913043737411499, 0.893203854560852, 0.9039409160614014, 0.9039409160614014]\n",
            "val_Recall [0.9205127954483032, 0.9256410002708435, 0.9307692050933838, 0.928205132484436, 0.9179487228393555, 0.9333333373069763, 0.9461538195610046, 0.9435897469520569, 0.9410256147384644, 0.9410256147384644]\n",
            "val_accuracy [0.8846153616905212, 0.8958333134651184, 0.9022436141967773, 0.9038461446762085, 0.8974359035491943, 0.9038461446762085, 0.8942307829856873, 0.8942307829856873, 0.9006410241127014, 0.9006410241127014]\n",
            "val_loss [0.28054746985435486, 0.2510477602481842, 0.23014168441295624, 0.2272404432296753, 0.2257537543773651, 0.21995197236537933, 0.22711150348186493, 0.22646492719650269, 0.22351191937923431, 0.22367499768733978]\n",
            "Wall time 1306.46311211586\n"
          ]
        }
      ]
    },
    {
      "cell_type": "code",
      "source": [
        "cfg = 'cfg_6.2'\n",
        "add_result(cfg, model_history)\n",
        "model.save(f\"/content/drive/MyDrive/DS/chest-xray-pneumonia/MobileNetV2-{cfg}.keras\")"
      ],
      "metadata": {
        "id": "jUNZFVyh6gyl"
      },
      "execution_count": null,
      "outputs": []
    },
    {
      "cell_type": "markdown",
      "source": [
        "# cfg 7.0\n",
        "* learning_rate=0.00005\n",
        "* class_weights\n",
        "* horizontal_flip=True\n",
        "* Dense(256, ReLU) + <font color=orange>Dense(128, ReLU)</font>"
      ],
      "metadata": {
        "id": "3HVhBhMnIPKg"
      }
    },
    {
      "cell_type": "code",
      "source": [
        "def model_train(learning_rate, dense_value_1, dense_value_2):\n",
        "    # Размер изображений и параметры\n",
        "    IMG_SIZE = (224, 224)  # MobileNetV2 лучше работает с этим размером\n",
        "    BATCH_SIZE = 32\n",
        "\n",
        "    # Аугментация\n",
        "    train_datagen = ImageDataGenerator(\n",
        "        rescale=1./255,\n",
        "        rotation_range=10,\n",
        "        width_shift_range=0.1,\n",
        "        height_shift_range=0.1,\n",
        "        zoom_range=0.1,\n",
        "        brightness_range=[0.9, 1.1],\n",
        "        horizontal_flip=True #             [!]\n",
        "    )\n",
        "\n",
        "    val_test_datagen = ImageDataGenerator(rescale=1./255)\n",
        "\n",
        "    # Генераторы\n",
        "    train_generator = train_datagen.flow_from_directory(\n",
        "        train_dir,\n",
        "        target_size=IMG_SIZE,\n",
        "        batch_size=BATCH_SIZE,\n",
        "        class_mode='binary',\n",
        "        color_mode='rgb'\n",
        "    )\n",
        "\n",
        "    val_generator = val_test_datagen.flow_from_directory(\n",
        "        val_dir,\n",
        "        target_size=IMG_SIZE,\n",
        "        batch_size=BATCH_SIZE,\n",
        "        class_mode='binary',\n",
        "        shuffle=False,\n",
        "        color_mode='rgb'\n",
        "    )\n",
        "\n",
        "    test_generator = val_test_datagen.flow_from_directory(\n",
        "        test_dir,\n",
        "        target_size=IMG_SIZE,\n",
        "        batch_size=BATCH_SIZE,\n",
        "        class_mode='binary',\n",
        "        shuffle=False,\n",
        "        color_mode='rgb'\n",
        "    )\n",
        "\n",
        "    print()\n",
        "\n",
        "    # class_weights      [!]\n",
        "    class_weights = compute_class_weight('balanced',\n",
        "                                         classes=np.unique(train_generator.classes),\n",
        "                                         y=train_generator.classes)\n",
        "    class_weights = dict(enumerate(class_weights))\n",
        "    print(class_weights)\n",
        "\n",
        "    print()\n",
        "\n",
        "    # Загрузка MobileNetV2 без верхушки\n",
        "    base_model = MobileNetV2(input_shape=(224, 224, 3), include_top=False, weights='imagenet')\n",
        "    base_model.trainable = False  # Фиксируем веса\n",
        "\n",
        "    # Добавляем слои классификации\n",
        "    model = Sequential([\n",
        "        base_model,\n",
        "        layers.GlobalAveragePooling2D(),\n",
        "        layers.Dense(dense_value_1, activation='relu'),\n",
        "        layers.Dense(dense_value_2, activation='relu'), #      [!]\n",
        "        layers.Dropout(0.5),\n",
        "        layers.Dense(1, activation='sigmoid')\n",
        "    ])\n",
        "\n",
        "    # Компиляция модели\n",
        "    model.compile(\n",
        "        optimizer=Adam(learning_rate=learning_rate),\n",
        "        loss='binary_crossentropy',\n",
        "        metrics=[\n",
        "            'AUC',\n",
        "            'Recall',\n",
        "            'Precision',\n",
        "            'accuracy'\n",
        "        ]\n",
        "    )\n",
        "\n",
        "    # Отображение информации об устройстве сети:\n",
        "    model.summary()\n",
        "\n",
        "    print()\n",
        "\n",
        "    # Обучение модели\n",
        "    EPOCHS = 10\n",
        "\n",
        "    start = time.time() # Фиксация времени\n",
        "\n",
        "    history = model.fit(\n",
        "        train_generator,\n",
        "        epochs=EPOCHS,\n",
        "        validation_data=val_generator,\n",
        "        class_weight=class_weights #      [!]\n",
        "    )\n",
        "\n",
        "    end = time.time() # Фиксация времени\n",
        "\n",
        "    model_history = history.history\n",
        "    model_history['Wall time'] = end - start\n",
        "\n",
        "    print()\n",
        "\n",
        "    for k, v in model_history.items():\n",
        "        print(k, v)\n",
        "\n",
        "    return model, model_history"
      ],
      "metadata": {
        "id": "Or33ayR3IPKg"
      },
      "execution_count": null,
      "outputs": []
    },
    {
      "cell_type": "code",
      "source": [
        "model, model_history = model_train(learning_rate=0.00005, dense_value_1=256, dense_value_2=128)"
      ],
      "metadata": {
        "colab": {
          "base_uri": "https://localhost:8080/",
          "height": 1000
        },
        "outputId": "e834f4ef-c55e-4627-e486-9b791e16bf15",
        "id": "oTCvqlV4IPKh"
      },
      "execution_count": null,
      "outputs": [
        {
          "output_type": "stream",
          "name": "stdout",
          "text": [
            "Found 5216 images belonging to 2 classes.\n",
            "Found 624 images belonging to 2 classes.\n",
            "Found 16 images belonging to 2 classes.\n",
            "\n",
            "{0: np.float64(1.9448173005219984), 1: np.float64(0.6730322580645162)}\n",
            "\n"
          ]
        },
        {
          "output_type": "display_data",
          "data": {
            "text/plain": [
              "\u001b[1mModel: \"sequential_1\"\u001b[0m\n"
            ],
            "text/html": [
              "<pre style=\"white-space:pre;overflow-x:auto;line-height:normal;font-family:Menlo,'DejaVu Sans Mono',consolas,'Courier New',monospace\"><span style=\"font-weight: bold\">Model: \"sequential_1\"</span>\n",
              "</pre>\n"
            ]
          },
          "metadata": {}
        },
        {
          "output_type": "display_data",
          "data": {
            "text/plain": [
              "┏━━━━━━━━━━━━━━━━━━━━━━━━━━━━━━━━━┳━━━━━━━━━━━━━━━━━━━━━━━━┳━━━━━━━━━━━━━━━┓\n",
              "┃\u001b[1m \u001b[0m\u001b[1mLayer (type)                   \u001b[0m\u001b[1m \u001b[0m┃\u001b[1m \u001b[0m\u001b[1mOutput Shape          \u001b[0m\u001b[1m \u001b[0m┃\u001b[1m \u001b[0m\u001b[1m      Param #\u001b[0m\u001b[1m \u001b[0m┃\n",
              "┡━━━━━━━━━━━━━━━━━━━━━━━━━━━━━━━━━╇━━━━━━━━━━━━━━━━━━━━━━━━╇━━━━━━━━━━━━━━━┩\n",
              "│ mobilenetv2_1.00_224            │ (\u001b[38;5;45mNone\u001b[0m, \u001b[38;5;34m7\u001b[0m, \u001b[38;5;34m7\u001b[0m, \u001b[38;5;34m1280\u001b[0m)     │     \u001b[38;5;34m2,257,984\u001b[0m │\n",
              "│ (\u001b[38;5;33mFunctional\u001b[0m)                    │                        │               │\n",
              "├─────────────────────────────────┼────────────────────────┼───────────────┤\n",
              "│ global_average_pooling2d_1      │ (\u001b[38;5;45mNone\u001b[0m, \u001b[38;5;34m1280\u001b[0m)           │             \u001b[38;5;34m0\u001b[0m │\n",
              "│ (\u001b[38;5;33mGlobalAveragePooling2D\u001b[0m)        │                        │               │\n",
              "├─────────────────────────────────┼────────────────────────┼───────────────┤\n",
              "│ dense_2 (\u001b[38;5;33mDense\u001b[0m)                 │ (\u001b[38;5;45mNone\u001b[0m, \u001b[38;5;34m256\u001b[0m)            │       \u001b[38;5;34m327,936\u001b[0m │\n",
              "├─────────────────────────────────┼────────────────────────┼───────────────┤\n",
              "│ dense_3 (\u001b[38;5;33mDense\u001b[0m)                 │ (\u001b[38;5;45mNone\u001b[0m, \u001b[38;5;34m128\u001b[0m)            │        \u001b[38;5;34m32,896\u001b[0m │\n",
              "├─────────────────────────────────┼────────────────────────┼───────────────┤\n",
              "│ dropout_1 (\u001b[38;5;33mDropout\u001b[0m)             │ (\u001b[38;5;45mNone\u001b[0m, \u001b[38;5;34m128\u001b[0m)            │             \u001b[38;5;34m0\u001b[0m │\n",
              "├─────────────────────────────────┼────────────────────────┼───────────────┤\n",
              "│ dense_4 (\u001b[38;5;33mDense\u001b[0m)                 │ (\u001b[38;5;45mNone\u001b[0m, \u001b[38;5;34m1\u001b[0m)              │           \u001b[38;5;34m129\u001b[0m │\n",
              "└─────────────────────────────────┴────────────────────────┴───────────────┘\n"
            ],
            "text/html": [
              "<pre style=\"white-space:pre;overflow-x:auto;line-height:normal;font-family:Menlo,'DejaVu Sans Mono',consolas,'Courier New',monospace\">┏━━━━━━━━━━━━━━━━━━━━━━━━━━━━━━━━━┳━━━━━━━━━━━━━━━━━━━━━━━━┳━━━━━━━━━━━━━━━┓\n",
              "┃<span style=\"font-weight: bold\"> Layer (type)                    </span>┃<span style=\"font-weight: bold\"> Output Shape           </span>┃<span style=\"font-weight: bold\">       Param # </span>┃\n",
              "┡━━━━━━━━━━━━━━━━━━━━━━━━━━━━━━━━━╇━━━━━━━━━━━━━━━━━━━━━━━━╇━━━━━━━━━━━━━━━┩\n",
              "│ mobilenetv2_1.00_224            │ (<span style=\"color: #00d7ff; text-decoration-color: #00d7ff\">None</span>, <span style=\"color: #00af00; text-decoration-color: #00af00\">7</span>, <span style=\"color: #00af00; text-decoration-color: #00af00\">7</span>, <span style=\"color: #00af00; text-decoration-color: #00af00\">1280</span>)     │     <span style=\"color: #00af00; text-decoration-color: #00af00\">2,257,984</span> │\n",
              "│ (<span style=\"color: #0087ff; text-decoration-color: #0087ff\">Functional</span>)                    │                        │               │\n",
              "├─────────────────────────────────┼────────────────────────┼───────────────┤\n",
              "│ global_average_pooling2d_1      │ (<span style=\"color: #00d7ff; text-decoration-color: #00d7ff\">None</span>, <span style=\"color: #00af00; text-decoration-color: #00af00\">1280</span>)           │             <span style=\"color: #00af00; text-decoration-color: #00af00\">0</span> │\n",
              "│ (<span style=\"color: #0087ff; text-decoration-color: #0087ff\">GlobalAveragePooling2D</span>)        │                        │               │\n",
              "├─────────────────────────────────┼────────────────────────┼───────────────┤\n",
              "│ dense_2 (<span style=\"color: #0087ff; text-decoration-color: #0087ff\">Dense</span>)                 │ (<span style=\"color: #00d7ff; text-decoration-color: #00d7ff\">None</span>, <span style=\"color: #00af00; text-decoration-color: #00af00\">256</span>)            │       <span style=\"color: #00af00; text-decoration-color: #00af00\">327,936</span> │\n",
              "├─────────────────────────────────┼────────────────────────┼───────────────┤\n",
              "│ dense_3 (<span style=\"color: #0087ff; text-decoration-color: #0087ff\">Dense</span>)                 │ (<span style=\"color: #00d7ff; text-decoration-color: #00d7ff\">None</span>, <span style=\"color: #00af00; text-decoration-color: #00af00\">128</span>)            │        <span style=\"color: #00af00; text-decoration-color: #00af00\">32,896</span> │\n",
              "├─────────────────────────────────┼────────────────────────┼───────────────┤\n",
              "│ dropout_1 (<span style=\"color: #0087ff; text-decoration-color: #0087ff\">Dropout</span>)             │ (<span style=\"color: #00d7ff; text-decoration-color: #00d7ff\">None</span>, <span style=\"color: #00af00; text-decoration-color: #00af00\">128</span>)            │             <span style=\"color: #00af00; text-decoration-color: #00af00\">0</span> │\n",
              "├─────────────────────────────────┼────────────────────────┼───────────────┤\n",
              "│ dense_4 (<span style=\"color: #0087ff; text-decoration-color: #0087ff\">Dense</span>)                 │ (<span style=\"color: #00d7ff; text-decoration-color: #00d7ff\">None</span>, <span style=\"color: #00af00; text-decoration-color: #00af00\">1</span>)              │           <span style=\"color: #00af00; text-decoration-color: #00af00\">129</span> │\n",
              "└─────────────────────────────────┴────────────────────────┴───────────────┘\n",
              "</pre>\n"
            ]
          },
          "metadata": {}
        },
        {
          "output_type": "display_data",
          "data": {
            "text/plain": [
              "\u001b[1m Total params: \u001b[0m\u001b[38;5;34m2,618,945\u001b[0m (9.99 MB)\n"
            ],
            "text/html": [
              "<pre style=\"white-space:pre;overflow-x:auto;line-height:normal;font-family:Menlo,'DejaVu Sans Mono',consolas,'Courier New',monospace\"><span style=\"font-weight: bold\"> Total params: </span><span style=\"color: #00af00; text-decoration-color: #00af00\">2,618,945</span> (9.99 MB)\n",
              "</pre>\n"
            ]
          },
          "metadata": {}
        },
        {
          "output_type": "display_data",
          "data": {
            "text/plain": [
              "\u001b[1m Trainable params: \u001b[0m\u001b[38;5;34m360,961\u001b[0m (1.38 MB)\n"
            ],
            "text/html": [
              "<pre style=\"white-space:pre;overflow-x:auto;line-height:normal;font-family:Menlo,'DejaVu Sans Mono',consolas,'Courier New',monospace\"><span style=\"font-weight: bold\"> Trainable params: </span><span style=\"color: #00af00; text-decoration-color: #00af00\">360,961</span> (1.38 MB)\n",
              "</pre>\n"
            ]
          },
          "metadata": {}
        },
        {
          "output_type": "display_data",
          "data": {
            "text/plain": [
              "\u001b[1m Non-trainable params: \u001b[0m\u001b[38;5;34m2,257,984\u001b[0m (8.61 MB)\n"
            ],
            "text/html": [
              "<pre style=\"white-space:pre;overflow-x:auto;line-height:normal;font-family:Menlo,'DejaVu Sans Mono',consolas,'Courier New',monospace\"><span style=\"font-weight: bold\"> Non-trainable params: </span><span style=\"color: #00af00; text-decoration-color: #00af00\">2,257,984</span> (8.61 MB)\n",
              "</pre>\n"
            ]
          },
          "metadata": {}
        },
        {
          "output_type": "stream",
          "name": "stdout",
          "text": [
            "\n"
          ]
        },
        {
          "output_type": "stream",
          "name": "stderr",
          "text": [
            "/usr/local/lib/python3.11/dist-packages/keras/src/trainers/data_adapters/py_dataset_adapter.py:121: UserWarning: Your `PyDataset` class should call `super().__init__(**kwargs)` in its constructor. `**kwargs` can include `workers`, `use_multiprocessing`, `max_queue_size`. Do not pass these arguments to `fit()`, as they will be ignored.\n",
            "  self._warn_if_super_not_called()\n"
          ]
        },
        {
          "output_type": "stream",
          "name": "stdout",
          "text": [
            "Epoch 1/10\n",
            "\u001b[1m163/163\u001b[0m \u001b[32m━━━━━━━━━━━━━━━━━━━━\u001b[0m\u001b[37m\u001b[0m \u001b[1m124s\u001b[0m 700ms/step - AUC: 0.7202 - Precision: 0.8500 - Recall: 0.6492 - accuracy: 0.6619 - loss: 0.6122 - val_AUC: 0.9408 - val_Precision: 0.8518 - val_Recall: 0.9282 - val_accuracy: 0.8542 - val_loss: 0.3308\n",
            "Epoch 2/10\n",
            "\u001b[1m163/163\u001b[0m \u001b[32m━━━━━━━━━━━━━━━━━━━━\u001b[0m\u001b[37m\u001b[0m \u001b[1m107s\u001b[0m 658ms/step - AUC: 0.9718 - Precision: 0.9754 - Recall: 0.9010 - accuracy: 0.9096 - loss: 0.2308 - val_AUC: 0.9561 - val_Precision: 0.8628 - val_Recall: 0.9513 - val_accuracy: 0.8750 - val_loss: 0.2796\n",
            "Epoch 3/10\n",
            "\u001b[1m163/163\u001b[0m \u001b[32m━━━━━━━━━━━━━━━━━━━━\u001b[0m\u001b[37m\u001b[0m \u001b[1m108s\u001b[0m 660ms/step - AUC: 0.9810 - Precision: 0.9800 - Recall: 0.9208 - accuracy: 0.9273 - loss: 0.1784 - val_AUC: 0.9623 - val_Precision: 0.8765 - val_Recall: 0.9462 - val_accuracy: 0.8830 - val_loss: 0.2461\n",
            "Epoch 4/10\n",
            "\u001b[1m163/163\u001b[0m \u001b[32m━━━━━━━━━━━━━━━━━━━━\u001b[0m\u001b[37m\u001b[0m \u001b[1m142s\u001b[0m 659ms/step - AUC: 0.9846 - Precision: 0.9827 - Recall: 0.9265 - accuracy: 0.9329 - loss: 0.1594 - val_AUC: 0.9660 - val_Precision: 0.8523 - val_Recall: 0.9769 - val_accuracy: 0.8798 - val_loss: 0.2804\n",
            "Epoch 5/10\n",
            "\u001b[1m163/163\u001b[0m \u001b[32m━━━━━━━━━━━━━━━━━━━━\u001b[0m\u001b[37m\u001b[0m \u001b[1m109s\u001b[0m 666ms/step - AUC: 0.9878 - Precision: 0.9800 - Recall: 0.9488 - accuracy: 0.9473 - loss: 0.1405 - val_AUC: 0.9664 - val_Precision: 0.9192 - val_Recall: 0.9333 - val_accuracy: 0.9071 - val_loss: 0.2264\n",
            "Epoch 6/10\n",
            "\u001b[1m163/163\u001b[0m \u001b[32m━━━━━━━━━━━━━━━━━━━━\u001b[0m\u001b[37m\u001b[0m \u001b[1m107s\u001b[0m 656ms/step - AUC: 0.9867 - Precision: 0.9860 - Recall: 0.9280 - accuracy: 0.9373 - loss: 0.1483 - val_AUC: 0.9668 - val_Precision: 0.8956 - val_Recall: 0.9462 - val_accuracy: 0.8974 - val_loss: 0.2262\n",
            "Epoch 7/10\n",
            "\u001b[1m163/163\u001b[0m \u001b[32m━━━━━━━━━━━━━━━━━━━━\u001b[0m\u001b[37m\u001b[0m \u001b[1m107s\u001b[0m 659ms/step - AUC: 0.9878 - Precision: 0.9866 - Recall: 0.9387 - accuracy: 0.9451 - loss: 0.1370 - val_AUC: 0.9662 - val_Precision: 0.9207 - val_Recall: 0.9231 - val_accuracy: 0.9022 - val_loss: 0.2285\n",
            "Epoch 8/10\n",
            "\u001b[1m163/163\u001b[0m \u001b[32m━━━━━━━━━━━━━━━━━━━━\u001b[0m\u001b[37m\u001b[0m \u001b[1m113s\u001b[0m 696ms/step - AUC: 0.9869 - Precision: 0.9851 - Recall: 0.9367 - accuracy: 0.9423 - loss: 0.1442 - val_AUC: 0.9660 - val_Precision: 0.8857 - val_Recall: 0.9538 - val_accuracy: 0.8942 - val_loss: 0.2341\n",
            "Epoch 9/10\n",
            "\u001b[1m163/163\u001b[0m \u001b[32m━━━━━━━━━━━━━━━━━━━━\u001b[0m\u001b[37m\u001b[0m \u001b[1m107s\u001b[0m 658ms/step - AUC: 0.9915 - Precision: 0.9856 - Recall: 0.9474 - accuracy: 0.9504 - loss: 0.1169 - val_AUC: 0.9673 - val_Precision: 0.8976 - val_Recall: 0.9436 - val_accuracy: 0.8974 - val_loss: 0.2302\n",
            "Epoch 10/10\n",
            "\u001b[1m163/163\u001b[0m \u001b[32m━━━━━━━━━━━━━━━━━━━━\u001b[0m\u001b[37m\u001b[0m \u001b[1m108s\u001b[0m 662ms/step - AUC: 0.9920 - Precision: 0.9892 - Recall: 0.9541 - accuracy: 0.9582 - loss: 0.1091 - val_AUC: 0.9659 - val_Precision: 0.8829 - val_Recall: 0.9667 - val_accuracy: 0.8990 - val_loss: 0.2467\n",
            "\n",
            "AUC [0.8795535564422607, 0.9743112325668335, 0.9811498522758484, 0.985656201839447, 0.9865561723709106, 0.9864633679389954, 0.9900861382484436, 0.9890434145927429, 0.9903280735015869, 0.9917734265327454]\n",
            "Precision [0.9222155213356018, 0.9771268963813782, 0.9811010956764221, 0.9849397540092468, 0.981974720954895, 0.9858542084693909, 0.9860064387321472, 0.9856756925582886, 0.9852349162101746, 0.9881847500801086]\n",
            "Recall [0.7863225936889648, 0.9039999842643738, 0.9243870973587036, 0.9282580614089966, 0.9419354796409607, 0.935225784778595, 0.945548415184021, 0.9411612749099731, 0.9470967650413513, 0.9496774077415466]\n",
            "accuracy [0.7919861674308777, 0.9129601120948792, 0.9305981397628784, 0.9361580014228821, 0.9440184235572815, 0.9419094920158386, 0.9495782256126404, 0.9461272954940796, 0.9501533508300781, 0.9541794657707214]\n",
            "loss [0.4424498975276947, 0.21387149393558502, 0.1745404750108719, 0.15197362005710602, 0.1450228989124298, 0.14584247767925262, 0.12488020211458206, 0.13145622611045837, 0.12231258302927017, 0.11127235740423203]\n",
            "val_AUC [0.9407736659049988, 0.956070601940155, 0.9622562527656555, 0.9660311937332153, 0.9663598537445068, 0.9667981266975403, 0.9661790132522583, 0.9660366177558899, 0.9672802686691284, 0.9658503532409668]\n",
            "val_Precision [0.8517646789550781, 0.8627907037734985, 0.8764845728874207, 0.8523489832878113, 0.9191918969154358, 0.8956310749053955, 0.9207161068916321, 0.8857142925262451, 0.8975609540939331, 0.8829039931297302]\n",
            "val_Recall [0.928205132484436, 0.9512820243835449, 0.9461538195610046, 0.9769230484962463, 0.9333333373069763, 0.9461538195610046, 0.9230769276618958, 0.9538461565971375, 0.9435897469520569, 0.9666666388511658]\n",
            "val_accuracy [0.8541666865348816, 0.875, 0.8830128312110901, 0.879807710647583, 0.9070512652397156, 0.8974359035491943, 0.9022436141967773, 0.8942307829856873, 0.8974359035491943, 0.8990384340286255]\n",
            "val_loss [0.3308016359806061, 0.2796107530593872, 0.24609340727329254, 0.2803647816181183, 0.22641539573669434, 0.22616760432720184, 0.2285383641719818, 0.2340567409992218, 0.23016823828220367, 0.24673724174499512]\n",
            "Wall time 1133.1013147830963\n"
          ]
        }
      ]
    },
    {
      "cell_type": "code",
      "source": [
        "cfg = 'cfg_7.0'\n",
        "add_result(cfg, model_history)\n",
        "model.save(f\"/content/drive/MyDrive/DS/chest-xray-pneumonia/MobileNetV2-{cfg}.keras\")"
      ],
      "metadata": {
        "id": "dIGNkqWxIPKh"
      },
      "execution_count": null,
      "outputs": []
    },
    {
      "cell_type": "markdown",
      "source": [
        "## cfg 7.1\n",
        "* learning_rate=0.00005\n",
        "* class_weights\n",
        "* horizontal_flip=True\n",
        "* <font color=orange>Dense(128, ReLU) + Dense(64, ReLU)</font>"
      ],
      "metadata": {
        "id": "SwBQ0_VRJ6yT"
      }
    },
    {
      "cell_type": "code",
      "source": [
        "def model_train(learning_rate, dense_value_1, dense_value_2):\n",
        "    # Размер изображений и параметры\n",
        "    IMG_SIZE = (224, 224)  # MobileNetV2 лучше работает с этим размером\n",
        "    BATCH_SIZE = 32\n",
        "\n",
        "    # Аугментация\n",
        "    train_datagen = ImageDataGenerator(\n",
        "        rescale=1./255,\n",
        "        rotation_range=10,\n",
        "        width_shift_range=0.1,\n",
        "        height_shift_range=0.1,\n",
        "        zoom_range=0.1,\n",
        "        brightness_range=[0.9, 1.1],\n",
        "        horizontal_flip=True #             [!]\n",
        "    )\n",
        "\n",
        "    val_test_datagen = ImageDataGenerator(rescale=1./255)\n",
        "\n",
        "    # Генераторы\n",
        "    train_generator = train_datagen.flow_from_directory(\n",
        "        train_dir,\n",
        "        target_size=IMG_SIZE,\n",
        "        batch_size=BATCH_SIZE,\n",
        "        class_mode='binary',\n",
        "        color_mode='rgb'\n",
        "    )\n",
        "\n",
        "    val_generator = val_test_datagen.flow_from_directory(\n",
        "        val_dir,\n",
        "        target_size=IMG_SIZE,\n",
        "        batch_size=BATCH_SIZE,\n",
        "        class_mode='binary',\n",
        "        shuffle=False,\n",
        "        color_mode='rgb'\n",
        "    )\n",
        "\n",
        "    test_generator = val_test_datagen.flow_from_directory(\n",
        "        test_dir,\n",
        "        target_size=IMG_SIZE,\n",
        "        batch_size=BATCH_SIZE,\n",
        "        class_mode='binary',\n",
        "        shuffle=False,\n",
        "        color_mode='rgb'\n",
        "    )\n",
        "\n",
        "    print()\n",
        "\n",
        "    # class_weights      [!]\n",
        "    class_weights = compute_class_weight('balanced',\n",
        "                                         classes=np.unique(train_generator.classes),\n",
        "                                         y=train_generator.classes)\n",
        "    class_weights = dict(enumerate(class_weights))\n",
        "    print(class_weights)\n",
        "\n",
        "    print()\n",
        "\n",
        "    # Загрузка MobileNetV2 без верхушки\n",
        "    base_model = MobileNetV2(input_shape=(224, 224, 3), include_top=False, weights='imagenet')\n",
        "    base_model.trainable = False  # Фиксируем веса\n",
        "\n",
        "    # Добавляем слои классификации\n",
        "    model = Sequential([\n",
        "        base_model,\n",
        "        layers.GlobalAveragePooling2D(),\n",
        "        layers.Dense(dense_value_1, activation='relu'),\n",
        "        layers.Dense(dense_value_2, activation='relu'), #      [!]\n",
        "        layers.Dropout(0.5),\n",
        "        layers.Dense(1, activation='sigmoid')\n",
        "    ])\n",
        "\n",
        "    # Компиляция модели\n",
        "    model.compile(\n",
        "        optimizer=Adam(learning_rate=learning_rate),\n",
        "        loss='binary_crossentropy',\n",
        "        metrics=[\n",
        "            'AUC',\n",
        "            'Recall',\n",
        "            'Precision',\n",
        "            'accuracy'\n",
        "        ]\n",
        "    )\n",
        "\n",
        "    # Отображение информации об устройстве сети:\n",
        "    model.summary()\n",
        "\n",
        "    print()\n",
        "\n",
        "    # Обучение модели\n",
        "    EPOCHS = 10\n",
        "\n",
        "    start = time.time() # Фиксация времени\n",
        "\n",
        "    history = model.fit(\n",
        "        train_generator,\n",
        "        epochs=EPOCHS,\n",
        "        validation_data=val_generator,\n",
        "        class_weight=class_weights #      [!]\n",
        "    )\n",
        "\n",
        "    end = time.time() # Фиксация времени\n",
        "\n",
        "    model_history = history.history\n",
        "    model_history['Wall time'] = end - start\n",
        "\n",
        "    print()\n",
        "\n",
        "    for k, v in model_history.items():\n",
        "        print(k, v)\n",
        "\n",
        "    return model, model_history"
      ],
      "metadata": {
        "id": "InNI7-l6J6yU"
      },
      "execution_count": null,
      "outputs": []
    },
    {
      "cell_type": "code",
      "source": [
        "model, model_history = model_train(learning_rate=0.00005, dense_value_1=128, dense_value_2=64)"
      ],
      "metadata": {
        "colab": {
          "base_uri": "https://localhost:8080/",
          "height": 1000
        },
        "outputId": "310cd658-a251-4f0b-9a9e-11acbe0453d3",
        "id": "upOwX1xCJ6yU"
      },
      "execution_count": null,
      "outputs": [
        {
          "output_type": "stream",
          "name": "stdout",
          "text": [
            "Found 5216 images belonging to 2 classes.\n",
            "Found 624 images belonging to 2 classes.\n",
            "Found 16 images belonging to 2 classes.\n",
            "\n",
            "{0: np.float64(1.9448173005219984), 1: np.float64(0.6730322580645162)}\n",
            "\n"
          ]
        },
        {
          "output_type": "display_data",
          "data": {
            "text/plain": [
              "\u001b[1mModel: \"sequential_2\"\u001b[0m\n"
            ],
            "text/html": [
              "<pre style=\"white-space:pre;overflow-x:auto;line-height:normal;font-family:Menlo,'DejaVu Sans Mono',consolas,'Courier New',monospace\"><span style=\"font-weight: bold\">Model: \"sequential_2\"</span>\n",
              "</pre>\n"
            ]
          },
          "metadata": {}
        },
        {
          "output_type": "display_data",
          "data": {
            "text/plain": [
              "┏━━━━━━━━━━━━━━━━━━━━━━━━━━━━━━━━━┳━━━━━━━━━━━━━━━━━━━━━━━━┳━━━━━━━━━━━━━━━┓\n",
              "┃\u001b[1m \u001b[0m\u001b[1mLayer (type)                   \u001b[0m\u001b[1m \u001b[0m┃\u001b[1m \u001b[0m\u001b[1mOutput Shape          \u001b[0m\u001b[1m \u001b[0m┃\u001b[1m \u001b[0m\u001b[1m      Param #\u001b[0m\u001b[1m \u001b[0m┃\n",
              "┡━━━━━━━━━━━━━━━━━━━━━━━━━━━━━━━━━╇━━━━━━━━━━━━━━━━━━━━━━━━╇━━━━━━━━━━━━━━━┩\n",
              "│ mobilenetv2_1.00_224            │ (\u001b[38;5;45mNone\u001b[0m, \u001b[38;5;34m7\u001b[0m, \u001b[38;5;34m7\u001b[0m, \u001b[38;5;34m1280\u001b[0m)     │     \u001b[38;5;34m2,257,984\u001b[0m │\n",
              "│ (\u001b[38;5;33mFunctional\u001b[0m)                    │                        │               │\n",
              "├─────────────────────────────────┼────────────────────────┼───────────────┤\n",
              "│ global_average_pooling2d_2      │ (\u001b[38;5;45mNone\u001b[0m, \u001b[38;5;34m1280\u001b[0m)           │             \u001b[38;5;34m0\u001b[0m │\n",
              "│ (\u001b[38;5;33mGlobalAveragePooling2D\u001b[0m)        │                        │               │\n",
              "├─────────────────────────────────┼────────────────────────┼───────────────┤\n",
              "│ dense_5 (\u001b[38;5;33mDense\u001b[0m)                 │ (\u001b[38;5;45mNone\u001b[0m, \u001b[38;5;34m128\u001b[0m)            │       \u001b[38;5;34m163,968\u001b[0m │\n",
              "├─────────────────────────────────┼────────────────────────┼───────────────┤\n",
              "│ dense_6 (\u001b[38;5;33mDense\u001b[0m)                 │ (\u001b[38;5;45mNone\u001b[0m, \u001b[38;5;34m64\u001b[0m)             │         \u001b[38;5;34m8,256\u001b[0m │\n",
              "├─────────────────────────────────┼────────────────────────┼───────────────┤\n",
              "│ dropout_2 (\u001b[38;5;33mDropout\u001b[0m)             │ (\u001b[38;5;45mNone\u001b[0m, \u001b[38;5;34m64\u001b[0m)             │             \u001b[38;5;34m0\u001b[0m │\n",
              "├─────────────────────────────────┼────────────────────────┼───────────────┤\n",
              "│ dense_7 (\u001b[38;5;33mDense\u001b[0m)                 │ (\u001b[38;5;45mNone\u001b[0m, \u001b[38;5;34m1\u001b[0m)              │            \u001b[38;5;34m65\u001b[0m │\n",
              "└─────────────────────────────────┴────────────────────────┴───────────────┘\n"
            ],
            "text/html": [
              "<pre style=\"white-space:pre;overflow-x:auto;line-height:normal;font-family:Menlo,'DejaVu Sans Mono',consolas,'Courier New',monospace\">┏━━━━━━━━━━━━━━━━━━━━━━━━━━━━━━━━━┳━━━━━━━━━━━━━━━━━━━━━━━━┳━━━━━━━━━━━━━━━┓\n",
              "┃<span style=\"font-weight: bold\"> Layer (type)                    </span>┃<span style=\"font-weight: bold\"> Output Shape           </span>┃<span style=\"font-weight: bold\">       Param # </span>┃\n",
              "┡━━━━━━━━━━━━━━━━━━━━━━━━━━━━━━━━━╇━━━━━━━━━━━━━━━━━━━━━━━━╇━━━━━━━━━━━━━━━┩\n",
              "│ mobilenetv2_1.00_224            │ (<span style=\"color: #00d7ff; text-decoration-color: #00d7ff\">None</span>, <span style=\"color: #00af00; text-decoration-color: #00af00\">7</span>, <span style=\"color: #00af00; text-decoration-color: #00af00\">7</span>, <span style=\"color: #00af00; text-decoration-color: #00af00\">1280</span>)     │     <span style=\"color: #00af00; text-decoration-color: #00af00\">2,257,984</span> │\n",
              "│ (<span style=\"color: #0087ff; text-decoration-color: #0087ff\">Functional</span>)                    │                        │               │\n",
              "├─────────────────────────────────┼────────────────────────┼───────────────┤\n",
              "│ global_average_pooling2d_2      │ (<span style=\"color: #00d7ff; text-decoration-color: #00d7ff\">None</span>, <span style=\"color: #00af00; text-decoration-color: #00af00\">1280</span>)           │             <span style=\"color: #00af00; text-decoration-color: #00af00\">0</span> │\n",
              "│ (<span style=\"color: #0087ff; text-decoration-color: #0087ff\">GlobalAveragePooling2D</span>)        │                        │               │\n",
              "├─────────────────────────────────┼────────────────────────┼───────────────┤\n",
              "│ dense_5 (<span style=\"color: #0087ff; text-decoration-color: #0087ff\">Dense</span>)                 │ (<span style=\"color: #00d7ff; text-decoration-color: #00d7ff\">None</span>, <span style=\"color: #00af00; text-decoration-color: #00af00\">128</span>)            │       <span style=\"color: #00af00; text-decoration-color: #00af00\">163,968</span> │\n",
              "├─────────────────────────────────┼────────────────────────┼───────────────┤\n",
              "│ dense_6 (<span style=\"color: #0087ff; text-decoration-color: #0087ff\">Dense</span>)                 │ (<span style=\"color: #00d7ff; text-decoration-color: #00d7ff\">None</span>, <span style=\"color: #00af00; text-decoration-color: #00af00\">64</span>)             │         <span style=\"color: #00af00; text-decoration-color: #00af00\">8,256</span> │\n",
              "├─────────────────────────────────┼────────────────────────┼───────────────┤\n",
              "│ dropout_2 (<span style=\"color: #0087ff; text-decoration-color: #0087ff\">Dropout</span>)             │ (<span style=\"color: #00d7ff; text-decoration-color: #00d7ff\">None</span>, <span style=\"color: #00af00; text-decoration-color: #00af00\">64</span>)             │             <span style=\"color: #00af00; text-decoration-color: #00af00\">0</span> │\n",
              "├─────────────────────────────────┼────────────────────────┼───────────────┤\n",
              "│ dense_7 (<span style=\"color: #0087ff; text-decoration-color: #0087ff\">Dense</span>)                 │ (<span style=\"color: #00d7ff; text-decoration-color: #00d7ff\">None</span>, <span style=\"color: #00af00; text-decoration-color: #00af00\">1</span>)              │            <span style=\"color: #00af00; text-decoration-color: #00af00\">65</span> │\n",
              "└─────────────────────────────────┴────────────────────────┴───────────────┘\n",
              "</pre>\n"
            ]
          },
          "metadata": {}
        },
        {
          "output_type": "display_data",
          "data": {
            "text/plain": [
              "\u001b[1m Total params: \u001b[0m\u001b[38;5;34m2,430,273\u001b[0m (9.27 MB)\n"
            ],
            "text/html": [
              "<pre style=\"white-space:pre;overflow-x:auto;line-height:normal;font-family:Menlo,'DejaVu Sans Mono',consolas,'Courier New',monospace\"><span style=\"font-weight: bold\"> Total params: </span><span style=\"color: #00af00; text-decoration-color: #00af00\">2,430,273</span> (9.27 MB)\n",
              "</pre>\n"
            ]
          },
          "metadata": {}
        },
        {
          "output_type": "display_data",
          "data": {
            "text/plain": [
              "\u001b[1m Trainable params: \u001b[0m\u001b[38;5;34m172,289\u001b[0m (673.00 KB)\n"
            ],
            "text/html": [
              "<pre style=\"white-space:pre;overflow-x:auto;line-height:normal;font-family:Menlo,'DejaVu Sans Mono',consolas,'Courier New',monospace\"><span style=\"font-weight: bold\"> Trainable params: </span><span style=\"color: #00af00; text-decoration-color: #00af00\">172,289</span> (673.00 KB)\n",
              "</pre>\n"
            ]
          },
          "metadata": {}
        },
        {
          "output_type": "display_data",
          "data": {
            "text/plain": [
              "\u001b[1m Non-trainable params: \u001b[0m\u001b[38;5;34m2,257,984\u001b[0m (8.61 MB)\n"
            ],
            "text/html": [
              "<pre style=\"white-space:pre;overflow-x:auto;line-height:normal;font-family:Menlo,'DejaVu Sans Mono',consolas,'Courier New',monospace\"><span style=\"font-weight: bold\"> Non-trainable params: </span><span style=\"color: #00af00; text-decoration-color: #00af00\">2,257,984</span> (8.61 MB)\n",
              "</pre>\n"
            ]
          },
          "metadata": {}
        },
        {
          "output_type": "stream",
          "name": "stdout",
          "text": [
            "\n"
          ]
        },
        {
          "output_type": "stream",
          "name": "stderr",
          "text": [
            "/usr/local/lib/python3.11/dist-packages/keras/src/trainers/data_adapters/py_dataset_adapter.py:121: UserWarning: Your `PyDataset` class should call `super().__init__(**kwargs)` in its constructor. `**kwargs` can include `workers`, `use_multiprocessing`, `max_queue_size`. Do not pass these arguments to `fit()`, as they will be ignored.\n",
            "  self._warn_if_super_not_called()\n"
          ]
        },
        {
          "output_type": "stream",
          "name": "stdout",
          "text": [
            "Epoch 1/10\n",
            "\u001b[1m163/163\u001b[0m \u001b[32m━━━━━━━━━━━━━━━━━━━━\u001b[0m\u001b[37m\u001b[0m \u001b[1m123s\u001b[0m 694ms/step - AUC: 0.7088 - Precision: 0.8619 - Recall: 0.5385 - accuracy: 0.6019 - loss: 0.6321 - val_AUC: 0.9277 - val_Precision: 0.8954 - val_Recall: 0.8564 - val_accuracy: 0.8478 - val_loss: 0.3941\n",
            "Epoch 2/10\n",
            "\u001b[1m163/163\u001b[0m \u001b[32m━━━━━━━━━━━━━━━━━━━━\u001b[0m\u001b[37m\u001b[0m \u001b[1m108s\u001b[0m 661ms/step - AUC: 0.9617 - Precision: 0.9691 - Recall: 0.8802 - accuracy: 0.8910 - loss: 0.2828 - val_AUC: 0.9494 - val_Precision: 0.8787 - val_Recall: 0.9103 - val_accuracy: 0.8654 - val_loss: 0.2958\n",
            "Epoch 3/10\n",
            "\u001b[1m163/163\u001b[0m \u001b[32m━━━━━━━━━━━━━━━━━━━━\u001b[0m\u001b[37m\u001b[0m \u001b[1m108s\u001b[0m 660ms/step - AUC: 0.9750 - Precision: 0.9772 - Recall: 0.9088 - accuracy: 0.9156 - loss: 0.2108 - val_AUC: 0.9570 - val_Precision: 0.9257 - val_Recall: 0.8949 - val_accuracy: 0.8894 - val_loss: 0.2688\n",
            "Epoch 4/10\n",
            "\u001b[1m163/163\u001b[0m \u001b[32m━━━━━━━━━━━━━━━━━━━━\u001b[0m\u001b[37m\u001b[0m \u001b[1m108s\u001b[0m 662ms/step - AUC: 0.9770 - Precision: 0.9787 - Recall: 0.9099 - accuracy: 0.9187 - loss: 0.1964 - val_AUC: 0.9643 - val_Precision: 0.8998 - val_Recall: 0.9436 - val_accuracy: 0.8990 - val_loss: 0.2431\n",
            "Epoch 5/10\n",
            "\u001b[1m163/163\u001b[0m \u001b[32m━━━━━━━━━━━━━━━━━━━━\u001b[0m\u001b[37m\u001b[0m \u001b[1m107s\u001b[0m 656ms/step - AUC: 0.9812 - Precision: 0.9825 - Recall: 0.9317 - accuracy: 0.9360 - loss: 0.1747 - val_AUC: 0.9621 - val_Precision: 0.9179 - val_Recall: 0.9179 - val_accuracy: 0.8974 - val_loss: 0.2426\n",
            "Epoch 6/10\n",
            "\u001b[1m163/163\u001b[0m \u001b[32m━━━━━━━━━━━━━━━━━━━━\u001b[0m\u001b[37m\u001b[0m \u001b[1m108s\u001b[0m 665ms/step - AUC: 0.9813 - Precision: 0.9823 - Recall: 0.9250 - accuracy: 0.9315 - loss: 0.1725 - val_AUC: 0.9639 - val_Precision: 0.9199 - val_Recall: 0.9128 - val_accuracy: 0.8958 - val_loss: 0.2366\n",
            "Epoch 7/10\n",
            "\u001b[1m163/163\u001b[0m \u001b[32m━━━━━━━━━━━━━━━━━━━━\u001b[0m\u001b[37m\u001b[0m \u001b[1m108s\u001b[0m 660ms/step - AUC: 0.9889 - Precision: 0.9848 - Recall: 0.9432 - accuracy: 0.9472 - loss: 0.1366 - val_AUC: 0.9655 - val_Precision: 0.9035 - val_Recall: 0.9359 - val_accuracy: 0.8974 - val_loss: 0.2303\n",
            "Epoch 8/10\n",
            "\u001b[1m163/163\u001b[0m \u001b[32m━━━━━━━━━━━━━━━━━━━━\u001b[0m\u001b[37m\u001b[0m \u001b[1m109s\u001b[0m 666ms/step - AUC: 0.9873 - Precision: 0.9862 - Recall: 0.9393 - accuracy: 0.9443 - loss: 0.1389 - val_AUC: 0.9667 - val_Precision: 0.9075 - val_Recall: 0.9308 - val_accuracy: 0.8974 - val_loss: 0.2258\n",
            "Epoch 9/10\n",
            "\u001b[1m163/163\u001b[0m \u001b[32m━━━━━━━━━━━━━━━━━━━━\u001b[0m\u001b[37m\u001b[0m \u001b[1m108s\u001b[0m 664ms/step - AUC: 0.9864 - Precision: 0.9853 - Recall: 0.9369 - accuracy: 0.9428 - loss: 0.1444 - val_AUC: 0.9672 - val_Precision: 0.8940 - val_Recall: 0.9513 - val_accuracy: 0.8990 - val_loss: 0.2309\n",
            "Epoch 10/10\n",
            "\u001b[1m163/163\u001b[0m \u001b[32m━━━━━━━━━━━━━━━━━━━━\u001b[0m\u001b[37m\u001b[0m \u001b[1m107s\u001b[0m 655ms/step - AUC: 0.9874 - Precision: 0.9833 - Recall: 0.9359 - accuracy: 0.9409 - loss: 0.1424 - val_AUC: 0.9665 - val_Precision: 0.9125 - val_Recall: 0.9359 - val_accuracy: 0.9038 - val_loss: 0.2269\n",
            "\n",
            "AUC [0.8459892272949219, 0.9649817943572998, 0.9740508198738098, 0.9787027835845947, 0.9805169105529785, 0.983119785785675, 0.9859411716461182, 0.9856215119361877, 0.9876791834831238, 0.9874451756477356]\n",
            "Precision [0.9180327653884888, 0.9700902700424194, 0.9760512113571167, 0.9790171384811401, 0.9796306490898132, 0.982810378074646, 0.9837266206741333, 0.9815717935562134, 0.9856834411621094, 0.9845987558364868]\n",
            "Recall [0.7081290483474731, 0.8872258067131042, 0.9045161008834839, 0.9150967597961426, 0.9308387041091919, 0.9295483827590942, 0.9359999895095825, 0.9347096681594849, 0.9416773915290833, 0.9403870701789856]\n",
            "accuracy [0.7361963391304016, 0.8958972096443176, 0.9125766754150391, 0.9223542809486389, 0.9342408180236816, 0.9355828166007996, 0.9409509301185608, 0.9384585618972778, 0.9465107321739197, 0.9447852969169617]\n",
            "loss [0.4991570711135864, 0.2622127830982208, 0.2128857523202896, 0.18944120407104492, 0.17704427242279053, 0.1653568297624588, 0.1499311774969101, 0.15003544092178345, 0.13864018023014069, 0.13778693974018097]\n",
            "val_AUC [0.9277448654174805, 0.9493863582611084, 0.956974446773529, 0.9643271565437317, 0.9620644450187683, 0.9639053344726562, 0.9655269980430603, 0.9666996598243713, 0.9672091007232666, 0.96650230884552]\n",
            "val_Precision [0.8954423666000366, 0.8787128925323486, 0.9257294535636902, 0.8997554779052734, 0.9179487228393555, 0.91989666223526, 0.9034653306007385, 0.9075000286102295, 0.8939759135246277, 0.9125000238418579]\n",
            "val_Recall [0.8564102649688721, 0.9102563858032227, 0.8948717713356018, 0.9435897469520569, 0.9179487228393555, 0.9128205180168152, 0.9358974099159241, 0.9307692050933838, 0.9512820243835449, 0.9358974099159241]\n",
            "val_accuracy [0.8477563858032227, 0.8653846383094788, 0.8894230723381042, 0.8990384340286255, 0.8974359035491943, 0.8958333134651184, 0.8974359035491943, 0.8974359035491943, 0.8990384340286255, 0.9038461446762085]\n",
            "val_loss [0.39407846331596375, 0.29582563042640686, 0.2688353955745697, 0.24311889708042145, 0.24259567260742188, 0.23657523095607758, 0.2302636057138443, 0.225764200091362, 0.23092208802700043, 0.22685062885284424]\n",
            "Wall time 1128.879319190979\n"
          ]
        }
      ]
    },
    {
      "cell_type": "code",
      "source": [
        "cfg = 'cfg_7.1'\n",
        "add_result(cfg, model_history)\n",
        "model.save(f\"/content/drive/MyDrive/DS/chest-xray-pneumonia/MobileNetV2-{cfg}.keras\")"
      ],
      "metadata": {
        "id": "0E1ukGGqJ6yV"
      },
      "execution_count": null,
      "outputs": []
    },
    {
      "cell_type": "markdown",
      "source": [
        "# cfg 8.0\n",
        "* learning_rate=0.00005\n",
        "* class_weights\n",
        "* horizontal_flip=True\n",
        "* Dense(256, ReLU)\n",
        "* EPOCHS=<font color=orange>20</font> + EarlyStopping"
      ],
      "metadata": {
        "id": "Z9_lwKmrOZD3"
      }
    },
    {
      "cell_type": "code",
      "source": [
        "def model_train(learning_rate, dense_value, epochs=10):\n",
        "    # Размер изображений и параметры\n",
        "    IMG_SIZE = (224, 224)  # MobileNetV2 лучше работает с этим размером\n",
        "    BATCH_SIZE = 32\n",
        "\n",
        "    # Аугментация\n",
        "    train_datagen = ImageDataGenerator(\n",
        "        rescale=1./255,\n",
        "        rotation_range=10,\n",
        "        width_shift_range=0.1,\n",
        "        height_shift_range=0.1,\n",
        "        zoom_range=0.1,\n",
        "        brightness_range=[0.9, 1.1],\n",
        "        horizontal_flip=True #             [!]\n",
        "    )\n",
        "\n",
        "    val_test_datagen = ImageDataGenerator(rescale=1./255)\n",
        "\n",
        "    # Генераторы\n",
        "    train_generator = train_datagen.flow_from_directory(\n",
        "        train_dir,\n",
        "        target_size=IMG_SIZE,\n",
        "        batch_size=BATCH_SIZE,\n",
        "        class_mode='binary',\n",
        "        color_mode='rgb'\n",
        "    )\n",
        "\n",
        "    val_generator = val_test_datagen.flow_from_directory(\n",
        "        val_dir,\n",
        "        target_size=IMG_SIZE,\n",
        "        batch_size=BATCH_SIZE,\n",
        "        class_mode='binary',\n",
        "        shuffle=False,\n",
        "        color_mode='rgb'\n",
        "    )\n",
        "\n",
        "    test_generator = val_test_datagen.flow_from_directory(\n",
        "        test_dir,\n",
        "        target_size=IMG_SIZE,\n",
        "        batch_size=BATCH_SIZE,\n",
        "        class_mode='binary',\n",
        "        shuffle=False,\n",
        "        color_mode='rgb'\n",
        "    )\n",
        "\n",
        "    print()\n",
        "\n",
        "    # class_weights      [!]\n",
        "    class_weights = compute_class_weight('balanced', classes=np.unique(train_generator.classes), y=train_generator.classes)\n",
        "    class_weights = dict(enumerate(class_weights))\n",
        "    print(class_weights)\n",
        "\n",
        "    print()\n",
        "\n",
        "    # Загрузка MobileNetV2 без верхушки\n",
        "    base_model = MobileNetV2(input_shape=(224, 224, 3), include_top=False, weights='imagenet')\n",
        "    base_model.trainable = False  # Фиксируем веса\n",
        "\n",
        "    # Добавляем слои классификации\n",
        "    model = Sequential([\n",
        "        base_model,\n",
        "        layers.GlobalAveragePooling2D(),\n",
        "        layers.Dense(dense_value, activation='relu'),\n",
        "        layers.Dropout(0.5),\n",
        "        layers.Dense(1, activation='sigmoid')\n",
        "    ])\n",
        "\n",
        "    # Компиляция модели\n",
        "    model.compile(\n",
        "        optimizer=Adam(learning_rate=learning_rate),\n",
        "        loss='binary_crossentropy',\n",
        "        metrics=[\n",
        "            'AUC',\n",
        "            'Recall',\n",
        "            'Precision',\n",
        "            'accuracy'\n",
        "        ]\n",
        "    )\n",
        "\n",
        "    # Отображение информации об устройстве сети:\n",
        "    model.summary()\n",
        "\n",
        "    print()\n",
        "\n",
        "    # EarlyStopping       [!]\n",
        "    callbacks_list = [\n",
        "        EarlyStopping(\n",
        "            monitor=\"val_AUC\",\n",
        "            patience=3, ),\n",
        "        ModelCheckpoint(\n",
        "            filepath=\"/content/drive/MyDrive/DS/chest-xray-pneumonia/MobileNetV2-8-0_checkpoint.keras\",\n",
        "            monitor=\"val_loss\",\n",
        "            save_best_only=True\n",
        "        )\n",
        "    ]\n",
        "\n",
        "    # Обучение модели\n",
        "    # EPOCHS = 10\n",
        "\n",
        "    start = time.time() # Фиксация времени\n",
        "\n",
        "    history = model.fit(\n",
        "        train_generator,\n",
        "        epochs=epochs,  #      [!]\n",
        "        validation_data=val_generator,\n",
        "        class_weight=class_weights, #      [!]\n",
        "        callbacks=callbacks_list    #      [!]\n",
        "    )\n",
        "\n",
        "    end = time.time() # Фиксация времени\n",
        "\n",
        "    model_history = history.history\n",
        "    model_history['Wall time'] = end - start\n",
        "\n",
        "    print()\n",
        "\n",
        "    for k, v in model_history.items():\n",
        "        print(k, v)\n",
        "\n",
        "    return model, model_history"
      ],
      "metadata": {
        "id": "4JY8EAcnOZD4"
      },
      "execution_count": null,
      "outputs": []
    },
    {
      "cell_type": "code",
      "source": [
        "model, model_history = model_train(learning_rate=0.00005, dense_value=256, epochs=20)"
      ],
      "metadata": {
        "id": "PdXGBCUCOZD4",
        "colab": {
          "base_uri": "https://localhost:8080/",
          "height": 1000
        },
        "outputId": "7bbdef06-0732-43b6-b846-06e1cdd62033"
      },
      "execution_count": null,
      "outputs": [
        {
          "output_type": "stream",
          "name": "stdout",
          "text": [
            "Found 5216 images belonging to 2 classes.\n",
            "Found 624 images belonging to 2 classes.\n",
            "Found 16 images belonging to 2 classes.\n",
            "\n",
            "{0: np.float64(1.9448173005219984), 1: np.float64(0.6730322580645162)}\n",
            "\n",
            "Downloading data from https://storage.googleapis.com/tensorflow/keras-applications/mobilenet_v2/mobilenet_v2_weights_tf_dim_ordering_tf_kernels_1.0_224_no_top.h5\n",
            "\u001b[1m9406464/9406464\u001b[0m \u001b[32m━━━━━━━━━━━━━━━━━━━━\u001b[0m\u001b[37m\u001b[0m \u001b[1m0s\u001b[0m 0us/step\n"
          ]
        },
        {
          "output_type": "display_data",
          "data": {
            "text/plain": [
              "\u001b[1mModel: \"sequential\"\u001b[0m\n"
            ],
            "text/html": [
              "<pre style=\"white-space:pre;overflow-x:auto;line-height:normal;font-family:Menlo,'DejaVu Sans Mono',consolas,'Courier New',monospace\"><span style=\"font-weight: bold\">Model: \"sequential\"</span>\n",
              "</pre>\n"
            ]
          },
          "metadata": {}
        },
        {
          "output_type": "display_data",
          "data": {
            "text/plain": [
              "┏━━━━━━━━━━━━━━━━━━━━━━━━━━━━━━━━━┳━━━━━━━━━━━━━━━━━━━━━━━━┳━━━━━━━━━━━━━━━┓\n",
              "┃\u001b[1m \u001b[0m\u001b[1mLayer (type)                   \u001b[0m\u001b[1m \u001b[0m┃\u001b[1m \u001b[0m\u001b[1mOutput Shape          \u001b[0m\u001b[1m \u001b[0m┃\u001b[1m \u001b[0m\u001b[1m      Param #\u001b[0m\u001b[1m \u001b[0m┃\n",
              "┡━━━━━━━━━━━━━━━━━━━━━━━━━━━━━━━━━╇━━━━━━━━━━━━━━━━━━━━━━━━╇━━━━━━━━━━━━━━━┩\n",
              "│ mobilenetv2_1.00_224            │ (\u001b[38;5;45mNone\u001b[0m, \u001b[38;5;34m7\u001b[0m, \u001b[38;5;34m7\u001b[0m, \u001b[38;5;34m1280\u001b[0m)     │     \u001b[38;5;34m2,257,984\u001b[0m │\n",
              "│ (\u001b[38;5;33mFunctional\u001b[0m)                    │                        │               │\n",
              "├─────────────────────────────────┼────────────────────────┼───────────────┤\n",
              "│ global_average_pooling2d        │ (\u001b[38;5;45mNone\u001b[0m, \u001b[38;5;34m1280\u001b[0m)           │             \u001b[38;5;34m0\u001b[0m │\n",
              "│ (\u001b[38;5;33mGlobalAveragePooling2D\u001b[0m)        │                        │               │\n",
              "├─────────────────────────────────┼────────────────────────┼───────────────┤\n",
              "│ dense (\u001b[38;5;33mDense\u001b[0m)                   │ (\u001b[38;5;45mNone\u001b[0m, \u001b[38;5;34m256\u001b[0m)            │       \u001b[38;5;34m327,936\u001b[0m │\n",
              "├─────────────────────────────────┼────────────────────────┼───────────────┤\n",
              "│ dropout (\u001b[38;5;33mDropout\u001b[0m)               │ (\u001b[38;5;45mNone\u001b[0m, \u001b[38;5;34m256\u001b[0m)            │             \u001b[38;5;34m0\u001b[0m │\n",
              "├─────────────────────────────────┼────────────────────────┼───────────────┤\n",
              "│ dense_1 (\u001b[38;5;33mDense\u001b[0m)                 │ (\u001b[38;5;45mNone\u001b[0m, \u001b[38;5;34m1\u001b[0m)              │           \u001b[38;5;34m257\u001b[0m │\n",
              "└─────────────────────────────────┴────────────────────────┴───────────────┘\n"
            ],
            "text/html": [
              "<pre style=\"white-space:pre;overflow-x:auto;line-height:normal;font-family:Menlo,'DejaVu Sans Mono',consolas,'Courier New',monospace\">┏━━━━━━━━━━━━━━━━━━━━━━━━━━━━━━━━━┳━━━━━━━━━━━━━━━━━━━━━━━━┳━━━━━━━━━━━━━━━┓\n",
              "┃<span style=\"font-weight: bold\"> Layer (type)                    </span>┃<span style=\"font-weight: bold\"> Output Shape           </span>┃<span style=\"font-weight: bold\">       Param # </span>┃\n",
              "┡━━━━━━━━━━━━━━━━━━━━━━━━━━━━━━━━━╇━━━━━━━━━━━━━━━━━━━━━━━━╇━━━━━━━━━━━━━━━┩\n",
              "│ mobilenetv2_1.00_224            │ (<span style=\"color: #00d7ff; text-decoration-color: #00d7ff\">None</span>, <span style=\"color: #00af00; text-decoration-color: #00af00\">7</span>, <span style=\"color: #00af00; text-decoration-color: #00af00\">7</span>, <span style=\"color: #00af00; text-decoration-color: #00af00\">1280</span>)     │     <span style=\"color: #00af00; text-decoration-color: #00af00\">2,257,984</span> │\n",
              "│ (<span style=\"color: #0087ff; text-decoration-color: #0087ff\">Functional</span>)                    │                        │               │\n",
              "├─────────────────────────────────┼────────────────────────┼───────────────┤\n",
              "│ global_average_pooling2d        │ (<span style=\"color: #00d7ff; text-decoration-color: #00d7ff\">None</span>, <span style=\"color: #00af00; text-decoration-color: #00af00\">1280</span>)           │             <span style=\"color: #00af00; text-decoration-color: #00af00\">0</span> │\n",
              "│ (<span style=\"color: #0087ff; text-decoration-color: #0087ff\">GlobalAveragePooling2D</span>)        │                        │               │\n",
              "├─────────────────────────────────┼────────────────────────┼───────────────┤\n",
              "│ dense (<span style=\"color: #0087ff; text-decoration-color: #0087ff\">Dense</span>)                   │ (<span style=\"color: #00d7ff; text-decoration-color: #00d7ff\">None</span>, <span style=\"color: #00af00; text-decoration-color: #00af00\">256</span>)            │       <span style=\"color: #00af00; text-decoration-color: #00af00\">327,936</span> │\n",
              "├─────────────────────────────────┼────────────────────────┼───────────────┤\n",
              "│ dropout (<span style=\"color: #0087ff; text-decoration-color: #0087ff\">Dropout</span>)               │ (<span style=\"color: #00d7ff; text-decoration-color: #00d7ff\">None</span>, <span style=\"color: #00af00; text-decoration-color: #00af00\">256</span>)            │             <span style=\"color: #00af00; text-decoration-color: #00af00\">0</span> │\n",
              "├─────────────────────────────────┼────────────────────────┼───────────────┤\n",
              "│ dense_1 (<span style=\"color: #0087ff; text-decoration-color: #0087ff\">Dense</span>)                 │ (<span style=\"color: #00d7ff; text-decoration-color: #00d7ff\">None</span>, <span style=\"color: #00af00; text-decoration-color: #00af00\">1</span>)              │           <span style=\"color: #00af00; text-decoration-color: #00af00\">257</span> │\n",
              "└─────────────────────────────────┴────────────────────────┴───────────────┘\n",
              "</pre>\n"
            ]
          },
          "metadata": {}
        },
        {
          "output_type": "display_data",
          "data": {
            "text/plain": [
              "\u001b[1m Total params: \u001b[0m\u001b[38;5;34m2,586,177\u001b[0m (9.87 MB)\n"
            ],
            "text/html": [
              "<pre style=\"white-space:pre;overflow-x:auto;line-height:normal;font-family:Menlo,'DejaVu Sans Mono',consolas,'Courier New',monospace\"><span style=\"font-weight: bold\"> Total params: </span><span style=\"color: #00af00; text-decoration-color: #00af00\">2,586,177</span> (9.87 MB)\n",
              "</pre>\n"
            ]
          },
          "metadata": {}
        },
        {
          "output_type": "display_data",
          "data": {
            "text/plain": [
              "\u001b[1m Trainable params: \u001b[0m\u001b[38;5;34m328,193\u001b[0m (1.25 MB)\n"
            ],
            "text/html": [
              "<pre style=\"white-space:pre;overflow-x:auto;line-height:normal;font-family:Menlo,'DejaVu Sans Mono',consolas,'Courier New',monospace\"><span style=\"font-weight: bold\"> Trainable params: </span><span style=\"color: #00af00; text-decoration-color: #00af00\">328,193</span> (1.25 MB)\n",
              "</pre>\n"
            ]
          },
          "metadata": {}
        },
        {
          "output_type": "display_data",
          "data": {
            "text/plain": [
              "\u001b[1m Non-trainable params: \u001b[0m\u001b[38;5;34m2,257,984\u001b[0m (8.61 MB)\n"
            ],
            "text/html": [
              "<pre style=\"white-space:pre;overflow-x:auto;line-height:normal;font-family:Menlo,'DejaVu Sans Mono',consolas,'Courier New',monospace\"><span style=\"font-weight: bold\"> Non-trainable params: </span><span style=\"color: #00af00; text-decoration-color: #00af00\">2,257,984</span> (8.61 MB)\n",
              "</pre>\n"
            ]
          },
          "metadata": {}
        },
        {
          "output_type": "stream",
          "name": "stdout",
          "text": [
            "\n"
          ]
        },
        {
          "output_type": "stream",
          "name": "stderr",
          "text": [
            "/usr/local/lib/python3.11/dist-packages/keras/src/trainers/data_adapters/py_dataset_adapter.py:121: UserWarning: Your `PyDataset` class should call `super().__init__(**kwargs)` in its constructor. `**kwargs` can include `workers`, `use_multiprocessing`, `max_queue_size`. Do not pass these arguments to `fit()`, as they will be ignored.\n",
            "  self._warn_if_super_not_called()\n"
          ]
        },
        {
          "output_type": "stream",
          "name": "stdout",
          "text": [
            "Epoch 1/20\n",
            "\u001b[1m163/163\u001b[0m \u001b[32m━━━━━━━━━━━━━━━━━━━━\u001b[0m\u001b[37m\u001b[0m \u001b[1m132s\u001b[0m 735ms/step - AUC: 0.7340 - Precision: 0.8461 - Recall: 0.6543 - accuracy: 0.6604 - loss: 0.6131 - val_AUC: 0.9238 - val_Precision: 0.8582 - val_Recall: 0.8846 - val_accuracy: 0.8365 - val_loss: 0.3521\n",
            "Epoch 2/20\n",
            "\u001b[1m163/163\u001b[0m \u001b[32m━━━━━━━━━━━━━━━━━━━━\u001b[0m\u001b[37m\u001b[0m \u001b[1m117s\u001b[0m 718ms/step - AUC: 0.9618 - Precision: 0.9663 - Recall: 0.8742 - accuracy: 0.8847 - loss: 0.2558 - val_AUC: 0.9446 - val_Precision: 0.8825 - val_Recall: 0.9051 - val_accuracy: 0.8654 - val_loss: 0.2973\n",
            "Epoch 3/20\n",
            "\u001b[1m163/163\u001b[0m \u001b[32m━━━━━━━━━━━━━━━━━━━━\u001b[0m\u001b[37m\u001b[0m \u001b[1m114s\u001b[0m 698ms/step - AUC: 0.9722 - Precision: 0.9749 - Recall: 0.8987 - accuracy: 0.9086 - loss: 0.2153 - val_AUC: 0.9561 - val_Precision: 0.9038 - val_Recall: 0.9154 - val_accuracy: 0.8862 - val_loss: 0.2656\n",
            "Epoch 4/20\n",
            "\u001b[1m163/163\u001b[0m \u001b[32m━━━━━━━━━━━━━━━━━━━━\u001b[0m\u001b[37m\u001b[0m \u001b[1m117s\u001b[0m 717ms/step - AUC: 0.9808 - Precision: 0.9796 - Recall: 0.9132 - accuracy: 0.9209 - loss: 0.1788 - val_AUC: 0.9612 - val_Precision: 0.9066 - val_Recall: 0.9205 - val_accuracy: 0.8910 - val_loss: 0.2481\n",
            "Epoch 5/20\n",
            "\u001b[1m163/163\u001b[0m \u001b[32m━━━━━━━━━━━━━━━━━━━━\u001b[0m\u001b[37m\u001b[0m \u001b[1m112s\u001b[0m 684ms/step - AUC: 0.9839 - Precision: 0.9850 - Recall: 0.9242 - accuracy: 0.9325 - loss: 0.1588 - val_AUC: 0.9633 - val_Precision: 0.9025 - val_Recall: 0.9256 - val_accuracy: 0.8910 - val_loss: 0.2420\n",
            "Epoch 6/20\n",
            "\u001b[1m163/163\u001b[0m \u001b[32m━━━━━━━━━━━━━━━━━━━━\u001b[0m\u001b[37m\u001b[0m \u001b[1m143s\u001b[0m 692ms/step - AUC: 0.9832 - Precision: 0.9840 - Recall: 0.9282 - accuracy: 0.9358 - loss: 0.1609 - val_AUC: 0.9646 - val_Precision: 0.8963 - val_Recall: 0.9308 - val_accuracy: 0.8894 - val_loss: 0.2372\n",
            "Epoch 7/20\n",
            "\u001b[1m163/163\u001b[0m \u001b[32m━━━━━━━━━━━━━━━━━━━━\u001b[0m\u001b[37m\u001b[0m \u001b[1m143s\u001b[0m 701ms/step - AUC: 0.9865 - Precision: 0.9853 - Recall: 0.9347 - accuracy: 0.9413 - loss: 0.1451 - val_AUC: 0.9676 - val_Precision: 0.8892 - val_Recall: 0.9462 - val_accuracy: 0.8926 - val_loss: 0.2314\n",
            "Epoch 8/20\n",
            "\u001b[1m163/163\u001b[0m \u001b[32m━━━━━━━━━━━━━━━━━━━━\u001b[0m\u001b[37m\u001b[0m \u001b[1m112s\u001b[0m 689ms/step - AUC: 0.9867 - Precision: 0.9820 - Recall: 0.9386 - accuracy: 0.9416 - loss: 0.1456 - val_AUC: 0.9676 - val_Precision: 0.8932 - val_Recall: 0.9436 - val_accuracy: 0.8942 - val_loss: 0.2262\n",
            "Epoch 9/20\n",
            "\u001b[1m163/163\u001b[0m \u001b[32m━━━━━━━━━━━━━━━━━━━━\u001b[0m\u001b[37m\u001b[0m \u001b[1m113s\u001b[0m 688ms/step - AUC: 0.9857 - Precision: 0.9829 - Recall: 0.9328 - accuracy: 0.9375 - loss: 0.1481 - val_AUC: 0.9664 - val_Precision: 0.9372 - val_Recall: 0.9179 - val_accuracy: 0.9103 - val_loss: 0.2313\n",
            "Epoch 10/20\n",
            "\u001b[1m163/163\u001b[0m \u001b[32m━━━━━━━━━━━━━━━━━━━━\u001b[0m\u001b[37m\u001b[0m \u001b[1m113s\u001b[0m 695ms/step - AUC: 0.9874 - Precision: 0.9860 - Recall: 0.9340 - accuracy: 0.9412 - loss: 0.1399 - val_AUC: 0.9670 - val_Precision: 0.8854 - val_Recall: 0.9513 - val_accuracy: 0.8926 - val_loss: 0.2323\n",
            "\n",
            "AUC [0.8755695819854736, 0.9654847979545593, 0.975369393825531, 0.981931209564209, 0.9819287657737732, 0.984390377998352, 0.9859521985054016, 0.986499547958374, 0.9883442521095276, 0.9885028004646301]\n",
            "Precision [0.9192073345184326, 0.9697995781898499, 0.9791086316108704, 0.9799230098724365, 0.9818979501724243, 0.9828009605407715, 0.983879804611206, 0.9813058972358704, 0.984557032585144, 0.98591548204422]\n",
            "Recall [0.778064489364624, 0.8867096900939941, 0.907096803188324, 0.9194839000701904, 0.9238709807395935, 0.9290322661399841, 0.9292902946472168, 0.9347096681594849, 0.9378064274787903, 0.9393548369407654]\n",
            "accuracy [0.7843174934387207, 0.8953220844268799, 0.9166027903556824, 0.9261886477470398, 0.9307898879051208, 0.9351993799209595, 0.9361580014228821, 0.9382668733596802, 0.9428681135177612, 0.9449769854545593]\n",
            "loss [0.43871134519577026, 0.23944202065467834, 0.20165109634399414, 0.1727336049079895, 0.1696902960538864, 0.1569124162197113, 0.14909903705120087, 0.14741064608097076, 0.13665220141410828, 0.13427937030792236]\n",
            "val_AUC [0.9238330125808716, 0.9445813894271851, 0.9561253190040588, 0.9612261056900024, 0.9632532596588135, 0.9646449685096741, 0.9675816297531128, 0.9675761461257935, 0.96642005443573, 0.9670228362083435]\n",
            "val_Precision [0.858208954334259, 0.8824999928474426, 0.903797447681427, 0.9065656661987305, 0.9024999737739563, 0.8962963223457336, 0.8891566395759583, 0.893203854560852, 0.9371727705001831, 0.8854415416717529]\n",
            "val_Recall [0.8846153616905212, 0.9051281809806824, 0.9153845906257629, 0.9205127954483032, 0.9256410002708435, 0.9307692050933838, 0.9461538195610046, 0.9435897469520569, 0.9179487228393555, 0.9512820243835449]\n",
            "val_accuracy [0.8365384340286255, 0.8653846383094788, 0.8862179517745972, 0.8910256624221802, 0.8910256624221802, 0.8894230723381042, 0.8926281929016113, 0.8942307829856873, 0.9102563858032227, 0.8926281929016113]\n",
            "val_loss [0.3521425426006317, 0.2972736954689026, 0.26563718914985657, 0.24810917675495148, 0.24202677607536316, 0.23718085885047913, 0.23138640820980072, 0.22616532444953918, 0.23126251995563507, 0.2322559356689453]\n",
            "Wall time 1245.9103388786316\n"
          ]
        }
      ]
    },
    {
      "cell_type": "code",
      "source": [
        "cfg = 'cfg_8.0'\n",
        "add_result(cfg, model_history)\n",
        "model.save(f\"/content/drive/MyDrive/DS/chest-xray-pneumonia/MobileNetV2-{cfg}.keras\")"
      ],
      "metadata": {
        "id": "v0WZTvFnOZD5"
      },
      "execution_count": null,
      "outputs": []
    },
    {
      "cell_type": "markdown",
      "source": [
        "## cfg 8.1\n",
        "* learning_rate=<font color=orange>0.00001</font>\n",
        "* class_weights\n",
        "* horizontal_flip=True\n",
        "* Dense(256, ReLU)\n",
        "* EPOCHS=<font color=orange>20</font> + EarlyStopping"
      ],
      "metadata": {
        "id": "HSjlpAZ9TR4X"
      }
    },
    {
      "cell_type": "code",
      "source": [
        "def model_train(learning_rate, dense_value, epochs=10):\n",
        "    # Размер изображений и параметры\n",
        "    IMG_SIZE = (224, 224)  # MobileNetV2 лучше работает с этим размером\n",
        "    BATCH_SIZE = 32\n",
        "\n",
        "    # Аугментация\n",
        "    train_datagen = ImageDataGenerator(\n",
        "        rescale=1./255,\n",
        "        rotation_range=10,\n",
        "        width_shift_range=0.1,\n",
        "        height_shift_range=0.1,\n",
        "        zoom_range=0.1,\n",
        "        brightness_range=[0.9, 1.1],\n",
        "        horizontal_flip=True #             [!]\n",
        "    )\n",
        "\n",
        "    val_test_datagen = ImageDataGenerator(rescale=1./255)\n",
        "\n",
        "    # Генераторы\n",
        "    train_generator = train_datagen.flow_from_directory(\n",
        "        train_dir,\n",
        "        target_size=IMG_SIZE,\n",
        "        batch_size=BATCH_SIZE,\n",
        "        class_mode='binary',\n",
        "        color_mode='rgb'\n",
        "    )\n",
        "\n",
        "    val_generator = val_test_datagen.flow_from_directory(\n",
        "        val_dir,\n",
        "        target_size=IMG_SIZE,\n",
        "        batch_size=BATCH_SIZE,\n",
        "        class_mode='binary',\n",
        "        shuffle=False,\n",
        "        color_mode='rgb'\n",
        "    )\n",
        "\n",
        "    test_generator = val_test_datagen.flow_from_directory(\n",
        "        test_dir,\n",
        "        target_size=IMG_SIZE,\n",
        "        batch_size=BATCH_SIZE,\n",
        "        class_mode='binary',\n",
        "        shuffle=False,\n",
        "        color_mode='rgb'\n",
        "    )\n",
        "\n",
        "    print()\n",
        "\n",
        "    # class_weights      [!]\n",
        "    class_weights = compute_class_weight('balanced', classes=np.unique(train_generator.classes), y=train_generator.classes)\n",
        "    class_weights = dict(enumerate(class_weights))\n",
        "    print(class_weights)\n",
        "\n",
        "    print()\n",
        "\n",
        "    # Загрузка MobileNetV2 без верхушки\n",
        "    base_model = MobileNetV2(input_shape=(224, 224, 3), include_top=False, weights='imagenet')\n",
        "    base_model.trainable = False  # Фиксируем веса\n",
        "\n",
        "    # Добавляем слои классификации\n",
        "    model = Sequential([\n",
        "        base_model,\n",
        "        layers.GlobalAveragePooling2D(),\n",
        "        layers.Dense(dense_value, activation='relu'),\n",
        "        layers.Dropout(0.5),\n",
        "        layers.Dense(1, activation='sigmoid')\n",
        "    ])\n",
        "\n",
        "    # Компиляция модели\n",
        "    model.compile(\n",
        "        optimizer=Adam(learning_rate=learning_rate),\n",
        "        loss='binary_crossentropy',\n",
        "        metrics=[\n",
        "            'AUC',\n",
        "            'Recall',\n",
        "            'Precision',\n",
        "            'accuracy'\n",
        "        ]\n",
        "    )\n",
        "\n",
        "    # Отображение информации об устройстве сети:\n",
        "    model.summary()\n",
        "\n",
        "    print()\n",
        "\n",
        "    # EarlyStopping       [!]\n",
        "    callbacks_list = [\n",
        "        EarlyStopping(\n",
        "            monitor=\"val_AUC\",\n",
        "            patience=3, ),\n",
        "        ModelCheckpoint(\n",
        "            filepath=\"/content/drive/MyDrive/DS/chest-xray-pneumonia/MobileNetV2-8-1_checkpoint.keras\",\n",
        "            monitor=\"val_loss\",\n",
        "            save_best_only=True\n",
        "        )\n",
        "    ]\n",
        "\n",
        "    # Обучение модели\n",
        "    # EPOCHS = 10\n",
        "\n",
        "    start = time.time() # Фиксация времени\n",
        "\n",
        "    history = model.fit(\n",
        "        train_generator,\n",
        "        epochs=epochs,  #      [!]\n",
        "        validation_data=val_generator,\n",
        "        class_weight=class_weights, #      [!]\n",
        "        callbacks=callbacks_list    #      [!]\n",
        "    )\n",
        "\n",
        "    end = time.time() # Фиксация времени\n",
        "\n",
        "    model_history = history.history\n",
        "    model_history['Wall time'] = end - start\n",
        "\n",
        "    print()\n",
        "\n",
        "    for k, v in model_history.items():\n",
        "        print(k, v)\n",
        "\n",
        "    return model, model_history"
      ],
      "metadata": {
        "id": "PwsOVp5YTR4X"
      },
      "execution_count": null,
      "outputs": []
    },
    {
      "cell_type": "code",
      "source": [
        "model, model_history = model_train(learning_rate=0.00001, dense_value=256, epochs=20)"
      ],
      "metadata": {
        "colab": {
          "base_uri": "https://localhost:8080/",
          "height": 1000
        },
        "outputId": "5b3b9155-1001-46d7-c5f0-821fc0ee44ef",
        "id": "rRGSbbkvTR4Y"
      },
      "execution_count": null,
      "outputs": [
        {
          "output_type": "stream",
          "name": "stdout",
          "text": [
            "Found 5216 images belonging to 2 classes.\n",
            "Found 624 images belonging to 2 classes.\n",
            "Found 16 images belonging to 2 classes.\n",
            "\n",
            "{0: np.float64(1.9448173005219984), 1: np.float64(0.6730322580645162)}\n",
            "\n"
          ]
        },
        {
          "output_type": "display_data",
          "data": {
            "text/plain": [
              "\u001b[1mModel: \"sequential_1\"\u001b[0m\n"
            ],
            "text/html": [
              "<pre style=\"white-space:pre;overflow-x:auto;line-height:normal;font-family:Menlo,'DejaVu Sans Mono',consolas,'Courier New',monospace\"><span style=\"font-weight: bold\">Model: \"sequential_1\"</span>\n",
              "</pre>\n"
            ]
          },
          "metadata": {}
        },
        {
          "output_type": "display_data",
          "data": {
            "text/plain": [
              "┏━━━━━━━━━━━━━━━━━━━━━━━━━━━━━━━━━┳━━━━━━━━━━━━━━━━━━━━━━━━┳━━━━━━━━━━━━━━━┓\n",
              "┃\u001b[1m \u001b[0m\u001b[1mLayer (type)                   \u001b[0m\u001b[1m \u001b[0m┃\u001b[1m \u001b[0m\u001b[1mOutput Shape          \u001b[0m\u001b[1m \u001b[0m┃\u001b[1m \u001b[0m\u001b[1m      Param #\u001b[0m\u001b[1m \u001b[0m┃\n",
              "┡━━━━━━━━━━━━━━━━━━━━━━━━━━━━━━━━━╇━━━━━━━━━━━━━━━━━━━━━━━━╇━━━━━━━━━━━━━━━┩\n",
              "│ mobilenetv2_1.00_224            │ (\u001b[38;5;45mNone\u001b[0m, \u001b[38;5;34m7\u001b[0m, \u001b[38;5;34m7\u001b[0m, \u001b[38;5;34m1280\u001b[0m)     │     \u001b[38;5;34m2,257,984\u001b[0m │\n",
              "│ (\u001b[38;5;33mFunctional\u001b[0m)                    │                        │               │\n",
              "├─────────────────────────────────┼────────────────────────┼───────────────┤\n",
              "│ global_average_pooling2d_1      │ (\u001b[38;5;45mNone\u001b[0m, \u001b[38;5;34m1280\u001b[0m)           │             \u001b[38;5;34m0\u001b[0m │\n",
              "│ (\u001b[38;5;33mGlobalAveragePooling2D\u001b[0m)        │                        │               │\n",
              "├─────────────────────────────────┼────────────────────────┼───────────────┤\n",
              "│ dense_2 (\u001b[38;5;33mDense\u001b[0m)                 │ (\u001b[38;5;45mNone\u001b[0m, \u001b[38;5;34m256\u001b[0m)            │       \u001b[38;5;34m327,936\u001b[0m │\n",
              "├─────────────────────────────────┼────────────────────────┼───────────────┤\n",
              "│ dropout_1 (\u001b[38;5;33mDropout\u001b[0m)             │ (\u001b[38;5;45mNone\u001b[0m, \u001b[38;5;34m256\u001b[0m)            │             \u001b[38;5;34m0\u001b[0m │\n",
              "├─────────────────────────────────┼────────────────────────┼───────────────┤\n",
              "│ dense_3 (\u001b[38;5;33mDense\u001b[0m)                 │ (\u001b[38;5;45mNone\u001b[0m, \u001b[38;5;34m1\u001b[0m)              │           \u001b[38;5;34m257\u001b[0m │\n",
              "└─────────────────────────────────┴────────────────────────┴───────────────┘\n"
            ],
            "text/html": [
              "<pre style=\"white-space:pre;overflow-x:auto;line-height:normal;font-family:Menlo,'DejaVu Sans Mono',consolas,'Courier New',monospace\">┏━━━━━━━━━━━━━━━━━━━━━━━━━━━━━━━━━┳━━━━━━━━━━━━━━━━━━━━━━━━┳━━━━━━━━━━━━━━━┓\n",
              "┃<span style=\"font-weight: bold\"> Layer (type)                    </span>┃<span style=\"font-weight: bold\"> Output Shape           </span>┃<span style=\"font-weight: bold\">       Param # </span>┃\n",
              "┡━━━━━━━━━━━━━━━━━━━━━━━━━━━━━━━━━╇━━━━━━━━━━━━━━━━━━━━━━━━╇━━━━━━━━━━━━━━━┩\n",
              "│ mobilenetv2_1.00_224            │ (<span style=\"color: #00d7ff; text-decoration-color: #00d7ff\">None</span>, <span style=\"color: #00af00; text-decoration-color: #00af00\">7</span>, <span style=\"color: #00af00; text-decoration-color: #00af00\">7</span>, <span style=\"color: #00af00; text-decoration-color: #00af00\">1280</span>)     │     <span style=\"color: #00af00; text-decoration-color: #00af00\">2,257,984</span> │\n",
              "│ (<span style=\"color: #0087ff; text-decoration-color: #0087ff\">Functional</span>)                    │                        │               │\n",
              "├─────────────────────────────────┼────────────────────────┼───────────────┤\n",
              "│ global_average_pooling2d_1      │ (<span style=\"color: #00d7ff; text-decoration-color: #00d7ff\">None</span>, <span style=\"color: #00af00; text-decoration-color: #00af00\">1280</span>)           │             <span style=\"color: #00af00; text-decoration-color: #00af00\">0</span> │\n",
              "│ (<span style=\"color: #0087ff; text-decoration-color: #0087ff\">GlobalAveragePooling2D</span>)        │                        │               │\n",
              "├─────────────────────────────────┼────────────────────────┼───────────────┤\n",
              "│ dense_2 (<span style=\"color: #0087ff; text-decoration-color: #0087ff\">Dense</span>)                 │ (<span style=\"color: #00d7ff; text-decoration-color: #00d7ff\">None</span>, <span style=\"color: #00af00; text-decoration-color: #00af00\">256</span>)            │       <span style=\"color: #00af00; text-decoration-color: #00af00\">327,936</span> │\n",
              "├─────────────────────────────────┼────────────────────────┼───────────────┤\n",
              "│ dropout_1 (<span style=\"color: #0087ff; text-decoration-color: #0087ff\">Dropout</span>)             │ (<span style=\"color: #00d7ff; text-decoration-color: #00d7ff\">None</span>, <span style=\"color: #00af00; text-decoration-color: #00af00\">256</span>)            │             <span style=\"color: #00af00; text-decoration-color: #00af00\">0</span> │\n",
              "├─────────────────────────────────┼────────────────────────┼───────────────┤\n",
              "│ dense_3 (<span style=\"color: #0087ff; text-decoration-color: #0087ff\">Dense</span>)                 │ (<span style=\"color: #00d7ff; text-decoration-color: #00d7ff\">None</span>, <span style=\"color: #00af00; text-decoration-color: #00af00\">1</span>)              │           <span style=\"color: #00af00; text-decoration-color: #00af00\">257</span> │\n",
              "└─────────────────────────────────┴────────────────────────┴───────────────┘\n",
              "</pre>\n"
            ]
          },
          "metadata": {}
        },
        {
          "output_type": "display_data",
          "data": {
            "text/plain": [
              "\u001b[1m Total params: \u001b[0m\u001b[38;5;34m2,586,177\u001b[0m (9.87 MB)\n"
            ],
            "text/html": [
              "<pre style=\"white-space:pre;overflow-x:auto;line-height:normal;font-family:Menlo,'DejaVu Sans Mono',consolas,'Courier New',monospace\"><span style=\"font-weight: bold\"> Total params: </span><span style=\"color: #00af00; text-decoration-color: #00af00\">2,586,177</span> (9.87 MB)\n",
              "</pre>\n"
            ]
          },
          "metadata": {}
        },
        {
          "output_type": "display_data",
          "data": {
            "text/plain": [
              "\u001b[1m Trainable params: \u001b[0m\u001b[38;5;34m328,193\u001b[0m (1.25 MB)\n"
            ],
            "text/html": [
              "<pre style=\"white-space:pre;overflow-x:auto;line-height:normal;font-family:Menlo,'DejaVu Sans Mono',consolas,'Courier New',monospace\"><span style=\"font-weight: bold\"> Trainable params: </span><span style=\"color: #00af00; text-decoration-color: #00af00\">328,193</span> (1.25 MB)\n",
              "</pre>\n"
            ]
          },
          "metadata": {}
        },
        {
          "output_type": "display_data",
          "data": {
            "text/plain": [
              "\u001b[1m Non-trainable params: \u001b[0m\u001b[38;5;34m2,257,984\u001b[0m (8.61 MB)\n"
            ],
            "text/html": [
              "<pre style=\"white-space:pre;overflow-x:auto;line-height:normal;font-family:Menlo,'DejaVu Sans Mono',consolas,'Courier New',monospace\"><span style=\"font-weight: bold\"> Non-trainable params: </span><span style=\"color: #00af00; text-decoration-color: #00af00\">2,257,984</span> (8.61 MB)\n",
              "</pre>\n"
            ]
          },
          "metadata": {}
        },
        {
          "output_type": "stream",
          "name": "stdout",
          "text": [
            "\n"
          ]
        },
        {
          "output_type": "stream",
          "name": "stderr",
          "text": [
            "/usr/local/lib/python3.11/dist-packages/keras/src/trainers/data_adapters/py_dataset_adapter.py:121: UserWarning: Your `PyDataset` class should call `super().__init__(**kwargs)` in its constructor. `**kwargs` can include `workers`, `use_multiprocessing`, `max_queue_size`. Do not pass these arguments to `fit()`, as they will be ignored.\n",
            "  self._warn_if_super_not_called()\n"
          ]
        },
        {
          "output_type": "stream",
          "name": "stdout",
          "text": [
            "Epoch 1/20\n",
            "\u001b[1m163/163\u001b[0m \u001b[32m━━━━━━━━━━━━━━━━━━━━\u001b[0m\u001b[37m\u001b[0m \u001b[1m129s\u001b[0m 738ms/step - AUC: 0.5296 - Precision: 0.7612 - Recall: 0.4010 - accuracy: 0.4583 - loss: 0.8177 - val_AUC: 0.8838 - val_Precision: 0.8723 - val_Recall: 0.8231 - val_accuracy: 0.8141 - val_loss: 0.5129\n",
            "Epoch 2/20\n",
            "\u001b[1m163/163\u001b[0m \u001b[32m━━━━━━━━━━━━━━━━━━━━\u001b[0m\u001b[37m\u001b[0m \u001b[1m112s\u001b[0m 686ms/step - AUC: 0.8009 - Precision: 0.8940 - Recall: 0.7375 - accuracy: 0.7383 - loss: 0.5377 - val_AUC: 0.9171 - val_Precision: 0.9003 - val_Recall: 0.8333 - val_accuracy: 0.8381 - val_loss: 0.4320\n",
            "Epoch 3/20\n",
            "\u001b[1m163/163\u001b[0m \u001b[32m━━━━━━━━━━━━━━━━━━━━\u001b[0m\u001b[37m\u001b[0m \u001b[1m113s\u001b[0m 692ms/step - AUC: 0.9001 - Precision: 0.9360 - Recall: 0.8090 - accuracy: 0.8180 - loss: 0.4146 - val_AUC: 0.9270 - val_Precision: 0.9059 - val_Recall: 0.8641 - val_accuracy: 0.8590 - val_loss: 0.3845\n",
            "Epoch 4/20\n",
            "\u001b[1m163/163\u001b[0m \u001b[32m━━━━━━━━━━━━━━━━━━━━\u001b[0m\u001b[37m\u001b[0m \u001b[1m113s\u001b[0m 693ms/step - AUC: 0.9312 - Precision: 0.9510 - Recall: 0.8470 - accuracy: 0.8530 - loss: 0.3450 - val_AUC: 0.9343 - val_Precision: 0.8950 - val_Recall: 0.8744 - val_accuracy: 0.8574 - val_loss: 0.3523\n",
            "Epoch 5/20\n",
            "\u001b[1m163/163\u001b[0m \u001b[32m━━━━━━━━━━━━━━━━━━━━\u001b[0m\u001b[37m\u001b[0m \u001b[1m112s\u001b[0m 685ms/step - AUC: 0.9498 - Precision: 0.9630 - Recall: 0.8614 - accuracy: 0.8742 - loss: 0.3030 - val_AUC: 0.9392 - val_Precision: 0.8810 - val_Recall: 0.8923 - val_accuracy: 0.8574 - val_loss: 0.3304\n",
            "Epoch 6/20\n",
            "\u001b[1m163/163\u001b[0m \u001b[32m━━━━━━━━━━━━━━━━━━━━\u001b[0m\u001b[37m\u001b[0m \u001b[1m122s\u001b[0m 749ms/step - AUC: 0.9555 - Precision: 0.9673 - Recall: 0.8666 - accuracy: 0.8788 - loss: 0.2785 - val_AUC: 0.9430 - val_Precision: 0.8987 - val_Recall: 0.8872 - val_accuracy: 0.8670 - val_loss: 0.3177\n",
            "Epoch 7/20\n",
            "\u001b[1m163/163\u001b[0m \u001b[32m━━━━━━━━━━━━━━━━━━━━\u001b[0m\u001b[37m\u001b[0m \u001b[1m131s\u001b[0m 802ms/step - AUC: 0.9643 - Precision: 0.9662 - Recall: 0.8938 - accuracy: 0.8986 - loss: 0.2540 - val_AUC: 0.9469 - val_Precision: 0.8828 - val_Recall: 0.9077 - val_accuracy: 0.8670 - val_loss: 0.3021\n",
            "Epoch 8/20\n",
            "\u001b[1m163/163\u001b[0m \u001b[32m━━━━━━━━━━━━━━━━━━━━\u001b[0m\u001b[37m\u001b[0m \u001b[1m112s\u001b[0m 688ms/step - AUC: 0.9662 - Precision: 0.9700 - Recall: 0.8987 - accuracy: 0.9039 - loss: 0.2398 - val_AUC: 0.9493 - val_Precision: 0.8985 - val_Recall: 0.9077 - val_accuracy: 0.8782 - val_loss: 0.2932\n",
            "Epoch 9/20\n",
            "\u001b[1m163/163\u001b[0m \u001b[32m━━━━━━━━━━━━━━━━━━━━\u001b[0m\u001b[37m\u001b[0m \u001b[1m113s\u001b[0m 693ms/step - AUC: 0.9688 - Precision: 0.9739 - Recall: 0.8953 - accuracy: 0.9041 - loss: 0.2325 - val_AUC: 0.9517 - val_Precision: 0.8965 - val_Recall: 0.9103 - val_accuracy: 0.8782 - val_loss: 0.2847\n",
            "Epoch 10/20\n",
            "\u001b[1m163/163\u001b[0m \u001b[32m━━━━━━━━━━━━━━━━━━━━\u001b[0m\u001b[37m\u001b[0m \u001b[1m112s\u001b[0m 690ms/step - AUC: 0.9719 - Precision: 0.9744 - Recall: 0.8940 - accuracy: 0.9024 - loss: 0.2171 - val_AUC: 0.9541 - val_Precision: 0.8947 - val_Recall: 0.9154 - val_accuracy: 0.8798 - val_loss: 0.2769\n",
            "Epoch 11/20\n",
            "\u001b[1m163/163\u001b[0m \u001b[32m━━━━━━━━━━━━━━━━━━━━\u001b[0m\u001b[37m\u001b[0m \u001b[1m114s\u001b[0m 701ms/step - AUC: 0.9734 - Precision: 0.9763 - Recall: 0.9091 - accuracy: 0.9166 - loss: 0.2121 - val_AUC: 0.9558 - val_Precision: 0.8821 - val_Recall: 0.9205 - val_accuracy: 0.8734 - val_loss: 0.2705\n",
            "Epoch 12/20\n",
            "\u001b[1m163/163\u001b[0m \u001b[32m━━━━━━━━━━━━━━━━━━━━\u001b[0m\u001b[37m\u001b[0m \u001b[1m113s\u001b[0m 693ms/step - AUC: 0.9742 - Precision: 0.9778 - Recall: 0.9015 - accuracy: 0.9119 - loss: 0.2074 - val_AUC: 0.9573 - val_Precision: 0.8842 - val_Recall: 0.9205 - val_accuracy: 0.8750 - val_loss: 0.2650\n",
            "Epoch 13/20\n",
            "\u001b[1m163/163\u001b[0m \u001b[32m━━━━━━━━━━━━━━━━━━━━\u001b[0m\u001b[37m\u001b[0m \u001b[1m113s\u001b[0m 692ms/step - AUC: 0.9810 - Precision: 0.9728 - Recall: 0.9179 - accuracy: 0.9198 - loss: 0.1841 - val_AUC: 0.9592 - val_Precision: 0.8997 - val_Recall: 0.9205 - val_accuracy: 0.8862 - val_loss: 0.2590\n",
            "Epoch 14/20\n",
            "\u001b[1m163/163\u001b[0m \u001b[32m━━━━━━━━━━━━━━━━━━━━\u001b[0m\u001b[37m\u001b[0m \u001b[1m115s\u001b[0m 703ms/step - AUC: 0.9795 - Precision: 0.9810 - Recall: 0.9116 - accuracy: 0.9210 - loss: 0.1854 - val_AUC: 0.9605 - val_Precision: 0.8824 - val_Recall: 0.9231 - val_accuracy: 0.8750 - val_loss: 0.2545\n",
            "Epoch 15/20\n",
            "\u001b[1m163/163\u001b[0m \u001b[32m━━━━━━━━━━━━━━━━━━━━\u001b[0m\u001b[37m\u001b[0m \u001b[1m115s\u001b[0m 703ms/step - AUC: 0.9776 - Precision: 0.9781 - Recall: 0.9161 - accuracy: 0.9221 - loss: 0.1924 - val_AUC: 0.9613 - val_Precision: 0.8723 - val_Recall: 0.9282 - val_accuracy: 0.8702 - val_loss: 0.2537\n",
            "Epoch 16/20\n",
            "\u001b[1m163/163\u001b[0m \u001b[32m━━━━━━━━━━━━━━━━━━━━\u001b[0m\u001b[37m\u001b[0m \u001b[1m113s\u001b[0m 694ms/step - AUC: 0.9802 - Precision: 0.9759 - Recall: 0.9179 - accuracy: 0.9224 - loss: 0.1863 - val_AUC: 0.9617 - val_Precision: 0.8848 - val_Recall: 0.9256 - val_accuracy: 0.8782 - val_loss: 0.2495\n",
            "Epoch 17/20\n",
            "\u001b[1m163/163\u001b[0m \u001b[32m━━━━━━━━━━━━━━━━━━━━\u001b[0m\u001b[37m\u001b[0m \u001b[1m113s\u001b[0m 690ms/step - AUC: 0.9820 - Precision: 0.9770 - Recall: 0.9281 - accuracy: 0.9302 - loss: 0.1753 - val_AUC: 0.9622 - val_Precision: 0.8864 - val_Recall: 0.9205 - val_accuracy: 0.8766 - val_loss: 0.2470\n",
            "Epoch 18/20\n",
            "\u001b[1m163/163\u001b[0m \u001b[32m━━━━━━━━━━━━━━━━━━━━\u001b[0m\u001b[37m\u001b[0m \u001b[1m114s\u001b[0m 701ms/step - AUC: 0.9783 - Precision: 0.9803 - Recall: 0.9235 - accuracy: 0.9295 - loss: 0.1868 - val_AUC: 0.9630 - val_Precision: 0.8873 - val_Recall: 0.9282 - val_accuracy: 0.8814 - val_loss: 0.2445\n",
            "Epoch 19/20\n",
            "\u001b[1m163/163\u001b[0m \u001b[32m━━━━━━━━━━━━━━━━━━━━\u001b[0m\u001b[37m\u001b[0m \u001b[1m113s\u001b[0m 695ms/step - AUC: 0.9814 - Precision: 0.9810 - Recall: 0.9146 - accuracy: 0.9234 - loss: 0.1741 - val_AUC: 0.9636 - val_Precision: 0.8851 - val_Recall: 0.9282 - val_accuracy: 0.8798 - val_loss: 0.2424\n",
            "Epoch 20/20\n",
            "\u001b[1m163/163\u001b[0m \u001b[32m━━━━━━━━━━━━━━━━━━━━\u001b[0m\u001b[37m\u001b[0m \u001b[1m114s\u001b[0m 697ms/step - AUC: 0.9802 - Precision: 0.9804 - Recall: 0.9176 - accuracy: 0.9248 - loss: 0.1785 - val_AUC: 0.9639 - val_Precision: 0.8938 - val_Recall: 0.9282 - val_accuracy: 0.8862 - val_loss: 0.2408\n",
            "\n",
            "AUC [0.623477041721344, 0.8415608406066895, 0.9062833786010742, 0.9343273639678955, 0.949353039264679, 0.9566594958305359, 0.9642125964164734, 0.9661248922348022, 0.9696800112724304, 0.9727414846420288, 0.9716673493385315, 0.9763645529747009, 0.9779282212257385, 0.9784667491912842, 0.9791205525398254, 0.9804683327674866, 0.9828991293907166, 0.98142009973526, 0.9812012910842896, 0.9827538728713989]\n",
            "Precision [0.8103715181350708, 0.9068552255630493, 0.9410538673400879, 0.9529581665992737, 0.9637722969055176, 0.9666095972061157, 0.9680134654045105, 0.9721753597259521, 0.9737658500671387, 0.9743589758872986, 0.9775344133377075, 0.978830099105835, 0.9728395342826843, 0.9785813689231873, 0.9788830280303955, 0.9784172773361206, 0.9826302528381348, 0.9818681478500366, 0.979653537273407, 0.9821575880050659]\n",
            "Recall [0.5403870940208435, 0.7612903118133545, 0.8157419562339783, 0.8521290421485901, 0.8650322556495667, 0.8740645051002502, 0.8903225660324097, 0.8926451802253723, 0.8908386826515198, 0.8923870921134949, 0.898322582244873, 0.9068387150764465, 0.9150967597961426, 0.9078709483146667, 0.9091612696647644, 0.9125161170959473, 0.9197419285774231, 0.9223225712776184, 0.9194839000701904, 0.9233548641204834]\n",
            "accuracy [0.5646088719367981, 0.7645705342292786, 0.8251533508300781, 0.8588957190513611, 0.8755751252174377, 0.8840107321739197, 0.8966640830039978, 0.9012653231620789, 0.9010736346244812, 0.9026073813438416, 0.9091257452964783, 0.9162193536758423, 0.9179447889328003, 0.91679447889328, 0.9179447889328003, 0.9200536608695984, 0.9282975196838379, 0.9296395778656006, 0.9259969592094421, 0.9305981397628784]\n",
            "loss [0.7190507054328918, 0.49450767040252686, 0.40030500292778015, 0.3383072316646576, 0.29693135619163513, 0.27379345893859863, 0.25178587436676025, 0.23897863924503326, 0.2297949343919754, 0.21695412695407867, 0.2157389223575592, 0.20018841326236725, 0.19432774186134338, 0.18999738991260529, 0.1870950162410736, 0.18279294669628143, 0.17067109048366547, 0.17455120384693146, 0.17471475899219513, 0.16826793551445007]\n",
            "val_AUC [0.8837551474571228, 0.917072057723999, 0.9269832372665405, 0.9343031048774719, 0.9392066597938538, 0.942976176738739, 0.946898877620697, 0.9492931962013245, 0.951747715473175, 0.9541311264038086, 0.9558131098747253, 0.9572812914848328, 0.9592428207397461, 0.9604755640029907, 0.9613083004951477, 0.961686372756958, 0.9621685743331909, 0.9629629254341125, 0.9635600447654724, 0.9639436602592468]\n",
            "val_Precision [0.8722826242446899, 0.9002770185470581, 0.9059139490127563, 0.8950130939483643, 0.8810126781463623, 0.8987013101577759, 0.8827930092811584, 0.8984771370887756, 0.8964646458625793, 0.8947368264198303, 0.8820638656616211, 0.8842364549636841, 0.8997493982315063, 0.8823529481887817, 0.8722891807556152, 0.8848039507865906, 0.8864197731018066, 0.8872548937797546, 0.8850855827331543, 0.8938271403312683]\n",
            "val_Recall [0.8230769038200378, 0.8333333134651184, 0.8641025424003601, 0.8743589520454407, 0.892307698726654, 0.8871794939041138, 0.9076923131942749, 0.9076923131942749, 0.9102563858032227, 0.9153845906257629, 0.9205127954483032, 0.9205127954483032, 0.9205127954483032, 0.9230769276618958, 0.928205132484436, 0.9256410002708435, 0.9205127954483032, 0.928205132484436, 0.928205132484436, 0.928205132484436]\n",
            "val_accuracy [0.8141025900840759, 0.8381410241127014, 0.8589743375778198, 0.8573718070983887, 0.8573718070983887, 0.8669871687889099, 0.8669871687889099, 0.8782051205635071, 0.8782051205635071, 0.879807710647583, 0.8733974099159241, 0.875, 0.8862179517745972, 0.875, 0.870192289352417, 0.8782051205635071, 0.8766025900840759, 0.8814102411270142, 0.879807710647583, 0.8862179517745972]\n",
            "val_loss [0.5129052996635437, 0.432049036026001, 0.38448819518089294, 0.3522505760192871, 0.3304475247859955, 0.31772613525390625, 0.30210933089256287, 0.2932494282722473, 0.2846783995628357, 0.27685266733169556, 0.2704842686653137, 0.26501110196113586, 0.2590256333351135, 0.25453829765319824, 0.2536604106426239, 0.24947498738765717, 0.24702954292297363, 0.24449394643306732, 0.24235859513282776, 0.2407597005367279]\n",
            "Wall time 2305.948502063751\n"
          ]
        }
      ]
    },
    {
      "cell_type": "code",
      "source": [
        "cfg = 'cfg_8.1'\n",
        "add_result(cfg, model_history)\n",
        "model.save(f\"/content/drive/MyDrive/DS/chest-xray-pneumonia/MobileNetV2-{cfg}.keras\")"
      ],
      "metadata": {
        "id": "EHyHO6i4TR4Y"
      },
      "execution_count": null,
      "outputs": []
    },
    {
      "cell_type": "markdown",
      "source": [
        "## cfg 8.2\n",
        "* learning_rate=<font color=orange>0.00001</font>\n",
        "* class_weights\n",
        "* horizontal_flip=True\n",
        "* Dense(256, ReLU)\n",
        "* EPOCHS=<font color=orange>20</font> + EarlyStopping\n",
        "* base_model.trainable = True"
      ],
      "metadata": {
        "id": "cnOBHA_XflKs"
      }
    },
    {
      "cell_type": "code",
      "source": [
        "def model_train(learning_rate, dense_value, epochs=10):\n",
        "    # Размер изображений и параметры\n",
        "    IMG_SIZE = (224, 224)  # MobileNetV2 лучше работает с этим размером\n",
        "    BATCH_SIZE = 32\n",
        "\n",
        "    # Аугментация\n",
        "    train_datagen = ImageDataGenerator(\n",
        "        rescale=1./255,\n",
        "        rotation_range=10,\n",
        "        width_shift_range=0.1,\n",
        "        height_shift_range=0.1,\n",
        "        zoom_range=0.1,\n",
        "        brightness_range=[0.9, 1.1],\n",
        "        horizontal_flip=True #             [!]\n",
        "    )\n",
        "\n",
        "    val_test_datagen = ImageDataGenerator(rescale=1./255)\n",
        "\n",
        "    # Генераторы\n",
        "    train_generator = train_datagen.flow_from_directory(\n",
        "        train_dir,\n",
        "        target_size=IMG_SIZE,\n",
        "        batch_size=BATCH_SIZE,\n",
        "        class_mode='binary',\n",
        "        color_mode='rgb'\n",
        "    )\n",
        "\n",
        "    val_generator = val_test_datagen.flow_from_directory(\n",
        "        val_dir,\n",
        "        target_size=IMG_SIZE,\n",
        "        batch_size=BATCH_SIZE,\n",
        "        class_mode='binary',\n",
        "        shuffle=False,\n",
        "        color_mode='rgb'\n",
        "    )\n",
        "\n",
        "    test_generator = val_test_datagen.flow_from_directory(\n",
        "        test_dir,\n",
        "        target_size=IMG_SIZE,\n",
        "        batch_size=BATCH_SIZE,\n",
        "        class_mode='binary',\n",
        "        shuffle=False,\n",
        "        color_mode='rgb'\n",
        "    )\n",
        "\n",
        "    print()\n",
        "\n",
        "    # class_weights      [!]\n",
        "    class_weights = compute_class_weight('balanced', classes=np.unique(train_generator.classes), y=train_generator.classes)\n",
        "    class_weights = dict(enumerate(class_weights))\n",
        "    print(class_weights)\n",
        "\n",
        "    print()\n",
        "\n",
        "    # Загрузка MobileNetV2 без верхушки\n",
        "    base_model = MobileNetV2(input_shape=(224, 224, 3), include_top=False, weights='imagenet')\n",
        "    base_model.trainable = True  #       [!]\n",
        "\n",
        "    # Добавляем слои классификации\n",
        "    model = Sequential([\n",
        "        base_model,\n",
        "        layers.GlobalAveragePooling2D(),\n",
        "        layers.Dense(dense_value, activation='relu'),\n",
        "        layers.Dropout(0.5),\n",
        "        layers.Dense(1, activation='sigmoid')\n",
        "    ])\n",
        "\n",
        "    # Компиляция модели\n",
        "    model.compile(\n",
        "        optimizer=Adam(learning_rate=learning_rate),\n",
        "        loss='binary_crossentropy',\n",
        "        metrics=[\n",
        "            'AUC',\n",
        "            'Recall',\n",
        "            'Precision',\n",
        "            'accuracy'\n",
        "        ]\n",
        "    )\n",
        "\n",
        "    # Отображение информации об устройстве сети:\n",
        "    model.summary()\n",
        "\n",
        "    print()\n",
        "\n",
        "    # EarlyStopping       [!]\n",
        "    callbacks_list = [\n",
        "        EarlyStopping(\n",
        "            monitor=\"val_AUC\",\n",
        "            patience=5, ), # [!]\n",
        "        ModelCheckpoint(\n",
        "            filepath=\"/content/drive/MyDrive/DS/chest-xray-pneumonia/MobileNetV2-8-2_checkpoint.keras\",\n",
        "            monitor=\"val_loss\",\n",
        "            save_best_only=True\n",
        "        )\n",
        "    ]\n",
        "\n",
        "    # Обучение модели\n",
        "    # EPOCHS = 10\n",
        "\n",
        "    start = time.time() # Фиксация времени\n",
        "\n",
        "    history = model.fit(\n",
        "        train_generator,\n",
        "        epochs=epochs,  #      [!]\n",
        "        validation_data=val_generator,\n",
        "        class_weight=class_weights, #      [!]\n",
        "        callbacks=callbacks_list    #      [!]\n",
        "    )\n",
        "\n",
        "    end = time.time() # Фиксация времени\n",
        "\n",
        "    model_history = history.history\n",
        "    model_history['Wall time'] = end - start\n",
        "\n",
        "    print()\n",
        "\n",
        "    for k, v in model_history.items():\n",
        "        print(k, v)\n",
        "\n",
        "    return model, model_history"
      ],
      "metadata": {
        "id": "vvSR3YvuflKs"
      },
      "execution_count": null,
      "outputs": []
    },
    {
      "cell_type": "code",
      "source": [
        "model, model_history = model_train(learning_rate=0.00001, dense_value=256, epochs=20)"
      ],
      "metadata": {
        "colab": {
          "base_uri": "https://localhost:8080/",
          "height": 1000
        },
        "outputId": "34835c47-18d1-4944-a7af-d4b8437b958e",
        "id": "jGkGPo-1flKt"
      },
      "execution_count": null,
      "outputs": [
        {
          "output_type": "stream",
          "name": "stdout",
          "text": [
            "Found 5216 images belonging to 2 classes.\n",
            "Found 624 images belonging to 2 classes.\n",
            "Found 16 images belonging to 2 classes.\n",
            "\n",
            "{0: np.float64(1.9448173005219984), 1: np.float64(0.6730322580645162)}\n",
            "\n"
          ]
        },
        {
          "output_type": "display_data",
          "data": {
            "text/plain": [
              "\u001b[1mModel: \"sequential_3\"\u001b[0m\n"
            ],
            "text/html": [
              "<pre style=\"white-space:pre;overflow-x:auto;line-height:normal;font-family:Menlo,'DejaVu Sans Mono',consolas,'Courier New',monospace\"><span style=\"font-weight: bold\">Model: \"sequential_3\"</span>\n",
              "</pre>\n"
            ]
          },
          "metadata": {}
        },
        {
          "output_type": "display_data",
          "data": {
            "text/plain": [
              "┏━━━━━━━━━━━━━━━━━━━━━━━━━━━━━━━━━┳━━━━━━━━━━━━━━━━━━━━━━━━┳━━━━━━━━━━━━━━━┓\n",
              "┃\u001b[1m \u001b[0m\u001b[1mLayer (type)                   \u001b[0m\u001b[1m \u001b[0m┃\u001b[1m \u001b[0m\u001b[1mOutput Shape          \u001b[0m\u001b[1m \u001b[0m┃\u001b[1m \u001b[0m\u001b[1m      Param #\u001b[0m\u001b[1m \u001b[0m┃\n",
              "┡━━━━━━━━━━━━━━━━━━━━━━━━━━━━━━━━━╇━━━━━━━━━━━━━━━━━━━━━━━━╇━━━━━━━━━━━━━━━┩\n",
              "│ mobilenetv2_1.00_224            │ (\u001b[38;5;45mNone\u001b[0m, \u001b[38;5;34m7\u001b[0m, \u001b[38;5;34m7\u001b[0m, \u001b[38;5;34m1280\u001b[0m)     │     \u001b[38;5;34m2,257,984\u001b[0m │\n",
              "│ (\u001b[38;5;33mFunctional\u001b[0m)                    │                        │               │\n",
              "├─────────────────────────────────┼────────────────────────┼───────────────┤\n",
              "│ global_average_pooling2d_3      │ (\u001b[38;5;45mNone\u001b[0m, \u001b[38;5;34m1280\u001b[0m)           │             \u001b[38;5;34m0\u001b[0m │\n",
              "│ (\u001b[38;5;33mGlobalAveragePooling2D\u001b[0m)        │                        │               │\n",
              "├─────────────────────────────────┼────────────────────────┼───────────────┤\n",
              "│ dense_6 (\u001b[38;5;33mDense\u001b[0m)                 │ (\u001b[38;5;45mNone\u001b[0m, \u001b[38;5;34m256\u001b[0m)            │       \u001b[38;5;34m327,936\u001b[0m │\n",
              "├─────────────────────────────────┼────────────────────────┼───────────────┤\n",
              "│ dropout_3 (\u001b[38;5;33mDropout\u001b[0m)             │ (\u001b[38;5;45mNone\u001b[0m, \u001b[38;5;34m256\u001b[0m)            │             \u001b[38;5;34m0\u001b[0m │\n",
              "├─────────────────────────────────┼────────────────────────┼───────────────┤\n",
              "│ dense_7 (\u001b[38;5;33mDense\u001b[0m)                 │ (\u001b[38;5;45mNone\u001b[0m, \u001b[38;5;34m1\u001b[0m)              │           \u001b[38;5;34m257\u001b[0m │\n",
              "└─────────────────────────────────┴────────────────────────┴───────────────┘\n"
            ],
            "text/html": [
              "<pre style=\"white-space:pre;overflow-x:auto;line-height:normal;font-family:Menlo,'DejaVu Sans Mono',consolas,'Courier New',monospace\">┏━━━━━━━━━━━━━━━━━━━━━━━━━━━━━━━━━┳━━━━━━━━━━━━━━━━━━━━━━━━┳━━━━━━━━━━━━━━━┓\n",
              "┃<span style=\"font-weight: bold\"> Layer (type)                    </span>┃<span style=\"font-weight: bold\"> Output Shape           </span>┃<span style=\"font-weight: bold\">       Param # </span>┃\n",
              "┡━━━━━━━━━━━━━━━━━━━━━━━━━━━━━━━━━╇━━━━━━━━━━━━━━━━━━━━━━━━╇━━━━━━━━━━━━━━━┩\n",
              "│ mobilenetv2_1.00_224            │ (<span style=\"color: #00d7ff; text-decoration-color: #00d7ff\">None</span>, <span style=\"color: #00af00; text-decoration-color: #00af00\">7</span>, <span style=\"color: #00af00; text-decoration-color: #00af00\">7</span>, <span style=\"color: #00af00; text-decoration-color: #00af00\">1280</span>)     │     <span style=\"color: #00af00; text-decoration-color: #00af00\">2,257,984</span> │\n",
              "│ (<span style=\"color: #0087ff; text-decoration-color: #0087ff\">Functional</span>)                    │                        │               │\n",
              "├─────────────────────────────────┼────────────────────────┼───────────────┤\n",
              "│ global_average_pooling2d_3      │ (<span style=\"color: #00d7ff; text-decoration-color: #00d7ff\">None</span>, <span style=\"color: #00af00; text-decoration-color: #00af00\">1280</span>)           │             <span style=\"color: #00af00; text-decoration-color: #00af00\">0</span> │\n",
              "│ (<span style=\"color: #0087ff; text-decoration-color: #0087ff\">GlobalAveragePooling2D</span>)        │                        │               │\n",
              "├─────────────────────────────────┼────────────────────────┼───────────────┤\n",
              "│ dense_6 (<span style=\"color: #0087ff; text-decoration-color: #0087ff\">Dense</span>)                 │ (<span style=\"color: #00d7ff; text-decoration-color: #00d7ff\">None</span>, <span style=\"color: #00af00; text-decoration-color: #00af00\">256</span>)            │       <span style=\"color: #00af00; text-decoration-color: #00af00\">327,936</span> │\n",
              "├─────────────────────────────────┼────────────────────────┼───────────────┤\n",
              "│ dropout_3 (<span style=\"color: #0087ff; text-decoration-color: #0087ff\">Dropout</span>)             │ (<span style=\"color: #00d7ff; text-decoration-color: #00d7ff\">None</span>, <span style=\"color: #00af00; text-decoration-color: #00af00\">256</span>)            │             <span style=\"color: #00af00; text-decoration-color: #00af00\">0</span> │\n",
              "├─────────────────────────────────┼────────────────────────┼───────────────┤\n",
              "│ dense_7 (<span style=\"color: #0087ff; text-decoration-color: #0087ff\">Dense</span>)                 │ (<span style=\"color: #00d7ff; text-decoration-color: #00d7ff\">None</span>, <span style=\"color: #00af00; text-decoration-color: #00af00\">1</span>)              │           <span style=\"color: #00af00; text-decoration-color: #00af00\">257</span> │\n",
              "└─────────────────────────────────┴────────────────────────┴───────────────┘\n",
              "</pre>\n"
            ]
          },
          "metadata": {}
        },
        {
          "output_type": "display_data",
          "data": {
            "text/plain": [
              "\u001b[1m Total params: \u001b[0m\u001b[38;5;34m2,586,177\u001b[0m (9.87 MB)\n"
            ],
            "text/html": [
              "<pre style=\"white-space:pre;overflow-x:auto;line-height:normal;font-family:Menlo,'DejaVu Sans Mono',consolas,'Courier New',monospace\"><span style=\"font-weight: bold\"> Total params: </span><span style=\"color: #00af00; text-decoration-color: #00af00\">2,586,177</span> (9.87 MB)\n",
              "</pre>\n"
            ]
          },
          "metadata": {}
        },
        {
          "output_type": "display_data",
          "data": {
            "text/plain": [
              "\u001b[1m Trainable params: \u001b[0m\u001b[38;5;34m2,552,065\u001b[0m (9.74 MB)\n"
            ],
            "text/html": [
              "<pre style=\"white-space:pre;overflow-x:auto;line-height:normal;font-family:Menlo,'DejaVu Sans Mono',consolas,'Courier New',monospace\"><span style=\"font-weight: bold\"> Trainable params: </span><span style=\"color: #00af00; text-decoration-color: #00af00\">2,552,065</span> (9.74 MB)\n",
              "</pre>\n"
            ]
          },
          "metadata": {}
        },
        {
          "output_type": "display_data",
          "data": {
            "text/plain": [
              "\u001b[1m Non-trainable params: \u001b[0m\u001b[38;5;34m34,112\u001b[0m (133.25 KB)\n"
            ],
            "text/html": [
              "<pre style=\"white-space:pre;overflow-x:auto;line-height:normal;font-family:Menlo,'DejaVu Sans Mono',consolas,'Courier New',monospace\"><span style=\"font-weight: bold\"> Non-trainable params: </span><span style=\"color: #00af00; text-decoration-color: #00af00\">34,112</span> (133.25 KB)\n",
              "</pre>\n"
            ]
          },
          "metadata": {}
        },
        {
          "output_type": "stream",
          "name": "stdout",
          "text": [
            "\n"
          ]
        },
        {
          "output_type": "stream",
          "name": "stderr",
          "text": [
            "/usr/local/lib/python3.11/dist-packages/keras/src/trainers/data_adapters/py_dataset_adapter.py:121: UserWarning: Your `PyDataset` class should call `super().__init__(**kwargs)` in its constructor. `**kwargs` can include `workers`, `use_multiprocessing`, `max_queue_size`. Do not pass these arguments to `fit()`, as they will be ignored.\n",
            "  self._warn_if_super_not_called()\n"
          ]
        },
        {
          "output_type": "stream",
          "name": "stdout",
          "text": [
            "Epoch 1/20\n",
            "\u001b[1m163/163\u001b[0m \u001b[32m━━━━━━━━━━━━━━━━━━━━\u001b[0m\u001b[37m\u001b[0m \u001b[1m170s\u001b[0m 768ms/step - AUC: 0.7797 - Precision: 0.8607 - Recall: 0.7413 - accuracy: 0.7210 - loss: 0.5573 - val_AUC: 0.8298 - val_Precision: 0.6250 - val_Recall: 1.0000 - val_accuracy: 0.6250 - val_loss: 0.8662\n",
            "Epoch 2/20\n",
            "\u001b[1m163/163\u001b[0m \u001b[32m━━━━━━━━━━━━━━━━━━━━\u001b[0m\u001b[37m\u001b[0m \u001b[1m179s\u001b[0m 745ms/step - AUC: 0.9698 - Precision: 0.9736 - Recall: 0.9071 - accuracy: 0.9135 - loss: 0.2362 - val_AUC: 0.8672 - val_Precision: 0.6250 - val_Recall: 1.0000 - val_accuracy: 0.6250 - val_loss: 1.0538\n",
            "Epoch 3/20\n",
            "\u001b[1m163/163\u001b[0m \u001b[32m━━━━━━━━━━━━━━━━━━━━\u001b[0m\u001b[37m\u001b[0m \u001b[1m117s\u001b[0m 720ms/step - AUC: 0.9839 - Precision: 0.9869 - Recall: 0.9307 - accuracy: 0.9387 - loss: 0.1610 - val_AUC: 0.9021 - val_Precision: 0.6250 - val_Recall: 1.0000 - val_accuracy: 0.6250 - val_loss: 1.1063\n",
            "Epoch 4/20\n",
            "\u001b[1m163/163\u001b[0m \u001b[32m━━━━━━━━━━━━━━━━━━━━\u001b[0m\u001b[37m\u001b[0m \u001b[1m117s\u001b[0m 719ms/step - AUC: 0.9901 - Precision: 0.9881 - Recall: 0.9401 - accuracy: 0.9468 - loss: 0.1279 - val_AUC: 0.9050 - val_Precision: 0.6250 - val_Recall: 1.0000 - val_accuracy: 0.6250 - val_loss: 1.2023\n",
            "Epoch 5/20\n",
            "\u001b[1m163/163\u001b[0m \u001b[32m━━━━━━━━━━━━━━━━━━━━\u001b[0m\u001b[37m\u001b[0m \u001b[1m117s\u001b[0m 719ms/step - AUC: 0.9874 - Precision: 0.9821 - Recall: 0.9458 - accuracy: 0.9468 - loss: 0.1398 - val_AUC: 0.9106 - val_Precision: 0.6250 - val_Recall: 1.0000 - val_accuracy: 0.6250 - val_loss: 1.3319\n",
            "Epoch 6/20\n",
            "\u001b[1m163/163\u001b[0m \u001b[32m━━━━━━━━━━━━━━━━━━━━\u001b[0m\u001b[37m\u001b[0m \u001b[1m121s\u001b[0m 742ms/step - AUC: 0.9921 - Precision: 0.9856 - Recall: 0.9548 - accuracy: 0.9560 - loss: 0.1124 - val_AUC: 0.9055 - val_Precision: 0.6250 - val_Recall: 1.0000 - val_accuracy: 0.6250 - val_loss: 1.4775\n",
            "Epoch 7/20\n",
            "\u001b[1m163/163\u001b[0m \u001b[32m━━━━━━━━━━━━━━━━━━━━\u001b[0m\u001b[37m\u001b[0m \u001b[1m118s\u001b[0m 724ms/step - AUC: 0.9937 - Precision: 0.9908 - Recall: 0.9627 - accuracy: 0.9654 - loss: 0.0941 - val_AUC: 0.8995 - val_Precision: 0.6250 - val_Recall: 1.0000 - val_accuracy: 0.6250 - val_loss: 1.5003\n",
            "Epoch 8/20\n",
            "\u001b[1m163/163\u001b[0m \u001b[32m━━━━━━━━━━━━━━━━━━━━\u001b[0m\u001b[37m\u001b[0m \u001b[1m117s\u001b[0m 716ms/step - AUC: 0.9950 - Precision: 0.9933 - Recall: 0.9635 - accuracy: 0.9683 - loss: 0.0836 - val_AUC: 0.9017 - val_Precision: 0.6250 - val_Recall: 1.0000 - val_accuracy: 0.6250 - val_loss: 1.4733\n",
            "Epoch 9/20\n",
            "\u001b[1m163/163\u001b[0m \u001b[32m━━━━━━━━━━━━━━━━━━━━\u001b[0m\u001b[37m\u001b[0m \u001b[1m118s\u001b[0m 723ms/step - AUC: 0.9929 - Precision: 0.9881 - Recall: 0.9649 - accuracy: 0.9653 - loss: 0.0999 - val_AUC: 0.8989 - val_Precision: 0.6250 - val_Recall: 1.0000 - val_accuracy: 0.6250 - val_loss: 1.4222\n",
            "Epoch 10/20\n",
            "\u001b[1m163/163\u001b[0m \u001b[32m━━━━━━━━━━━━━━━━━━━━\u001b[0m\u001b[37m\u001b[0m \u001b[1m117s\u001b[0m 717ms/step - AUC: 0.9950 - Precision: 0.9888 - Recall: 0.9724 - accuracy: 0.9713 - loss: 0.0825 - val_AUC: 0.8971 - val_Precision: 0.6250 - val_Recall: 1.0000 - val_accuracy: 0.6250 - val_loss: 1.4613\n",
            "\n",
            "AUC [0.8887054920196533, 0.9722980260848999, 0.9829779863357544, 0.9902846217155457, 0.9897194504737854, 0.9920329451560974, 0.9928183555603027, 0.9944308400154114, 0.9945120811462402, 0.9958862662315369]\n",
            "Precision [0.9234923720359802, 0.9783092141151428, 0.9845108985900879, 0.9846815466880798, 0.9860590100288391, 0.987687349319458, 0.989630401134491, 0.9915006756782532, 0.9912813901901245, 0.9918097853660583]\n",
            "Recall [0.7943226099014282, 0.9078709483146667, 0.9349677562713623, 0.945548415184021, 0.9491612911224365, 0.9522580504417419, 0.9605161547660828, 0.9633548259735107, 0.9682580828666687, 0.9687741994857788]\n",
            "accuracy [0.7983129024505615, 0.9166027903556824, 0.9407591819763184, 0.9486196041107178, 0.952262282371521, 0.9557132124900818, 0.9631901979446411, 0.9666411280632019, 0.9700919985771179, 0.9708588719367981]\n",
            "loss [0.4305974543094635, 0.21792665123939514, 0.16363805532455444, 0.1255117952823639, 0.12512804567813873, 0.11202102899551392, 0.10165704786777496, 0.0875779390335083, 0.08759472519159317, 0.07505162805318832]\n",
            "val_AUC [0.8297775387763977, 0.8672473430633545, 0.9021093845367432, 0.9050131440162659, 0.9105851650238037, 0.9054514169692993, 0.899457573890686, 0.9017258286476135, 0.8988658785820007, 0.8970632553100586]\n",
            "val_Precision [0.625, 0.625, 0.625, 0.625, 0.625, 0.625, 0.625, 0.625, 0.625, 0.625]\n",
            "val_Recall [1.0, 1.0, 1.0, 1.0, 1.0, 1.0, 1.0, 1.0, 1.0, 1.0]\n",
            "val_accuracy [0.625, 0.625, 0.625, 0.625, 0.625, 0.625, 0.625, 0.625, 0.625, 0.625]\n",
            "val_loss [0.8661980032920837, 1.0538283586502075, 1.1062562465667725, 1.2023378610610962, 1.3319274187088013, 1.477526307106018, 1.5002868175506592, 1.47331702709198, 1.422168493270874, 1.4612730741500854]\n",
            "Wall time 1292.8682463169098\n"
          ]
        }
      ]
    },
    {
      "cell_type": "code",
      "source": [
        "cfg = 'cfg_8.2'\n",
        "add_result(cfg, model_history)\n",
        "model.save(f\"/content/drive/MyDrive/DS/chest-xray-pneumonia/MobileNetV2-{cfg}.keras\")"
      ],
      "metadata": {
        "id": "wcr40CdNflKt"
      },
      "execution_count": null,
      "outputs": []
    },
    {
      "cell_type": "markdown",
      "source": [
        "## cfg 8.3\n",
        "* <font color=orange>LearningRateScheduler</font>\n",
        "* class_weights\n",
        "* horizontal_flip=True\n",
        "* Dense(256, ReLU)\n",
        "* base_model.trainable = True"
      ],
      "metadata": {
        "id": "_qqL2btDpFdz"
      }
    },
    {
      "cell_type": "code",
      "source": [
        "def lr_scheduler(epoch, lr):\n",
        "    if  0 <= epoch <= 2:\n",
        "        return 0.0001\n",
        "    else:\n",
        "        return 0.00001\n",
        "\n",
        "lr_callback = LearningRateScheduler(lr_scheduler)"
      ],
      "metadata": {
        "id": "ZBNQ4lzhwkE0"
      },
      "execution_count": null,
      "outputs": []
    },
    {
      "cell_type": "code",
      "source": [
        "def model_train(lr_callback, dense_value, epochs=10):\n",
        "    # Размер изображений и параметры\n",
        "    IMG_SIZE = (224, 224)  # MobileNetV2 лучше работает с этим размером\n",
        "    BATCH_SIZE = 32\n",
        "\n",
        "    # Аугментация\n",
        "    train_datagen = ImageDataGenerator(\n",
        "        rescale=1./255,\n",
        "        rotation_range=10,\n",
        "        width_shift_range=0.1,\n",
        "        height_shift_range=0.1,\n",
        "        zoom_range=0.1,\n",
        "        brightness_range=[0.9, 1.1],\n",
        "        horizontal_flip=True #             [!]\n",
        "    )\n",
        "\n",
        "    val_test_datagen = ImageDataGenerator(rescale=1./255)\n",
        "\n",
        "    # Генераторы\n",
        "    train_generator = train_datagen.flow_from_directory(\n",
        "        train_dir,\n",
        "        target_size=IMG_SIZE,\n",
        "        batch_size=BATCH_SIZE,\n",
        "        class_mode='binary',\n",
        "        color_mode='rgb'\n",
        "    )\n",
        "\n",
        "    val_generator = val_test_datagen.flow_from_directory(\n",
        "        val_dir,\n",
        "        target_size=IMG_SIZE,\n",
        "        batch_size=BATCH_SIZE,\n",
        "        class_mode='binary',\n",
        "        shuffle=False,\n",
        "        color_mode='rgb'\n",
        "    )\n",
        "\n",
        "    test_generator = val_test_datagen.flow_from_directory(\n",
        "        test_dir,\n",
        "        target_size=IMG_SIZE,\n",
        "        batch_size=BATCH_SIZE,\n",
        "        class_mode='binary',\n",
        "        shuffle=False,\n",
        "        color_mode='rgb'\n",
        "    )\n",
        "\n",
        "    print()\n",
        "\n",
        "    # class_weights      [!]\n",
        "    class_weights = compute_class_weight('balanced',\n",
        "                                         classes=np.unique(train_generator.classes),\n",
        "                                         y=train_generator.classes)\n",
        "    class_weights = dict(enumerate(class_weights))\n",
        "    print(class_weights)\n",
        "\n",
        "    print()\n",
        "\n",
        "    # Загрузка MobileNetV2 без верхушки\n",
        "    base_model = MobileNetV2(input_shape=(224, 224, 3), include_top=False, weights='imagenet')\n",
        "    base_model.trainable = True  #   [!]\n",
        "\n",
        "    # Добавляем слои классификации\n",
        "    model = Sequential([\n",
        "        base_model,\n",
        "        layers.GlobalAveragePooling2D(),\n",
        "        layers.Dense(dense_value, activation='relu'),\n",
        "        layers.Dropout(0.5),\n",
        "        layers.Dense(1, activation='sigmoid')\n",
        "    ])\n",
        "\n",
        "\n",
        "    # Компиляция модели\n",
        "    model.compile(\n",
        "        optimizer=Adam(),\n",
        "        loss='binary_crossentropy',\n",
        "        metrics=[\n",
        "            'AUC',\n",
        "            'Recall',\n",
        "            'Precision',\n",
        "            'accuracy'\n",
        "        ]\n",
        "    )\n",
        "\n",
        "    # Отображение информации об устройстве сети:\n",
        "    model.summary()\n",
        "\n",
        "    print()\n",
        "\n",
        "\n",
        "    # Обучение модели\n",
        "\n",
        "    start = time.time() # Фиксация времени\n",
        "\n",
        "    history = model.fit(\n",
        "        train_generator,\n",
        "        epochs=epochs,  #      [!]\n",
        "        validation_data=val_generator,\n",
        "        class_weight=class_weights, #      [!]\n",
        "        callbacks=[lr_callback]    #      [!]\n",
        "    )\n",
        "\n",
        "    end = time.time() # Фиксация времени\n",
        "\n",
        "    model_history = history.history\n",
        "    model_history['Wall time'] = end - start\n",
        "\n",
        "    print()\n",
        "\n",
        "    for k, v in model_history.items():\n",
        "        print(k, v)\n",
        "\n",
        "    return model, model_history"
      ],
      "metadata": {
        "id": "rX-EbjxtpFd0"
      },
      "execution_count": null,
      "outputs": []
    },
    {
      "cell_type": "code",
      "source": [
        "model, model_history = model_train(lr_callback, dense_value=256, epochs=20)"
      ],
      "metadata": {
        "colab": {
          "base_uri": "https://localhost:8080/",
          "height": 1000
        },
        "outputId": "2d67b8e7-53b9-4975-caec-144ad29895a2",
        "id": "NjKCzFGNpFd1"
      },
      "execution_count": null,
      "outputs": [
        {
          "output_type": "stream",
          "name": "stdout",
          "text": [
            "Found 5216 images belonging to 2 classes.\n",
            "Found 624 images belonging to 2 classes.\n",
            "Found 16 images belonging to 2 classes.\n",
            "\n",
            "{0: np.float64(1.9448173005219984), 1: np.float64(0.6730322580645162)}\n",
            "\n"
          ]
        },
        {
          "output_type": "display_data",
          "data": {
            "text/plain": [
              "\u001b[1mModel: \"sequential_5\"\u001b[0m\n"
            ],
            "text/html": [
              "<pre style=\"white-space:pre;overflow-x:auto;line-height:normal;font-family:Menlo,'DejaVu Sans Mono',consolas,'Courier New',monospace\"><span style=\"font-weight: bold\">Model: \"sequential_5\"</span>\n",
              "</pre>\n"
            ]
          },
          "metadata": {}
        },
        {
          "output_type": "display_data",
          "data": {
            "text/plain": [
              "┏━━━━━━━━━━━━━━━━━━━━━━━━━━━━━━━━━┳━━━━━━━━━━━━━━━━━━━━━━━━┳━━━━━━━━━━━━━━━┓\n",
              "┃\u001b[1m \u001b[0m\u001b[1mLayer (type)                   \u001b[0m\u001b[1m \u001b[0m┃\u001b[1m \u001b[0m\u001b[1mOutput Shape          \u001b[0m\u001b[1m \u001b[0m┃\u001b[1m \u001b[0m\u001b[1m      Param #\u001b[0m\u001b[1m \u001b[0m┃\n",
              "┡━━━━━━━━━━━━━━━━━━━━━━━━━━━━━━━━━╇━━━━━━━━━━━━━━━━━━━━━━━━╇━━━━━━━━━━━━━━━┩\n",
              "│ mobilenetv2_1.00_224            │ (\u001b[38;5;45mNone\u001b[0m, \u001b[38;5;34m7\u001b[0m, \u001b[38;5;34m7\u001b[0m, \u001b[38;5;34m1280\u001b[0m)     │     \u001b[38;5;34m2,257,984\u001b[0m │\n",
              "│ (\u001b[38;5;33mFunctional\u001b[0m)                    │                        │               │\n",
              "├─────────────────────────────────┼────────────────────────┼───────────────┤\n",
              "│ global_average_pooling2d_5      │ (\u001b[38;5;45mNone\u001b[0m, \u001b[38;5;34m1280\u001b[0m)           │             \u001b[38;5;34m0\u001b[0m │\n",
              "│ (\u001b[38;5;33mGlobalAveragePooling2D\u001b[0m)        │                        │               │\n",
              "├─────────────────────────────────┼────────────────────────┼───────────────┤\n",
              "│ dense_10 (\u001b[38;5;33mDense\u001b[0m)                │ (\u001b[38;5;45mNone\u001b[0m, \u001b[38;5;34m256\u001b[0m)            │       \u001b[38;5;34m327,936\u001b[0m │\n",
              "├─────────────────────────────────┼────────────────────────┼───────────────┤\n",
              "│ dropout_5 (\u001b[38;5;33mDropout\u001b[0m)             │ (\u001b[38;5;45mNone\u001b[0m, \u001b[38;5;34m256\u001b[0m)            │             \u001b[38;5;34m0\u001b[0m │\n",
              "├─────────────────────────────────┼────────────────────────┼───────────────┤\n",
              "│ dense_11 (\u001b[38;5;33mDense\u001b[0m)                │ (\u001b[38;5;45mNone\u001b[0m, \u001b[38;5;34m1\u001b[0m)              │           \u001b[38;5;34m257\u001b[0m │\n",
              "└─────────────────────────────────┴────────────────────────┴───────────────┘\n"
            ],
            "text/html": [
              "<pre style=\"white-space:pre;overflow-x:auto;line-height:normal;font-family:Menlo,'DejaVu Sans Mono',consolas,'Courier New',monospace\">┏━━━━━━━━━━━━━━━━━━━━━━━━━━━━━━━━━┳━━━━━━━━━━━━━━━━━━━━━━━━┳━━━━━━━━━━━━━━━┓\n",
              "┃<span style=\"font-weight: bold\"> Layer (type)                    </span>┃<span style=\"font-weight: bold\"> Output Shape           </span>┃<span style=\"font-weight: bold\">       Param # </span>┃\n",
              "┡━━━━━━━━━━━━━━━━━━━━━━━━━━━━━━━━━╇━━━━━━━━━━━━━━━━━━━━━━━━╇━━━━━━━━━━━━━━━┩\n",
              "│ mobilenetv2_1.00_224            │ (<span style=\"color: #00d7ff; text-decoration-color: #00d7ff\">None</span>, <span style=\"color: #00af00; text-decoration-color: #00af00\">7</span>, <span style=\"color: #00af00; text-decoration-color: #00af00\">7</span>, <span style=\"color: #00af00; text-decoration-color: #00af00\">1280</span>)     │     <span style=\"color: #00af00; text-decoration-color: #00af00\">2,257,984</span> │\n",
              "│ (<span style=\"color: #0087ff; text-decoration-color: #0087ff\">Functional</span>)                    │                        │               │\n",
              "├─────────────────────────────────┼────────────────────────┼───────────────┤\n",
              "│ global_average_pooling2d_5      │ (<span style=\"color: #00d7ff; text-decoration-color: #00d7ff\">None</span>, <span style=\"color: #00af00; text-decoration-color: #00af00\">1280</span>)           │             <span style=\"color: #00af00; text-decoration-color: #00af00\">0</span> │\n",
              "│ (<span style=\"color: #0087ff; text-decoration-color: #0087ff\">GlobalAveragePooling2D</span>)        │                        │               │\n",
              "├─────────────────────────────────┼────────────────────────┼───────────────┤\n",
              "│ dense_10 (<span style=\"color: #0087ff; text-decoration-color: #0087ff\">Dense</span>)                │ (<span style=\"color: #00d7ff; text-decoration-color: #00d7ff\">None</span>, <span style=\"color: #00af00; text-decoration-color: #00af00\">256</span>)            │       <span style=\"color: #00af00; text-decoration-color: #00af00\">327,936</span> │\n",
              "├─────────────────────────────────┼────────────────────────┼───────────────┤\n",
              "│ dropout_5 (<span style=\"color: #0087ff; text-decoration-color: #0087ff\">Dropout</span>)             │ (<span style=\"color: #00d7ff; text-decoration-color: #00d7ff\">None</span>, <span style=\"color: #00af00; text-decoration-color: #00af00\">256</span>)            │             <span style=\"color: #00af00; text-decoration-color: #00af00\">0</span> │\n",
              "├─────────────────────────────────┼────────────────────────┼───────────────┤\n",
              "│ dense_11 (<span style=\"color: #0087ff; text-decoration-color: #0087ff\">Dense</span>)                │ (<span style=\"color: #00d7ff; text-decoration-color: #00d7ff\">None</span>, <span style=\"color: #00af00; text-decoration-color: #00af00\">1</span>)              │           <span style=\"color: #00af00; text-decoration-color: #00af00\">257</span> │\n",
              "└─────────────────────────────────┴────────────────────────┴───────────────┘\n",
              "</pre>\n"
            ]
          },
          "metadata": {}
        },
        {
          "output_type": "display_data",
          "data": {
            "text/plain": [
              "\u001b[1m Total params: \u001b[0m\u001b[38;5;34m2,586,177\u001b[0m (9.87 MB)\n"
            ],
            "text/html": [
              "<pre style=\"white-space:pre;overflow-x:auto;line-height:normal;font-family:Menlo,'DejaVu Sans Mono',consolas,'Courier New',monospace\"><span style=\"font-weight: bold\"> Total params: </span><span style=\"color: #00af00; text-decoration-color: #00af00\">2,586,177</span> (9.87 MB)\n",
              "</pre>\n"
            ]
          },
          "metadata": {}
        },
        {
          "output_type": "display_data",
          "data": {
            "text/plain": [
              "\u001b[1m Trainable params: \u001b[0m\u001b[38;5;34m2,552,065\u001b[0m (9.74 MB)\n"
            ],
            "text/html": [
              "<pre style=\"white-space:pre;overflow-x:auto;line-height:normal;font-family:Menlo,'DejaVu Sans Mono',consolas,'Courier New',monospace\"><span style=\"font-weight: bold\"> Trainable params: </span><span style=\"color: #00af00; text-decoration-color: #00af00\">2,552,065</span> (9.74 MB)\n",
              "</pre>\n"
            ]
          },
          "metadata": {}
        },
        {
          "output_type": "display_data",
          "data": {
            "text/plain": [
              "\u001b[1m Non-trainable params: \u001b[0m\u001b[38;5;34m34,112\u001b[0m (133.25 KB)\n"
            ],
            "text/html": [
              "<pre style=\"white-space:pre;overflow-x:auto;line-height:normal;font-family:Menlo,'DejaVu Sans Mono',consolas,'Courier New',monospace\"><span style=\"font-weight: bold\"> Non-trainable params: </span><span style=\"color: #00af00; text-decoration-color: #00af00\">34,112</span> (133.25 KB)\n",
              "</pre>\n"
            ]
          },
          "metadata": {}
        },
        {
          "output_type": "stream",
          "name": "stdout",
          "text": [
            "\n"
          ]
        },
        {
          "output_type": "stream",
          "name": "stderr",
          "text": [
            "/usr/local/lib/python3.11/dist-packages/keras/src/trainers/data_adapters/py_dataset_adapter.py:121: UserWarning: Your `PyDataset` class should call `super().__init__(**kwargs)` in its constructor. `**kwargs` can include `workers`, `use_multiprocessing`, `max_queue_size`. Do not pass these arguments to `fit()`, as they will be ignored.\n",
            "  self._warn_if_super_not_called()\n"
          ]
        },
        {
          "output_type": "stream",
          "name": "stdout",
          "text": [
            "Epoch 1/20\n",
            "\u001b[1m163/163\u001b[0m \u001b[32m━━━━━━━━━━━━━━━━━━━━\u001b[0m\u001b[37m\u001b[0m \u001b[1m170s\u001b[0m 755ms/step - AUC: 0.9445 - Precision: 0.9666 - Recall: 0.8568 - accuracy: 0.8738 - loss: 0.2733 - val_AUC: 0.8647 - val_Precision: 0.6250 - val_Recall: 1.0000 - val_accuracy: 0.6250 - val_loss: 1.4932 - learning_rate: 1.0000e-04\n",
            "Epoch 2/20\n",
            "\u001b[1m163/163\u001b[0m \u001b[32m━━━━━━━━━━━━━━━━━━━━\u001b[0m\u001b[37m\u001b[0m \u001b[1m118s\u001b[0m 723ms/step - AUC: 0.9949 - Precision: 0.9906 - Recall: 0.9615 - accuracy: 0.9645 - loss: 0.0853 - val_AUC: 0.5000 - val_Precision: 0.6250 - val_Recall: 1.0000 - val_accuracy: 0.6250 - val_loss: 3.3564 - learning_rate: 1.0000e-04\n",
            "Epoch 3/20\n",
            "\u001b[1m163/163\u001b[0m \u001b[32m━━━━━━━━━━━━━━━━━━━━\u001b[0m\u001b[37m\u001b[0m \u001b[1m117s\u001b[0m 716ms/step - AUC: 0.9967 - Precision: 0.9942 - Recall: 0.9773 - accuracy: 0.9789 - loss: 0.0594 - val_AUC: 0.5021 - val_Precision: 0.6250 - val_Recall: 1.0000 - val_accuracy: 0.6250 - val_loss: 4.6554 - learning_rate: 1.0000e-04\n",
            "Epoch 4/20\n",
            "\u001b[1m163/163\u001b[0m \u001b[32m━━━━━━━━━━━━━━━━━━━━\u001b[0m\u001b[37m\u001b[0m \u001b[1m117s\u001b[0m 719ms/step - AUC: 0.9979 - Precision: 0.9970 - Recall: 0.9730 - accuracy: 0.9777 - loss: 0.0553 - val_AUC: 0.5278 - val_Precision: 0.6250 - val_Recall: 1.0000 - val_accuracy: 0.6250 - val_loss: 3.9367 - learning_rate: 1.0000e-05\n",
            "Epoch 5/20\n",
            "\u001b[1m163/163\u001b[0m \u001b[32m━━━━━━━━━━━━━━━━━━━━\u001b[0m\u001b[37m\u001b[0m \u001b[1m117s\u001b[0m 715ms/step - AUC: 0.9985 - Precision: 0.9966 - Recall: 0.9781 - accuracy: 0.9814 - loss: 0.0456 - val_AUC: 0.5321 - val_Precision: 0.6250 - val_Recall: 1.0000 - val_accuracy: 0.6250 - val_loss: 3.6107 - learning_rate: 1.0000e-05\n",
            "Epoch 6/20\n",
            "\u001b[1m163/163\u001b[0m \u001b[32m━━━━━━━━━━━━━━━━━━━━\u001b[0m\u001b[37m\u001b[0m \u001b[1m141s\u001b[0m 710ms/step - AUC: 0.9990 - Precision: 0.9976 - Recall: 0.9842 - accuracy: 0.9864 - loss: 0.0367 - val_AUC: 0.5705 - val_Precision: 0.6250 - val_Recall: 1.0000 - val_accuracy: 0.6250 - val_loss: 3.3156 - learning_rate: 1.0000e-05\n",
            "Epoch 7/20\n",
            "\u001b[1m163/163\u001b[0m \u001b[32m━━━━━━━━━━━━━━━━━━━━\u001b[0m\u001b[37m\u001b[0m \u001b[1m116s\u001b[0m 709ms/step - AUC: 0.9984 - Precision: 0.9971 - Recall: 0.9835 - accuracy: 0.9855 - loss: 0.0398 - val_AUC: 0.6047 - val_Precision: 0.6260 - val_Recall: 1.0000 - val_accuracy: 0.6266 - val_loss: 2.9995 - learning_rate: 1.0000e-05\n",
            "Epoch 8/20\n",
            "\u001b[1m163/163\u001b[0m \u001b[32m━━━━━━━━━━━━━━━━━━━━\u001b[0m\u001b[37m\u001b[0m \u001b[1m117s\u001b[0m 715ms/step - AUC: 0.9993 - Precision: 0.9984 - Recall: 0.9842 - accuracy: 0.9870 - loss: 0.0312 - val_AUC: 0.6581 - val_Precision: 0.6280 - val_Recall: 1.0000 - val_accuracy: 0.6298 - val_loss: 2.5349 - learning_rate: 1.0000e-05\n",
            "Epoch 9/20\n",
            "\u001b[1m163/163\u001b[0m \u001b[32m━━━━━━━━━━━━━━━━━━━━\u001b[0m\u001b[37m\u001b[0m \u001b[1m116s\u001b[0m 714ms/step - AUC: 0.9989 - Precision: 0.9966 - Recall: 0.9871 - accuracy: 0.9878 - loss: 0.0303 - val_AUC: 0.7115 - val_Precision: 0.6300 - val_Recall: 1.0000 - val_accuracy: 0.6330 - val_loss: 2.3101 - learning_rate: 1.0000e-05\n",
            "Epoch 10/20\n",
            "\u001b[1m163/163\u001b[0m \u001b[32m━━━━━━━━━━━━━━━━━━━━\u001b[0m\u001b[37m\u001b[0m \u001b[1m135s\u001b[0m 828ms/step - AUC: 0.9987 - Precision: 0.9980 - Recall: 0.9840 - accuracy: 0.9867 - loss: 0.0336 - val_AUC: 0.7051 - val_Precision: 0.6270 - val_Recall: 1.0000 - val_accuracy: 0.6282 - val_loss: 2.3809 - learning_rate: 1.0000e-05\n",
            "Epoch 11/20\n",
            "\u001b[1m163/163\u001b[0m \u001b[32m━━━━━━━━━━━━━━━━━━━━\u001b[0m\u001b[37m\u001b[0m \u001b[1m126s\u001b[0m 771ms/step - AUC: 0.9978 - Precision: 0.9981 - Recall: 0.9839 - accuracy: 0.9866 - loss: 0.0401 - val_AUC: 0.7150 - val_Precision: 0.6300 - val_Recall: 1.0000 - val_accuracy: 0.6330 - val_loss: 2.2686 - learning_rate: 1.0000e-05\n",
            "Epoch 12/20\n",
            "\u001b[1m163/163\u001b[0m \u001b[32m━━━━━━━━━━━━━━━━━━━━\u001b[0m\u001b[37m\u001b[0m \u001b[1m118s\u001b[0m 722ms/step - AUC: 0.9995 - Precision: 0.9973 - Recall: 0.9916 - accuracy: 0.9918 - loss: 0.0248 - val_AUC: 0.7234 - val_Precision: 0.6331 - val_Recall: 1.0000 - val_accuracy: 0.6378 - val_loss: 2.1923 - learning_rate: 1.0000e-05\n",
            "Epoch 13/20\n",
            "\u001b[1m163/163\u001b[0m \u001b[32m━━━━━━━━━━━━━━━━━━━━\u001b[0m\u001b[37m\u001b[0m \u001b[1m122s\u001b[0m 750ms/step - AUC: 0.9993 - Precision: 0.9952 - Recall: 0.9883 - accuracy: 0.9879 - loss: 0.0350 - val_AUC: 0.7867 - val_Precision: 0.6425 - val_Recall: 1.0000 - val_accuracy: 0.6522 - val_loss: 1.8348 - learning_rate: 1.0000e-05\n",
            "Epoch 14/20\n",
            "\u001b[1m163/163\u001b[0m \u001b[32m━━━━━━━━━━━━━━━━━━━━\u001b[0m\u001b[37m\u001b[0m \u001b[1m118s\u001b[0m 722ms/step - AUC: 0.9989 - Precision: 0.9978 - Recall: 0.9895 - accuracy: 0.9906 - loss: 0.0291 - val_AUC: 0.8082 - val_Precision: 0.6478 - val_Recall: 1.0000 - val_accuracy: 0.6603 - val_loss: 1.7162 - learning_rate: 1.0000e-05\n",
            "Epoch 15/20\n",
            "\u001b[1m163/163\u001b[0m \u001b[32m━━━━━━━━━━━━━━━━━━━━\u001b[0m\u001b[37m\u001b[0m \u001b[1m142s\u001b[0m 726ms/step - AUC: 0.9991 - Precision: 0.9976 - Recall: 0.9898 - accuracy: 0.9906 - loss: 0.0252 - val_AUC: 0.7678 - val_Precision: 0.6425 - val_Recall: 1.0000 - val_accuracy: 0.6522 - val_loss: 1.9677 - learning_rate: 1.0000e-05\n",
            "Epoch 16/20\n",
            "\u001b[1m163/163\u001b[0m \u001b[32m━━━━━━━━━━━━━━━━━━━━\u001b[0m\u001b[37m\u001b[0m \u001b[1m119s\u001b[0m 731ms/step - AUC: 0.9996 - Precision: 0.9965 - Recall: 0.9901 - accuracy: 0.9900 - loss: 0.0255 - val_AUC: 0.7675 - val_Precision: 0.6457 - val_Recall: 1.0000 - val_accuracy: 0.6571 - val_loss: 1.9400 - learning_rate: 1.0000e-05\n",
            "Epoch 17/20\n",
            "\u001b[1m163/163\u001b[0m \u001b[32m━━━━━━━━━━━━━━━━━━━━\u001b[0m\u001b[37m\u001b[0m \u001b[1m119s\u001b[0m 728ms/step - AUC: 0.9986 - Precision: 0.9977 - Recall: 0.9892 - accuracy: 0.9902 - loss: 0.0289 - val_AUC: 0.8004 - val_Precision: 0.6544 - val_Recall: 1.0000 - val_accuracy: 0.6699 - val_loss: 1.7022 - learning_rate: 1.0000e-05\n",
            "Epoch 18/20\n",
            "\u001b[1m163/163\u001b[0m \u001b[32m━━━━━━━━━━━━━━━━━━━━\u001b[0m\u001b[37m\u001b[0m \u001b[1m117s\u001b[0m 716ms/step - AUC: 0.9992 - Precision: 0.9993 - Recall: 0.9919 - accuracy: 0.9935 - loss: 0.0192 - val_AUC: 0.7668 - val_Precision: 0.6457 - val_Recall: 1.0000 - val_accuracy: 0.6571 - val_loss: 1.9080 - learning_rate: 1.0000e-05\n",
            "Epoch 19/20\n",
            "\u001b[1m163/163\u001b[0m \u001b[32m━━━━━━━━━━━━━━━━━━━━\u001b[0m\u001b[37m\u001b[0m \u001b[1m117s\u001b[0m 721ms/step - AUC: 0.9993 - Precision: 0.9980 - Recall: 0.9922 - accuracy: 0.9926 - loss: 0.0206 - val_AUC: 0.8575 - val_Precision: 0.6806 - val_Recall: 1.0000 - val_accuracy: 0.7067 - val_loss: 1.3680 - learning_rate: 1.0000e-05\n",
            "Epoch 20/20\n",
            "\u001b[1m163/163\u001b[0m \u001b[32m━━━━━━━━━━━━━━━━━━━━\u001b[0m\u001b[37m\u001b[0m \u001b[1m117s\u001b[0m 719ms/step - AUC: 0.9990 - Precision: 0.9973 - Recall: 0.9911 - accuracy: 0.9914 - loss: 0.0266 - val_AUC: 0.8430 - val_Precision: 0.6724 - val_Recall: 1.0000 - val_accuracy: 0.6955 - val_loss: 1.4495 - learning_rate: 1.0000e-05\n",
            "\n",
            "AUC [0.9807956218719482, 0.9955880641937256, 0.9960757493972778, 0.9972354173660278, 0.9984115958213806, 0.9984326362609863, 0.9987202286720276, 0.9989398121833801, 0.9987613558769226, 0.9988193511962891, 0.9979202151298523, 0.9995788931846619, 0.9993470311164856, 0.9992207288742065, 0.9991336464881897, 0.9993070960044861, 0.9993799924850464, 0.9985918998718262, 0.9993541836738586, 0.9991387128829956]\n",
            "Precision [0.9797260165214539, 0.9907211065292358, 0.9923563599586487, 0.9950039386749268, 0.9973670244216919, 0.9966039657592773, 0.9966057538986206, 0.9971256852149963, 0.9950546622276306, 0.9966030716896057, 0.9973897337913513, 0.9979193806648254, 0.9960876107215881, 0.9974005818367004, 0.9973917603492737, 0.9968782663345337, 0.9979247450828552, 0.9979199171066284, 0.997662365436554, 0.9974026083946228]\n",
            "Recall [0.9228386878967285, 0.9643871188163757, 0.9716129302978516, 0.9765161275863647, 0.977548360824585, 0.9845161437988281, 0.9850322604179382, 0.9847741723060608, 0.9865806698799133, 0.9842580556869507, 0.9860644936561584, 0.9901935458183289, 0.9855483770370483, 0.9901935458183289, 0.986838698387146, 0.9889032244682312, 0.9927741885185242, 0.9904516339302063, 0.9912257790565491, 0.9909677505493164]\n",
            "accuracy [0.9284892678260803, 0.9668328166007996, 0.973351240158081, 0.9789110422134399, 0.9814033508300781, 0.9860045909881592, 0.9863880276679993, 0.9865797758102417, 0.9863880276679993, 0.9858129024505615, 0.987730085849762, 0.991180956363678, 0.9863880276679993, 0.9907975196838379, 0.9883052110671997, 0.98945552110672, 0.9930981397628784, 0.9913727045059204, 0.9917561411857605, 0.9913727045059204]\n",
            "loss [0.17626748979091644, 0.08054900169372559, 0.06892793625593185, 0.05586547031998634, 0.045122306793928146, 0.04164491221308708, 0.03733593598008156, 0.03470475971698761, 0.03522387146949768, 0.03506334498524666, 0.04009196534752846, 0.02367212623357773, 0.032743312418460846, 0.028508683666586876, 0.028545476496219635, 0.027725782245397568, 0.022531207650899887, 0.025927364826202393, 0.022604728117585182, 0.024299027398228645]\n",
            "val_AUC [0.8646613955497742, 0.5, 0.502136766910553, 0.5277777910232544, 0.5320512652397156, 0.5705128312110901, 0.6047008633613586, 0.6581196188926697, 0.7115384936332703, 0.7051281929016113, 0.7149791717529297, 0.723405659198761, 0.7866535186767578, 0.8081634640693665, 0.7677624225616455, 0.7675323486328125, 0.8003889918327332, 0.7668310403823853, 0.8575170040130615, 0.8429925441741943]\n",
            "val_Precision [0.625, 0.625, 0.625, 0.625, 0.625, 0.625, 0.6260032057762146, 0.6280193328857422, 0.6300484538078308, 0.6270096302032471, 0.6300484538078308, 0.6331169009208679, 0.642504096031189, 0.6478405594825745, 0.642504096031189, 0.6456953883171082, 0.6543624401092529, 0.6456953883171082, 0.6806282997131348, 0.6724137663841248]\n",
            "val_Recall [1.0, 1.0, 1.0, 1.0, 1.0, 1.0, 1.0, 1.0, 1.0, 1.0, 1.0, 1.0, 1.0, 1.0, 1.0, 1.0, 1.0, 1.0, 1.0, 1.0]\n",
            "val_accuracy [0.625, 0.625, 0.625, 0.625, 0.625, 0.625, 0.6266025900840759, 0.629807710647583, 0.6330128312110901, 0.6282051205635071, 0.6330128312110901, 0.6378205418586731, 0.6522436141967773, 0.6602563858032227, 0.6522436141967773, 0.6570512652397156, 0.6698718070983887, 0.6570512652397156, 0.7067307829856873, 0.6955128312110901]\n",
            "val_loss [1.4932177066802979, 3.3564414978027344, 4.655407428741455, 3.9366729259490967, 3.6107029914855957, 3.315629243850708, 2.9995222091674805, 2.5348942279815674, 2.310075521469116, 2.3809077739715576, 2.2686221599578857, 2.1922965049743652, 1.8347774744033813, 1.7161587476730347, 1.9676623344421387, 1.93996000289917, 1.7022427320480347, 1.908023715019226, 1.368016242980957, 1.4494773149490356]\n",
            "learning_rate [9.999999747378752e-05, 9.999999747378752e-05, 9.999999747378752e-05, 9.999999747378752e-06, 9.999999747378752e-06, 9.999999747378752e-06, 9.999999747378752e-06, 9.999999747378752e-06, 9.999999747378752e-06, 9.999999747378752e-06, 9.999999747378752e-06, 9.999999747378752e-06, 9.999999747378752e-06, 9.999999747378752e-06, 9.999999747378752e-06, 9.999999747378752e-06, 9.999999747378752e-06, 9.999999747378752e-06, 9.999999747378752e-06, 9.999999747378752e-06]\n",
            "Wall time 2480.218600511551\n"
          ]
        }
      ]
    },
    {
      "cell_type": "code",
      "source": [
        "cfg = 'cfg_8.3'\n",
        "add_result(cfg, model_history)\n",
        "model.save(f\"/content/drive/MyDrive/DS/chest-xray-pneumonia/MobileNetV2-{cfg}.keras\")"
      ],
      "metadata": {
        "id": "R-SKAsFQpFd1"
      },
      "execution_count": null,
      "outputs": []
    },
    {
      "cell_type": "markdown",
      "source": [
        "# cfg 9.0\n",
        "* learning_rate=0.00005\n",
        "* class_weights\n",
        "* horizontal_flip=True\n",
        "* Dense(256, ReLU)\n",
        "* <font color=orange>bicubic</font> `base_path = '/content/content/chest_xray_bicubic'`"
      ],
      "metadata": {
        "id": "P7aB9GFhGDEt"
      }
    },
    {
      "cell_type": "code",
      "source": [
        "def model_train(learning_rate, dense_value, epochs=10):\n",
        "    # Размер изображений и параметры\n",
        "    IMG_SIZE = (224, 224)  # MobileNetV2 лучше работает с этим размером\n",
        "    BATCH_SIZE = 32\n",
        "\n",
        "    # 1: Загрузка данных с interpolation='bicubic' #      [!]\n",
        "    train_dataset = tf.keras.utils.image_dataset_from_directory(\n",
        "        train_dir,\n",
        "        label_mode='binary',\n",
        "        image_size=IMG_SIZE,\n",
        "        batch_size=BATCH_SIZE,\n",
        "        color_mode='rgb',\n",
        "        interpolation='bicubic'\n",
        "    )\n",
        "\n",
        "    val_dataset = tf.keras.utils.image_dataset_from_directory(\n",
        "        val_dir,\n",
        "        label_mode='binary',\n",
        "        image_size=IMG_SIZE,\n",
        "        batch_size=BATCH_SIZE,\n",
        "        shuffle=False,\n",
        "        color_mode='rgb',\n",
        "        interpolation='bicubic'\n",
        "    )\n",
        "\n",
        "    test_dataset = tf.keras.utils.image_dataset_from_directory(\n",
        "        test_dir,\n",
        "        label_mode='binary',\n",
        "        image_size=IMG_SIZE,\n",
        "        batch_size=BATCH_SIZE,\n",
        "        shuffle=False,\n",
        "        color_mode='rgb',\n",
        "        interpolation='bicubic'\n",
        "    )\n",
        "\n",
        "    # 2: Аугментация и нормализация (rescale) #      [!]\n",
        "    data_augmentation = tf.keras.Sequential([\n",
        "        layers.Rescaling(1./255),\n",
        "        layers.RandomRotation(0.03),         # ~10 градусов\n",
        "        layers.RandomZoom(0.1),\n",
        "        layers.RandomBrightness(0.1),\n",
        "        layers.RandomTranslation(0.1, 0.1),\n",
        "        layers.RandomFlip(\"horizontal\")\n",
        "    ])\n",
        "\n",
        "    # 3: Подготовка финальных датасетов #      [!]\n",
        "    AUTOTUNE = tf.data.AUTOTUNE\n",
        "\n",
        "    train_ds = (\n",
        "        train_dataset\n",
        "        .shuffle(1000)\n",
        "        .map(lambda x, y: (data_augmentation(x, training=True), y), num_parallel_calls=AUTOTUNE)\n",
        "        .prefetch(AUTOTUNE)\n",
        "    )\n",
        "\n",
        "    val_ds = val_dataset.map(lambda x, y: (x / 255.0, y)).prefetch(AUTOTUNE)\n",
        "    test_ds = test_dataset.map(lambda x, y: (x / 255.0, y)).prefetch(AUTOTUNE)\n",
        "\n",
        "    print()\n",
        "\n",
        "    # class_weights      [!]\n",
        "    class_weights = {\n",
        "        0: 1.9448173005219984,   # для класса \"NORMAL\"\n",
        "        1: 0.6730322580645162    # для класса \"PNEUMONIA\"\n",
        "        }\n",
        "    print(class_weights)\n",
        "\n",
        "    print()\n",
        "\n",
        "    # Загрузка MobileNetV2 без верхушки\n",
        "    base_model = MobileNetV2(input_shape=(224, 224, 3), include_top=False, weights='imagenet')\n",
        "    base_model.trainable = False  # Фиксируем веса\n",
        "\n",
        "    # Добавляем слои классификации\n",
        "    model = Sequential([\n",
        "        base_model,\n",
        "        layers.GlobalAveragePooling2D(),\n",
        "        layers.Dense(dense_value, activation='relu'),\n",
        "        layers.Dropout(0.5),\n",
        "        layers.Dense(1, activation='sigmoid')\n",
        "    ])\n",
        "\n",
        "    # Компиляция модели\n",
        "    model.compile(\n",
        "        optimizer=Adam(learning_rate=learning_rate),\n",
        "        loss='binary_crossentropy',\n",
        "        metrics=[\n",
        "            'AUC',\n",
        "            'Recall',\n",
        "            'Precision',\n",
        "            'accuracy'\n",
        "        ]\n",
        "    )\n",
        "\n",
        "    # Отображение информации об устройстве сети:\n",
        "    model.summary()\n",
        "\n",
        "    print()\n",
        "\n",
        "    # Обучение модели\n",
        "    #EPOCHS = 10\n",
        "\n",
        "    start = time.time() # Фиксация времени\n",
        "\n",
        "    history = model.fit(\n",
        "        train_ds, #      [!]\n",
        "        epochs=epochs,\n",
        "        validation_data=val_ds, #      [!]\n",
        "        class_weight=class_weights #      [!]\n",
        "    )\n",
        "\n",
        "    end = time.time() # Фиксация времени\n",
        "\n",
        "    model_history = history.history\n",
        "    model_history['Wall time'] = end - start\n",
        "\n",
        "    print()\n",
        "\n",
        "    for k, v in model_history.items():\n",
        "        print(k, v)\n",
        "\n",
        "    return model, model_history"
      ],
      "metadata": {
        "id": "PseSiLEdGDEt"
      },
      "execution_count": null,
      "outputs": []
    },
    {
      "cell_type": "code",
      "source": [
        "model, model_history = model_train(learning_rate=0.00005, dense_value=256, epochs=20)"
      ],
      "metadata": {
        "colab": {
          "base_uri": "https://localhost:8080/",
          "height": 1000
        },
        "outputId": "a07b0fdc-5180-4613-c1ef-51a391122280",
        "id": "IA2_4LF4GDEu"
      },
      "execution_count": null,
      "outputs": [
        {
          "output_type": "stream",
          "name": "stdout",
          "text": [
            "Found 5216 files belonging to 2 classes.\n",
            "Found 624 files belonging to 2 classes.\n",
            "Found 16 files belonging to 2 classes.\n",
            "\n",
            "{0: 1.9448173005219984, 1: 0.6730322580645162}\n",
            "\n"
          ]
        },
        {
          "output_type": "display_data",
          "data": {
            "text/plain": [
              "\u001b[1mModel: \"sequential_4\"\u001b[0m\n"
            ],
            "text/html": [
              "<pre style=\"white-space:pre;overflow-x:auto;line-height:normal;font-family:Menlo,'DejaVu Sans Mono',consolas,'Courier New',monospace\"><span style=\"font-weight: bold\">Model: \"sequential_4\"</span>\n",
              "</pre>\n"
            ]
          },
          "metadata": {}
        },
        {
          "output_type": "display_data",
          "data": {
            "text/plain": [
              "┏━━━━━━━━━━━━━━━━━━━━━━━━━━━━━━━━━┳━━━━━━━━━━━━━━━━━━━━━━━━┳━━━━━━━━━━━━━━━┓\n",
              "┃\u001b[1m \u001b[0m\u001b[1mLayer (type)                   \u001b[0m\u001b[1m \u001b[0m┃\u001b[1m \u001b[0m\u001b[1mOutput Shape          \u001b[0m\u001b[1m \u001b[0m┃\u001b[1m \u001b[0m\u001b[1m      Param #\u001b[0m\u001b[1m \u001b[0m┃\n",
              "┡━━━━━━━━━━━━━━━━━━━━━━━━━━━━━━━━━╇━━━━━━━━━━━━━━━━━━━━━━━━╇━━━━━━━━━━━━━━━┩\n",
              "│ mobilenetv2_1.00_224            │ (\u001b[38;5;45mNone\u001b[0m, \u001b[38;5;34m7\u001b[0m, \u001b[38;5;34m7\u001b[0m, \u001b[38;5;34m1280\u001b[0m)     │     \u001b[38;5;34m2,257,984\u001b[0m │\n",
              "│ (\u001b[38;5;33mFunctional\u001b[0m)                    │                        │               │\n",
              "├─────────────────────────────────┼────────────────────────┼───────────────┤\n",
              "│ global_average_pooling2d_1      │ (\u001b[38;5;45mNone\u001b[0m, \u001b[38;5;34m1280\u001b[0m)           │             \u001b[38;5;34m0\u001b[0m │\n",
              "│ (\u001b[38;5;33mGlobalAveragePooling2D\u001b[0m)        │                        │               │\n",
              "├─────────────────────────────────┼────────────────────────┼───────────────┤\n",
              "│ dense_2 (\u001b[38;5;33mDense\u001b[0m)                 │ (\u001b[38;5;45mNone\u001b[0m, \u001b[38;5;34m256\u001b[0m)            │       \u001b[38;5;34m327,936\u001b[0m │\n",
              "├─────────────────────────────────┼────────────────────────┼───────────────┤\n",
              "│ dropout_1 (\u001b[38;5;33mDropout\u001b[0m)             │ (\u001b[38;5;45mNone\u001b[0m, \u001b[38;5;34m256\u001b[0m)            │             \u001b[38;5;34m0\u001b[0m │\n",
              "├─────────────────────────────────┼────────────────────────┼───────────────┤\n",
              "│ dense_3 (\u001b[38;5;33mDense\u001b[0m)                 │ (\u001b[38;5;45mNone\u001b[0m, \u001b[38;5;34m1\u001b[0m)              │           \u001b[38;5;34m257\u001b[0m │\n",
              "└─────────────────────────────────┴────────────────────────┴───────────────┘\n"
            ],
            "text/html": [
              "<pre style=\"white-space:pre;overflow-x:auto;line-height:normal;font-family:Menlo,'DejaVu Sans Mono',consolas,'Courier New',monospace\">┏━━━━━━━━━━━━━━━━━━━━━━━━━━━━━━━━━┳━━━━━━━━━━━━━━━━━━━━━━━━┳━━━━━━━━━━━━━━━┓\n",
              "┃<span style=\"font-weight: bold\"> Layer (type)                    </span>┃<span style=\"font-weight: bold\"> Output Shape           </span>┃<span style=\"font-weight: bold\">       Param # </span>┃\n",
              "┡━━━━━━━━━━━━━━━━━━━━━━━━━━━━━━━━━╇━━━━━━━━━━━━━━━━━━━━━━━━╇━━━━━━━━━━━━━━━┩\n",
              "│ mobilenetv2_1.00_224            │ (<span style=\"color: #00d7ff; text-decoration-color: #00d7ff\">None</span>, <span style=\"color: #00af00; text-decoration-color: #00af00\">7</span>, <span style=\"color: #00af00; text-decoration-color: #00af00\">7</span>, <span style=\"color: #00af00; text-decoration-color: #00af00\">1280</span>)     │     <span style=\"color: #00af00; text-decoration-color: #00af00\">2,257,984</span> │\n",
              "│ (<span style=\"color: #0087ff; text-decoration-color: #0087ff\">Functional</span>)                    │                        │               │\n",
              "├─────────────────────────────────┼────────────────────────┼───────────────┤\n",
              "│ global_average_pooling2d_1      │ (<span style=\"color: #00d7ff; text-decoration-color: #00d7ff\">None</span>, <span style=\"color: #00af00; text-decoration-color: #00af00\">1280</span>)           │             <span style=\"color: #00af00; text-decoration-color: #00af00\">0</span> │\n",
              "│ (<span style=\"color: #0087ff; text-decoration-color: #0087ff\">GlobalAveragePooling2D</span>)        │                        │               │\n",
              "├─────────────────────────────────┼────────────────────────┼───────────────┤\n",
              "│ dense_2 (<span style=\"color: #0087ff; text-decoration-color: #0087ff\">Dense</span>)                 │ (<span style=\"color: #00d7ff; text-decoration-color: #00d7ff\">None</span>, <span style=\"color: #00af00; text-decoration-color: #00af00\">256</span>)            │       <span style=\"color: #00af00; text-decoration-color: #00af00\">327,936</span> │\n",
              "├─────────────────────────────────┼────────────────────────┼───────────────┤\n",
              "│ dropout_1 (<span style=\"color: #0087ff; text-decoration-color: #0087ff\">Dropout</span>)             │ (<span style=\"color: #00d7ff; text-decoration-color: #00d7ff\">None</span>, <span style=\"color: #00af00; text-decoration-color: #00af00\">256</span>)            │             <span style=\"color: #00af00; text-decoration-color: #00af00\">0</span> │\n",
              "├─────────────────────────────────┼────────────────────────┼───────────────┤\n",
              "│ dense_3 (<span style=\"color: #0087ff; text-decoration-color: #0087ff\">Dense</span>)                 │ (<span style=\"color: #00d7ff; text-decoration-color: #00d7ff\">None</span>, <span style=\"color: #00af00; text-decoration-color: #00af00\">1</span>)              │           <span style=\"color: #00af00; text-decoration-color: #00af00\">257</span> │\n",
              "└─────────────────────────────────┴────────────────────────┴───────────────┘\n",
              "</pre>\n"
            ]
          },
          "metadata": {}
        },
        {
          "output_type": "display_data",
          "data": {
            "text/plain": [
              "\u001b[1m Total params: \u001b[0m\u001b[38;5;34m2,586,177\u001b[0m (9.87 MB)\n"
            ],
            "text/html": [
              "<pre style=\"white-space:pre;overflow-x:auto;line-height:normal;font-family:Menlo,'DejaVu Sans Mono',consolas,'Courier New',monospace\"><span style=\"font-weight: bold\"> Total params: </span><span style=\"color: #00af00; text-decoration-color: #00af00\">2,586,177</span> (9.87 MB)\n",
              "</pre>\n"
            ]
          },
          "metadata": {}
        },
        {
          "output_type": "display_data",
          "data": {
            "text/plain": [
              "\u001b[1m Trainable params: \u001b[0m\u001b[38;5;34m328,193\u001b[0m (1.25 MB)\n"
            ],
            "text/html": [
              "<pre style=\"white-space:pre;overflow-x:auto;line-height:normal;font-family:Menlo,'DejaVu Sans Mono',consolas,'Courier New',monospace\"><span style=\"font-weight: bold\"> Trainable params: </span><span style=\"color: #00af00; text-decoration-color: #00af00\">328,193</span> (1.25 MB)\n",
              "</pre>\n"
            ]
          },
          "metadata": {}
        },
        {
          "output_type": "display_data",
          "data": {
            "text/plain": [
              "\u001b[1m Non-trainable params: \u001b[0m\u001b[38;5;34m2,257,984\u001b[0m (8.61 MB)\n"
            ],
            "text/html": [
              "<pre style=\"white-space:pre;overflow-x:auto;line-height:normal;font-family:Menlo,'DejaVu Sans Mono',consolas,'Courier New',monospace\"><span style=\"font-weight: bold\"> Non-trainable params: </span><span style=\"color: #00af00; text-decoration-color: #00af00\">2,257,984</span> (8.61 MB)\n",
              "</pre>\n"
            ]
          },
          "metadata": {}
        },
        {
          "output_type": "stream",
          "name": "stdout",
          "text": [
            "\n",
            "Epoch 1/20\n",
            "\u001b[1m163/163\u001b[0m \u001b[32m━━━━━━━━━━━━━━━━━━━━\u001b[0m\u001b[37m\u001b[0m \u001b[1m118s\u001b[0m 422ms/step - AUC: 0.5029 - Precision: 0.7430 - Recall: 0.5088 - accuracy: 0.5047 - loss: 0.8084 - val_AUC: 0.7476 - val_Precision: 0.6625 - val_Recall: 0.9462 - val_accuracy: 0.6651 - val_loss: 0.5953\n",
            "Epoch 2/20\n",
            "\u001b[1m163/163\u001b[0m \u001b[32m━━━━━━━━━━━━━━━━━━━━\u001b[0m\u001b[37m\u001b[0m \u001b[1m132s\u001b[0m 403ms/step - AUC: 0.5514 - Precision: 0.7799 - Recall: 0.5757 - accuracy: 0.5580 - loss: 0.7162 - val_AUC: 0.8288 - val_Precision: 0.9639 - val_Recall: 0.4103 - val_accuracy: 0.6218 - val_loss: 0.6428\n",
            "Epoch 3/20\n",
            "\u001b[1m163/163\u001b[0m \u001b[32m━━━━━━━━━━━━━━━━━━━━\u001b[0m\u001b[37m\u001b[0m \u001b[1m102s\u001b[0m 390ms/step - AUC: 0.5492 - Precision: 0.7660 - Recall: 0.5284 - accuracy: 0.5319 - loss: 0.7134 - val_AUC: 0.8657 - val_Precision: 0.7592 - val_Recall: 0.8974 - val_accuracy: 0.7580 - val_loss: 0.5177\n",
            "Epoch 4/20\n",
            "\u001b[1m163/163\u001b[0m \u001b[32m━━━━━━━━━━━━━━━━━━━━\u001b[0m\u001b[37m\u001b[0m \u001b[1m103s\u001b[0m 403ms/step - AUC: 0.5999 - Precision: 0.7880 - Recall: 0.6031 - accuracy: 0.5845 - loss: 0.6758 - val_AUC: 0.8762 - val_Precision: 0.7972 - val_Recall: 0.8667 - val_accuracy: 0.7788 - val_loss: 0.5042\n",
            "Epoch 5/20\n",
            "\u001b[1m163/163\u001b[0m \u001b[32m━━━━━━━━━━━━━━━━━━━━\u001b[0m\u001b[37m\u001b[0m \u001b[1m142s\u001b[0m 401ms/step - AUC: 0.6374 - Precision: 0.7919 - Recall: 0.5625 - accuracy: 0.5738 - loss: 0.6722 - val_AUC: 0.8781 - val_Precision: 0.8491 - val_Recall: 0.8077 - val_accuracy: 0.7901 - val_loss: 0.4887\n",
            "Epoch 6/20\n",
            "\u001b[1m163/163\u001b[0m \u001b[32m━━━━━━━━━━━━━━━━━━━━\u001b[0m\u001b[37m\u001b[0m \u001b[1m142s\u001b[0m 404ms/step - AUC: 0.6544 - Precision: 0.8096 - Recall: 0.6110 - accuracy: 0.6062 - loss: 0.6542 - val_AUC: 0.8758 - val_Precision: 0.9079 - val_Recall: 0.7333 - val_accuracy: 0.7869 - val_loss: 0.4996\n",
            "Epoch 7/20\n",
            "\u001b[1m163/163\u001b[0m \u001b[32m━━━━━━━━━━━━━━━━━━━━\u001b[0m\u001b[37m\u001b[0m \u001b[1m104s\u001b[0m 402ms/step - AUC: 0.6513 - Precision: 0.8067 - Recall: 0.6290 - accuracy: 0.6125 - loss: 0.6505 - val_AUC: 0.8904 - val_Precision: 0.8830 - val_Recall: 0.7744 - val_accuracy: 0.7949 - val_loss: 0.4593\n",
            "Epoch 8/20\n",
            "\u001b[1m163/163\u001b[0m \u001b[32m━━━━━━━━━━━━━━━━━━━━\u001b[0m\u001b[37m\u001b[0m \u001b[1m141s\u001b[0m 400ms/step - AUC: 0.6698 - Precision: 0.8179 - Recall: 0.6348 - accuracy: 0.6229 - loss: 0.6393 - val_AUC: 0.8954 - val_Precision: 0.8103 - val_Recall: 0.8872 - val_accuracy: 0.7997 - val_loss: 0.4268\n",
            "Epoch 9/20\n",
            "\u001b[1m163/163\u001b[0m \u001b[32m━━━━━━━━━━━━━━━━━━━━\u001b[0m\u001b[37m\u001b[0m \u001b[1m145s\u001b[0m 414ms/step - AUC: 0.6809 - Precision: 0.8194 - Recall: 0.6214 - accuracy: 0.6128 - loss: 0.6247 - val_AUC: 0.9049 - val_Precision: 0.8069 - val_Recall: 0.9000 - val_accuracy: 0.8029 - val_loss: 0.4111\n",
            "Epoch 10/20\n",
            "\u001b[1m163/163\u001b[0m \u001b[32m━━━━━━━━━━━━━━━━━━━━\u001b[0m\u001b[37m\u001b[0m \u001b[1m156s\u001b[0m 501ms/step - AUC: 0.6926 - Precision: 0.8206 - Recall: 0.5860 - accuracy: 0.5979 - loss: 0.6287 - val_AUC: 0.9089 - val_Precision: 0.7866 - val_Recall: 0.9359 - val_accuracy: 0.8013 - val_loss: 0.4046\n",
            "Epoch 11/20\n",
            "\u001b[1m163/163\u001b[0m \u001b[32m━━━━━━━━━━━━━━━━━━━━\u001b[0m\u001b[37m\u001b[0m \u001b[1m143s\u001b[0m 510ms/step - AUC: 0.6874 - Precision: 0.8163 - Recall: 0.5957 - accuracy: 0.6026 - loss: 0.6306 - val_AUC: 0.9166 - val_Precision: 0.7885 - val_Recall: 0.9462 - val_accuracy: 0.8077 - val_loss: 0.3935\n",
            "Epoch 12/20\n",
            "\u001b[1m163/163\u001b[0m \u001b[32m━━━━━━━━━━━━━━━━━━━━\u001b[0m\u001b[37m\u001b[0m \u001b[1m103s\u001b[0m 401ms/step - AUC: 0.6839 - Precision: 0.7997 - Recall: 0.7308 - accuracy: 0.6661 - loss: 0.6348 - val_AUC: 0.9236 - val_Precision: 0.8543 - val_Recall: 0.8872 - val_accuracy: 0.8349 - val_loss: 0.3715\n",
            "Epoch 13/20\n",
            "\u001b[1m163/163\u001b[0m \u001b[32m━━━━━━━━━━━━━━━━━━━━\u001b[0m\u001b[37m\u001b[0m \u001b[1m104s\u001b[0m 406ms/step - AUC: 0.7000 - Precision: 0.8362 - Recall: 0.5905 - accuracy: 0.6087 - loss: 0.6194 - val_AUC: 0.9243 - val_Precision: 0.8203 - val_Recall: 0.9128 - val_accuracy: 0.8205 - val_loss: 0.3721\n",
            "Epoch 14/20\n",
            "\u001b[1m163/163\u001b[0m \u001b[32m━━━━━━━━━━━━━━━━━━━━\u001b[0m\u001b[37m\u001b[0m \u001b[1m103s\u001b[0m 403ms/step - AUC: 0.7102 - Precision: 0.8487 - Recall: 0.5945 - accuracy: 0.6184 - loss: 0.6124 - val_AUC: 0.9257 - val_Precision: 0.8532 - val_Recall: 0.8795 - val_accuracy: 0.8301 - val_loss: 0.3630\n",
            "Epoch 15/20\n",
            "\u001b[1m163/163\u001b[0m \u001b[32m━━━━━━━━━━━━━━━━━━━━\u001b[0m\u001b[37m\u001b[0m \u001b[1m144s\u001b[0m 416ms/step - AUC: 0.7107 - Precision: 0.8414 - Recall: 0.5969 - accuracy: 0.6110 - loss: 0.6039 - val_AUC: 0.9281 - val_Precision: 0.8687 - val_Recall: 0.8821 - val_accuracy: 0.8429 - val_loss: 0.3543\n",
            "Epoch 16/20\n",
            "\u001b[1m163/163\u001b[0m \u001b[32m━━━━━━━━━━━━━━━━━━━━\u001b[0m\u001b[37m\u001b[0m \u001b[1m105s\u001b[0m 411ms/step - AUC: 0.7222 - Precision: 0.8328 - Recall: 0.6135 - accuracy: 0.6221 - loss: 0.6024 - val_AUC: 0.9327 - val_Precision: 0.8148 - val_Recall: 0.9590 - val_accuracy: 0.8381 - val_loss: 0.3590\n",
            "Epoch 17/20\n",
            "\u001b[1m163/163\u001b[0m \u001b[32m━━━━━━━━━━━━━━━━━━━━\u001b[0m\u001b[37m\u001b[0m \u001b[1m139s\u001b[0m 405ms/step - AUC: 0.7207 - Precision: 0.8366 - Recall: 0.6156 - accuracy: 0.6244 - loss: 0.6008 - val_AUC: 0.9339 - val_Precision: 0.8380 - val_Recall: 0.9282 - val_accuracy: 0.8429 - val_loss: 0.3423\n",
            "Epoch 18/20\n",
            "\u001b[1m163/163\u001b[0m \u001b[32m━━━━━━━━━━━━━━━━━━━━\u001b[0m\u001b[37m\u001b[0m \u001b[1m143s\u001b[0m 405ms/step - AUC: 0.7191 - Precision: 0.8307 - Recall: 0.6641 - accuracy: 0.6478 - loss: 0.5977 - val_AUC: 0.9352 - val_Precision: 0.8078 - val_Recall: 0.9590 - val_accuracy: 0.8317 - val_loss: 0.3537\n",
            "Epoch 19/20\n",
            "\u001b[1m163/163\u001b[0m \u001b[32m━━━━━━━━━━━━━━━━━━━━\u001b[0m\u001b[37m\u001b[0m \u001b[1m101s\u001b[0m 395ms/step - AUC: 0.7361 - Precision: 0.8334 - Recall: 0.6709 - accuracy: 0.6577 - loss: 0.5978 - val_AUC: 0.9315 - val_Precision: 0.8737 - val_Recall: 0.8872 - val_accuracy: 0.8494 - val_loss: 0.3380\n",
            "Epoch 20/20\n",
            "\u001b[1m163/163\u001b[0m \u001b[32m━━━━━━━━━━━━━━━━━━━━\u001b[0m\u001b[37m\u001b[0m \u001b[1m102s\u001b[0m 392ms/step - AUC: 0.7273 - Precision: 0.8203 - Recall: 0.6985 - accuracy: 0.6651 - loss: 0.5951 - val_AUC: 0.9310 - val_Precision: 0.9381 - val_Recall: 0.7769 - val_accuracy: 0.8285 - val_loss: 0.3783\n",
            "\n",
            "AUC [0.5103925466537476, 0.5523865818977356, 0.5590946674346924, 0.6008619666099548, 0.6360143423080444, 0.6620538234710693, 0.6717098951339722, 0.6783919930458069, 0.6823739409446716, 0.6930561661720276, 0.6945338845252991, 0.6982012987136841, 0.7038149833679199, 0.7122628092765808, 0.7143263220787048, 0.7179948687553406, 0.724561870098114, 0.7218525409698486, 0.732902467250824, 0.7237006425857544]\n",
            "Precision [0.7497155666351318, 0.7722445726394653, 0.7748516201972961, 0.7881355881690979, 0.8015187978744507, 0.8136482834815979, 0.818030595779419, 0.8189741969108582, 0.8152651190757751, 0.8236125707626343, 0.8214160203933716, 0.8149341344833374, 0.8298097252845764, 0.8334457278251648, 0.8326300978660583, 0.8303050994873047, 0.8322017192840576, 0.8357338905334473, 0.8403105735778809, 0.8212603330612183]\n",
            "Recall [0.5101935267448425, 0.5442580580711365, 0.5390967726707458, 0.5759999752044678, 0.5992258191108704, 0.6399999856948853, 0.634580671787262, 0.6304516196250916, 0.6229677200317383, 0.6012903451919556, 0.6018064618110657, 0.718193531036377, 0.6077419519424438, 0.6379354596138, 0.6110967993736267, 0.6250322461128235, 0.6642580628395081, 0.6289032101631165, 0.6423225998878479, 0.719741940498352]\n",
            "accuracy [0.5095859169960022, 0.5421779155731201, 0.5412193536758423, 0.5699769854545593, 0.592024564743042, 0.6236580014228821, 0.6236580014228821, 0.6219325065612793, 0.6150306463241577, 0.6081288456916809, 0.6069785356521606, 0.6694785356521606, 0.6159892678260803, 0.6363113522529602, 0.6198236346244812, 0.6265337467193604, 0.6510736346244812, 0.6324769854545593, 0.6435966491699219, 0.6754217743873596]\n",
            "loss [0.7837562561035156, 0.7216007709503174, 0.7028822302818298, 0.6755895018577576, 0.6580044031143188, 0.647903323173523, 0.6424481272697449, 0.6356208920478821, 0.632594883441925, 0.6277464032173157, 0.6239121556282043, 0.6239618062973022, 0.6164067983627319, 0.6131182312965393, 0.6073078513145447, 0.6026195287704468, 0.5992124676704407, 0.600462019443512, 0.5930306911468506, 0.5933830142021179]\n",
            "val_AUC [0.747550904750824, 0.8287968635559082, 0.8657243251800537, 0.8761724829673767, 0.8780516982078552, 0.8758327960968018, 0.8903681635856628, 0.8954032063484192, 0.904876172542572, 0.9088812470436096, 0.9166337847709656, 0.9235536456108093, 0.9243425130844116, 0.9257122278213501, 0.9281064867973328, 0.9326813220977783, 0.9338867664337158, 0.9351851344108582, 0.9314814209938049, 0.9309555292129517]\n",
            "val_Precision [0.6624775528907776, 0.9638554453849792, 0.7592191100120544, 0.7971698045730591, 0.849056601524353, 0.9079365134239197, 0.8830409646034241, 0.8103044629096985, 0.8068965673446655, 0.7866379022598267, 0.7884615659713745, 0.8543210029602051, 0.8202764987945557, 0.853233814239502, 0.868686854839325, 0.8148148059844971, 0.8379629850387573, 0.8077753782272339, 0.8737373948097229, 0.9380804896354675]\n",
            "val_Recall [0.9461538195610046, 0.41025641560554504, 0.8974359035491943, 0.8666666746139526, 0.807692289352417, 0.7333333492279053, 0.7743589878082275, 0.8871794939041138, 0.8999999761581421, 0.9358974099159241, 0.9461538195610046, 0.8871794939041138, 0.9128205180168152, 0.879487156867981, 0.8820512890815735, 0.9589743614196777, 0.928205132484436, 0.9589743614196777, 0.8871794939041138, 0.7769230604171753]\n",
            "val_accuracy [0.6650640964508057, 0.6217948794364929, 0.7580128312110901, 0.7788461446762085, 0.7900640964508057, 0.7868589758872986, 0.7948718070983887, 0.7996794581413269, 0.8028846383094788, 0.8012820482254028, 0.807692289352417, 0.8349359035491943, 0.8205128312110901, 0.8301281929016113, 0.8429487347602844, 0.8381410241127014, 0.8429487347602844, 0.8317307829856873, 0.8493589758872986, 0.8285256624221802]\n",
            "val_loss [0.5952804684638977, 0.6428292989730835, 0.5177212953567505, 0.5041632056236267, 0.48870551586151123, 0.4996279180049896, 0.4592554271221161, 0.426838755607605, 0.4111372232437134, 0.4046221077442169, 0.3934780955314636, 0.3714592158794403, 0.37205538153648376, 0.36299198865890503, 0.35427775979042053, 0.35897308588027954, 0.3422850966453552, 0.3537140190601349, 0.33797961473464966, 0.3783029019832611]\n",
            "Wall time 2471.7783868312836\n"
          ]
        }
      ]
    },
    {
      "cell_type": "code",
      "source": [
        "cfg = 'cfg_9.0'\n",
        "add_result(cfg, model_history)\n",
        "model.save(f\"/content/drive/MyDrive/DS/chest-xray-pneumonia/MobileNetV2-{cfg}.keras\")"
      ],
      "metadata": {
        "id": "V7loHgbBGDEu"
      },
      "execution_count": null,
      "outputs": []
    },
    {
      "cell_type": "markdown",
      "source": [
        "## cfg 9.1\n",
        "* learning_rate=0.0001\n",
        "* class_weights\n",
        "* horizontal_flip=True\n",
        "* Dense(256, ReLU)\n",
        "* <font color=orange>bicubic</font> `image_dataset_from_directory`"
      ],
      "metadata": {
        "id": "_DfEpF5tnF2o"
      }
    },
    {
      "cell_type": "code",
      "source": [
        "def model_train(learning_rate, dense_value, epochs=10):\n",
        "    # Размер изображений и параметры\n",
        "    IMG_SIZE = (224, 224)  # MobileNetV2 лучше работает с этим размером\n",
        "    BATCH_SIZE = 32\n",
        "\n",
        "    # 1: Загрузка данных с interpolation='bicubic' #      [!]\n",
        "    train_dataset = tf.keras.utils.image_dataset_from_directory(\n",
        "        train_dir,\n",
        "        label_mode='binary',\n",
        "        image_size=IMG_SIZE,\n",
        "        batch_size=BATCH_SIZE,\n",
        "        color_mode='rgb',\n",
        "        interpolation='bicubic'\n",
        "    )\n",
        "\n",
        "    val_dataset = tf.keras.utils.image_dataset_from_directory(\n",
        "        val_dir,\n",
        "        label_mode='binary',\n",
        "        image_size=IMG_SIZE,\n",
        "        batch_size=BATCH_SIZE,\n",
        "        shuffle=False,\n",
        "        color_mode='rgb',\n",
        "        interpolation='bicubic'\n",
        "    )\n",
        "\n",
        "    test_dataset = tf.keras.utils.image_dataset_from_directory(\n",
        "        test_dir,\n",
        "        label_mode='binary',\n",
        "        image_size=IMG_SIZE,\n",
        "        batch_size=BATCH_SIZE,\n",
        "        shuffle=False,\n",
        "        color_mode='rgb',\n",
        "        interpolation='bicubic'\n",
        "    )\n",
        "\n",
        "    # 2: Аугментация и нормализация (rescale) #      [!]\n",
        "    data_augmentation = tf.keras.Sequential([\n",
        "        layers.Rescaling(1./255),\n",
        "        layers.RandomRotation(0.03),         # ~10 градусов\n",
        "        layers.RandomZoom(0.1),\n",
        "        layers.RandomBrightness(0.1),\n",
        "        layers.RandomTranslation(0.1, 0.1),\n",
        "        layers.RandomFlip(\"horizontal\")\n",
        "    ])\n",
        "\n",
        "    # 3: Подготовка финальных датасетов #      [!]\n",
        "    AUTOTUNE = tf.data.AUTOTUNE\n",
        "\n",
        "    train_ds = (\n",
        "        train_dataset\n",
        "        .shuffle(1000)\n",
        "        .map(lambda x, y: (data_augmentation(x, training=True), y), num_parallel_calls=AUTOTUNE)\n",
        "        .prefetch(AUTOTUNE)\n",
        "    )\n",
        "\n",
        "    val_ds = val_dataset.map(lambda x, y: (x / 255.0, y)).prefetch(AUTOTUNE)\n",
        "    test_ds = test_dataset.map(lambda x, y: (x / 255.0, y)).prefetch(AUTOTUNE)\n",
        "\n",
        "    print()\n",
        "\n",
        "    # class_weights      [!]\n",
        "    class_weights = {\n",
        "        0: 1.9448173005219984,   # для класса \"NORMAL\"\n",
        "        1: 0.6730322580645162    # для класса \"PNEUMONIA\"\n",
        "        }\n",
        "    print(class_weights)\n",
        "\n",
        "    print()\n",
        "\n",
        "    # Загрузка MobileNetV2 без верхушки\n",
        "    base_model = MobileNetV2(input_shape=(224, 224, 3), include_top=False, weights='imagenet')\n",
        "    base_model.trainable = False  # Фиксируем веса\n",
        "\n",
        "    # Добавляем слои классификации\n",
        "    model = Sequential([\n",
        "        base_model,\n",
        "        layers.GlobalAveragePooling2D(),\n",
        "        layers.Dense(dense_value, activation='relu'),\n",
        "        layers.Dropout(0.5),\n",
        "        layers.Dense(1, activation='sigmoid')\n",
        "    ])\n",
        "\n",
        "    # Компиляция модели\n",
        "    model.compile(\n",
        "        optimizer=Adam(learning_rate=learning_rate),\n",
        "        loss='binary_crossentropy',\n",
        "        metrics=[\n",
        "            'AUC',\n",
        "            'Recall',\n",
        "            'Precision',\n",
        "            'accuracy'\n",
        "        ]\n",
        "    )\n",
        "\n",
        "    # Отображение информации об устройстве сети:\n",
        "    model.summary()\n",
        "\n",
        "    print()\n",
        "\n",
        "    # Обучение модели\n",
        "    #EPOCHS = 10\n",
        "\n",
        "    start = time.time() # Фиксация времени\n",
        "\n",
        "    history = model.fit(\n",
        "        train_ds, #      [!]\n",
        "        epochs=epochs,\n",
        "        validation_data=val_ds, #      [!]\n",
        "        class_weight=class_weights #      [!]\n",
        "    )\n",
        "\n",
        "    end = time.time() # Фиксация времени\n",
        "\n",
        "    model_history = history.history\n",
        "    model_history['Wall time'] = end - start\n",
        "\n",
        "    print()\n",
        "\n",
        "    for k, v in model_history.items():\n",
        "        print(k, v)\n",
        "\n",
        "    return model, model_history"
      ],
      "metadata": {
        "id": "6h2oC88YnF2o"
      },
      "execution_count": null,
      "outputs": []
    },
    {
      "cell_type": "code",
      "source": [
        "model, model_history = model_train(learning_rate=0.0001, dense_value=256, epochs=20)"
      ],
      "metadata": {
        "colab": {
          "base_uri": "https://localhost:8080/",
          "height": 1000
        },
        "outputId": "6e002729-3bb9-457c-d2b9-526007285ec4",
        "id": "Usw7SM4KnF2p"
      },
      "execution_count": null,
      "outputs": [
        {
          "metadata": {
            "tags": null
          },
          "name": "stdout",
          "output_type": "stream",
          "text": [
            "Found 5216 files belonging to 2 classes.\n",
            "Found 624 files belonging to 2 classes.\n",
            "Found 16 files belonging to 2 classes.\n",
            "\n",
            "{0: 1.9448173005219984, 1: 0.6730322580645162}\n",
            "\n"
          ]
        },
        {
          "data": {
            "text/html": [
              "<pre style=\"white-space:pre;overflow-x:auto;line-height:normal;font-family:Menlo,'DejaVu Sans Mono',consolas,'Courier New',monospace\"><span style=\"font-weight: bold\">Model: \"sequential_6\"</span>\n",
              "</pre>\n"
            ],
            "text/plain": [
              "\u001b[1mModel: \"sequential_6\"\u001b[0m\n"
            ]
          },
          "metadata": {},
          "output_type": "display_data"
        },
        {
          "data": {
            "text/html": [
              "<pre style=\"white-space:pre;overflow-x:auto;line-height:normal;font-family:Menlo,'DejaVu Sans Mono',consolas,'Courier New',monospace\">┏━━━━━━━━━━━━━━━━━━━━━━━━━━━━━━━━━┳━━━━━━━━━━━━━━━━━━━━━━━━┳━━━━━━━━━━━━━━━┓\n",
              "┃<span style=\"font-weight: bold\"> Layer (type)                    </span>┃<span style=\"font-weight: bold\"> Output Shape           </span>┃<span style=\"font-weight: bold\">       Param # </span>┃\n",
              "┡━━━━━━━━━━━━━━━━━━━━━━━━━━━━━━━━━╇━━━━━━━━━━━━━━━━━━━━━━━━╇━━━━━━━━━━━━━━━┩\n",
              "│ mobilenetv2_1.00_224            │ (<span style=\"color: #00d7ff; text-decoration-color: #00d7ff\">None</span>, <span style=\"color: #00af00; text-decoration-color: #00af00\">7</span>, <span style=\"color: #00af00; text-decoration-color: #00af00\">7</span>, <span style=\"color: #00af00; text-decoration-color: #00af00\">1280</span>)     │     <span style=\"color: #00af00; text-decoration-color: #00af00\">2,257,984</span> │\n",
              "│ (<span style=\"color: #0087ff; text-decoration-color: #0087ff\">Functional</span>)                    │                        │               │\n",
              "├─────────────────────────────────┼────────────────────────┼───────────────┤\n",
              "│ global_average_pooling2d_2      │ (<span style=\"color: #00d7ff; text-decoration-color: #00d7ff\">None</span>, <span style=\"color: #00af00; text-decoration-color: #00af00\">1280</span>)           │             <span style=\"color: #00af00; text-decoration-color: #00af00\">0</span> │\n",
              "│ (<span style=\"color: #0087ff; text-decoration-color: #0087ff\">GlobalAveragePooling2D</span>)        │                        │               │\n",
              "├─────────────────────────────────┼────────────────────────┼───────────────┤\n",
              "│ dense_4 (<span style=\"color: #0087ff; text-decoration-color: #0087ff\">Dense</span>)                 │ (<span style=\"color: #00d7ff; text-decoration-color: #00d7ff\">None</span>, <span style=\"color: #00af00; text-decoration-color: #00af00\">256</span>)            │       <span style=\"color: #00af00; text-decoration-color: #00af00\">327,936</span> │\n",
              "├─────────────────────────────────┼────────────────────────┼───────────────┤\n",
              "│ dropout_2 (<span style=\"color: #0087ff; text-decoration-color: #0087ff\">Dropout</span>)             │ (<span style=\"color: #00d7ff; text-decoration-color: #00d7ff\">None</span>, <span style=\"color: #00af00; text-decoration-color: #00af00\">256</span>)            │             <span style=\"color: #00af00; text-decoration-color: #00af00\">0</span> │\n",
              "├─────────────────────────────────┼────────────────────────┼───────────────┤\n",
              "│ dense_5 (<span style=\"color: #0087ff; text-decoration-color: #0087ff\">Dense</span>)                 │ (<span style=\"color: #00d7ff; text-decoration-color: #00d7ff\">None</span>, <span style=\"color: #00af00; text-decoration-color: #00af00\">1</span>)              │           <span style=\"color: #00af00; text-decoration-color: #00af00\">257</span> │\n",
              "└─────────────────────────────────┴────────────────────────┴───────────────┘\n",
              "</pre>\n"
            ],
            "text/plain": [
              "┏━━━━━━━━━━━━━━━━━━━━━━━━━━━━━━━━━┳━━━━━━━━━━━━━━━━━━━━━━━━┳━━━━━━━━━━━━━━━┓\n",
              "┃\u001b[1m \u001b[0m\u001b[1mLayer (type)                   \u001b[0m\u001b[1m \u001b[0m┃\u001b[1m \u001b[0m\u001b[1mOutput Shape          \u001b[0m\u001b[1m \u001b[0m┃\u001b[1m \u001b[0m\u001b[1m      Param #\u001b[0m\u001b[1m \u001b[0m┃\n",
              "┡━━━━━━━━━━━━━━━━━━━━━━━━━━━━━━━━━╇━━━━━━━━━━━━━━━━━━━━━━━━╇━━━━━━━━━━━━━━━┩\n",
              "│ mobilenetv2_1.00_224            │ (\u001b[38;5;45mNone\u001b[0m, \u001b[38;5;34m7\u001b[0m, \u001b[38;5;34m7\u001b[0m, \u001b[38;5;34m1280\u001b[0m)     │     \u001b[38;5;34m2,257,984\u001b[0m │\n",
              "│ (\u001b[38;5;33mFunctional\u001b[0m)                    │                        │               │\n",
              "├─────────────────────────────────┼────────────────────────┼───────────────┤\n",
              "│ global_average_pooling2d_2      │ (\u001b[38;5;45mNone\u001b[0m, \u001b[38;5;34m1280\u001b[0m)           │             \u001b[38;5;34m0\u001b[0m │\n",
              "│ (\u001b[38;5;33mGlobalAveragePooling2D\u001b[0m)        │                        │               │\n",
              "├─────────────────────────────────┼────────────────────────┼───────────────┤\n",
              "│ dense_4 (\u001b[38;5;33mDense\u001b[0m)                 │ (\u001b[38;5;45mNone\u001b[0m, \u001b[38;5;34m256\u001b[0m)            │       \u001b[38;5;34m327,936\u001b[0m │\n",
              "├─────────────────────────────────┼────────────────────────┼───────────────┤\n",
              "│ dropout_2 (\u001b[38;5;33mDropout\u001b[0m)             │ (\u001b[38;5;45mNone\u001b[0m, \u001b[38;5;34m256\u001b[0m)            │             \u001b[38;5;34m0\u001b[0m │\n",
              "├─────────────────────────────────┼────────────────────────┼───────────────┤\n",
              "│ dense_5 (\u001b[38;5;33mDense\u001b[0m)                 │ (\u001b[38;5;45mNone\u001b[0m, \u001b[38;5;34m1\u001b[0m)              │           \u001b[38;5;34m257\u001b[0m │\n",
              "└─────────────────────────────────┴────────────────────────┴───────────────┘\n"
            ]
          },
          "metadata": {},
          "output_type": "display_data"
        },
        {
          "data": {
            "text/html": [
              "<pre style=\"white-space:pre;overflow-x:auto;line-height:normal;font-family:Menlo,'DejaVu Sans Mono',consolas,'Courier New',monospace\"><span style=\"font-weight: bold\"> Total params: </span><span style=\"color: #00af00; text-decoration-color: #00af00\">2,586,177</span> (9.87 MB)\n",
              "</pre>\n"
            ],
            "text/plain": [
              "\u001b[1m Total params: \u001b[0m\u001b[38;5;34m2,586,177\u001b[0m (9.87 MB)\n"
            ]
          },
          "metadata": {},
          "output_type": "display_data"
        },
        {
          "data": {
            "text/html": [
              "<pre style=\"white-space:pre;overflow-x:auto;line-height:normal;font-family:Menlo,'DejaVu Sans Mono',consolas,'Courier New',monospace\"><span style=\"font-weight: bold\"> Trainable params: </span><span style=\"color: #00af00; text-decoration-color: #00af00\">328,193</span> (1.25 MB)\n",
              "</pre>\n"
            ],
            "text/plain": [
              "\u001b[1m Trainable params: \u001b[0m\u001b[38;5;34m328,193\u001b[0m (1.25 MB)\n"
            ]
          },
          "metadata": {},
          "output_type": "display_data"
        },
        {
          "data": {
            "text/html": [
              "<pre style=\"white-space:pre;overflow-x:auto;line-height:normal;font-family:Menlo,'DejaVu Sans Mono',consolas,'Courier New',monospace\"><span style=\"font-weight: bold\"> Non-trainable params: </span><span style=\"color: #00af00; text-decoration-color: #00af00\">2,257,984</span> (8.61 MB)\n",
              "</pre>\n"
            ],
            "text/plain": [
              "\u001b[1m Non-trainable params: \u001b[0m\u001b[38;5;34m2,257,984\u001b[0m (8.61 MB)\n"
            ]
          },
          "metadata": {},
          "output_type": "display_data"
        },
        {
          "output_type": "stream",
          "name": "stdout",
          "text": [
            "\n",
            "Epoch 1/20\n",
            "\u001b[1m163/163\u001b[0m \u001b[32m━━━━━━━━━━━━━━━━━━━━\u001b[0m\u001b[37m\u001b[0m \u001b[1m120s\u001b[0m 434ms/step - AUC: 0.5193 - Precision: 0.7695 - Recall: 0.5557 - accuracy: 0.5357 - loss: 0.7503 - val_AUC: 0.8378 - val_Precision: 0.7818 - val_Recall: 0.8359 - val_accuracy: 0.7516 - val_loss: 0.5416\n",
            "Epoch 2/20\n",
            "\u001b[1m163/163\u001b[0m \u001b[32m━━━━━━━━━━━━━━━━━━━━\u001b[0m\u001b[37m\u001b[0m \u001b[1m102s\u001b[0m 394ms/step - AUC: 0.5917 - Precision: 0.7884 - Recall: 0.5387 - accuracy: 0.5523 - loss: 0.6853 - val_AUC: 0.8882 - val_Precision: 0.8491 - val_Recall: 0.8077 - val_accuracy: 0.7901 - val_loss: 0.4576\n",
            "Epoch 3/20\n",
            "\u001b[1m163/163\u001b[0m \u001b[32m━━━━━━━━━━━━━━━━━━━━\u001b[0m\u001b[37m\u001b[0m \u001b[1m143s\u001b[0m 403ms/step - AUC: 0.6358 - Precision: 0.8162 - Recall: 0.5647 - accuracy: 0.5853 - loss: 0.6647 - val_AUC: 0.9164 - val_Precision: 0.9491 - val_Recall: 0.6692 - val_accuracy: 0.7708 - val_loss: 0.4741\n",
            "Epoch 4/20\n",
            "\u001b[1m163/163\u001b[0m \u001b[32m━━━━━━━━━━━━━━━━━━━━\u001b[0m\u001b[37m\u001b[0m \u001b[1m103s\u001b[0m 399ms/step - AUC: 0.6635 - Precision: 0.8129 - Recall: 0.6104 - accuracy: 0.6058 - loss: 0.6452 - val_AUC: 0.9129 - val_Precision: 0.8808 - val_Recall: 0.8333 - val_accuracy: 0.8253 - val_loss: 0.4039\n",
            "Epoch 5/20\n",
            "\u001b[1m163/163\u001b[0m \u001b[32m━━━━━━━━━━━━━━━━━━━━\u001b[0m\u001b[37m\u001b[0m \u001b[1m142s\u001b[0m 409ms/step - AUC: 0.6856 - Precision: 0.8210 - Recall: 0.6430 - accuracy: 0.6314 - loss: 0.6342 - val_AUC: 0.9286 - val_Precision: 0.9065 - val_Recall: 0.8205 - val_accuracy: 0.8349 - val_loss: 0.3957\n",
            "Epoch 6/20\n",
            "\u001b[1m163/163\u001b[0m \u001b[32m━━━━━━━━━━━━━━━━━━━━\u001b[0m\u001b[37m\u001b[0m \u001b[1m147s\u001b[0m 434ms/step - AUC: 0.6779 - Precision: 0.8374 - Recall: 0.5274 - accuracy: 0.5724 - loss: 0.6319 - val_AUC: 0.9224 - val_Precision: 0.8484 - val_Recall: 0.8897 - val_accuracy: 0.8317 - val_loss: 0.3707\n",
            "Epoch 7/20\n",
            "\u001b[1m163/163\u001b[0m \u001b[32m━━━━━━━━━━━━━━━━━━━━\u001b[0m\u001b[37m\u001b[0m \u001b[1m103s\u001b[0m 401ms/step - AUC: 0.6703 - Precision: 0.8243 - Recall: 0.5722 - accuracy: 0.5897 - loss: 0.6334 - val_AUC: 0.9275 - val_Precision: 0.8997 - val_Recall: 0.8051 - val_accuracy: 0.8221 - val_loss: 0.3719\n",
            "Epoch 8/20\n",
            "\u001b[1m163/163\u001b[0m \u001b[32m━━━━━━━━━━━━━━━━━━━━\u001b[0m\u001b[37m\u001b[0m \u001b[1m139s\u001b[0m 392ms/step - AUC: 0.7029 - Precision: 0.8372 - Recall: 0.5857 - accuracy: 0.6103 - loss: 0.6213 - val_AUC: 0.9286 - val_Precision: 0.8989 - val_Recall: 0.8436 - val_accuracy: 0.8429 - val_loss: 0.3535\n",
            "Epoch 9/20\n",
            "\u001b[1m163/163\u001b[0m \u001b[32m━━━━━━━━━━━━━━━━━━━━\u001b[0m\u001b[37m\u001b[0m \u001b[1m102s\u001b[0m 397ms/step - AUC: 0.7207 - Precision: 0.8116 - Recall: 0.7339 - accuracy: 0.6788 - loss: 0.6150 - val_AUC: 0.9369 - val_Precision: 0.9005 - val_Recall: 0.8590 - val_accuracy: 0.8526 - val_loss: 0.3344\n",
            "Epoch 10/20\n",
            "\u001b[1m163/163\u001b[0m \u001b[32m━━━━━━━━━━━━━━━━━━━━\u001b[0m\u001b[37m\u001b[0m \u001b[1m142s\u001b[0m 396ms/step - AUC: 0.7310 - Precision: 0.8277 - Recall: 0.6965 - accuracy: 0.6682 - loss: 0.6024 - val_AUC: 0.9318 - val_Precision: 0.9008 - val_Recall: 0.8385 - val_accuracy: 0.8413 - val_loss: 0.3401\n",
            "Epoch 11/20\n",
            "\u001b[1m163/163\u001b[0m \u001b[32m━━━━━━━━━━━━━━━━━━━━\u001b[0m\u001b[37m\u001b[0m \u001b[1m144s\u001b[0m 416ms/step - AUC: 0.7305 - Precision: 0.8394 - Recall: 0.6223 - accuracy: 0.6324 - loss: 0.5986 - val_AUC: 0.9362 - val_Precision: 0.9404 - val_Recall: 0.7692 - val_accuracy: 0.8253 - val_loss: 0.3728\n",
            "Epoch 12/20\n",
            "\u001b[1m163/163\u001b[0m \u001b[32m━━━━━━━━━━━━━━━━━━━━\u001b[0m\u001b[37m\u001b[0m \u001b[1m103s\u001b[0m 399ms/step - AUC: 0.7319 - Precision: 0.8351 - Recall: 0.7535 - accuracy: 0.7023 - loss: 0.5828 - val_AUC: 0.9325 - val_Precision: 0.8399 - val_Recall: 0.9282 - val_accuracy: 0.8446 - val_loss: 0.3337\n",
            "Epoch 13/20\n",
            "\u001b[1m163/163\u001b[0m \u001b[32m━━━━━━━━━━━━━━━━━━━━\u001b[0m\u001b[37m\u001b[0m \u001b[1m104s\u001b[0m 414ms/step - AUC: 0.7306 - Precision: 0.8341 - Recall: 0.7441 - accuracy: 0.6962 - loss: 0.5806 - val_AUC: 0.9347 - val_Precision: 0.8744 - val_Recall: 0.9103 - val_accuracy: 0.8622 - val_loss: 0.3215\n",
            "Epoch 14/20\n",
            "\u001b[1m163/163\u001b[0m \u001b[32m━━━━━━━━━━━━━━━━━━━━\u001b[0m\u001b[37m\u001b[0m \u001b[1m147s\u001b[0m 430ms/step - AUC: 0.7393 - Precision: 0.8370 - Recall: 0.6943 - accuracy: 0.6720 - loss: 0.5818 - val_AUC: 0.9320 - val_Precision: 0.8957 - val_Recall: 0.8590 - val_accuracy: 0.8494 - val_loss: 0.3237\n",
            "Epoch 15/20\n",
            "\u001b[1m163/163\u001b[0m \u001b[32m━━━━━━━━━━━━━━━━━━━━\u001b[0m\u001b[37m\u001b[0m \u001b[1m104s\u001b[0m 401ms/step - AUC: 0.7392 - Precision: 0.8523 - Recall: 0.5736 - accuracy: 0.6168 - loss: 0.5911 - val_AUC: 0.9375 - val_Precision: 0.9016 - val_Recall: 0.8692 - val_accuracy: 0.8590 - val_loss: 0.3128\n",
            "Epoch 16/20\n",
            "\u001b[1m163/163\u001b[0m \u001b[32m━━━━━━━━━━━━━━━━━━━━\u001b[0m\u001b[37m\u001b[0m \u001b[1m142s\u001b[0m 407ms/step - AUC: 0.7368 - Precision: 0.8220 - Recall: 0.7484 - accuracy: 0.6917 - loss: 0.5814 - val_AUC: 0.9462 - val_Precision: 0.9077 - val_Recall: 0.8821 - val_accuracy: 0.8702 - val_loss: 0.2982\n",
            "Epoch 17/20\n",
            "\u001b[1m163/163\u001b[0m \u001b[32m━━━━━━━━━━━━━━━━━━━━\u001b[0m\u001b[37m\u001b[0m \u001b[1m105s\u001b[0m 410ms/step - AUC: 0.7535 - Precision: 0.8434 - Recall: 0.7064 - accuracy: 0.6828 - loss: 0.5667 - val_AUC: 0.9432 - val_Precision: 0.9019 - val_Recall: 0.8718 - val_accuracy: 0.8606 - val_loss: 0.2992\n",
            "Epoch 18/20\n",
            "\u001b[1m163/163\u001b[0m \u001b[32m━━━━━━━━━━━━━━━━━━━━\u001b[0m\u001b[37m\u001b[0m \u001b[1m158s\u001b[0m 507ms/step - AUC: 0.7640 - Precision: 0.8426 - Recall: 0.7456 - accuracy: 0.7063 - loss: 0.5636 - val_AUC: 0.9480 - val_Precision: 0.8477 - val_Recall: 0.9564 - val_accuracy: 0.8654 - val_loss: 0.3049\n",
            "Epoch 19/20\n",
            "\u001b[1m163/163\u001b[0m \u001b[32m━━━━━━━━━━━━━━━━━━━━\u001b[0m\u001b[37m\u001b[0m \u001b[1m124s\u001b[0m 406ms/step - AUC: 0.7619 - Precision: 0.8552 - Recall: 0.6289 - accuracy: 0.6491 - loss: 0.5704 - val_AUC: 0.9463 - val_Precision: 0.9016 - val_Recall: 0.8923 - val_accuracy: 0.8718 - val_loss: 0.2867\n",
            "Epoch 20/20\n",
            "\u001b[1m163/163\u001b[0m \u001b[32m━━━━━━━━━━━━━━━━━━━━\u001b[0m\u001b[37m\u001b[0m \u001b[1m159s\u001b[0m 507ms/step - AUC: 0.7459 - Precision: 0.8462 - Recall: 0.7068 - accuracy: 0.6829 - loss: 0.5663 - val_AUC: 0.9469 - val_Precision: 0.8828 - val_Recall: 0.9077 - val_accuracy: 0.8670 - val_loss: 0.2862\n",
            "\n",
            "AUC [0.5352684259414673, 0.6010234355926514, 0.6408684253692627, 0.6755517721176147, 0.6761596202850342, 0.6992577910423279, 0.6881917715072632, 0.7042767405509949, 0.7254800200462341, 0.7213385105133057, 0.7340841889381409, 0.7264212369918823, 0.7314778566360474, 0.7456508874893188, 0.7470630407333374, 0.7434311509132385, 0.7417908906936646, 0.7657169699668884, 0.7509663105010986, 0.7498893737792969]\n",
            "Precision [0.7583615183830261, 0.7911732792854309, 0.8081576228141785, 0.8188679218292236, 0.8124594688415527, 0.8314359188079834, 0.8224233984947205, 0.8392990231513977, 0.8291915655136108, 0.8293702006340027, 0.8377504944801331, 0.8355982899665833, 0.8327623605728149, 0.8412044644355774, 0.8362095355987549, 0.825061023235321, 0.8402249217033386, 0.8499380946159363, 0.8536585569381714, 0.8518019318580627]\n",
            "Recall [0.5207741856575012, 0.5690322518348694, 0.603354811668396, 0.6159999966621399, 0.6461935639381409, 0.5842580795288086, 0.6095483899116516, 0.5809032320976257, 0.68025803565979, 0.6660645008087158, 0.6689032316207886, 0.650580644607544, 0.6900644898414612, 0.6849032044410706, 0.7127742171287537, 0.7850322723388672, 0.6554838418960571, 0.7089032530784607, 0.6322580575942993, 0.6526451706886292]\n",
            "accuracy [0.52070552110672, 0.5682515501976013, 0.5989263653755188, 0.6134969592094421, 0.6263419985771179, 0.6031441688537598, 0.6121549010276794, 0.606019914150238, 0.6583588719367981, 0.6501150131225586, 0.6577837467193604, 0.6453220844268799, 0.66679447889328, 0.6698619723320007, 0.682898759841919, 0.7166411280632019, 0.6514570713043213, 0.6907591819763184, 0.6462806463241577, 0.6575919985771179]\n",
            "loss [0.7395989894866943, 0.6764476895332336, 0.6557530164718628, 0.639799177646637, 0.6358316540718079, 0.6173220872879028, 0.6204962730407715, 0.6163483262062073, 0.601162850856781, 0.6000680923461914, 0.5934096574783325, 0.594535768032074, 0.5859938859939575, 0.5784997344017029, 0.577482283115387, 0.5792005658149719, 0.5740307569503784, 0.5657273530960083, 0.5682201981544495, 0.5717073678970337]\n",
            "val_AUC [0.8377711772918701, 0.8882259726524353, 0.9164201617240906, 0.9128643870353699, 0.9285995960235596, 0.9224249124526978, 0.9274600148200989, 0.9286270141601562, 0.9369274377822876, 0.9317717552185059, 0.9361768364906311, 0.9325115084648132, 0.9346592426300049, 0.9320074319839478, 0.9375465512275696, 0.946175754070282, 0.9431952834129333, 0.9479617476463318, 0.9463071823120117, 0.9468825459480286]\n",
            "val_Precision [0.7817745804786682, 0.849056601524353, 0.9490908980369568, 0.8807588219642639, 0.9065155982971191, 0.8484107851982117, 0.8997134566307068, 0.8989071249961853, 0.9005376100540161, 0.9008264541625977, 0.9404388666152954, 0.839907169342041, 0.8743842244148254, 0.8957219123840332, 0.9015957713127136, 0.9076517224311829, 0.9018567800521851, 0.8477272987365723, 0.9015544056892395, 0.8827930092811584]\n",
            "val_Recall [0.8358974456787109, 0.807692289352417, 0.6692307591438293, 0.8333333134651184, 0.8205128312110901, 0.8897435665130615, 0.8051282167434692, 0.843589723110199, 0.8589743375778198, 0.8384615182876587, 0.7692307829856873, 0.928205132484436, 0.9102563858032227, 0.8589743375778198, 0.8692307472229004, 0.8820512890815735, 0.8717948794364929, 0.9564102292060852, 0.892307698726654, 0.9076923131942749]\n",
            "val_accuracy [0.7516025900840759, 0.7900640964508057, 0.7708333134651184, 0.8253205418586731, 0.8349359035491943, 0.8317307829856873, 0.8221153616905212, 0.8429487347602844, 0.8525640964508057, 0.8413461446762085, 0.8253205418586731, 0.8445512652397156, 0.8621794581413269, 0.8493589758872986, 0.8589743375778198, 0.870192289352417, 0.8605769276618958, 0.8653846383094788, 0.8717948794364929, 0.8669871687889099]\n",
            "val_loss [0.5415582060813904, 0.45760902762413025, 0.47411787509918213, 0.4038694202899933, 0.39574897289276123, 0.37070432305336, 0.37192296981811523, 0.3534806966781616, 0.3344387710094452, 0.3400910794734955, 0.37277522683143616, 0.3336745798587799, 0.32149258255958557, 0.3236882984638214, 0.3128235638141632, 0.2982288897037506, 0.2991524338722229, 0.3048594295978546, 0.2867397367954254, 0.28623852133750916]\n",
            "Wall time 2532.6425445079803\n"
          ]
        }
      ]
    },
    {
      "cell_type": "code",
      "source": [
        "cfg = 'cfg_9.1'\n",
        "add_result(cfg, model_history)\n",
        "model.save(f\"/content/drive/MyDrive/DS/chest-xray-pneumonia/MobileNetV2-{cfg}.keras\")"
      ],
      "metadata": {
        "id": "FKQTUVXMnF2p"
      },
      "execution_count": null,
      "outputs": []
    }
  ]
}